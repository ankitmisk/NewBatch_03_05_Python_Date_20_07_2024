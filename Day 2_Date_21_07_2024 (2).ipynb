{
 "cells": [
  {
   "cell_type": "code",
   "execution_count": 1,
   "id": "ba0490d7",
   "metadata": {},
   "outputs": [],
   "source": [
    "# variable concept\n",
    "# operators"
   ]
  },
  {
   "cell_type": "code",
   "execution_count": 3,
   "id": "264e26a8",
   "metadata": {},
   "outputs": [],
   "source": [
    "# variable \n",
    "\n",
    "a = 34  # data types/depend code \n",
    "\n",
    "# variable = literals(data types)"
   ]
  },
  {
   "cell_type": "code",
   "execution_count": 4,
   "id": "8ccb052f",
   "metadata": {},
   "outputs": [
    {
     "name": "stdout",
     "output_type": "stream",
     "text": [
      "34\n"
     ]
    }
   ],
   "source": [
    "a = 34\n",
    "print(a)"
   ]
  },
  {
   "cell_type": "code",
   "execution_count": 5,
   "id": "1a60305e",
   "metadata": {},
   "outputs": [
    {
     "name": "stdout",
     "output_type": "stream",
     "text": [
      "23456\n"
     ]
    }
   ],
   "source": [
    "number = 23456\n",
    "print(number)"
   ]
  },
  {
   "cell_type": "code",
   "execution_count": 6,
   "id": "25dc6dcf",
   "metadata": {},
   "outputs": [
    {
     "ename": "SyntaxError",
     "evalue": "invalid decimal literal (4115481768.py, line 1)",
     "output_type": "error",
     "traceback": [
      "\u001b[1;36m  Cell \u001b[1;32mIn[6], line 1\u001b[1;36m\u001b[0m\n\u001b[1;33m    123go = 3456\u001b[0m\n\u001b[1;37m      ^\u001b[0m\n\u001b[1;31mSyntaxError\u001b[0m\u001b[1;31m:\u001b[0m invalid decimal literal\n"
     ]
    }
   ],
   "source": [
    "123go = 3456\n",
    "\n",
    "print(123go)"
   ]
  },
  {
   "cell_type": "code",
   "execution_count": 7,
   "id": "12071c4d",
   "metadata": {},
   "outputs": [
    {
     "ename": "SyntaxError",
     "evalue": "invalid decimal literal (202239610.py, line 3)",
     "output_type": "error",
     "traceback": [
      "\u001b[1;36m  Cell \u001b[1;32mIn[7], line 3\u001b[1;36m\u001b[0m\n\u001b[1;33m    2345dvhv = 'Karan'\u001b[0m\n\u001b[1;37m       ^\u001b[0m\n\u001b[1;31mSyntaxError\u001b[0m\u001b[1;31m:\u001b[0m invalid decimal literal\n"
     ]
    }
   ],
   "source": [
    "#1>> it must not starts with digit\n",
    "\n",
    "2345dvhv = 'Karan'\n",
    "print(2345dvhv)"
   ]
  },
  {
   "cell_type": "code",
   "execution_count": 8,
   "id": "29bb7e99",
   "metadata": {},
   "outputs": [],
   "source": [
    "# 2>> it must not conatain any special chars"
   ]
  },
  {
   "cell_type": "code",
   "execution_count": 12,
   "id": "4265620e",
   "metadata": {},
   "outputs": [
    {
     "ename": "SyntaxError",
     "evalue": "invalid syntax (4293246071.py, line 1)",
     "output_type": "error",
     "traceback": [
      "\u001b[1;36m  Cell \u001b[1;32mIn[12], line 1\u001b[1;36m\u001b[0m\n\u001b[1;33m    sunil@ = 'Karan'\u001b[0m\n\u001b[1;37m           ^\u001b[0m\n\u001b[1;31mSyntaxError\u001b[0m\u001b[1;31m:\u001b[0m invalid syntax\n"
     ]
    }
   ],
   "source": [
    "sunil@ = 'Karan'\n",
    "\n",
    "print(sunil@)"
   ]
  },
  {
   "cell_type": "code",
   "execution_count": 13,
   "id": "29642893",
   "metadata": {},
   "outputs": [],
   "source": [
    "# ~!@#$%^&*()-+={}[]|\\?/><.,:;\"\"''"
   ]
  },
  {
   "cell_type": "code",
   "execution_count": 16,
   "id": "60421087",
   "metadata": {},
   "outputs": [
    {
     "name": "stdout",
     "output_type": "stream",
     "text": [
      "mr karan verma\n"
     ]
    }
   ],
   "source": [
    "#3 _ underscore:- variable can contain underscore\n",
    "\n",
    "employee_full_name = 'mr karan verma'\n",
    "print(employee_full_name)"
   ]
  },
  {
   "cell_type": "code",
   "execution_count": 17,
   "id": "9e2806c7",
   "metadata": {},
   "outputs": [
    {
     "name": "stdout",
     "output_type": "stream",
     "text": [
      "ajay\n"
     ]
    }
   ],
   "source": [
    "____jebjf = 'ajay'\n",
    "print(____jebjf)"
   ]
  },
  {
   "cell_type": "code",
   "execution_count": 18,
   "id": "be9c4945",
   "metadata": {},
   "outputs": [],
   "source": [
    "# oops:- ye actually use in oops concept"
   ]
  },
  {
   "cell_type": "code",
   "execution_count": 20,
   "id": "e9068745",
   "metadata": {},
   "outputs": [
    {
     "ename": "SyntaxError",
     "evalue": "invalid syntax (200510568.py, line 1)",
     "output_type": "error",
     "traceback": [
      "\u001b[1;36m  Cell \u001b[1;32mIn[20], line 1\u001b[1;36m\u001b[0m\n\u001b[1;33m    .abc = 456\u001b[0m\n\u001b[1;37m    ^\u001b[0m\n\u001b[1;31mSyntaxError\u001b[0m\u001b[1;31m:\u001b[0m invalid syntax\n"
     ]
    }
   ],
   "source": [
    ".abc = 456\n",
    "\n",
    "print(.abc)"
   ]
  },
  {
   "cell_type": "code",
   "execution_count": 26,
   "id": "6dc09ef5",
   "metadata": {},
   "outputs": [
    {
     "name": "stdout",
     "output_type": "stream",
     "text": [
      "karan\n"
     ]
    }
   ],
   "source": [
    "(mohan) = 'karan'\n",
    "print(((((mohan)))))"
   ]
  },
  {
   "cell_type": "code",
   "execution_count": 23,
   "id": "2b52cbd4",
   "metadata": {},
   "outputs": [
    {
     "data": {
      "text/plain": [
       "23"
      ]
     },
     "execution_count": 23,
     "metadata": {},
     "output_type": "execute_result"
    }
   ],
   "source": [
    "(23)"
   ]
  },
  {
   "cell_type": "code",
   "execution_count": 27,
   "id": "6af7837a",
   "metadata": {},
   "outputs": [],
   "source": [
    "# 4>> it must not contain any white spaces"
   ]
  },
  {
   "cell_type": "code",
   "execution_count": 32,
   "id": "064c3dbd",
   "metadata": {},
   "outputs": [
    {
     "ename": "SyntaxError",
     "evalue": "invalid syntax (550451169.py, line 1)",
     "output_type": "error",
     "traceback": [
      "\u001b[1;36m  Cell \u001b[1;32mIn[32], line 1\u001b[1;36m\u001b[0m\n\u001b[1;33m    full name = 'Ajay verma'\u001b[0m\n\u001b[1;37m         ^\u001b[0m\n\u001b[1;31mSyntaxError\u001b[0m\u001b[1;31m:\u001b[0m invalid syntax\n"
     ]
    }
   ],
   "source": [
    "full name = 'Ajay verma'\n",
    "\n",
    "print(full name)"
   ]
  },
  {
   "cell_type": "code",
   "execution_count": 34,
   "id": "18780e6b",
   "metadata": {},
   "outputs": [],
   "source": [
    "fullname       =         'Ajay verma'"
   ]
  },
  {
   "cell_type": "code",
   "execution_count": 35,
   "id": "e3c91b83",
   "metadata": {},
   "outputs": [
    {
     "name": "stdout",
     "output_type": "stream",
     "text": [
      "Ajay verma\n"
     ]
    }
   ],
   "source": [
    "print(fullname)"
   ]
  },
  {
   "cell_type": "code",
   "execution_count": 36,
   "id": "9e3d8f50",
   "metadata": {},
   "outputs": [],
   "source": [
    "# 5>> Python is case sensitive"
   ]
  },
  {
   "cell_type": "code",
   "execution_count": 37,
   "id": "8d080e0d",
   "metadata": {},
   "outputs": [
    {
     "name": "stdout",
     "output_type": "stream",
     "text": [
      "nitin\n",
      "ajay\n"
     ]
    }
   ],
   "source": [
    "name = 'nitin'\n",
    "\n",
    "Name = 'ajay'\n",
    "\n",
    "print(name)\n",
    "print(Name)"
   ]
  },
  {
   "cell_type": "code",
   "execution_count": 38,
   "id": "ae63c186",
   "metadata": {},
   "outputs": [
    {
     "name": "stdout",
     "output_type": "stream",
     "text": [
      "nitin\n"
     ]
    }
   ],
   "source": [
    "print(name)"
   ]
  },
  {
   "cell_type": "code",
   "execution_count": 39,
   "id": "92657855",
   "metadata": {},
   "outputs": [
    {
     "data": {
      "text/plain": [
       "1854609856496"
      ]
     },
     "execution_count": 39,
     "metadata": {},
     "output_type": "execute_result"
    }
   ],
   "source": [
    "id(name)"
   ]
  },
  {
   "cell_type": "code",
   "execution_count": 40,
   "id": "0d31e0ba",
   "metadata": {},
   "outputs": [
    {
     "data": {
      "text/plain": [
       "1854588441776"
      ]
     },
     "execution_count": 40,
     "metadata": {},
     "output_type": "execute_result"
    }
   ],
   "source": [
    "id(Name)"
   ]
  },
  {
   "cell_type": "code",
   "execution_count": 41,
   "id": "af211f63",
   "metadata": {},
   "outputs": [
    {
     "name": "stdout",
     "output_type": "stream",
     "text": [
      "1854592345968\n",
      "1854589361520\n"
     ]
    }
   ],
   "source": [
    "name = 'karan'\n",
    "print(id(name))\n",
    "\n",
    "name = 'mohan'\n",
    "\n",
    "print(id(name))"
   ]
  },
  {
   "cell_type": "code",
   "execution_count": 43,
   "id": "55cf627c",
   "metadata": {},
   "outputs": [],
   "source": [
    "# sql:- no casesensitive /incasesensitive\n",
    "# html"
   ]
  },
  {
   "cell_type": "code",
   "execution_count": 44,
   "id": "42f02d73",
   "metadata": {},
   "outputs": [],
   "source": [
    "# 6>> can contain digits after second position"
   ]
  },
  {
   "cell_type": "code",
   "execution_count": 45,
   "id": "c0e73fe7",
   "metadata": {},
   "outputs": [],
   "source": [
    "name1 = 'komal'\n",
    "name2 = 'mohan'\n",
    "name3 = 'Ajay'"
   ]
  },
  {
   "cell_type": "code",
   "execution_count": 46,
   "id": "d7b97fff",
   "metadata": {},
   "outputs": [
    {
     "name": "stdout",
     "output_type": "stream",
     "text": [
      "komal\n"
     ]
    }
   ],
   "source": [
    "print(name1)"
   ]
  },
  {
   "cell_type": "code",
   "execution_count": 47,
   "id": "6c719ee2",
   "metadata": {},
   "outputs": [
    {
     "name": "stdout",
     "output_type": "stream",
     "text": [
      "mohan\n"
     ]
    }
   ],
   "source": [
    "print(name2)"
   ]
  },
  {
   "cell_type": "code",
   "execution_count": 48,
   "id": "1946a14a",
   "metadata": {},
   "outputs": [
    {
     "name": "stdout",
     "output_type": "stream",
     "text": [
      "Ajay\n"
     ]
    }
   ],
   "source": [
    "print(name3)"
   ]
  },
  {
   "cell_type": "code",
   "execution_count": 49,
   "id": "2cc2ee6d",
   "metadata": {},
   "outputs": [
    {
     "name": "stdout",
     "output_type": "stream",
     "text": [
      "345\n"
     ]
    }
   ],
   "source": [
    "a1 = 345\n",
    "a2 = 34\n",
    "a3 = 4567\n",
    "\n",
    "print(a1)"
   ]
  },
  {
   "cell_type": "code",
   "execution_count": null,
   "id": "6daff61e",
   "metadata": {},
   "outputs": [],
   "source": [
    "# 1>> it must not starts with digit\n",
    "# 2>> it must not conatain any special chars\n",
    "# 3>> _ underscore:- variable can contain underscore\n",
    "# 4>> it must not contain any white spaces\n",
    "# 5>> Python is case sensitive\n",
    "# 6>> can contain digits after second position\n",
    "# 7>> keywords not allowed"
   ]
  },
  {
   "cell_type": "code",
   "execution_count": 50,
   "id": "bc3c0950",
   "metadata": {},
   "outputs": [
    {
     "name": "stdout",
     "output_type": "stream",
     "text": [
      "\n",
      "Here is a list of the Python keywords.  Enter any keyword to get more help.\n",
      "\n",
      "False               class               from                or\n",
      "None                continue            global              pass\n",
      "True                def                 if                  raise\n",
      "and                 del                 import              return\n",
      "as                  elif                in                  try\n",
      "assert              else                is                  while\n",
      "async               except              lambda              with\n",
      "await               finally             nonlocal            yield\n",
      "break               for                 not                 \n",
      "\n"
     ]
    }
   ],
   "source": [
    "help('keywords')"
   ]
  },
  {
   "cell_type": "code",
   "execution_count": 53,
   "id": "6540fd03",
   "metadata": {},
   "outputs": [
    {
     "ename": "SyntaxError",
     "evalue": "invalid syntax (2374486415.py, line 1)",
     "output_type": "error",
     "traceback": [
      "\u001b[1;36m  Cell \u001b[1;32mIn[53], line 1\u001b[1;36m\u001b[0m\n\u001b[1;33m    del = 34\u001b[0m\n\u001b[1;37m        ^\u001b[0m\n\u001b[1;31mSyntaxError\u001b[0m\u001b[1;31m:\u001b[0m invalid syntax\n"
     ]
    }
   ],
   "source": [
    "del = 34\n",
    "with = 'Mohan'"
   ]
  },
  {
   "cell_type": "code",
   "execution_count": 56,
   "id": "6a1b6f0b",
   "metadata": {},
   "outputs": [
    {
     "ename": "SyntaxError",
     "evalue": "invalid syntax (3665760317.py, line 1)",
     "output_type": "error",
     "traceback": [
      "\u001b[1;36m  Cell \u001b[1;32mIn[56], line 1\u001b[1;36m\u001b[0m\n\u001b[1;33m    with = 'hghj'\u001b[0m\n\u001b[1;37m         ^\u001b[0m\n\u001b[1;31mSyntaxError\u001b[0m\u001b[1;31m:\u001b[0m invalid syntax\n"
     ]
    }
   ],
   "source": [
    "with = 'hghj'\n",
    "print(with)"
   ]
  },
  {
   "cell_type": "code",
   "execution_count": 58,
   "id": "afafe2a4",
   "metadata": {},
   "outputs": [
    {
     "name": "stdout",
     "output_type": "stream",
     "text": [
      "Mohan\n"
     ]
    }
   ],
   "source": [
    "print('Mohan')"
   ]
  },
  {
   "cell_type": "code",
   "execution_count": null,
   "id": "87a85849",
   "metadata": {},
   "outputs": [],
   "source": []
  },
  {
   "cell_type": "code",
   "execution_count": null,
   "id": "ad95d243",
   "metadata": {},
   "outputs": [],
   "source": []
  },
  {
   "cell_type": "markdown",
   "id": "1e5f1b39",
   "metadata": {},
   "source": [
    "# operators"
   ]
  },
  {
   "cell_type": "code",
   "execution_count": 59,
   "id": "7b4c5a8b",
   "metadata": {},
   "outputs": [],
   "source": [
    "# datatypes ya variable ko operate with the help of some operators"
   ]
  },
  {
   "cell_type": "code",
   "execution_count": null,
   "id": "2e423df6",
   "metadata": {},
   "outputs": [],
   "source": [
    "# Arithmetic op\n",
    "# assignment op\n",
    "# comparison op/Relational op\n",
    "# identity op\n",
    "# membership op\n",
    "# logical op\n",
    "# bitwise op"
   ]
  },
  {
   "attachments": {
    "1_V-px6-8SVaOtNQAbSP94jQ.png": {
     "image/png": "[encoded data removed]"
    }
   },
   "cell_type": "markdown",
   "id": "c4120da3",
   "metadata": {},
   "source": [
    "![1_V-px6-8SVaOtNQAbSP94jQ.png](attachment:1_V-px6-8SVaOtNQAbSP94jQ.png)"
   ]
  },
  {
   "cell_type": "code",
   "execution_count": 60,
   "id": "616e2025",
   "metadata": {},
   "outputs": [
    {
     "name": "stdout",
     "output_type": "stream",
     "text": [
      "80\n"
     ]
    }
   ],
   "source": [
    "a = 24\n",
    "b = 56\n",
    "\n",
    "print(a + b)  # operands\n",
    "# + is an operator"
   ]
  },
  {
   "cell_type": "code",
   "execution_count": 61,
   "id": "af59a059",
   "metadata": {},
   "outputs": [
    {
     "name": "stdout",
     "output_type": "stream",
     "text": [
      "-32\n"
     ]
    }
   ],
   "source": [
    "# Arithmetic op\n",
    "# + , -, *, /, //, **, %\n",
    "a = 24\n",
    "b = 56\n",
    "\n",
    "print(a - b)"
   ]
  },
  {
   "cell_type": "code",
   "execution_count": 62,
   "id": "35d7e316",
   "metadata": {},
   "outputs": [
    {
     "name": "stdout",
     "output_type": "stream",
     "text": [
      "1344\n"
     ]
    }
   ],
   "source": [
    "a = 24\n",
    "b = 56\n",
    "\n",
    "print(a * b)"
   ]
  },
  {
   "cell_type": "code",
   "execution_count": 64,
   "id": "05ba68da",
   "metadata": {},
   "outputs": [
    {
     "name": "stdout",
     "output_type": "stream",
     "text": [
      "2.0\n"
     ]
    }
   ],
   "source": [
    "# normal div:- float value\n",
    "a = 24\n",
    "b = 12\n",
    "\n",
    "print(a / b)"
   ]
  },
  {
   "cell_type": "code",
   "execution_count": null,
   "id": "eeaf94da",
   "metadata": {},
   "outputs": [],
   "source": []
  },
  {
   "cell_type": "code",
   "execution_count": 67,
   "id": "da536650",
   "metadata": {},
   "outputs": [
    {
     "name": "stdout",
     "output_type": "stream",
     "text": [
      "3\n"
     ]
    }
   ],
   "source": [
    "# floor div:- int value\n",
    "a = 22\n",
    "b = 7\n",
    "\n",
    "print(a // b)"
   ]
  },
  {
   "cell_type": "code",
   "execution_count": 70,
   "id": "b48abadb",
   "metadata": {},
   "outputs": [],
   "source": [
    "# bin(345.45)"
   ]
  },
  {
   "cell_type": "code",
   "execution_count": 71,
   "id": "9dc54187",
   "metadata": {},
   "outputs": [],
   "source": [
    "# 3.9999999  "
   ]
  },
  {
   "cell_type": "code",
   "execution_count": 73,
   "id": "b5925db5",
   "metadata": {},
   "outputs": [
    {
     "name": "stdout",
     "output_type": "stream",
     "text": [
      "256\n"
     ]
    }
   ],
   "source": [
    "# exponent / power\n",
    "\n",
    "a = 16\n",
    "\n",
    "print(a ** 2)"
   ]
  },
  {
   "cell_type": "code",
   "execution_count": 75,
   "id": "d25c1a37",
   "metadata": {},
   "outputs": [
    {
     "name": "stdout",
     "output_type": "stream",
     "text": [
      "4096\n"
     ]
    }
   ],
   "source": [
    "a = 16\n",
    "\n",
    "print(a ** 3)"
   ]
  },
  {
   "cell_type": "code",
   "execution_count": 76,
   "id": "a76cb01e",
   "metadata": {},
   "outputs": [
    {
     "data": {
      "text/plain": [
       "4096"
      ]
     },
     "execution_count": 76,
     "metadata": {},
     "output_type": "execute_result"
    }
   ],
   "source": [
    "16*16*16"
   ]
  },
  {
   "cell_type": "code",
   "execution_count": 83,
   "id": "00610081",
   "metadata": {},
   "outputs": [
    {
     "name": "stdout",
     "output_type": "stream",
     "text": [
      "20\n"
     ]
    }
   ],
   "source": [
    "# % modulus div:- remainder return\n",
    "\n",
    "a = 580\n",
    "\n",
    "b = 56\n",
    "\n",
    "print(a % b)"
   ]
  },
  {
   "cell_type": "code",
   "execution_count": 86,
   "id": "8b2dafbe",
   "metadata": {},
   "outputs": [
    {
     "name": "stdout",
     "output_type": "stream",
     "text": [
      "0\n"
     ]
    }
   ],
   "source": [
    "a = 38\n",
    "\n",
    "b = 19\n",
    "\n",
    "print(a % b)"
   ]
  },
  {
   "cell_type": "code",
   "execution_count": 88,
   "id": "e7db4a01",
   "metadata": {},
   "outputs": [
    {
     "data": {
      "text/plain": [
       "0"
      ]
     },
     "execution_count": 88,
     "metadata": {},
     "output_type": "execute_result"
    }
   ],
   "source": [
    "number = 3456765432345\n",
    "\n",
    "number % 5"
   ]
  },
  {
   "cell_type": "code",
   "execution_count": 90,
   "id": "6c6de936",
   "metadata": {},
   "outputs": [
    {
     "data": {
      "text/plain": [
       "1"
      ]
     },
     "execution_count": 90,
     "metadata": {},
     "output_type": "execute_result"
    }
   ],
   "source": [
    "num = 345\n",
    "\n",
    "num % 2 "
   ]
  },
  {
   "cell_type": "code",
   "execution_count": 92,
   "id": "d5462361",
   "metadata": {},
   "outputs": [],
   "source": [
    "# assignment op\n",
    "# =\n",
    "# +=\n",
    "# -=\n",
    "# *=\n",
    "# /=\n",
    "# //=\n",
    "# **=\n",
    "# %="
   ]
  },
  {
   "cell_type": "code",
   "execution_count": 93,
   "id": "f8b0a4b1",
   "metadata": {},
   "outputs": [
    {
     "name": "stdout",
     "output_type": "stream",
     "text": [
      "44\n"
     ]
    }
   ],
   "source": [
    "a = 34\n",
    "\n",
    "a = a + 10\n",
    "\n",
    "print(a)"
   ]
  },
  {
   "cell_type": "code",
   "execution_count": 94,
   "id": "53403914",
   "metadata": {},
   "outputs": [
    {
     "name": "stdout",
     "output_type": "stream",
     "text": [
      "64\n"
     ]
    }
   ],
   "source": [
    "a = 54\n",
    "\n",
    "a += 10\n",
    "\n",
    "print(a)"
   ]
  },
  {
   "cell_type": "code",
   "execution_count": 95,
   "id": "0069da59",
   "metadata": {},
   "outputs": [
    {
     "name": "stdout",
     "output_type": "stream",
     "text": [
      "144\n"
     ]
    }
   ],
   "source": [
    "a = 12\n",
    "\n",
    "a **= 2\n",
    "\n",
    "print(a)"
   ]
  },
  {
   "cell_type": "code",
   "execution_count": 96,
   "id": "c7d8f05d",
   "metadata": {},
   "outputs": [
    {
     "name": "stdout",
     "output_type": "stream",
     "text": [
      "12\n"
     ]
    }
   ],
   "source": [
    "a = 25\n",
    "\n",
    "a //= 2\n",
    "\n",
    "print(a)"
   ]
  },
  {
   "cell_type": "code",
   "execution_count": 97,
   "id": "d540f815",
   "metadata": {},
   "outputs": [
    {
     "name": "stdout",
     "output_type": "stream",
     "text": [
      "10\n"
     ]
    }
   ],
   "source": [
    "a = 12\n",
    "\n",
    "a -= 2\n",
    "\n",
    "print(a)"
   ]
  },
  {
   "cell_type": "code",
   "execution_count": 98,
   "id": "f59bceea",
   "metadata": {},
   "outputs": [
    {
     "name": "stdout",
     "output_type": "stream",
     "text": [
      "2\n"
     ]
    }
   ],
   "source": [
    "a = 12\n",
    "\n",
    "a %= 5\n",
    "\n",
    "print(a)"
   ]
  },
  {
   "cell_type": "code",
   "execution_count": 101,
   "id": "995d5bbb",
   "metadata": {},
   "outputs": [],
   "source": [
    "# # comparison op/Relational op:- True/False\n",
    "# <\n",
    "# >\n",
    "# <=\n",
    "# >=\n",
    "# ==\n",
    "# !="
   ]
  },
  {
   "cell_type": "code",
   "execution_count": 103,
   "id": "b5d651fc",
   "metadata": {},
   "outputs": [
    {
     "data": {
      "text/plain": [
       "False"
      ]
     },
     "execution_count": 103,
     "metadata": {},
     "output_type": "execute_result"
    }
   ],
   "source": [
    "a = 45\n",
    "b = 56\n",
    "\n",
    "a>b"
   ]
  },
  {
   "cell_type": "code",
   "execution_count": 105,
   "id": "590f430c",
   "metadata": {},
   "outputs": [
    {
     "name": "stdout",
     "output_type": "stream",
     "text": [
      "False\n"
     ]
    }
   ],
   "source": [
    "a = 4567\n",
    "b = 457\n",
    "\n",
    "print(a <= b)"
   ]
  },
  {
   "cell_type": "code",
   "execution_count": 107,
   "id": "d4c90817",
   "metadata": {},
   "outputs": [
    {
     "name": "stdout",
     "output_type": "stream",
     "text": [
      "True\n"
     ]
    }
   ],
   "source": [
    "a = 4567\n",
    "b = 4567\n",
    "\n",
    "print(a >= b)"
   ]
  },
  {
   "cell_type": "code",
   "execution_count": 109,
   "id": "8af05cf9",
   "metadata": {},
   "outputs": [
    {
     "name": "stdout",
     "output_type": "stream",
     "text": [
      "False\n"
     ]
    }
   ],
   "source": [
    "a = 56\n",
    "b = 56\n",
    "\n",
    "print( a != b)"
   ]
  },
  {
   "cell_type": "code",
   "execution_count": 112,
   "id": "21847efc",
   "metadata": {},
   "outputs": [
    {
     "name": "stdout",
     "output_type": "stream",
     "text": [
      "False\n"
     ]
    }
   ],
   "source": [
    "a = 5698\n",
    "b = 56\n",
    "\n",
    "\n",
    "print(a == b)"
   ]
  },
  {
   "cell_type": "code",
   "execution_count": null,
   "id": "efb60bcf",
   "metadata": {},
   "outputs": [],
   "source": []
  },
  {
   "cell_type": "code",
   "execution_count": null,
   "id": "f7e8c67c",
   "metadata": {},
   "outputs": [],
   "source": []
  },
  {
   "cell_type": "markdown",
   "id": "7a8239fb",
   "metadata": {},
   "source": [
    "#### Identity op\n",
    "\n",
    "is, is not"
   ]
  },
  {
   "cell_type": "code",
   "execution_count": 113,
   "id": "cb67c9a7",
   "metadata": {},
   "outputs": [
    {
     "name": "stdout",
     "output_type": "stream",
     "text": [
      "False\n"
     ]
    }
   ],
   "source": [
    "a = 45\n",
    "b = 56\n",
    "\n",
    "print(a is b)"
   ]
  },
  {
   "cell_type": "code",
   "execution_count": 117,
   "id": "1179b140",
   "metadata": {},
   "outputs": [
    {
     "name": "stdout",
     "output_type": "stream",
     "text": [
      "True\n"
     ]
    }
   ],
   "source": [
    "a = 45\n",
    "b = 45\n",
    "c = 45\n",
    "print(a is b)"
   ]
  },
  {
   "cell_type": "code",
   "execution_count": 115,
   "id": "9d1ecd99",
   "metadata": {},
   "outputs": [
    {
     "data": {
      "text/plain": [
       "140704588732584"
      ]
     },
     "execution_count": 115,
     "metadata": {},
     "output_type": "execute_result"
    }
   ],
   "source": [
    "id(a)"
   ]
  },
  {
   "cell_type": "code",
   "execution_count": 116,
   "id": "8669aa8f",
   "metadata": {},
   "outputs": [
    {
     "data": {
      "text/plain": [
       "140704588732584"
      ]
     },
     "execution_count": 116,
     "metadata": {},
     "output_type": "execute_result"
    }
   ],
   "source": [
    "id(b)"
   ]
  },
  {
   "cell_type": "code",
   "execution_count": 118,
   "id": "e5b3c2a4",
   "metadata": {},
   "outputs": [
    {
     "data": {
      "text/plain": [
       "140704588732584"
      ]
     },
     "execution_count": 118,
     "metadata": {},
     "output_type": "execute_result"
    }
   ],
   "source": [
    "id(c)"
   ]
  },
  {
   "cell_type": "code",
   "execution_count": 144,
   "id": "62958385",
   "metadata": {},
   "outputs": [
    {
     "name": "stdout",
     "output_type": "stream",
     "text": [
      "True\n"
     ]
    }
   ],
   "source": [
    "a = 256\n",
    "b = 256\n",
    "\n",
    "\n",
    "print(a is b)"
   ]
  },
  {
   "cell_type": "code",
   "execution_count": 131,
   "id": "1e1d5de1",
   "metadata": {},
   "outputs": [],
   "source": [
    "# for i in range(0,500):\n",
    "#     exec('a = i;b = i')\n",
    "#     print(i,a,b,a is b)"
   ]
  },
  {
   "cell_type": "code",
   "execution_count": 145,
   "id": "6e545dd9",
   "metadata": {},
   "outputs": [
    {
     "data": {
      "text/plain": [
       "256"
      ]
     },
     "execution_count": 145,
     "metadata": {},
     "output_type": "execute_result"
    }
   ],
   "source": [
    "2**8"
   ]
  },
  {
   "cell_type": "code",
   "execution_count": 146,
   "id": "b34b51af",
   "metadata": {},
   "outputs": [
    {
     "data": {
      "text/plain": [
       "'0b100000000'"
      ]
     },
     "execution_count": 146,
     "metadata": {},
     "output_type": "execute_result"
    }
   ],
   "source": [
    "bin(256)"
   ]
  },
  {
   "cell_type": "code",
   "execution_count": 154,
   "id": "49342200",
   "metadata": {},
   "outputs": [
    {
     "name": "stdout",
     "output_type": "stream",
     "text": [
      "False\n"
     ]
    }
   ],
   "source": [
    "a = (1,)\n",
    "\n",
    "b = (1,)\n",
    "\n",
    "print(a is b)"
   ]
  },
  {
   "cell_type": "code",
   "execution_count": 155,
   "id": "9d0ada48",
   "metadata": {},
   "outputs": [
    {
     "data": {
      "text/plain": [
       "1854592828224"
      ]
     },
     "execution_count": 155,
     "metadata": {},
     "output_type": "execute_result"
    }
   ],
   "source": [
    "id(a)"
   ]
  },
  {
   "cell_type": "code",
   "execution_count": 156,
   "id": "1d6faeee",
   "metadata": {},
   "outputs": [
    {
     "data": {
      "text/plain": [
       "1854592827936"
      ]
     },
     "execution_count": 156,
     "metadata": {},
     "output_type": "execute_result"
    }
   ],
   "source": [
    "id(b)"
   ]
  },
  {
   "cell_type": "code",
   "execution_count": 157,
   "id": "35ad11cc",
   "metadata": {},
   "outputs": [],
   "source": [
    "# is not"
   ]
  },
  {
   "cell_type": "code",
   "execution_count": 160,
   "id": "ddb0b65b",
   "metadata": {},
   "outputs": [
    {
     "name": "stdout",
     "output_type": "stream",
     "text": [
      "True\n"
     ]
    }
   ],
   "source": [
    "a = 257987567\n",
    "\n",
    "b = 257987567\n",
    "\n",
    "print(a is not b)"
   ]
  },
  {
   "cell_type": "code",
   "execution_count": 161,
   "id": "68599fc9",
   "metadata": {},
   "outputs": [
    {
     "name": "stdout",
     "output_type": "stream",
     "text": [
      "True\n"
     ]
    }
   ],
   "source": [
    "print(a == b)"
   ]
  },
  {
   "cell_type": "code",
   "execution_count": null,
   "id": "bddda99a",
   "metadata": {},
   "outputs": [],
   "source": []
  },
  {
   "cell_type": "code",
   "execution_count": null,
   "id": "79daaef2",
   "metadata": {},
   "outputs": [],
   "source": []
  },
  {
   "cell_type": "code",
   "execution_count": 168,
   "id": "bd3546e2",
   "metadata": {},
   "outputs": [],
   "source": [
    "# membership op:- bool\n",
    "# in, not in"
   ]
  },
  {
   "cell_type": "code",
   "execution_count": 163,
   "id": "4afd27dc",
   "metadata": {},
   "outputs": [
    {
     "data": {
      "text/plain": [
       "True"
      ]
     },
     "execution_count": 163,
     "metadata": {},
     "output_type": "execute_result"
    }
   ],
   "source": [
    "a = [2,3443,67]\n",
    "\n",
    "2 in a"
   ]
  },
  {
   "cell_type": "code",
   "execution_count": 167,
   "id": "3eb08cbd",
   "metadata": {},
   "outputs": [
    {
     "data": {
      "text/plain": [
       "False"
      ]
     },
     "execution_count": 167,
     "metadata": {},
     "output_type": "execute_result"
    }
   ],
   "source": [
    "'N' in 'neha'"
   ]
  },
  {
   "cell_type": "code",
   "execution_count": 170,
   "id": "b80ee0c6",
   "metadata": {},
   "outputs": [
    {
     "data": {
      "text/plain": [
       "True"
      ]
     },
     "execution_count": 170,
     "metadata": {},
     "output_type": "execute_result"
    }
   ],
   "source": [
    "students = ['ravi','karan','mohan','ajay']\n",
    "\n",
    "'ajay' in students"
   ]
  },
  {
   "cell_type": "code",
   "execution_count": 171,
   "id": "5d5de835",
   "metadata": {},
   "outputs": [],
   "source": [
    "# input func"
   ]
  },
  {
   "cell_type": "code",
   "execution_count": 183,
   "id": "252884ad",
   "metadata": {},
   "outputs": [
    {
     "name": "stdout",
     "output_type": "stream",
     "text": [
      "Enter your roll number: 96\n",
      "Better luck next time!!!!\n"
     ]
    }
   ],
   "source": [
    "students_roll = [1,234,331,3243,6,434312,45]\n",
    "\n",
    "roll = int(input('Enter your roll number: '))\n",
    "\n",
    "if roll in students_roll:\n",
    "    print('you can avail scholarship!!')\n",
    "    \n",
    "else:\n",
    "    print('Better luck next time!!!!')"
   ]
  },
  {
   "cell_type": "code",
   "execution_count": 178,
   "id": "30cfd3a1",
   "metadata": {},
   "outputs": [],
   "source": [
    "# print('76')\n",
    "# print(76)"
   ]
  },
  {
   "cell_type": "code",
   "execution_count": null,
   "id": "cfe2f1ce",
   "metadata": {},
   "outputs": [],
   "source": []
  },
  {
   "cell_type": "code",
   "execution_count": null,
   "id": "e74e4d9c",
   "metadata": {},
   "outputs": [],
   "source": []
  },
  {
   "cell_type": "code",
   "execution_count": 185,
   "id": "1668e3b8",
   "metadata": {},
   "outputs": [
    {
     "name": "stdout",
     "output_type": "stream",
     "text": [
      "True\n"
     ]
    }
   ],
   "source": [
    "students_roll = [1,234,331,3243,6,434312,45]\n",
    "\n",
    "print(456 not in students_roll)"
   ]
  },
  {
   "cell_type": "code",
   "execution_count": null,
   "id": "fc465dbe",
   "metadata": {},
   "outputs": [],
   "source": []
  },
  {
   "cell_type": "code",
   "execution_count": 187,
   "id": "14fce2ff",
   "metadata": {},
   "outputs": [],
   "source": [
    "# logical op:- \n",
    "# and, or, not"
   ]
  },
  {
   "cell_type": "code",
   "execution_count": 188,
   "id": "cd05f65a",
   "metadata": {},
   "outputs": [],
   "source": [
    "# condition1:- True\n",
    "# condition2:- True\n",
    "# condition3:- True\n",
    "# condition4:- True\n",
    "    \n",
    "# Final:- True"
   ]
  },
  {
   "cell_type": "code",
   "execution_count": 189,
   "id": "7b1c09bf",
   "metadata": {},
   "outputs": [
    {
     "data": {
      "text/plain": [
       "False"
      ]
     },
     "execution_count": 189,
     "metadata": {},
     "output_type": "execute_result"
    }
   ],
   "source": [
    "a = 34\n",
    "b = 456\n",
    "\n",
    "c = 'mohan'\n",
    "age = 45\n",
    "\n",
    "address = 'Noida'\n",
    "\n",
    "(a<b) and (c == 'karan') and (address == 'Noida') and (age>=18)\n",
    "\n",
    "#   T             F                     T                  T:- F"
   ]
  },
  {
   "cell_type": "code",
   "execution_count": 190,
   "id": "819218ce",
   "metadata": {},
   "outputs": [],
   "source": [
    "# do or die\n",
    "# do and die"
   ]
  },
  {
   "cell_type": "code",
   "execution_count": 191,
   "id": "a90e1ae6",
   "metadata": {},
   "outputs": [
    {
     "data": {
      "text/plain": [
       "True"
      ]
     },
     "execution_count": 191,
     "metadata": {},
     "output_type": "execute_result"
    }
   ],
   "source": [
    "# or\n",
    "\n",
    "(a<b) or (c == 'karan') or (address == 'Noida') or (age>=18)\n",
    "#   T            F                 T                     T"
   ]
  },
  {
   "cell_type": "code",
   "execution_count": 193,
   "id": "b23fe7d3",
   "metadata": {},
   "outputs": [
    {
     "data": {
      "text/plain": [
       "True"
      ]
     },
     "execution_count": 193,
     "metadata": {},
     "output_type": "execute_result"
    }
   ],
   "source": [
    "(a<b) and (c != 'karan') and (address == 'Noida') and (age>=18)"
   ]
  },
  {
   "cell_type": "code",
   "execution_count": 197,
   "id": "e1729703",
   "metadata": {},
   "outputs": [
    {
     "data": {
      "text/plain": [
       "False"
      ]
     },
     "execution_count": 197,
     "metadata": {},
     "output_type": "execute_result"
    }
   ],
   "source": [
    "(a>b) or (c == 'karan') or (address != 'Noida') or (age<=18)\n",
    "#   F           F                F                 F"
   ]
  },
  {
   "cell_type": "code",
   "execution_count": null,
   "id": "e36837fd",
   "metadata": {},
   "outputs": [],
   "source": []
  },
  {
   "cell_type": "code",
   "execution_count": null,
   "id": "77aed7f4",
   "metadata": {},
   "outputs": [],
   "source": []
  },
  {
   "cell_type": "code",
   "execution_count": 201,
   "id": "175333de",
   "metadata": {},
   "outputs": [
    {
     "data": {
      "text/plain": [
       "True"
      ]
     },
     "execution_count": 201,
     "metadata": {},
     "output_type": "execute_result"
    }
   ],
   "source": [
    "(a>b) or (c == 'karan') or (address == 'Noida') or (age<=18)\n",
    "#   F           F                T                 F"
   ]
  },
  {
   "cell_type": "code",
   "execution_count": 200,
   "id": "2cb3f8d9",
   "metadata": {},
   "outputs": [],
   "source": [
    "# not"
   ]
  },
  {
   "cell_type": "code",
   "execution_count": 202,
   "id": "251554e9",
   "metadata": {},
   "outputs": [
    {
     "data": {
      "text/plain": [
       "False"
      ]
     },
     "execution_count": 202,
     "metadata": {},
     "output_type": "execute_result"
    }
   ],
   "source": [
    "not((a>b) or (c == 'karan') or (address == 'Noida') or (age<=18))"
   ]
  },
  {
   "cell_type": "markdown",
   "id": "452c9ac9",
   "metadata": {},
   "source": [
    "# Bitwise op"
   ]
  },
  {
   "cell_type": "code",
   "execution_count": null,
   "id": "84910666",
   "metadata": {},
   "outputs": [],
   "source": []
  },
  {
   "cell_type": "code",
   "execution_count": 1,
   "id": "0a27d81b",
   "metadata": {},
   "outputs": [],
   "source": [
    "# numerical data type:- int"
   ]
  },
  {
   "cell_type": "code",
   "execution_count": 3,
   "id": "2c21eb79",
   "metadata": {},
   "outputs": [
    {
     "data": {
      "text/plain": [
       "'0b1111'"
      ]
     },
     "execution_count": 3,
     "metadata": {},
     "output_type": "execute_result"
    }
   ],
   "source": [
    "# a = 15\n",
    "\n",
    "# 1:- True:- supply of current\n",
    "# 0:- False:- Low supply/No supply\n",
    "# bin(a)"
   ]
  },
  {
   "cell_type": "code",
   "execution_count": 4,
   "id": "5459bae2",
   "metadata": {},
   "outputs": [],
   "source": [
    "# &\n",
    "# |\n",
    "# ^\n",
    "# ~\n",
    "# <<\n",
    "# >>"
   ]
  },
  {
   "cell_type": "code",
   "execution_count": 7,
   "id": "a116b9e2",
   "metadata": {},
   "outputs": [
    {
     "data": {
      "text/plain": [
       "'0b1111'"
      ]
     },
     "execution_count": 7,
     "metadata": {},
     "output_type": "execute_result"
    }
   ],
   "source": [
    "bin(15)"
   ]
  },
  {
   "cell_type": "code",
   "execution_count": 8,
   "id": "d869e70e",
   "metadata": {},
   "outputs": [
    {
     "name": "stdout",
     "output_type": "stream",
     "text": [
      "12\n"
     ]
    }
   ],
   "source": [
    "a = 12    # 1100\n",
    "b = 15    # 1111\n",
    "\n",
    "#           1100\n",
    "\n",
    "print(a & b)"
   ]
  },
  {
   "cell_type": "code",
   "execution_count": 14,
   "id": "6abc3f61",
   "metadata": {},
   "outputs": [
    {
     "data": {
      "text/plain": [
       "'0b110111'"
      ]
     },
     "execution_count": 14,
     "metadata": {},
     "output_type": "execute_result"
    }
   ],
   "source": [
    "bin(55)"
   ]
  },
  {
   "cell_type": "code",
   "execution_count": 12,
   "id": "7a267efb",
   "metadata": {},
   "outputs": [
    {
     "data": {
      "text/plain": [
       "5"
      ]
     },
     "execution_count": 12,
     "metadata": {},
     "output_type": "execute_result"
    }
   ],
   "source": [
    "int('0000101',2)"
   ]
  },
  {
   "cell_type": "code",
   "execution_count": 13,
   "id": "16f8713c",
   "metadata": {},
   "outputs": [
    {
     "name": "stdout",
     "output_type": "stream",
     "text": [
      "5\n"
     ]
    }
   ],
   "source": [
    "a = 77    # 1001101\n",
    "b = 55    # 0110111\n",
    "\n",
    "#           0000101\n",
    "\n",
    "print(a & b)"
   ]
  },
  {
   "cell_type": "code",
   "execution_count": 15,
   "id": "86e41811",
   "metadata": {},
   "outputs": [
    {
     "data": {
      "text/plain": [
       "127"
      ]
     },
     "execution_count": 15,
     "metadata": {},
     "output_type": "execute_result"
    }
   ],
   "source": [
    "int('1111111',2)"
   ]
  },
  {
   "cell_type": "code",
   "execution_count": 21,
   "id": "9919c0d8",
   "metadata": {},
   "outputs": [
    {
     "name": "stdout",
     "output_type": "stream",
     "text": [
      "127\n"
     ]
    }
   ],
   "source": [
    "a = 77    # 1001101\n",
    "b = 55    # 0110111\n",
    "\n",
    "#           1111111\n",
    "\n",
    "print(a | b)"
   ]
  },
  {
   "cell_type": "code",
   "execution_count": 22,
   "id": "971d700f",
   "metadata": {},
   "outputs": [],
   "source": [
    "# # xor:- \n",
    "\n",
    "# 111 :- 0\n",
    "# 000:- 0\n",
    "    \n"
   ]
  },
  {
   "cell_type": "code",
   "execution_count": 23,
   "id": "d07e8132",
   "metadata": {},
   "outputs": [
    {
     "data": {
      "text/plain": [
       "122"
      ]
     },
     "execution_count": 23,
     "metadata": {},
     "output_type": "execute_result"
    }
   ],
   "source": [
    "int('1111010',2)"
   ]
  },
  {
   "cell_type": "code",
   "execution_count": 24,
   "id": "2cf7bbd9",
   "metadata": {},
   "outputs": [
    {
     "name": "stdout",
     "output_type": "stream",
     "text": [
      "122\n"
     ]
    }
   ],
   "source": [
    "a = 77    # 1001101\n",
    "b = 55    # 0110111\n",
    "\n",
    "#           1111010\n",
    "\n",
    "print(a ^ b)"
   ]
  },
  {
   "cell_type": "code",
   "execution_count": 27,
   "id": "eac5da78",
   "metadata": {},
   "outputs": [],
   "source": [
    "# 77+55 - 10"
   ]
  },
  {
   "cell_type": "code",
   "execution_count": 28,
   "id": "5bcd06a3",
   "metadata": {},
   "outputs": [],
   "source": [
    "# ~ tilde:- not op"
   ]
  },
  {
   "cell_type": "code",
   "execution_count": 30,
   "id": "7333a106",
   "metadata": {},
   "outputs": [
    {
     "data": {
      "text/plain": [
       "-88"
      ]
     },
     "execution_count": 30,
     "metadata": {},
     "output_type": "execute_result"
    }
   ],
   "source": [
    "a = 87\n",
    "\n",
    "~a"
   ]
  },
  {
   "cell_type": "code",
   "execution_count": 31,
   "id": "46c6bacb",
   "metadata": {},
   "outputs": [
    {
     "data": {
      "text/plain": [
       "89"
      ]
     },
     "execution_count": 31,
     "metadata": {},
     "output_type": "execute_result"
    }
   ],
   "source": [
    "a = -90\n",
    "\n",
    "~a"
   ]
  },
  {
   "cell_type": "code",
   "execution_count": 32,
   "id": "be32806e",
   "metadata": {},
   "outputs": [
    {
     "ename": "TypeError",
     "evalue": "bad operand type for unary ~: 'float'",
     "output_type": "error",
     "traceback": [
      "\u001b[1;31m---------------------------------------------------------------------------\u001b[0m",
      "\u001b[1;31mTypeError\u001b[0m                                 Traceback (most recent call last)",
      "Cell \u001b[1;32mIn[32], line 3\u001b[0m\n\u001b[0;32m      1\u001b[0m a \u001b[38;5;241m=\u001b[39m \u001b[38;5;241m-\u001b[39m\u001b[38;5;241m90.45\u001b[39m\n\u001b[1;32m----> 3\u001b[0m \u001b[38;5;241m~\u001b[39ma\n",
      "\u001b[1;31mTypeError\u001b[0m: bad operand type for unary ~: 'float'"
     ]
    }
   ],
   "source": [
    "a = -90.45\n",
    "\n",
    "~a"
   ]
  },
  {
   "cell_type": "code",
   "execution_count": 33,
   "id": "65b3d815",
   "metadata": {},
   "outputs": [
    {
     "data": {
      "text/plain": [
       "87653"
      ]
     },
     "execution_count": 33,
     "metadata": {},
     "output_type": "execute_result"
    }
   ],
   "source": [
    "s = -87654\n",
    "\n",
    "~s"
   ]
  },
  {
   "cell_type": "code",
   "execution_count": 34,
   "id": "2087f589",
   "metadata": {},
   "outputs": [],
   "source": [
    "# left shift op\n",
    "# right shift op"
   ]
  },
  {
   "cell_type": "code",
   "execution_count": 35,
   "id": "3790579a",
   "metadata": {},
   "outputs": [
    {
     "data": {
      "text/plain": [
       "'0b100010'"
      ]
     },
     "execution_count": 35,
     "metadata": {},
     "output_type": "execute_result"
    }
   ],
   "source": [
    "bin(34)"
   ]
  },
  {
   "cell_type": "code",
   "execution_count": 38,
   "id": "9536e441",
   "metadata": {},
   "outputs": [
    {
     "data": {
      "text/plain": [
       "240"
      ]
     },
     "execution_count": 38,
     "metadata": {},
     "output_type": "execute_result"
    }
   ],
   "source": [
    "# left shift op:- dobule the results\n",
    "a = 15    #\n",
    "\n",
    "a<<4"
   ]
  },
  {
   "cell_type": "code",
   "execution_count": null,
   "id": "2435c3e4",
   "metadata": {},
   "outputs": [],
   "source": []
  },
  {
   "cell_type": "code",
   "execution_count": null,
   "id": "8717bde5",
   "metadata": {},
   "outputs": [],
   "source": []
  },
  {
   "cell_type": "code",
   "execution_count": 44,
   "id": "06b9c8ee",
   "metadata": {},
   "outputs": [
    {
     "data": {
      "text/plain": [
       "0"
      ]
     },
     "execution_count": 44,
     "metadata": {},
     "output_type": "execute_result"
    }
   ],
   "source": [
    "# right shift op:- half the results\n",
    "# >>\n",
    "a = 15    #\n",
    "\n",
    "a>>5"
   ]
  },
  {
   "cell_type": "code",
   "execution_count": null,
   "id": "311a0b6e",
   "metadata": {},
   "outputs": [],
   "source": []
  },
  {
   "cell_type": "code",
   "execution_count": 45,
   "id": "34332f6d",
   "metadata": {},
   "outputs": [],
   "source": [
    "# arithmetic op:- +, -, /, //, %, **, *\n",
    "# assignment op:- +=, =, -=, *=, /=, //=, %=,**=\n",
    "# comparison/relational:- <, >, ==, !=, <=, >=\n",
    "# membership:- in, not in\n",
    "# identity:- is, is not\n",
    "# logical:- and, or, not\n",
    "# bitwise:- &, |,^, ~,<<,>>"
   ]
  },
  {
   "cell_type": "code",
   "execution_count": null,
   "id": "aa841af3",
   "metadata": {},
   "outputs": [],
   "source": []
  },
  {
   "cell_type": "markdown",
   "id": "b0b6b527",
   "metadata": {},
   "source": [
    "# Some important functions"
   ]
  },
  {
   "cell_type": "markdown",
   "id": "7edd53c5",
   "metadata": {},
   "source": [
    "# Introduction"
   ]
  },
  {
   "cell_type": "code",
   "execution_count": 46,
   "id": "1d964864",
   "metadata": {},
   "outputs": [],
   "source": [
    "# id()\n",
    "# len()\n",
    "# sum()\n",
    "# min()\n",
    "# max()\n",
    "# eval()\n",
    "# exec()\n",
    "# execfile()\n",
    "# print()\n",
    "# round()\n",
    "# any()\n",
    "# all()\n",
    "# pow()"
   ]
  },
  {
   "cell_type": "code",
   "execution_count": 47,
   "id": "150a639d",
   "metadata": {},
   "outputs": [
    {
     "data": {
      "text/plain": [
       "2114649539456"
      ]
     },
     "execution_count": 47,
     "metadata": {},
     "output_type": "execute_result"
    }
   ],
   "source": [
    "a = [1,234,456]\n",
    "\n",
    "id(a)"
   ]
  },
  {
   "cell_type": "code",
   "execution_count": 48,
   "id": "f93aac95",
   "metadata": {},
   "outputs": [
    {
     "data": {
      "text/plain": [
       "3"
      ]
     },
     "execution_count": 48,
     "metadata": {},
     "output_type": "execute_result"
    }
   ],
   "source": [
    "len(a)"
   ]
  },
  {
   "cell_type": "code",
   "execution_count": 49,
   "id": "0825364a",
   "metadata": {},
   "outputs": [],
   "source": [
    "name = 'my name is karan verma'"
   ]
  },
  {
   "cell_type": "code",
   "execution_count": 50,
   "id": "447f1ddd",
   "metadata": {},
   "outputs": [
    {
     "data": {
      "text/plain": [
       "22"
      ]
     },
     "execution_count": 50,
     "metadata": {},
     "output_type": "execute_result"
    }
   ],
   "source": [
    "len(name)"
   ]
  },
  {
   "cell_type": "code",
   "execution_count": 52,
   "id": "afce383b",
   "metadata": {},
   "outputs": [
    {
     "data": {
      "text/plain": [
       "6"
      ]
     },
     "execution_count": 52,
     "metadata": {},
     "output_type": "execute_result"
    }
   ],
   "source": [
    "name = '      '\n",
    "\n",
    "len(name)"
   ]
  },
  {
   "cell_type": "code",
   "execution_count": 53,
   "id": "464028e5",
   "metadata": {},
   "outputs": [],
   "source": [
    "# sum()\n",
    "# min()\n",
    "# max()"
   ]
  },
  {
   "cell_type": "code",
   "execution_count": 55,
   "id": "8252d5dd",
   "metadata": {},
   "outputs": [
    {
     "data": {
      "text/plain": [
       "12"
      ]
     },
     "execution_count": 55,
     "metadata": {},
     "output_type": "execute_result"
    }
   ],
   "source": [
    "sales = [1,24,35,4234,-346,655,4325,567,3,5,34,56]\n",
    "\n",
    "len(sales)"
   ]
  },
  {
   "cell_type": "code",
   "execution_count": 56,
   "id": "23a848ea",
   "metadata": {},
   "outputs": [
    {
     "data": {
      "text/plain": [
       "10285"
      ]
     },
     "execution_count": 56,
     "metadata": {},
     "output_type": "execute_result"
    }
   ],
   "source": [
    "sum(sales)"
   ]
  },
  {
   "cell_type": "code",
   "execution_count": 57,
   "id": "257f018e",
   "metadata": {},
   "outputs": [],
   "source": [
    "import matplotlib.pyplot as plt"
   ]
  },
  {
   "cell_type": "code",
   "execution_count": 60,
   "id": "ff4d014c",
   "metadata": {},
   "outputs": [
    {
     "name": "stdout",
     "output_type": "stream",
     "text": [
      "['jan', 'feb', 'mar', 'apr', 'may', 'june', 'july', 'aug', 'sep', 'oct', 'nov', 'dec']\n"
     ]
    }
   ],
   "source": [
    "months = ['jan','feb','mar','apr','may','june','july','aug',\n",
    "         'sep','oct','nov','dec']\n",
    "\n",
    "print(months)"
   ]
  },
  {
   "cell_type": "code",
   "execution_count": 61,
   "id": "c16e1fd9",
   "metadata": {},
   "outputs": [
    {
     "name": "stdout",
     "output_type": "stream",
     "text": [
      "[1, 24, 35, 4234, 346, 655, 4325, 567, 3, 5, 34, 56]\n"
     ]
    }
   ],
   "source": [
    "print(sales)"
   ]
  },
  {
   "cell_type": "code",
   "execution_count": 65,
   "id": "22284a19",
   "metadata": {},
   "outputs": [
    {
     "data": {
      "image/png": "[encoded data removed]",
      "text/plain": [
       "<Figure size 640x480 with 1 Axes>"
      ]
     },
     "metadata": {},
     "output_type": "display_data"
    }
   ],
   "source": [
    "plt.plot(months,sales,color = 'r',marker = 'o')\n",
    "plt.show()"
   ]
  },
  {
   "cell_type": "code",
   "execution_count": 66,
   "id": "e3dab6ab",
   "metadata": {},
   "outputs": [
    {
     "data": {
      "text/plain": [
       "[1, 24, 35, 4234, 346, 655, 4325, 567, 3, 5, 34, 56]"
      ]
     },
     "execution_count": 66,
     "metadata": {},
     "output_type": "execute_result"
    }
   ],
   "source": [
    "sales"
   ]
  },
  {
   "cell_type": "code",
   "execution_count": 67,
   "id": "4d0e8d0d",
   "metadata": {},
   "outputs": [
    {
     "data": {
      "text/plain": [
       "4325"
      ]
     },
     "execution_count": 67,
     "metadata": {},
     "output_type": "execute_result"
    }
   ],
   "source": [
    "max(sales)"
   ]
  },
  {
   "cell_type": "code",
   "execution_count": 68,
   "id": "46484268",
   "metadata": {},
   "outputs": [
    {
     "data": {
      "text/plain": [
       "1"
      ]
     },
     "execution_count": 68,
     "metadata": {},
     "output_type": "execute_result"
    }
   ],
   "source": [
    "min(sales)"
   ]
  },
  {
   "cell_type": "code",
   "execution_count": 69,
   "id": "398b8c8b",
   "metadata": {},
   "outputs": [
    {
     "name": "stdout",
     "output_type": "stream",
     "text": [
      "857.0833333333334\n"
     ]
    }
   ],
   "source": [
    "avg = sum(sales)/len(sales)\n",
    "print(avg)"
   ]
  },
  {
   "cell_type": "markdown",
   "id": "ed89b1d7",
   "metadata": {},
   "source": [
    "# New day"
   ]
  },
  {
   "cell_type": "code",
   "execution_count": null,
   "id": "6a62b22d",
   "metadata": {},
   "outputs": [],
   "source": [
    "# eval()\n",
    "# exec()\n",
    "# execfile()\n",
    "# round()\n",
    "# any()\n",
    "# all()\n",
    "# pow()"
   ]
  },
  {
   "cell_type": "code",
   "execution_count": 3,
   "id": "8053c8ba",
   "metadata": {},
   "outputs": [
    {
     "data": {
      "text/plain": [
       "3453.39"
      ]
     },
     "execution_count": 3,
     "metadata": {},
     "output_type": "execute_result"
    }
   ],
   "source": [
    "a = 3453.385235\n",
    "\n",
    "round(a,2)"
   ]
  },
  {
   "cell_type": "code",
   "execution_count": 5,
   "id": "24d65d6f",
   "metadata": {},
   "outputs": [
    {
     "data": {
      "text/plain": [
       "3454"
      ]
     },
     "execution_count": 5,
     "metadata": {},
     "output_type": "execute_result"
    }
   ],
   "source": [
    "a = 3453.786543\n",
    "\n",
    "round(a)"
   ]
  },
  {
   "cell_type": "code",
   "execution_count": 8,
   "id": "6a41d887",
   "metadata": {},
   "outputs": [
    {
     "data": {
      "text/plain": [
       "625"
      ]
     },
     "execution_count": 8,
     "metadata": {},
     "output_type": "execute_result"
    }
   ],
   "source": [
    "# pow()\n",
    "\n",
    "a = 3\n",
    "\n",
    "pow(25,2)"
   ]
  },
  {
   "cell_type": "code",
   "execution_count": 10,
   "id": "760022b6",
   "metadata": {},
   "outputs": [
    {
     "data": {
      "text/plain": [
       "390625"
      ]
     },
     "execution_count": 10,
     "metadata": {},
     "output_type": "execute_result"
    }
   ],
   "source": [
    "25**4"
   ]
  },
  {
   "cell_type": "code",
   "execution_count": 11,
   "id": "3dc00aa0",
   "metadata": {},
   "outputs": [],
   "source": [
    "# any()\n",
    "# all()"
   ]
  },
  {
   "cell_type": "code",
   "execution_count": 12,
   "id": "dfed0f22",
   "metadata": {},
   "outputs": [
    {
     "data": {
      "text/plain": [
       "True"
      ]
     },
     "execution_count": 12,
     "metadata": {},
     "output_type": "execute_result"
    }
   ],
   "source": [
    "any([True,True,False])"
   ]
  },
  {
   "cell_type": "code",
   "execution_count": 14,
   "id": "d229c886",
   "metadata": {},
   "outputs": [
    {
     "data": {
      "text/plain": [
       "False"
      ]
     },
     "execution_count": 14,
     "metadata": {},
     "output_type": "execute_result"
    }
   ],
   "source": [
    "all([True, False, True])"
   ]
  },
  {
   "cell_type": "code",
   "execution_count": 15,
   "id": "0bbdf735",
   "metadata": {},
   "outputs": [
    {
     "data": {
      "text/plain": [
       "False"
      ]
     },
     "execution_count": 15,
     "metadata": {},
     "output_type": "execute_result"
    }
   ],
   "source": [
    "any([False, False, False])"
   ]
  },
  {
   "cell_type": "code",
   "execution_count": 16,
   "id": "6152d4b0",
   "metadata": {},
   "outputs": [
    {
     "data": {
      "text/plain": [
       "True"
      ]
     },
     "execution_count": 16,
     "metadata": {},
     "output_type": "execute_result"
    }
   ],
   "source": [
    "any([23==23,(12 in [1,2,23,4,12]),12%2==0 ])"
   ]
  },
  {
   "cell_type": "code",
   "execution_count": 17,
   "id": "99431884",
   "metadata": {},
   "outputs": [
    {
     "data": {
      "text/plain": [
       "True"
      ]
     },
     "execution_count": 17,
     "metadata": {},
     "output_type": "execute_result"
    }
   ],
   "source": [
    "all([23==23,(12 in [1,2,23,4,12]),12%2==0 ])"
   ]
  },
  {
   "cell_type": "code",
   "execution_count": null,
   "id": "ca8ed3cd",
   "metadata": {},
   "outputs": [],
   "source": []
  },
  {
   "cell_type": "code",
   "execution_count": 18,
   "id": "11f0a56a",
   "metadata": {},
   "outputs": [],
   "source": [
    "# eval():- evaluate at runtime"
   ]
  },
  {
   "cell_type": "code",
   "execution_count": 23,
   "id": "6f0b03b6",
   "metadata": {},
   "outputs": [
    {
     "name": "stdout",
     "output_type": "stream",
     "text": [
      "234*324/8+98**2\n"
     ]
    }
   ],
   "source": [
    "a = '234*324/8+98**2'\n",
    "\n",
    "print(a)"
   ]
  },
  {
   "cell_type": "code",
   "execution_count": 24,
   "id": "71edb5eb",
   "metadata": {},
   "outputs": [
    {
     "data": {
      "text/plain": [
       "19081.0"
      ]
     },
     "execution_count": 24,
     "metadata": {},
     "output_type": "execute_result"
    }
   ],
   "source": [
    "eval(a)"
   ]
  },
  {
   "cell_type": "code",
   "execution_count": 26,
   "id": "88d0d39e",
   "metadata": {},
   "outputs": [
    {
     "name": "stdout",
     "output_type": "stream",
     "text": [
      "Calculate here: 23*7-90+10\n",
      "81\n"
     ]
    }
   ],
   "source": [
    "ans = eval(input('Calculate here: '))\n",
    "\n",
    "print(ans)"
   ]
  },
  {
   "cell_type": "code",
   "execution_count": 28,
   "id": "5ee99949",
   "metadata": {},
   "outputs": [
    {
     "data": {
      "text/plain": [
       "32"
      ]
     },
     "execution_count": 28,
     "metadata": {},
     "output_type": "execute_result"
    }
   ],
   "source": [
    "eval('23+9')"
   ]
  },
  {
   "cell_type": "code",
   "execution_count": 29,
   "id": "96a25e36",
   "metadata": {},
   "outputs": [
    {
     "name": "stdout",
     "output_type": "stream",
     "text": [
      "a = 10; b = 34; c = a+b\n"
     ]
    }
   ],
   "source": [
    "d = 'a = 10; b = 34; c = a+b'\n",
    "\n",
    "print(d)"
   ]
  },
  {
   "cell_type": "code",
   "execution_count": 30,
   "id": "88791530",
   "metadata": {},
   "outputs": [],
   "source": [
    "exec(d)"
   ]
  },
  {
   "cell_type": "code",
   "execution_count": 33,
   "id": "436e4dab",
   "metadata": {},
   "outputs": [
    {
     "name": "stdout",
     "output_type": "stream",
     "text": [
      "44\n"
     ]
    }
   ],
   "source": [
    "print(c)"
   ]
  },
  {
   "cell_type": "code",
   "execution_count": 36,
   "id": "9a5c45d5",
   "metadata": {},
   "outputs": [],
   "source": [
    "f = 'a = 34-9'\n",
    "\n",
    "exec(f)"
   ]
  },
  {
   "cell_type": "code",
   "execution_count": 38,
   "id": "769a2dcd",
   "metadata": {},
   "outputs": [
    {
     "data": {
      "text/plain": [
       "25"
      ]
     },
     "execution_count": 38,
     "metadata": {},
     "output_type": "execute_result"
    }
   ],
   "source": [
    "a"
   ]
  },
  {
   "cell_type": "code",
   "execution_count": 53,
   "id": "bf5d8582",
   "metadata": {},
   "outputs": [
    {
     "data": {
      "text/plain": [
       "'print(\"Hello World\"*5)'"
      ]
     },
     "execution_count": 53,
     "metadata": {},
     "output_type": "execute_result"
    }
   ],
   "source": [
    "data = 'print(\"Hello World\"*5)'\n",
    "\n",
    "\n",
    "data"
   ]
  },
  {
   "cell_type": "code",
   "execution_count": 57,
   "id": "aa7f9907",
   "metadata": {},
   "outputs": [
    {
     "name": "stdout",
     "output_type": "stream",
     "text": [
      "Hello WorldHello WorldHello WorldHello WorldHello World\n"
     ]
    }
   ],
   "source": [
    "exec(data)"
   ]
  },
  {
   "cell_type": "code",
   "execution_count": null,
   "id": "4a1f860d",
   "metadata": {},
   "outputs": [],
   "source": []
  },
  {
   "cell_type": "code",
   "execution_count": 60,
   "id": "86f3862c",
   "metadata": {},
   "outputs": [
    {
     "name": "stdout",
     "output_type": "stream",
     "text": [
      "  ______________\n",
      "| Hello Bhaiya!! |\n",
      "  ==============\n",
      "                     \\\n",
      "                      \\\n",
      "                       \\\n",
      "                        \\\n",
      "                           .-=-==--==--.\n",
      "                     ..-==\"  ,'o`)      `.\n",
      "                   ,'         `\"'         \\\n",
      "                  :  (                     `.__...._\n",
      "                  |                  )    /         `-=-.\n",
      "                  :       ,vv.-._   /    /               `---==-._\n",
      "                   \\/\\/\\/VV ^ d88`;'    /                         `.\n",
      "                       ``  ^/d88P!'    /             ,              `._\n",
      "                          ^/    !'   ,.      ,      /                  \"-,,__,,--'\"\"\"\"-.\n",
      "                         ^/    !'  ,'  \\ . .(      (         _           )  ) ) ) ))_,-.\\\n",
      "                        ^(__ ,!',\"'   ;:+.:%:a.     \\:.. . ,'          )  )  ) ) ,\"'    '\n",
      "                        ',,,'','     /o:::\":%:%a.    \\:.:.:         .    )  ) _,'\n",
      "                         \"\"\"'       ;':::'' `+%%%a._  \\%:%|         ;.). _,-\"\"\n",
      "                                ,-='_.-'      ``:%::)  )%:|        /:._,\"\n",
      "                               (/(/\"           ,\" ,'_,'%%%:       (_,'\n",
      "                                              (  (//(`.___;        \\\n",
      "                                               \\     \\    `         `\n",
      "                                                `.    `.   `.        :\n",
      "                                                  \\. . .\\    : . . . :\n",
      "                                                   \\. . .:    `.. . .:\n",
      "                                                    `..:.:\\     \\:...\\\n",
      "                                                     ;:.:.;      ::...:\n",
      "                                                     ):%::       :::::;\n",
      "                                                 __,::%:(        :::::\n",
      "                                              ,;:%%%%%%%:        ;:%::\n",
      "                                                ;,--\"\"-.`\\  ,=--':%:%:\\\n",
      "                                               /\"       \"| /-\".:%%%%%%%\\\n",
      "                                                               ;,-\"'`)%%)\n",
      "                                                              /\"      \"|\n",
      "Enter your name: jatin\n",
      "Hello jatin How are you??\n",
      "                                  2024\n",
      "\n",
      "      January                   February                   March\n",
      "Mo Tu We Th Fr Sa Su      Mo Tu We Th Fr Sa Su      Mo Tu We Th Fr Sa Su\n",
      " 1  2  3  4  5  6  7                1  2  3  4                   1  2  3\n",
      " 8  9 10 11 12 13 14       5  6  7  8  9 10 11       4  5  6  7  8  9 10\n",
      "15 16 17 18 19 20 21      12 13 14 15 16 17 18      11 12 13 14 15 16 17\n",
      "22 23 24 25 26 27 28      19 20 21 22 23 24 25      18 19 20 21 22 23 24\n",
      "29 30 31                  26 27 28 29               25 26 27 28 29 30 31\n",
      "\n",
      "       April                      May                       June\n",
      "Mo Tu We Th Fr Sa Su      Mo Tu We Th Fr Sa Su      Mo Tu We Th Fr Sa Su\n",
      " 1  2  3  4  5  6  7             1  2  3  4  5                      1  2\n",
      " 8  9 10 11 12 13 14       6  7  8  9 10 11 12       3  4  5  6  7  8  9\n",
      "15 16 17 18 19 20 21      13 14 15 16 17 18 19      10 11 12 13 14 15 16\n",
      "22 23 24 25 26 27 28      20 21 22 23 24 25 26      17 18 19 20 21 22 23\n",
      "29 30                     27 28 29 30 31            24 25 26 27 28 29 30\n",
      "\n",
      "        July                     August                  September\n",
      "Mo Tu We Th Fr Sa Su      Mo Tu We Th Fr Sa Su      Mo Tu We Th Fr Sa Su\n",
      " 1  2  3  4  5  6  7                1  2  3  4                         1\n",
      " 8  9 10 11 12 13 14       5  6  7  8  9 10 11       2  3  4  5  6  7  8\n",
      "15 16 17 18 19 20 21      12 13 14 15 16 17 18       9 10 11 12 13 14 15\n",
      "22 23 24 25 26 27 28      19 20 21 22 23 24 25      16 17 18 19 20 21 22\n",
      "29 30 31                  26 27 28 29 30 31         23 24 25 26 27 28 29\n",
      "                                                    30\n",
      "\n",
      "      October                   November                  December\n",
      "Mo Tu We Th Fr Sa Su      Mo Tu We Th Fr Sa Su      Mo Tu We Th Fr Sa Su\n",
      "    1  2  3  4  5  6                   1  2  3                         1\n",
      " 7  8  9 10 11 12 13       4  5  6  7  8  9 10       2  3  4  5  6  7  8\n",
      "14 15 16 17 18 19 20      11 12 13 14 15 16 17       9 10 11 12 13 14 15\n",
      "21 22 23 24 25 26 27      18 19 20 21 22 23 24      16 17 18 19 20 21 22\n",
      "28 29 30 31               25 26 27 28 29 30         23 24 25 26 27 28 29\n",
      "                                                    30 31\n",
      "\n"
     ]
    }
   ],
   "source": [
    "execfile('deepak.py')"
   ]
  },
  {
   "cell_type": "code",
   "execution_count": 62,
   "id": "77cc66cd",
   "metadata": {},
   "outputs": [
    {
     "data": {
      "text/plain": [
       "34"
      ]
     },
     "execution_count": 62,
     "metadata": {},
     "output_type": "execute_result"
    }
   ],
   "source": [
    "d = 34\n",
    "abs(d)"
   ]
  },
  {
   "cell_type": "code",
   "execution_count": 65,
   "id": "52b054aa",
   "metadata": {},
   "outputs": [
    {
     "name": "stdout",
     "output_type": "stream",
     "text": [
      "['__add__', '__class__', '__class_getitem__', '__contains__', '__delattr__', '__delitem__', '__dir__', '__doc__', '__eq__', '__format__', '__ge__', '__getattribute__', '__getitem__', '__getstate__', '__gt__', '__hash__', '__iadd__', '__imul__', '__init__', '__init_subclass__', '__iter__', '__le__', '__len__', '__lt__', '__mul__', '__ne__', '__new__', '__reduce__', '__reduce_ex__', '__repr__', '__reversed__', '__rmul__', '__setattr__', '__setitem__', '__sizeof__', '__str__', '__subclasshook__', 'append', 'clear', 'copy', 'count', 'extend', 'index', 'insert', 'pop', 'remove', 'reverse', 'sort']\n"
     ]
    }
   ],
   "source": [
    "a = [234,124,345,5]\n",
    "\n",
    "print(dir(list))"
   ]
  },
  {
   "cell_type": "code",
   "execution_count": null,
   "id": "0d2e8d8c",
   "metadata": {},
   "outputs": [],
   "source": []
  },
  {
   "cell_type": "code",
   "execution_count": 67,
   "id": "3917b51f",
   "metadata": {},
   "outputs": [
    {
     "name": "stdout",
     "output_type": "stream",
     "text": [
      "['ArithmeticError', 'AssertionError', 'AttributeError', 'BaseException', 'BaseExceptionGroup', 'BlockingIOError', 'BrokenPipeError', 'BufferError', 'BytesWarning', 'ChildProcessError', 'ConnectionAbortedError', 'ConnectionError', 'ConnectionRefusedError', 'ConnectionResetError', 'DeprecationWarning', 'EOFError', 'Ellipsis', 'EncodingWarning', 'EnvironmentError', 'Exception', 'ExceptionGroup', 'False', 'FileExistsError', 'FileNotFoundError', 'FloatingPointError', 'FutureWarning', 'GeneratorExit', 'IOError', 'ImportError', 'ImportWarning', 'IndentationError', 'IndexError', 'InterruptedError', 'IsADirectoryError', 'KeyError', 'KeyboardInterrupt', 'LookupError', 'MemoryError', 'ModuleNotFoundError', 'NameError', 'None', 'NotADirectoryError', 'NotImplemented', 'NotImplementedError', 'OSError', 'OverflowError', 'PendingDeprecationWarning', 'PermissionError', 'ProcessLookupError', 'RecursionError', 'ReferenceError', 'ResourceWarning', 'RuntimeError', 'RuntimeWarning', 'StopAsyncIteration', 'StopIteration', 'SyntaxError', 'SyntaxWarning', 'SystemError', 'SystemExit', 'TabError', 'TimeoutError', 'True', 'TypeError', 'UnboundLocalError', 'UnicodeDecodeError', 'UnicodeEncodeError', 'UnicodeError', 'UnicodeTranslateError', 'UnicodeWarning', 'UserWarning', 'ValueError', 'Warning', 'WindowsError', 'ZeroDivisionError', '__IPYTHON__', '__build_class__', '__debug__', '__doc__', '__import__', '__loader__', '__name__', '__package__', '__spec__', 'abs', 'aiter', 'all', 'anext', 'any', 'ascii', 'bin', 'bool', 'breakpoint', 'bytearray', 'bytes', 'callable', 'chr', 'classmethod', 'compile', 'complex', 'copyright', 'credits', 'delattr', 'dict', 'dir', 'display', 'divmod', 'enumerate', 'eval', 'exec', 'execfile', 'filter', 'float', 'format', 'frozenset', 'get_ipython', 'getattr', 'globals', 'hasattr', 'hash', 'help', 'hex', 'id', 'input', 'int', 'isinstance', 'issubclass', 'iter', 'len', 'license', 'list', 'locals', 'map', 'max', 'memoryview', 'min', 'next', 'object', 'oct', 'open', 'ord', 'pow', 'print', 'property', 'range', 'repr', 'reversed', 'round', 'runfile', 'set', 'setattr', 'slice', 'sorted', 'staticmethod', 'str', 'sum', 'super', 'tuple', 'type', 'vars', 'zip']\n"
     ]
    }
   ],
   "source": [
    "print(dir(__builtins__))"
   ]
  },
  {
   "cell_type": "code",
   "execution_count": 68,
   "id": "f8fcca3c",
   "metadata": {},
   "outputs": [],
   "source": [
    "all_inbuilt_func = ['abs', 'aiter', 'all', 'anext', 'any', 'ascii', 'bin', 'bool', 'breakpoint', 'bytearray', 'bytes', 'callable', 'chr', 'classmethod', 'compile', 'complex', 'copyright', 'credits', 'delattr', 'dict', 'dir', 'display', 'divmod', 'enumerate', 'eval', 'exec', 'execfile', 'filter', 'float', 'format', 'frozenset', 'get_ipython', 'getattr', 'globals', 'hasattr', 'hash', 'help', 'hex', 'id', 'input', 'int', 'isinstance', 'issubclass', 'iter', 'len', 'license', 'list', 'locals', 'map', 'max', 'memoryview', 'min', 'next', 'object', 'oct', 'open', 'ord', 'pow', 'print', 'property', 'range', 'repr', 'reversed', 'round', 'runfile', 'set', 'setattr', 'slice', 'sorted', 'staticmethod', 'str', 'sum', 'super', 'tuple', 'type', 'vars', 'zip']"
   ]
  },
  {
   "cell_type": "code",
   "execution_count": 69,
   "id": "4f8d73e0",
   "metadata": {},
   "outputs": [
    {
     "name": "stdout",
     "output_type": "stream",
     "text": [
      "['abs', 'aiter', 'all', 'anext', 'any', 'ascii', 'bin', 'bool', 'breakpoint', 'bytearray', 'bytes', 'callable', 'chr', 'classmethod', 'compile', 'complex', 'copyright', 'credits', 'delattr', 'dict', 'dir', 'display', 'divmod', 'enumerate', 'eval', 'exec', 'execfile', 'filter', 'float', 'format', 'frozenset', 'get_ipython', 'getattr', 'globals', 'hasattr', 'hash', 'help', 'hex', 'id', 'input', 'int', 'isinstance', 'issubclass', 'iter', 'len', 'license', 'list', 'locals', 'map', 'max', 'memoryview', 'min', 'next', 'object', 'oct', 'open', 'ord', 'pow', 'print', 'property', 'range', 'repr', 'reversed', 'round', 'runfile', 'set', 'setattr', 'slice', 'sorted', 'staticmethod', 'str', 'sum', 'super', 'tuple', 'type', 'vars', 'zip']\n"
     ]
    }
   ],
   "source": [
    "print(all_inbuilt_func)"
   ]
  },
  {
   "cell_type": "code",
   "execution_count": 70,
   "id": "aefe5cb2",
   "metadata": {},
   "outputs": [
    {
     "name": "stdout",
     "output_type": "stream",
     "text": [
      "77\n"
     ]
    }
   ],
   "source": [
    "print(len(all_inbuilt_func))"
   ]
  },
  {
   "cell_type": "code",
   "execution_count": 71,
   "id": "912fce3b",
   "metadata": {},
   "outputs": [
    {
     "data": {
      "text/plain": [
       "'0b11101010'"
      ]
     },
     "execution_count": 71,
     "metadata": {},
     "output_type": "execute_result"
    }
   ],
   "source": [
    "bin(234)"
   ]
  },
  {
   "cell_type": "code",
   "execution_count": 72,
   "id": "9d2034bb",
   "metadata": {},
   "outputs": [],
   "source": [
    "# ascii"
   ]
  },
  {
   "cell_type": "code",
   "execution_count": 73,
   "id": "7f8346fe",
   "metadata": {},
   "outputs": [
    {
     "data": {
      "text/plain": [
       "114"
      ]
     },
     "execution_count": 73,
     "metadata": {},
     "output_type": "execute_result"
    }
   ],
   "source": [
    "ord('r')"
   ]
  },
  {
   "cell_type": "code",
   "execution_count": 74,
   "id": "bdb01622",
   "metadata": {},
   "outputs": [
    {
     "data": {
      "text/plain": [
       "8377"
      ]
     },
     "execution_count": 74,
     "metadata": {},
     "output_type": "execute_result"
    }
   ],
   "source": [
    "ord('₹')"
   ]
  },
  {
   "cell_type": "code",
   "execution_count": 75,
   "id": "2d1875e9",
   "metadata": {},
   "outputs": [
    {
     "data": {
      "text/plain": [
       "8383"
      ]
     },
     "execution_count": 75,
     "metadata": {},
     "output_type": "execute_result"
    }
   ],
   "source": [
    "ord('₿')"
   ]
  },
  {
   "cell_type": "code",
   "execution_count": 76,
   "id": "d3bc6cd1",
   "metadata": {},
   "outputs": [
    {
     "data": {
      "text/plain": [
       "'⃀'"
      ]
     },
     "execution_count": 76,
     "metadata": {},
     "output_type": "execute_result"
    }
   ],
   "source": [
    "chr(8384)"
   ]
  },
  {
   "cell_type": "code",
   "execution_count": 77,
   "id": "c74ef413",
   "metadata": {},
   "outputs": [
    {
     "data": {
      "text/plain": [
       "128513"
      ]
     },
     "execution_count": 77,
     "metadata": {},
     "output_type": "execute_result"
    }
   ],
   "source": [
    "ord('😁')"
   ]
  },
  {
   "cell_type": "code",
   "execution_count": 79,
   "id": "cdde0da8",
   "metadata": {},
   "outputs": [
    {
     "data": {
      "text/plain": [
       "'😳'"
      ]
     },
     "execution_count": 79,
     "metadata": {},
     "output_type": "execute_result"
    }
   ],
   "source": [
    "chr(128563)"
   ]
  },
  {
   "cell_type": "code",
   "execution_count": 82,
   "id": "3ba23fb3",
   "metadata": {},
   "outputs": [
    {
     "data": {
      "text/plain": [
       "'🭬'"
      ]
     },
     "execution_count": 82,
     "metadata": {},
     "output_type": "execute_result"
    }
   ],
   "source": [
    "chr(129900)"
   ]
  },
  {
   "cell_type": "code",
   "execution_count": 83,
   "id": "eb47f4e2",
   "metadata": {},
   "outputs": [
    {
     "name": "stdout",
     "output_type": "stream",
     "text": [
      "𞺈,𞺉,𞺊,𞺋,𞺌,𞺍,𞺎,𞺏,𞺐,𞺑,𞺒,𞺓,𞺔,𞺕,𞺖,𞺗,𞺘,𞺙,𞺚,𞺛,𞺜,𞺝,𞺞,𞺟,𞺠,𞺡,𞺢,𞺣,𞺤,𞺥,𞺦,𞺧,𞺨,𞺩,𞺪,𞺫,𞺬,𞺭,𞺮,𞺯,𞺰,𞺱,𞺲,𞺳,𞺴,𞺵,𞺶,𞺷,𞺸,𞺹,𞺺,𞺻,𞺼,𞺽,𞺾,𞺿,𞻀,𞻁,𞻂,𞻃,𞻄,𞻅,𞻆,𞻇,𞻈,𞻉,𞻊,𞻋,𞻌,𞻍,𞻎,𞻏,𞻐,𞻑,𞻒,𞻓,𞻔,𞻕,𞻖,𞻗,𞻘,𞻙,𞻚,𞻛,𞻜,𞻝,𞻞,𞻟,𞻠,𞻡,𞻢,𞻣,𞻤,𞻥,𞻦,𞻧,𞻨,𞻩,𞻪,𞻫,𞻬,𞻭,𞻮,𞻯,𞻰,𞻱,𞻲,𞻳,𞻴,𞻵,𞻶,𞻷,𞻸,𞻹,𞻺,𞻻,𞻼,𞻽,𞻾,𞻿,𞼀,𞼁,𞼂,𞼃,𞼄,𞼅,𞼆,𞼇,𞼈,𞼉,𞼊,𞼋,𞼌,𞼍,𞼎,𞼏,𞼐,𞼑,𞼒,𞼓,𞼔,𞼕,𞼖,𞼗,𞼘,𞼙,𞼚,𞼛,𞼜,𞼝,𞼞,𞼟,𞼠,𞼡,𞼢,𞼣,𞼤,𞼥,𞼦,𞼧,𞼨,𞼩,𞼪,𞼫,𞼬,𞼭,𞼮,𞼯,𞼰,𞼱,𞼲,𞼳,𞼴,𞼵,𞼶,𞼷,𞼸,𞼹,𞼺,𞼻,𞼼,𞼽,𞼾,𞼿,𞽀,𞽁,𞽂,𞽃,𞽄,𞽅,𞽆,𞽇,𞽈,𞽉,𞽊,𞽋,𞽌,𞽍,𞽎,𞽏,𞽐,𞽑,𞽒,𞽓,𞽔,𞽕,𞽖,𞽗,𞽘,𞽙,𞽚,𞽛,𞽜,𞽝,𞽞,𞽟,𞽠,𞽡,𞽢,𞽣,𞽤,𞽥,𞽦,𞽧,𞽨,𞽩,𞽪,𞽫,𞽬,𞽭,𞽮,𞽯,𞽰,𞽱,𞽲,𞽳,𞽴,𞽵,𞽶,𞽷,𞽸,𞽹,𞽺,𞽻,𞽼,𞽽,𞽾,𞽿,𞾀,𞾁,𞾂,𞾃,𞾄,𞾅,𞾆,𞾇,𞾈,𞾉,𞾊,𞾋,𞾌,𞾍,𞾎,𞾏,𞾐,𞾑,𞾒,𞾓,𞾔,𞾕,𞾖,𞾗,𞾘,𞾙,𞾚,𞾛,𞾜,𞾝,𞾞,𞾟,𞾠,𞾡,𞾢,𞾣,𞾤,𞾥,𞾦,𞾧,𞾨,𞾩,𞾪,𞾫,𞾬,𞾭,𞾮,𞾯,𞾰,𞾱,𞾲,𞾳,𞾴,𞾵,𞾶,𞾷,𞾸,𞾹,𞾺,𞾻,𞾼,𞾽,𞾾,𞾿,𞿀,𞿁,𞿂,𞿃,𞿄,𞿅,𞿆,𞿇,𞿈,𞿉,𞿊,𞿋,𞿌,𞿍,𞿎,𞿏,𞿐,𞿑,𞿒,𞿓,𞿔,𞿕,𞿖,𞿗,𞿘,𞿙,𞿚,𞿛,𞿜,𞿝,𞿞,𞿟,𞿠,𞿡,𞿢,𞿣,𞿤,𞿥,𞿦,𞿧,𞿨,𞿩,𞿪,𞿫,𞿬,𞿭,𞿮,𞿯,𞿰,𞿱,𞿲,𞿳,𞿴,𞿵,𞿶,𞿷,𞿸,𞿹,𞿺,𞿻,𞿼,𞿽,𞿾,𞿿,🀀,🀁,🀂,🀃,🀄,🀅,🀆,🀇,🀈,🀉,🀊,🀋,🀌,🀍,🀎,🀏,🀐,🀑,🀒,🀓,🀔,🀕,🀖,🀗,🀘,🀙,🀚,🀛,🀜,🀝,🀞,🀟,🀠,🀡,🀢,🀣,🀤,🀥,🀦,🀧,🀨,🀩,🀪,🀫,🀬,🀭,🀮,🀯,🀰,🀱,🀲,🀳,🀴,🀵,🀶,🀷,🀸,🀹,🀺,🀻,🀼,🀽,🀾,🀿,🁀,🁁,🁂,🁃,🁄,🁅,🁆,🁇,🁈,🁉,🁊,🁋,🁌,🁍,🁎,🁏,🁐,🁑,🁒,🁓,🁔,🁕,🁖,🁗,🁘,🁙,🁚,🁛,🁜,🁝,🁞,🁟,🁠,🁡,🁢,🁣,🁤,🁥,🁦,🁧,🁨,🁩,🁪,🁫,🁬,🁭,🁮,🁯,🁰,🁱,🁲,🁳,🁴,🁵,🁶,🁷,🁸,🁹,🁺,🁻,🁼,🁽,🁾,🁿,🂀,🂁,🂂,🂃,🂄,🂅,🂆,🂇,🂈,🂉,🂊,🂋,🂌,🂍,🂎,🂏,🂐,🂑,🂒,🂓,🂔,🂕,🂖,🂗,🂘,🂙,🂚,🂛,🂜,🂝,🂞,🂟,🂠,🂡,🂢,🂣,🂤,🂥,🂦,🂧,🂨,🂩,🂪,🂫,🂬,🂭,🂮,🂯,🂰,🂱,🂲,🂳,🂴,🂵,🂶,🂷,🂸,🂹,🂺,🂻,🂼,🂽,🂾,🂿,🃀,🃁,🃂,🃃,🃄,🃅,🃆,🃇,🃈,🃉,🃊,🃋,🃌,🃍,🃎,🃏,🃐,🃑,🃒,🃓,🃔,🃕,🃖,🃗,🃘,🃙,🃚,🃛,🃜,🃝,🃞,🃟,🃠,🃡,🃢,🃣,🃤,🃥,🃦,🃧,🃨,🃩,🃪,🃫,🃬,🃭,🃮,🃯,🃰,🃱,🃲,🃳,🃴,🃵,🃶,🃷,🃸,🃹,🃺,🃻,🃼,🃽,🃾,🃿,🄀,🄁,🄂,🄃,🄄,🄅,🄆,🄇,🄈,🄉,🄊,🄋,🄌,🄍,🄎,🄏,🄐,🄑,🄒,🄓,🄔,🄕,🄖,🄗,🄘,🄙,🄚,🄛,🄜,🄝,🄞,🄟,🄠,🄡,🄢,🄣,🄤,🄥,🄦,🄧,🄨,🄩,🄪,🄫,🄬,🄭,🄮,🄯,🄰,🄱,🄲,🄳,🄴,🄵,🄶,🄷,🄸,🄹,🄺,🄻,🄼,🄽,🄾,🄿,🅀,🅁,🅂,🅃,🅄,🅅,🅆,🅇,🅈,🅉,🅊,🅋,🅌,🅍,🅎,🅏,🅐,🅑,🅒,🅓,🅔,🅕,🅖,🅗,🅘,🅙,🅚,🅛,🅜,🅝,🅞,🅟,🅠,🅡,🅢,🅣,🅤,🅥,🅦,🅧,🅨,🅩,🅪,🅫,🅬,🅭,🅮,🅯,🅰,🅱,🅲,🅳,🅴,🅵,🅶,🅷,🅸,🅹,🅺,🅻,🅼,🅽,🅾,🅿,🆀,🆁,🆂,🆃,🆄,🆅,🆆,🆇,🆈,🆉,🆊,🆋,🆌,🆍,🆎,🆏,🆐,🆑,🆒,🆓,🆔,🆕,🆖,🆗,🆘,🆙,🆚,🆛,🆜,🆝,🆞,🆟,🆠,🆡,🆢,🆣,🆤,🆥,🆦,🆧,🆨,🆩,🆪,🆫,🆬,🆭,🆮,🆯,🆰,🆱,🆲,🆳,🆴,🆵,🆶,🆷,🆸,🆹,🆺,🆻,🆼,🆽,🆾,🆿,🇀,🇁,🇂,🇃,🇄,🇅,🇆,🇇,🇈,🇉,🇊,🇋,🇌,🇍,🇎,🇏,🇐,🇑,🇒,🇓,🇔,🇕,🇖,🇗,🇘,🇙,🇚,🇛,🇜,🇝,🇞,🇟,🇠,🇡,🇢,🇣,🇤,🇥,🇦,🇧,🇨,🇩,🇪,🇫,🇬,🇭,🇮,🇯,🇰,🇱,🇲,🇳,🇴,🇵,🇶,🇷,🇸,🇹,🇺,🇻,🇼,🇽,🇾,🇿,🈀,🈁,🈂,🈃,🈄,🈅,🈆,🈇,🈈,🈉,🈊,🈋,🈌,🈍,🈎,🈏,🈐,🈑,🈒,🈓,🈔,🈕,🈖,🈗,🈘,🈙,🈚,🈛,🈜,🈝,🈞,🈟,🈠,🈡,🈢,🈣,🈤,🈥,🈦,🈧,🈨,🈩,🈪,🈫,🈬,🈭,🈮,🈯,🈰,🈱,🈲,🈳,🈴,🈵,🈶,🈷,🈸,🈹,🈺,🈻,🈼,🈽,🈾,🈿,🉀,🉁,🉂,🉃,🉄,🉅,🉆,🉇,🉈,🉉,🉊,🉋,🉌,🉍,🉎,🉏,🉐,🉑,🉒,🉓,🉔,🉕,🉖,🉗,🉘,🉙,🉚,🉛,🉜,🉝,🉞,🉟,🉠,🉡,🉢,🉣,🉤,🉥,🉦,🉧,🉨,🉩,🉪,🉫,🉬,🉭,🉮,🉯,🉰,🉱,🉲,🉳,🉴,🉵,🉶,🉷,🉸,🉹,🉺,🉻,🉼,🉽,🉾,🉿,🊀,🊁,🊂,🊃,🊄,🊅,🊆,🊇,🊈,🊉,🊊,🊋,🊌,🊍,🊎,🊏,🊐,🊑,🊒,🊓,🊔,🊕,🊖,🊗,🊘,🊙,🊚,🊛,🊜,🊝,🊞,🊟,🊠,🊡,🊢,🊣,🊤,🊥,🊦,🊧,🊨,🊩,🊪,🊫,🊬,🊭,🊮,🊯,🊰,🊱,🊲,🊳,🊴,🊵,🊶,🊷,🊸,🊹,🊺,🊻,🊼,🊽,🊾,🊿,🋀,🋁,🋂,🋃,🋄,🋅,🋆,🋇,🋈,🋉,🋊,🋋,🋌,🋍,🋎,🋏,🋐,🋑,🋒,🋓,🋔,🋕,🋖,🋗,🋘,🋙,🋚,🋛,🋜,🋝,🋞,🋟,🋠,🋡,🋢,🋣,🋤,🋥,🋦,🋧,🋨,🋩,🋪,🋫,🋬,🋭,🋮,🋯,🋰,🋱,🋲,🋳,🋴,🋵,🋶,🋷,🋸,🋹,🋺,🋻,🋼,🋽,🋾,🋿,🌀,🌁,🌂,🌃,🌄,🌅,🌆,🌇,🌈,🌉,🌊,🌋,🌌,🌍,🌎,🌏,🌐,🌑,🌒,🌓,🌔,🌕,🌖,🌗,🌘,🌙,🌚,🌛,🌜,🌝,🌞,🌟,🌠,🌡,🌢,🌣,🌤,🌥,🌦,🌧,🌨,🌩,🌪,🌫,🌬,🌭,🌮,🌯,🌰,🌱,🌲,🌳,🌴,🌵,🌶,🌷,🌸,🌹,🌺,🌻,🌼,🌽,🌾,🌿,🍀,🍁,🍂,🍃,🍄,🍅,🍆,🍇,🍈,🍉,🍊,🍋,🍌,🍍,🍎,🍏,🍐,🍑,🍒,🍓,🍔,🍕,🍖,🍗,🍘,🍙,🍚,🍛,🍜,🍝,🍞,🍟,🍠,🍡,🍢,🍣,🍤,🍥,🍦,🍧,🍨,🍩,🍪,🍫,🍬,🍭,🍮,🍯,🍰,🍱,🍲,🍳,🍴,🍵,🍶,🍷,🍸,🍹,🍺,🍻,🍼,🍽,🍾,🍿,🎀,🎁,🎂,🎃,🎄,🎅,🎆,🎇,🎈,🎉,🎊,🎋,🎌,🎍,🎎,🎏,🎐,🎑,🎒,🎓,🎔,🎕,🎖,🎗,🎘,🎙,🎚,🎛,🎜,🎝,🎞,🎟,🎠,🎡,🎢,🎣,🎤,🎥,🎦,🎧,🎨,🎩,🎪,🎫,🎬,🎭,🎮,🎯,🎰,🎱,🎲,🎳,🎴,🎵,🎶,🎷,🎸,🎹,🎺,🎻,🎼,🎽,🎾,🎿,🏀,🏁,🏂,🏃,🏄,🏅,🏆,🏇,🏈,🏉,🏊,🏋,🏌,🏍,🏎,🏏,🏐,🏑,🏒,🏓,🏔,🏕,🏖,🏗,🏘,🏙,🏚,🏛,🏜,🏝,🏞,🏟,🏠,🏡,🏢,🏣,🏤,🏥,🏦,🏧,🏨,🏩,🏪,🏫,🏬,🏭,🏮,🏯,🏰,🏱,🏲,🏳,🏴,🏵,🏶,🏷,🏸,🏹,🏺,🏻,🏼,🏽,🏾,🏿,🐀,🐁,🐂,🐃,🐄,🐅,🐆,🐇,🐈,🐉,🐊,🐋,🐌,🐍,🐎,🐏,🐐,🐑,🐒,🐓,🐔,🐕,🐖,🐗,🐘,🐙,🐚,🐛,🐜,🐝,🐞,🐟,🐠,🐡,🐢,🐣,🐤,🐥,🐦,🐧,🐨,🐩,🐪,🐫,🐬,🐭,🐮,🐯,🐰,🐱,🐲,🐳,🐴,🐵,🐶,🐷,🐸,🐹,🐺,🐻,🐼,🐽,🐾,🐿,👀,👁,👂,👃,👄,👅,👆,👇,👈,👉,👊,👋,👌,👍,👎,👏,👐,👑,👒,👓,👔,👕,👖,👗,👘,👙,👚,👛,👜,👝,👞,👟,👠,👡,👢,👣,👤,👥,👦,👧,👨,👩,👪,👫,👬,👭,👮,👯,👰,👱,👲,👳,👴,👵,👶,👷,👸,👹,👺,👻,👼,👽,👾,👿,💀,💁,💂,💃,💄,💅,💆,💇,💈,💉,💊,💋,💌,💍,💎,💏,💐,💑,💒,💓,💔,💕,💖,💗,💘,💙,💚,💛,💜,💝,💞,💟,💠,💡,💢,💣,💤,💥,💦,💧,💨,💩,💪,💫,💬,💭,💮,💯,💰,💱,💲,💳,💴,💵,💶,💷,💸,💹,💺,💻,💼,💽,💾,💿,📀,📁,📂,📃,📄,📅,📆,📇,📈,📉,📊,📋,📌,📍,📎,📏,📐,📑,📒,📓,📔,📕,📖,📗,📘,📙,📚,📛,📜,📝,📞,📟,📠,📡,📢,📣,📤,📥,📦,📧,📨,📩,📪,📫,📬,📭,📮,📯,📰,📱,📲,📳,📴,📵,📶,📷,📸,📹,📺,📻,📼,📽,📾,📿,🔀,🔁,🔂,🔃,🔄,🔅,🔆,🔇,🔈,🔉,🔊,🔋,🔌,🔍,🔎,🔏,🔐,🔑,🔒,🔓,🔔,🔕,🔖,🔗,🔘,🔙,🔚,🔛,🔜,🔝,🔞,🔟,🔠,🔡,🔢,🔣,🔤,🔥,🔦,🔧,🔨,🔩,🔪,🔫,🔬,🔭,🔮,🔯,🔰,🔱,🔲,🔳,🔴,🔵,🔶,🔷,🔸,🔹,🔺,🔻,🔼,🔽,🔾,🔿,🕀,🕁,🕂,🕃,🕄,🕅,🕆,🕇,🕈,🕉,🕊,🕋,🕌,🕍,🕎,🕏,🕐,🕑,🕒,🕓,🕔,🕕,🕖,🕗,🕘,🕙,🕚,🕛,🕜,🕝,🕞,🕟,🕠,🕡,🕢,🕣,🕤,🕥,🕦,🕧,🕨,🕩,🕪,🕫,🕬,🕭,🕮,🕯,🕰,🕱,🕲,🕳,🕴,🕵,🕶,🕷,🕸,🕹,🕺,🕻,🕼,🕽,🕾,🕿,🖀,🖁,🖂,🖃,🖄,🖅,🖆,🖇,🖈,🖉,🖊,🖋,🖌,🖍,🖎,🖏,🖐,🖑,🖒,🖓,🖔,🖕,🖖,🖗,🖘,🖙,🖚,🖛,🖜,🖝,🖞,🖟,🖠,🖡,🖢,🖣,🖤,🖥,🖦,🖧,🖨,🖩,🖪,🖫,🖬,🖭,🖮,🖯,🖰,🖱,🖲,🖳,🖴,🖵,🖶,🖷,🖸,🖹,🖺,🖻,🖼,🖽,🖾,🖿,🗀,🗁,🗂,🗃,🗄,🗅,🗆,🗇,🗈,🗉,🗊,🗋,🗌,🗍,🗎,🗏,🗐,🗑,🗒,🗓,🗔,🗕,🗖,🗗,🗘,🗙,🗚,🗛,🗜,🗝,🗞,🗟,🗠,🗡,🗢,🗣,🗤,🗥,🗦,🗧,🗨,🗩,🗪,🗫,🗬,🗭,🗮,🗯,🗰,🗱,🗲,🗳,🗴,🗵,🗶,🗷,🗸,🗹,🗺,🗻,🗼,🗽,🗾,🗿,😀,😁,😂,😃,😄,😅,😆,😇,😈,😉,😊,😋,😌,😍,😎,😏,😐,😑,😒,😓,😔,😕,😖,😗,😘,😙,😚,😛,😜,😝,😞,😟,😠,😡,😢,😣,😤,😥,😦,😧,😨,😩,😪,😫,😬,😭,😮,😯,😰,😱,😲,😳,😴,😵,😶,😷,😸,😹,😺,😻,😼,😽,😾,😿,🙀,🙁,🙂,🙃,🙄,🙅,🙆,🙇,🙈,🙉,🙊,🙋,🙌,🙍,🙎,🙏,🙐,🙑,🙒,🙓,🙔,🙕,🙖,🙗,🙘,🙙,🙚,🙛,🙜,🙝,🙞,🙟,🙠,🙡,🙢,🙣,🙤,🙥,🙦,🙧,🙨,🙩,🙪,🙫,🙬,🙭,🙮,🙯,🙰,🙱,🙲,🙳,🙴,🙵,🙶,🙷,🙸,🙹,🙺,🙻,🙼,🙽,🙾,🙿,🚀,🚁,🚂,🚃,🚄,🚅,🚆,🚇,🚈,🚉,🚊,🚋,🚌,🚍,🚎,🚏,🚐,🚑,🚒,🚓,🚔,🚕,🚖,🚗,🚘,🚙,🚚,🚛,🚜,🚝,🚞,🚟,🚠,🚡,🚢,🚣,🚤,🚥,🚦,🚧,🚨,🚩,🚪,🚫,🚬,🚭,🚮,🚯,🚰,🚱,🚲,🚳,🚴,🚵,🚶,🚷,🚸,🚹,🚺,🚻,🚼,🚽,🚾,🚿,🛀,🛁,🛂,🛃,🛄,🛅,🛆,🛇,🛈,🛉,🛊,🛋,🛌,🛍,🛎,🛏,🛐,🛑,🛒,🛓,🛔,🛕,🛖,🛗,🛘,🛙,🛚,🛛,🛜,🛝,🛞,🛟,🛠,🛡,🛢,🛣,🛤,🛥,🛦,🛧,🛨,🛩,🛪,🛫,🛬,🛭,🛮,🛯,🛰,🛱,🛲,🛳,🛴,🛵,🛶,🛷,🛸,🛹,🛺,🛻,🛼,🛽,🛾,🛿,🜀,🜁,🜂,🜃,🜄,🜅,🜆,🜇,🜈,🜉,🜊,🜋,🜌,🜍,🜎,🜏,🜐,🜑,🜒,🜓,🜔,🜕,🜖,🜗,🜘,🜙,🜚,🜛,🜜,🜝,🜞,🜟,🜠,🜡,🜢,🜣,🜤,🜥,🜦,🜧,🜨,🜩,🜪,🜫,🜬,🜭,🜮,🜯,🜰,🜱,🜲,🜳,🜴,🜵,🜶,🜷,🜸,🜹,🜺,🜻,🜼,🜽,🜾,🜿,🝀,🝁,🝂,🝃,🝄,🝅,🝆,🝇,🝈,🝉,🝊,🝋,🝌,🝍,🝎,🝏,🝐,🝑,🝒,🝓,🝔,🝕,🝖,🝗,🝘,🝙,🝚,🝛,🝜,🝝,🝞,🝟,🝠,🝡,🝢,🝣,🝤,🝥,🝦,🝧,🝨,🝩,🝪,🝫,🝬,🝭,🝮,🝯,🝰,🝱,🝲,🝳,🝴,🝵,🝶,🝷,🝸,🝹,🝺,🝻,🝼,🝽,🝾,🝿,🞀,🞁,🞂,🞃,🞄,🞅,🞆,🞇,🞈,🞉,🞊,🞋,🞌,🞍,🞎,🞏,🞐,🞑,🞒,🞓,🞔,🞕,🞖,🞗,🞘,🞙,🞚,🞛,🞜,🞝,🞞,🞟,🞠,🞡,🞢,🞣,🞤,🞥,🞦,🞧,🞨,🞩,🞪,🞫,🞬,🞭,🞮,🞯,🞰,🞱,🞲,🞳,🞴,🞵,🞶,🞷,🞸,🞹,🞺,🞻,🞼,🞽,🞾,🞿,🟀,🟁,🟂,🟃,🟄,🟅,🟆,🟇,🟈,🟉,🟊,🟋,🟌,🟍,🟎,🟏,🟐,🟑,🟒,🟓,🟔,🟕,🟖,🟗,🟘,🟙,🟚,🟛,🟜,🟝,🟞,🟟,🟠,🟡,🟢,🟣,🟤,🟥,🟦,🟧,🟨,🟩,🟪,🟫,🟬,🟭,🟮,🟯,🟰,🟱,🟲,🟳,🟴,🟵,🟶,🟷,🟸,🟹,🟺,🟻,🟼,🟽,🟾,🟿,🠀,🠁,🠂,🠃,🠄,🠅,🠆,🠇,🠈,🠉,🠊,🠋,🠌,🠍,🠎,🠏,🠐,🠑,🠒,🠓,🠔,🠕,🠖,🠗,🠘,🠙,🠚,🠛,🠜,🠝,🠞,🠟,🠠,🠡,🠢,🠣,🠤,🠥,🠦,🠧,🠨,🠩,🠪,🠫,🠬,🠭,🠮,🠯,🠰,🠱,🠲,🠳,🠴,🠵,🠶,🠷,🠸,🠹,🠺,🠻,🠼,🠽,🠾,🠿,🡀,🡁,🡂,🡃,🡄,🡅,🡆,🡇,🡈,🡉,🡊,🡋,🡌,🡍,🡎,🡏,🡐,🡑,🡒,🡓,🡔,🡕,🡖,🡗,🡘,🡙,🡚,🡛,🡜,🡝,🡞,🡟,🡠,🡡,🡢,🡣,🡤,🡥,🡦,🡧,🡨,🡩,🡪,🡫,🡬,🡭,🡮,🡯,🡰,🡱,🡲,🡳,🡴,🡵,🡶,🡷,🡸,🡹,🡺,🡻,🡼,🡽,🡾,🡿,🢀,🢁,🢂,🢃,🢄,🢅,🢆,🢇,🢈,🢉,🢊,🢋,🢌,🢍,🢎,🢏,🢐,🢑,🢒,🢓,🢔,🢕,🢖,🢗,🢘,🢙,🢚,🢛,🢜,🢝,🢞,🢟,🢠,🢡,🢢,🢣,🢤,🢥,🢦,🢧,🢨,🢩,🢪,🢫,🢬,🢭,🢮,🢯,🢰,🢱,🢲,🢳,🢴,🢵,🢶,🢷,🢸,🢹,🢺,🢻,🢼,🢽,🢾,🢿,🣀,🣁,🣂,🣃,🣄,🣅,🣆,🣇,🣈,🣉,🣊,🣋,🣌,🣍,🣎,🣏,🣐,🣑,🣒,🣓,🣔,🣕,🣖,🣗,🣘,🣙,🣚,🣛,🣜,🣝,🣞,🣟,🣠,🣡,🣢,🣣,🣤,🣥,🣦,🣧,🣨,🣩,🣪,🣫,🣬,🣭,🣮,🣯,🣰,🣱,🣲,🣳,🣴,🣵,🣶,🣷,🣸,🣹,🣺,🣻,🣼,🣽,🣾,🣿,🤀,🤁,🤂,🤃,🤄,🤅,🤆,🤇,🤈,🤉,🤊,🤋,🤌,🤍,🤎,🤏,🤐,🤑,🤒,🤓,🤔,🤕,🤖,🤗,🤘,🤙,🤚,🤛,🤜,🤝,🤞,🤟,🤠,🤡,🤢,🤣,🤤,🤥,🤦,🤧,🤨,🤩,🤪,🤫,🤬,🤭,🤮,🤯,🤰,🤱,🤲,🤳,🤴,🤵,🤶,🤷,🤸,🤹,🤺,🤻,🤼,🤽,🤾,🤿,🥀,🥁,🥂,🥃,🥄,🥅,🥆,🥇,🥈,🥉,🥊,🥋,🥌,🥍,🥎,🥏,🥐,🥑,🥒,🥓,🥔,🥕,🥖,🥗,🥘,🥙,🥚,🥛,🥜,🥝,🥞,🥟,🥠,🥡,🥢,🥣,🥤,🥥,🥦,🥧,🥨,🥩,🥪,🥫,🥬,🥭,🥮,🥯,🥰,🥱,🥲,🥳,🥴,🥵,🥶,🥷,🥸,🥹,🥺,🥻,🥼,🥽,🥾,🥿,🦀,🦁,🦂,🦃,🦄,🦅,🦆,🦇,🦈,🦉,🦊,🦋,🦌,🦍,🦎,🦏,🦐,🦑,🦒,🦓,🦔,🦕,🦖,🦗,🦘,🦙,🦚,🦛,🦜,🦝,🦞,🦟,🦠,🦡,🦢,🦣,🦤,🦥,🦦,🦧,🦨,🦩,🦪,🦫,🦬,🦭,🦮,🦯,🦰,🦱,🦲,🦳,🦴,🦵,🦶,🦷,🦸,🦹,🦺,🦻,🦼,🦽,🦾,🦿,🧀,🧁,🧂,🧃,🧄,🧅,🧆,🧇,🧈,🧉,🧊,🧋,🧌,🧍,🧎,🧏,🧐,🧑,🧒,🧓,🧔,🧕,🧖,🧗,🧘,🧙,🧚,🧛,🧜,🧝,🧞,🧟,🧠,🧡,🧢,🧣,🧤,🧥,🧦,🧧,🧨,🧩,🧪,🧫,🧬,🧭,🧮,🧯,🧰,🧱,🧲,🧳,🧴,🧵,🧶,🧷,🧸,🧹,🧺,🧻,🧼,🧽,🧾,🧿,🨀,🨁,🨂,🨃,🨄,🨅,🨆,🨇,🨈,🨉,🨊,🨋,🨌,🨍,🨎,🨏,🨐,🨑,🨒,🨓,🨔,🨕,🨖,🨗,🨘,🨙,🨚,🨛,🨜,🨝,🨞,🨟,🨠,🨡,🨢,🨣,🨤,🨥,🨦,🨧,🨨,🨩,🨪,🨫,🨬,🨭,🨮,🨯,🨰,🨱,🨲,🨳,🨴,🨵,🨶,🨷,🨸,🨹,🨺,🨻,🨼,🨽,🨾,🨿,🩀,🩁,🩂,🩃,🩄,🩅,🩆,🩇,🩈,🩉,🩊,🩋,🩌,🩍,🩎,🩏,🩐,🩑,🩒,🩓,🩔,🩕,🩖,🩗,🩘,🩙,🩚,🩛,🩜,🩝,🩞,🩟,🩠,🩡,🩢,🩣,🩤,🩥,🩦,🩧,🩨,🩩,🩪,🩫,🩬,🩭,🩮,🩯,🩰,🩱,🩲,🩳,🩴,🩵,🩶,🩷,🩸,🩹,🩺,🩻,🩼,🩽,🩾,🩿,🪀,🪁,🪂,🪃,🪄,🪅,🪆,🪇,🪈,🪉,🪊,🪋,🪌,🪍,🪎,🪏,🪐,🪑,🪒,🪓,🪔,🪕,🪖,🪗,🪘,🪙,🪚,🪛,🪜,🪝,🪞,🪟,🪠,🪡,🪢,🪣,🪤,🪥,🪦,🪧,🪨,🪩,🪪,🪫,🪬,🪭,🪮,🪯,🪰,🪱,🪲,🪳,🪴,🪵,🪶,🪷,🪸,🪹,🪺,🪻,🪼,🪽,🪾,🪿,🫀,🫁,🫂,🫃,🫄,🫅,🫆,🫇,🫈,🫉,🫊,🫋,🫌,🫍,🫎,🫏,🫐,🫑,🫒,🫓,🫔,🫕,🫖,🫗,🫘,🫙,🫚,🫛,🫜,🫝,🫞,🫟,🫠,🫡,🫢,🫣,🫤,🫥,🫦,🫧,🫨,🫩,🫪,🫫,🫬,🫭,🫮,🫯,🫰,🫱,🫲,🫳,🫴,🫵,🫶,🫷,🫸,🫹,🫺,🫻,🫼,🫽,🫾,🫿,🬀,🬁,🬂,🬃,🬄,🬅,🬆,🬇,🬈,🬉,🬊,🬋,🬌,🬍,🬎,🬏,🬐,🬑,🬒,🬓,🬔,🬕,🬖,🬗,🬘,🬙,🬚,🬛,🬜,🬝,🬞,🬟,🬠,🬡,🬢,🬣,🬤,🬥,🬦,🬧,🬨,🬩,🬪,🬫,🬬,🬭,🬮,🬯,🬰,🬱,🬲,🬳,🬴,🬵,🬶,🬷,🬸,🬹,🬺,🬻,🬼,🬽,🬾,🬿,🭀,🭁,🭂,🭃,🭄,🭅,🭆,🭇,🭈,🭉,🭊,🭋,🭌,🭍,🭎,🭏,🭐,🭑,🭒,🭓,🭔,🭕,🭖,🭗,🭘,🭙,🭚,🭛,🭜,🭝,🭞,🭟,🭠,🭡,🭢,🭣,🭤,🭥,🭦,🭧,🭨,🭩,🭪,🭫,"
     ]
    }
   ],
   "source": [
    "for i in range(126600,129900):\n",
    "    print(chr(i),end=',')"
   ]
  },
  {
   "cell_type": "code",
   "execution_count": 84,
   "id": "258fe101",
   "metadata": {},
   "outputs": [],
   "source": [
    "# 🛵"
   ]
  },
  {
   "cell_type": "code",
   "execution_count": 89,
   "id": "2516459c",
   "metadata": {},
   "outputs": [
    {
     "ename": "MemoryError",
     "evalue": "",
     "output_type": "error",
     "traceback": [
      "\u001b[1;31m---------------------------------------------------------------------------\u001b[0m",
      "\u001b[1;31mMemoryError\u001b[0m                               Traceback (most recent call last)",
      "File \u001b[1;32m~\\anaconda3\\Lib\\site-packages\\IPython\\core\\formatters.py:708\u001b[0m, in \u001b[0;36mPlainTextFormatter.__call__\u001b[1;34m(self, obj)\u001b[0m\n\u001b[0;32m    701\u001b[0m stream \u001b[38;5;241m=\u001b[39m StringIO()\n\u001b[0;32m    702\u001b[0m printer \u001b[38;5;241m=\u001b[39m pretty\u001b[38;5;241m.\u001b[39mRepresentationPrinter(stream, \u001b[38;5;28mself\u001b[39m\u001b[38;5;241m.\u001b[39mverbose,\n\u001b[0;32m    703\u001b[0m     \u001b[38;5;28mself\u001b[39m\u001b[38;5;241m.\u001b[39mmax_width, \u001b[38;5;28mself\u001b[39m\u001b[38;5;241m.\u001b[39mnewline,\n\u001b[0;32m    704\u001b[0m     max_seq_length\u001b[38;5;241m=\u001b[39m\u001b[38;5;28mself\u001b[39m\u001b[38;5;241m.\u001b[39mmax_seq_length,\n\u001b[0;32m    705\u001b[0m     singleton_pprinters\u001b[38;5;241m=\u001b[39m\u001b[38;5;28mself\u001b[39m\u001b[38;5;241m.\u001b[39msingleton_printers,\n\u001b[0;32m    706\u001b[0m     type_pprinters\u001b[38;5;241m=\u001b[39m\u001b[38;5;28mself\u001b[39m\u001b[38;5;241m.\u001b[39mtype_printers,\n\u001b[0;32m    707\u001b[0m     deferred_pprinters\u001b[38;5;241m=\u001b[39m\u001b[38;5;28mself\u001b[39m\u001b[38;5;241m.\u001b[39mdeferred_printers)\n\u001b[1;32m--> 708\u001b[0m printer\u001b[38;5;241m.\u001b[39mpretty(obj)\n\u001b[0;32m    709\u001b[0m printer\u001b[38;5;241m.\u001b[39mflush()\n\u001b[0;32m    710\u001b[0m \u001b[38;5;28;01mreturn\u001b[39;00m stream\u001b[38;5;241m.\u001b[39mgetvalue()\n",
      "File \u001b[1;32m~\\anaconda3\\Lib\\site-packages\\IPython\\lib\\pretty.py:393\u001b[0m, in \u001b[0;36mRepresentationPrinter.pretty\u001b[1;34m(self, obj)\u001b[0m\n\u001b[0;32m    390\u001b[0m \u001b[38;5;28;01mfor\u001b[39;00m \u001b[38;5;28mcls\u001b[39m \u001b[38;5;129;01min\u001b[39;00m _get_mro(obj_class):\n\u001b[0;32m    391\u001b[0m     \u001b[38;5;28;01mif\u001b[39;00m \u001b[38;5;28mcls\u001b[39m \u001b[38;5;129;01min\u001b[39;00m \u001b[38;5;28mself\u001b[39m\u001b[38;5;241m.\u001b[39mtype_pprinters:\n\u001b[0;32m    392\u001b[0m         \u001b[38;5;66;03m# printer registered in self.type_pprinters\u001b[39;00m\n\u001b[1;32m--> 393\u001b[0m         \u001b[38;5;28;01mreturn\u001b[39;00m \u001b[38;5;28mself\u001b[39m\u001b[38;5;241m.\u001b[39mtype_pprinters[\u001b[38;5;28mcls\u001b[39m](obj, \u001b[38;5;28mself\u001b[39m, cycle)\n\u001b[0;32m    394\u001b[0m     \u001b[38;5;28;01melse\u001b[39;00m:\n\u001b[0;32m    395\u001b[0m         \u001b[38;5;66;03m# deferred printer\u001b[39;00m\n\u001b[0;32m    396\u001b[0m         printer \u001b[38;5;241m=\u001b[39m \u001b[38;5;28mself\u001b[39m\u001b[38;5;241m.\u001b[39m_in_deferred_types(\u001b[38;5;28mcls\u001b[39m)\n",
      "File \u001b[1;32m~\\anaconda3\\Lib\\site-packages\\IPython\\lib\\pretty.py:778\u001b[0m, in \u001b[0;36m_repr_pprint\u001b[1;34m(obj, p, cycle)\u001b[0m\n\u001b[0;32m    776\u001b[0m \u001b[38;5;250m\u001b[39m\u001b[38;5;124;03m\"\"\"A pprint that just redirects to the normal repr function.\"\"\"\u001b[39;00m\n\u001b[0;32m    777\u001b[0m \u001b[38;5;66;03m# Find newlines and replace them with p.break_()\u001b[39;00m\n\u001b[1;32m--> 778\u001b[0m output \u001b[38;5;241m=\u001b[39m \u001b[38;5;28mrepr\u001b[39m(obj)\n\u001b[0;32m    779\u001b[0m lines \u001b[38;5;241m=\u001b[39m output\u001b[38;5;241m.\u001b[39msplitlines()\n\u001b[0;32m    780\u001b[0m \u001b[38;5;28;01mwith\u001b[39;00m p\u001b[38;5;241m.\u001b[39mgroup():\n",
      "\u001b[1;31mMemoryError\u001b[0m: "
     ]
    }
   ],
   "source": [
    "a = 1010108765\n",
    "\n",
    "bytes(a)"
   ]
  },
  {
   "cell_type": "code",
   "execution_count": 3,
   "id": "947bcf64",
   "metadata": {},
   "outputs": [
    {
     "ename": "KeyboardInterrupt",
     "evalue": "",
     "output_type": "error",
     "traceback": [
      "\u001b[1;31m---------------------------------------------------------------------------\u001b[0m",
      "\u001b[1;31mKeyboardInterrupt\u001b[0m                         Traceback (most recent call last)",
      "Cell \u001b[1;32mIn[3], line 5\u001b[0m\n\u001b[0;32m      3\u001b[0m \u001b[38;5;28mprint\u001b[39m(time\u001b[38;5;241m.\u001b[39masctime())\n\u001b[0;32m      4\u001b[0m display(clear\u001b[38;5;241m=\u001b[39m\u001b[38;5;28;01mTrue\u001b[39;00m)\n\u001b[1;32m----> 5\u001b[0m time\u001b[38;5;241m.\u001b[39msleep(\u001b[38;5;241m1\u001b[39m)\n",
      "\u001b[1;31mKeyboardInterrupt\u001b[0m: "
     ]
    }
   ],
   "source": [
    "import time\n",
    "while True:\n",
    "    print(time.asctime())\n",
    "    display(clear=True)\n",
    "    time.sleep(1)"
   ]
  },
  {
   "cell_type": "code",
   "execution_count": 6,
   "id": "4c19f8ea",
   "metadata": {},
   "outputs": [
    {
     "name": "stdout",
     "output_type": "stream",
     "text": [
      "Help on class str in module builtins:\n",
      "\n",
      "class str(object)\n",
      " |  str(object='') -> str\n",
      " |  str(bytes_or_buffer[, encoding[, errors]]) -> str\n",
      " |  \n",
      " |  Create a new string object from the given object. If encoding or\n",
      " |  errors is specified, then the object must expose a data buffer\n",
      " |  that will be decoded using the given encoding and error handler.\n",
      " |  Otherwise, returns the result of object.__str__() (if defined)\n",
      " |  or repr(object).\n",
      " |  encoding defaults to sys.getdefaultencoding().\n",
      " |  errors defaults to 'strict'.\n",
      " |  \n",
      " |  Methods defined here:\n",
      " |  \n",
      " |  __add__(self, value, /)\n",
      " |      Return self+value.\n",
      " |  \n",
      " |  __contains__(self, key, /)\n",
      " |      Return key in self.\n",
      " |  \n",
      " |  __eq__(self, value, /)\n",
      " |      Return self==value.\n",
      " |  \n",
      " |  __format__(self, format_spec, /)\n",
      " |      Return a formatted version of the string as described by format_spec.\n",
      " |  \n",
      " |  __ge__(self, value, /)\n",
      " |      Return self>=value.\n",
      " |  \n",
      " |  __getattribute__(self, name, /)\n",
      " |      Return getattr(self, name).\n",
      " |  \n",
      " |  __getitem__(self, key, /)\n",
      " |      Return self[key].\n",
      " |  \n",
      " |  __getnewargs__(...)\n",
      " |  \n",
      " |  __gt__(self, value, /)\n",
      " |      Return self>value.\n",
      " |  \n",
      " |  __hash__(self, /)\n",
      " |      Return hash(self).\n",
      " |  \n",
      " |  __iter__(self, /)\n",
      " |      Implement iter(self).\n",
      " |  \n",
      " |  __le__(self, value, /)\n",
      " |      Return self<=value.\n",
      " |  \n",
      " |  __len__(self, /)\n",
      " |      Return len(self).\n",
      " |  \n",
      " |  __lt__(self, value, /)\n",
      " |      Return self<value.\n",
      " |  \n",
      " |  __mod__(self, value, /)\n",
      " |      Return self%value.\n",
      " |  \n",
      " |  __mul__(self, value, /)\n",
      " |      Return self*value.\n",
      " |  \n",
      " |  __ne__(self, value, /)\n",
      " |      Return self!=value.\n",
      " |  \n",
      " |  __repr__(self, /)\n",
      " |      Return repr(self).\n",
      " |  \n",
      " |  __rmod__(self, value, /)\n",
      " |      Return value%self.\n",
      " |  \n",
      " |  __rmul__(self, value, /)\n",
      " |      Return value*self.\n",
      " |  \n",
      " |  __sizeof__(self, /)\n",
      " |      Return the size of the string in memory, in bytes.\n",
      " |  \n",
      " |  __str__(self, /)\n",
      " |      Return str(self).\n",
      " |  \n",
      " |  capitalize(self, /)\n",
      " |      Return a capitalized version of the string.\n",
      " |      \n",
      " |      More specifically, make the first character have upper case and the rest lower\n",
      " |      case.\n",
      " |  \n",
      " |  casefold(self, /)\n",
      " |      Return a version of the string suitable for caseless comparisons.\n",
      " |  \n",
      " |  center(self, width, fillchar=' ', /)\n",
      " |      Return a centered string of length width.\n",
      " |      \n",
      " |      Padding is done using the specified fill character (default is a space).\n",
      " |  \n",
      " |  count(...)\n",
      " |      S.count(sub[, start[, end]]) -> int\n",
      " |      \n",
      " |      Return the number of non-overlapping occurrences of substring sub in\n",
      " |      string S[start:end].  Optional arguments start and end are\n",
      " |      interpreted as in slice notation.\n",
      " |  \n",
      " |  encode(self, /, encoding='utf-8', errors='strict')\n",
      " |      Encode the string using the codec registered for encoding.\n",
      " |      \n",
      " |      encoding\n",
      " |        The encoding in which to encode the string.\n",
      " |      errors\n",
      " |        The error handling scheme to use for encoding errors.\n",
      " |        The default is 'strict' meaning that encoding errors raise a\n",
      " |        UnicodeEncodeError.  Other possible values are 'ignore', 'replace' and\n",
      " |        'xmlcharrefreplace' as well as any other name registered with\n",
      " |        codecs.register_error that can handle UnicodeEncodeErrors.\n",
      " |  \n",
      " |  endswith(...)\n",
      " |      S.endswith(suffix[, start[, end]]) -> bool\n",
      " |      \n",
      " |      Return True if S ends with the specified suffix, False otherwise.\n",
      " |      With optional start, test S beginning at that position.\n",
      " |      With optional end, stop comparing S at that position.\n",
      " |      suffix can also be a tuple of strings to try.\n",
      " |  \n",
      " |  expandtabs(self, /, tabsize=8)\n",
      " |      Return a copy where all tab characters are expanded using spaces.\n",
      " |      \n",
      " |      If tabsize is not given, a tab size of 8 characters is assumed.\n",
      " |  \n",
      " |  find(...)\n",
      " |      S.find(sub[, start[, end]]) -> int\n",
      " |      \n",
      " |      Return the lowest index in S where substring sub is found,\n",
      " |      such that sub is contained within S[start:end].  Optional\n",
      " |      arguments start and end are interpreted as in slice notation.\n",
      " |      \n",
      " |      Return -1 on failure.\n",
      " |  \n",
      " |  format(...)\n",
      " |      S.format(*args, **kwargs) -> str\n",
      " |      \n",
      " |      Return a formatted version of S, using substitutions from args and kwargs.\n",
      " |      The substitutions are identified by braces ('{' and '}').\n",
      " |  \n",
      " |  format_map(...)\n",
      " |      S.format_map(mapping) -> str\n",
      " |      \n",
      " |      Return a formatted version of S, using substitutions from mapping.\n",
      " |      The substitutions are identified by braces ('{' and '}').\n",
      " |  \n",
      " |  index(...)\n",
      " |      S.index(sub[, start[, end]]) -> int\n",
      " |      \n",
      " |      Return the lowest index in S where substring sub is found,\n",
      " |      such that sub is contained within S[start:end].  Optional\n",
      " |      arguments start and end are interpreted as in slice notation.\n",
      " |      \n",
      " |      Raises ValueError when the substring is not found.\n",
      " |  \n",
      " |  isalnum(self, /)\n",
      " |      Return True if the string is an alpha-numeric string, False otherwise.\n",
      " |      \n",
      " |      A string is alpha-numeric if all characters in the string are alpha-numeric and\n",
      " |      there is at least one character in the string.\n",
      " |  \n",
      " |  isalpha(self, /)\n",
      " |      Return True if the string is an alphabetic string, False otherwise.\n",
      " |      \n",
      " |      A string is alphabetic if all characters in the string are alphabetic and there\n",
      " |      is at least one character in the string.\n",
      " |  \n",
      " |  isascii(self, /)\n",
      " |      Return True if all characters in the string are ASCII, False otherwise.\n",
      " |      \n",
      " |      ASCII characters have code points in the range U+0000-U+007F.\n",
      " |      Empty string is ASCII too.\n",
      " |  \n",
      " |  isdecimal(self, /)\n",
      " |      Return True if the string is a decimal string, False otherwise.\n",
      " |      \n",
      " |      A string is a decimal string if all characters in the string are decimal and\n",
      " |      there is at least one character in the string.\n",
      " |  \n",
      " |  isdigit(self, /)\n",
      " |      Return True if the string is a digit string, False otherwise.\n",
      " |      \n",
      " |      A string is a digit string if all characters in the string are digits and there\n",
      " |      is at least one character in the string.\n",
      " |  \n",
      " |  isidentifier(self, /)\n",
      " |      Return True if the string is a valid Python identifier, False otherwise.\n",
      " |      \n",
      " |      Call keyword.iskeyword(s) to test whether string s is a reserved identifier,\n",
      " |      such as \"def\" or \"class\".\n",
      " |  \n",
      " |  islower(self, /)\n",
      " |      Return True if the string is a lowercase string, False otherwise.\n",
      " |      \n",
      " |      A string is lowercase if all cased characters in the string are lowercase and\n",
      " |      there is at least one cased character in the string.\n",
      " |  \n",
      " |  isnumeric(self, /)\n",
      " |      Return True if the string is a numeric string, False otherwise.\n",
      " |      \n",
      " |      A string is numeric if all characters in the string are numeric and there is at\n",
      " |      least one character in the string.\n",
      " |  \n",
      " |  isprintable(self, /)\n",
      " |      Return True if the string is printable, False otherwise.\n",
      " |      \n",
      " |      A string is printable if all of its characters are considered printable in\n",
      " |      repr() or if it is empty.\n",
      " |  \n",
      " |  isspace(self, /)\n",
      " |      Return True if the string is a whitespace string, False otherwise.\n",
      " |      \n",
      " |      A string is whitespace if all characters in the string are whitespace and there\n",
      " |      is at least one character in the string.\n",
      " |  \n",
      " |  istitle(self, /)\n",
      " |      Return True if the string is a title-cased string, False otherwise.\n",
      " |      \n",
      " |      In a title-cased string, upper- and title-case characters may only\n",
      " |      follow uncased characters and lowercase characters only cased ones.\n",
      " |  \n",
      " |  isupper(self, /)\n",
      " |      Return True if the string is an uppercase string, False otherwise.\n",
      " |      \n",
      " |      A string is uppercase if all cased characters in the string are uppercase and\n",
      " |      there is at least one cased character in the string.\n",
      " |  \n",
      " |  join(self, iterable, /)\n",
      " |      Concatenate any number of strings.\n",
      " |      \n",
      " |      The string whose method is called is inserted in between each given string.\n",
      " |      The result is returned as a new string.\n",
      " |      \n",
      " |      Example: '.'.join(['ab', 'pq', 'rs']) -> 'ab.pq.rs'\n",
      " |  \n",
      " |  ljust(self, width, fillchar=' ', /)\n",
      " |      Return a left-justified string of length width.\n",
      " |      \n",
      " |      Padding is done using the specified fill character (default is a space).\n",
      " |  \n",
      " |  lower(self, /)\n",
      " |      Return a copy of the string converted to lowercase.\n",
      " |  \n",
      " |  lstrip(self, chars=None, /)\n",
      " |      Return a copy of the string with leading whitespace removed.\n",
      " |      \n",
      " |      If chars is given and not None, remove characters in chars instead.\n",
      " |  \n",
      " |  partition(self, sep, /)\n",
      " |      Partition the string into three parts using the given separator.\n",
      " |      \n",
      " |      This will search for the separator in the string.  If the separator is found,\n",
      " |      returns a 3-tuple containing the part before the separator, the separator\n",
      " |      itself, and the part after it.\n",
      " |      \n",
      " |      If the separator is not found, returns a 3-tuple containing the original string\n",
      " |      and two empty strings.\n",
      " |  \n",
      " |  removeprefix(self, prefix, /)\n",
      " |      Return a str with the given prefix string removed if present.\n",
      " |      \n",
      " |      If the string starts with the prefix string, return string[len(prefix):].\n",
      " |      Otherwise, return a copy of the original string.\n",
      " |  \n",
      " |  removesuffix(self, suffix, /)\n",
      " |      Return a str with the given suffix string removed if present.\n",
      " |      \n",
      " |      If the string ends with the suffix string and that suffix is not empty,\n",
      " |      return string[:-len(suffix)]. Otherwise, return a copy of the original\n",
      " |      string.\n",
      " |  \n",
      " |  replace(self, old, new, count=-1, /)\n",
      " |      Return a copy with all occurrences of substring old replaced by new.\n",
      " |      \n",
      " |        count\n",
      " |          Maximum number of occurrences to replace.\n",
      " |          -1 (the default value) means replace all occurrences.\n",
      " |      \n",
      " |      If the optional argument count is given, only the first count occurrences are\n",
      " |      replaced.\n",
      " |  \n",
      " |  rfind(...)\n",
      " |      S.rfind(sub[, start[, end]]) -> int\n",
      " |      \n",
      " |      Return the highest index in S where substring sub is found,\n",
      " |      such that sub is contained within S[start:end].  Optional\n",
      " |      arguments start and end are interpreted as in slice notation.\n",
      " |      \n",
      " |      Return -1 on failure.\n",
      " |  \n",
      " |  rindex(...)\n",
      " |      S.rindex(sub[, start[, end]]) -> int\n",
      " |      \n",
      " |      Return the highest index in S where substring sub is found,\n",
      " |      such that sub is contained within S[start:end].  Optional\n",
      " |      arguments start and end are interpreted as in slice notation.\n",
      " |      \n",
      " |      Raises ValueError when the substring is not found.\n",
      " |  \n",
      " |  rjust(self, width, fillchar=' ', /)\n",
      " |      Return a right-justified string of length width.\n",
      " |      \n",
      " |      Padding is done using the specified fill character (default is a space).\n",
      " |  \n",
      " |  rpartition(self, sep, /)\n",
      " |      Partition the string into three parts using the given separator.\n",
      " |      \n",
      " |      This will search for the separator in the string, starting at the end. If\n",
      " |      the separator is found, returns a 3-tuple containing the part before the\n",
      " |      separator, the separator itself, and the part after it.\n",
      " |      \n",
      " |      If the separator is not found, returns a 3-tuple containing two empty strings\n",
      " |      and the original string.\n",
      " |  \n",
      " |  rsplit(self, /, sep=None, maxsplit=-1)\n",
      " |      Return a list of the substrings in the string, using sep as the separator string.\n",
      " |      \n",
      " |        sep\n",
      " |          The separator used to split the string.\n",
      " |      \n",
      " |          When set to None (the default value), will split on any whitespace\n",
      " |          character (including \\\\n \\\\r \\\\t \\\\f and spaces) and will discard\n",
      " |          empty strings from the result.\n",
      " |        maxsplit\n",
      " |          Maximum number of splits (starting from the left).\n",
      " |          -1 (the default value) means no limit.\n",
      " |      \n",
      " |      Splitting starts at the end of the string and works to the front.\n",
      " |  \n",
      " |  rstrip(self, chars=None, /)\n",
      " |      Return a copy of the string with trailing whitespace removed.\n",
      " |      \n",
      " |      If chars is given and not None, remove characters in chars instead.\n",
      " |  \n",
      " |  split(self, /, sep=None, maxsplit=-1)\n",
      " |      Return a list of the substrings in the string, using sep as the separator string.\n",
      " |      \n",
      " |        sep\n",
      " |          The separator used to split the string.\n",
      " |      \n",
      " |          When set to None (the default value), will split on any whitespace\n",
      " |          character (including \\\\n \\\\r \\\\t \\\\f and spaces) and will discard\n",
      " |          empty strings from the result.\n",
      " |        maxsplit\n",
      " |          Maximum number of splits (starting from the left).\n",
      " |          -1 (the default value) means no limit.\n",
      " |      \n",
      " |      Note, str.split() is mainly useful for data that has been intentionally\n",
      " |      delimited.  With natural text that includes punctuation, consider using\n",
      " |      the regular expression module.\n",
      " |  \n",
      " |  splitlines(self, /, keepends=False)\n",
      " |      Return a list of the lines in the string, breaking at line boundaries.\n",
      " |      \n",
      " |      Line breaks are not included in the resulting list unless keepends is given and\n",
      " |      true.\n",
      " |  \n",
      " |  startswith(...)\n",
      " |      S.startswith(prefix[, start[, end]]) -> bool\n",
      " |      \n",
      " |      Return True if S starts with the specified prefix, False otherwise.\n",
      " |      With optional start, test S beginning at that position.\n",
      " |      With optional end, stop comparing S at that position.\n",
      " |      prefix can also be a tuple of strings to try.\n",
      " |  \n",
      " |  strip(self, chars=None, /)\n",
      " |      Return a copy of the string with leading and trailing whitespace removed.\n",
      " |      \n",
      " |      If chars is given and not None, remove characters in chars instead.\n",
      " |  \n",
      " |  swapcase(self, /)\n",
      " |      Convert uppercase characters to lowercase and lowercase characters to uppercase.\n",
      " |  \n",
      " |  title(self, /)\n",
      " |      Return a version of the string where each word is titlecased.\n",
      " |      \n",
      " |      More specifically, words start with uppercased characters and all remaining\n",
      " |      cased characters have lower case.\n",
      " |  \n",
      " |  translate(self, table, /)\n",
      " |      Replace each character in the string using the given translation table.\n",
      " |      \n",
      " |        table\n",
      " |          Translation table, which must be a mapping of Unicode ordinals to\n",
      " |          Unicode ordinals, strings, or None.\n",
      " |      \n",
      " |      The table must implement lookup/indexing via __getitem__, for instance a\n",
      " |      dictionary or list.  If this operation raises LookupError, the character is\n",
      " |      left untouched.  Characters mapped to None are deleted.\n",
      " |  \n",
      " |  upper(self, /)\n",
      " |      Return a copy of the string converted to uppercase.\n",
      " |  \n",
      " |  zfill(self, width, /)\n",
      " |      Pad a numeric string with zeros on the left, to fill a field of the given width.\n",
      " |      \n",
      " |      The string is never truncated.\n",
      " |  \n",
      " |  ----------------------------------------------------------------------\n",
      " |  Static methods defined here:\n",
      " |  \n",
      " |  __new__(*args, **kwargs) from builtins.type\n",
      " |      Create and return a new object.  See help(type) for accurate signature.\n",
      " |  \n",
      " |  maketrans(...)\n",
      " |      Return a translation table usable for str.translate().\n",
      " |      \n",
      " |      If there is only one argument, it must be a dictionary mapping Unicode\n",
      " |      ordinals (integers) or characters to Unicode ordinals, strings or None.\n",
      " |      Character keys will be then converted to ordinals.\n",
      " |      If there are two arguments, they must be strings of equal length, and\n",
      " |      in the resulting dictionary, each character in x will be mapped to the\n",
      " |      character at the same position in y. If there is a third argument, it\n",
      " |      must be a string, whose characters will be mapped to None in the result.\n",
      "\n"
     ]
    }
   ],
   "source": [
    "help(str)"
   ]
  },
  {
   "cell_type": "code",
   "execution_count": 8,
   "id": "5cd096ef",
   "metadata": {},
   "outputs": [
    {
     "name": "stdout",
     "output_type": "stream",
     "text": [
      "C:\\some\n",
      "name\n"
     ]
    }
   ],
   "source": [
    "print('C:\\some\\nname')"
   ]
  },
  {
   "cell_type": "code",
   "execution_count": 12,
   "id": "3406a054",
   "metadata": {},
   "outputs": [
    {
     "name": "stdout",
     "output_type": "stream",
     "text": [
      "Help on _Helper in module _sitebuiltins object:\n",
      "\n",
      "class _Helper(builtins.object)\n",
      " |  Define the builtin 'help'.\n",
      " |  \n",
      " |  This is a wrapper around pydoc.help that provides a helpful message\n",
      " |  when 'help' is typed at the Python interactive prompt.\n",
      " |  \n",
      " |  Calling help() at the Python prompt starts an interactive help session.\n",
      " |  Calling help(thing) prints help for the python object 'thing'.\n",
      " |  \n",
      " |  Methods defined here:\n",
      " |  \n",
      " |  __call__(self, *args, **kwds)\n",
      " |      Call self as a function.\n",
      " |  \n",
      " |  __repr__(self)\n",
      " |      Return repr(self).\n",
      " |  \n",
      " |  ----------------------------------------------------------------------\n",
      " |  Data descriptors defined here:\n",
      " |  \n",
      " |  __dict__\n",
      " |      dictionary for instance variables (if defined)\n",
      " |  \n",
      " |  __weakref__\n",
      " |      list of weak references to the object (if defined)\n",
      "\n"
     ]
    }
   ],
   "source": [
    "help(help)"
   ]
  },
  {
   "cell_type": "code",
   "execution_count": 13,
   "id": "8df2fee6",
   "metadata": {},
   "outputs": [
    {
     "data": {
      "text/plain": [
       "int"
      ]
     },
     "execution_count": 13,
     "metadata": {},
     "output_type": "execute_result"
    }
   ],
   "source": [
    "type(3)"
   ]
  },
  {
   "cell_type": "code",
   "execution_count": 15,
   "id": "3b5f9d8b",
   "metadata": {},
   "outputs": [
    {
     "data": {
      "text/plain": [
       "<zip at 0x1df7b8e6500>"
      ]
     },
     "execution_count": 15,
     "metadata": {},
     "output_type": "execute_result"
    }
   ],
   "source": [
    "names = ['Ajay','karan','ravi','Deepak']\n",
    "salary = [23,434,5,6]\n",
    "\n",
    "\n",
    "zip(names,salary)"
   ]
  },
  {
   "cell_type": "code",
   "execution_count": 16,
   "id": "dabfa60c",
   "metadata": {},
   "outputs": [
    {
     "data": {
      "text/plain": [
       "{'Ajay': 23, 'karan': 434, 'ravi': 5, 'Deepak': 6}"
      ]
     },
     "execution_count": 16,
     "metadata": {},
     "output_type": "execute_result"
    }
   ],
   "source": [
    "dict(zip(names,salary))"
   ]
  },
  {
   "cell_type": "code",
   "execution_count": null,
   "id": "a8a8c39c",
   "metadata": {},
   "outputs": [],
   "source": []
  }
 ],
 "metadata": {
  "kernelspec": {
   "display_name": "Python 3 (ipykernel)",
   "language": "python",
   "name": "python3"
  },
  "language_info": {
   "codemirror_mode": {
    "name": "ipython",
    "version": 3
   },
   "file_extension": ".py",
   "mimetype": "text/x-python",
   "name": "python",
   "nbconvert_exporter": "python",
   "pygments_lexer": "ipython3",
   "version": "3.11.3"
  }
 },
 "nbformat": 4,
 "nbformat_minor": 5
}
