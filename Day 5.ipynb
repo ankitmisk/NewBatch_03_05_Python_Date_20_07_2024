{
 "cells": [
  {
   "cell_type": "markdown",
   "id": "6f1210ad",
   "metadata": {},
   "source": [
    "# List or Tuple Data Type"
   ]
  },
  {
   "cell_type": "markdown",
   "id": "fc1cdfe7",
   "metadata": {},
   "source": [
    "# List"
   ]
  },
  {
   "cell_type": "code",
   "execution_count": 1,
   "id": "9b55ddbb",
   "metadata": {},
   "outputs": [
    {
     "name": "stdout",
     "output_type": "stream",
     "text": [
      "Mohan\n"
     ]
    }
   ],
   "source": [
    "eval('print(\"Mohan\")')\n"
   ]
  },
  {
   "cell_type": "code",
   "execution_count": 2,
   "id": "56f8217f",
   "metadata": {},
   "outputs": [
    {
     "name": "stdout",
     "output_type": "stream",
     "text": [
      "karan\n"
     ]
    }
   ],
   "source": [
    "exec('print(\"karan\")')"
   ]
  },
  {
   "cell_type": "code",
   "execution_count": 3,
   "id": "8a07f969",
   "metadata": {},
   "outputs": [
    {
     "name": "stdout",
     "output_type": "stream",
     "text": [
      "35\n"
     ]
    }
   ],
   "source": [
    "exec('a = 12; b = 23; print(a+b)')"
   ]
  },
  {
   "cell_type": "code",
   "execution_count": 5,
   "id": "3f162dba",
   "metadata": {},
   "outputs": [
    {
     "name": "stdout",
     "output_type": "stream",
     "text": [
      "23\n"
     ]
    }
   ],
   "source": [
    "print(b)"
   ]
  },
  {
   "cell_type": "code",
   "execution_count": 7,
   "id": "73aeec75",
   "metadata": {},
   "outputs": [
    {
     "data": {
      "text/plain": [
       "[1, 23, 543, 6, 1, 2334, 456]"
      ]
     },
     "execution_count": 7,
     "metadata": {},
     "output_type": "execute_result"
    }
   ],
   "source": [
    "eval('[1,23,543,6]+[1,2334,456]')"
   ]
  },
  {
   "cell_type": "code",
   "execution_count": null,
   "id": "54ef2ecd",
   "metadata": {},
   "outputs": [],
   "source": []
  },
  {
   "cell_type": "code",
   "execution_count": 8,
   "id": "bf372bab",
   "metadata": {},
   "outputs": [
    {
     "name": "stdout",
     "output_type": "stream",
     "text": [
      "[12, 33, 546, 364]\n"
     ]
    }
   ],
   "source": [
    "data = [12,33,546,364]\n",
    "print(data)"
   ]
  },
  {
   "cell_type": "code",
   "execution_count": 10,
   "id": "3edc8882",
   "metadata": {},
   "outputs": [
    {
     "name": "stdout",
     "output_type": "stream",
     "text": [
      "<class 'list'>\n"
     ]
    }
   ],
   "source": [
    "print(type(data))"
   ]
  },
  {
   "cell_type": "code",
   "execution_count": 11,
   "id": "207db07e",
   "metadata": {},
   "outputs": [],
   "source": [
    "# features of list"
   ]
  },
  {
   "cell_type": "code",
   "execution_count": 12,
   "id": "490c2a10",
   "metadata": {},
   "outputs": [
    {
     "name": "stdout",
     "output_type": "stream",
     "text": [
      "[]\n"
     ]
    }
   ],
   "source": [
    "empty = []\n",
    "\n",
    "print(empty)"
   ]
  },
  {
   "cell_type": "code",
   "execution_count": 13,
   "id": "52a5895c",
   "metadata": {},
   "outputs": [
    {
     "name": "stdout",
     "output_type": "stream",
     "text": [
      "0\n"
     ]
    }
   ],
   "source": [
    "print(len(empty))"
   ]
  },
  {
   "cell_type": "code",
   "execution_count": 15,
   "id": "59b3209e",
   "metadata": {},
   "outputs": [],
   "source": [
    "# some basic op"
   ]
  },
  {
   "cell_type": "code",
   "execution_count": 16,
   "id": "a5cb8757",
   "metadata": {},
   "outputs": [
    {
     "name": "stdout",
     "output_type": "stream",
     "text": [
      "[123, 43, 47, 12, 34, 56]\n"
     ]
    }
   ],
   "source": [
    "a = [123,43,47]\n",
    "b = [12,34,56]\n",
    "\n",
    "\n",
    "print(a + b)"
   ]
  },
  {
   "cell_type": "code",
   "execution_count": 17,
   "id": "1b8ea252",
   "metadata": {},
   "outputs": [
    {
     "name": "stdout",
     "output_type": "stream",
     "text": [
      "[123, 43, 47, 12, 34, 56, 123, 43, 47]\n"
     ]
    }
   ],
   "source": [
    "a = [123,43,47]\n",
    "b = [12,34,56]\n",
    "\n",
    "\n",
    "print(a + b + a)"
   ]
  },
  {
   "cell_type": "code",
   "execution_count": 18,
   "id": "6ab27210",
   "metadata": {},
   "outputs": [
    {
     "ename": "TypeError",
     "evalue": "can only concatenate list (not \"tuple\") to list",
     "output_type": "error",
     "traceback": [
      "\u001b[1;31m---------------------------------------------------------------------------\u001b[0m",
      "\u001b[1;31mTypeError\u001b[0m                                 Traceback (most recent call last)",
      "Cell \u001b[1;32mIn[18], line 5\u001b[0m\n\u001b[0;32m      1\u001b[0m a \u001b[38;5;241m=\u001b[39m [\u001b[38;5;241m123\u001b[39m,\u001b[38;5;241m43\u001b[39m,\u001b[38;5;241m47\u001b[39m]\n\u001b[0;32m      2\u001b[0m b \u001b[38;5;241m=\u001b[39m (\u001b[38;5;241m12\u001b[39m,\u001b[38;5;241m34\u001b[39m,\u001b[38;5;241m56\u001b[39m)\n\u001b[1;32m----> 5\u001b[0m \u001b[38;5;28mprint\u001b[39m(a \u001b[38;5;241m+\u001b[39m b \u001b[38;5;241m+\u001b[39m a)\n",
      "\u001b[1;31mTypeError\u001b[0m: can only concatenate list (not \"tuple\") to list"
     ]
    }
   ],
   "source": [
    "a = [123,43,47]\n",
    "b = (12,34,56)\n",
    "\n",
    "\n",
    "print(a + b + a)"
   ]
  },
  {
   "cell_type": "code",
   "execution_count": 20,
   "id": "7c32dd11",
   "metadata": {},
   "outputs": [
    {
     "name": "stdout",
     "output_type": "stream",
     "text": [
      "[123, 43, 47, 123, 43, 47, 123, 43, 47, 123, 43, 47, 123, 43, 47, 123, 43, 47, 123, 43, 47, 123, 43, 47, 123, 43, 47, 123, 43, 47, 123, 43, 47, 123, 43, 47, 123, 43, 47, 123, 43, 47, 123, 43, 47, 123, 43, 47, 123, 43, 47, 123, 43, 47, 123, 43, 47, 123, 43, 47]\n"
     ]
    }
   ],
   "source": [
    "a = [123,43,47]\n",
    "b = [12,34,56]\n",
    "\n",
    "\n",
    "print(a * 20)"
   ]
  },
  {
   "cell_type": "code",
   "execution_count": 21,
   "id": "701bd8df",
   "metadata": {},
   "outputs": [
    {
     "ename": "TypeError",
     "evalue": "can't multiply sequence by non-int of type 'list'",
     "output_type": "error",
     "traceback": [
      "\u001b[1;31m---------------------------------------------------------------------------\u001b[0m",
      "\u001b[1;31mTypeError\u001b[0m                                 Traceback (most recent call last)",
      "Cell \u001b[1;32mIn[21], line 5\u001b[0m\n\u001b[0;32m      1\u001b[0m a \u001b[38;5;241m=\u001b[39m [\u001b[38;5;241m123\u001b[39m,\u001b[38;5;241m43\u001b[39m,\u001b[38;5;241m47\u001b[39m]\n\u001b[0;32m      2\u001b[0m b \u001b[38;5;241m=\u001b[39m [\u001b[38;5;241m12\u001b[39m,\u001b[38;5;241m34\u001b[39m,\u001b[38;5;241m56\u001b[39m]\n\u001b[1;32m----> 5\u001b[0m \u001b[38;5;28mprint\u001b[39m(a \u001b[38;5;241m*\u001b[39m b)\n",
      "\u001b[1;31mTypeError\u001b[0m: can't multiply sequence by non-int of type 'list'"
     ]
    }
   ],
   "source": [
    "a = [123,43,47]\n",
    "b = [12,34,56]\n",
    "\n",
    "\n",
    "print(a * b)"
   ]
  },
  {
   "cell_type": "code",
   "execution_count": 22,
   "id": "35210712",
   "metadata": {},
   "outputs": [],
   "source": [
    "#numpy array"
   ]
  },
  {
   "cell_type": "code",
   "execution_count": 25,
   "id": "18d3297f",
   "metadata": {},
   "outputs": [
    {
     "name": "stdout",
     "output_type": "stream",
     "text": [
      "[112, 'karan', (1, 124, 356), True, {'Name': 'Mohan'}, [2, 1243, 546], 45.8, (56-8j), None]\n"
     ]
    }
   ],
   "source": [
    "# 1>> list can contain any data type:- past,future,code\n",
    "\n",
    "a = [112,'karan',(1,124,356),True,{'Name':'Mohan'},[2,1243,546],45.8,56-8j,None]\n",
    "\n",
    "\n",
    "print(a)\n"
   ]
  },
  {
   "cell_type": "code",
   "execution_count": 26,
   "id": "269a5011",
   "metadata": {},
   "outputs": [],
   "source": [
    "a = [1,243,5]"
   ]
  },
  {
   "cell_type": "code",
   "execution_count": 27,
   "id": "f624d94c",
   "metadata": {},
   "outputs": [
    {
     "name": "stdout",
     "output_type": "stream",
     "text": [
      "[True, True, 2358976031232, 243]\n"
     ]
    }
   ],
   "source": [
    "b = [2 == 2, 'k' in 'karan', id(a),max(a)]\n",
    "\n",
    "print(b)"
   ]
  },
  {
   "cell_type": "code",
   "execution_count": 28,
   "id": "0e6dff66",
   "metadata": {},
   "outputs": [
    {
     "data": {
      "text/plain": [
       "45645"
      ]
     },
     "execution_count": 28,
     "metadata": {},
     "output_type": "execute_result"
    }
   ],
   "source": [
    "# 2>> list supports indexing\n",
    "\n",
    "a = [1,234,45645,412356]\n",
    "\n",
    "# positive indexing, negative indexing\n",
    "a[2]"
   ]
  },
  {
   "cell_type": "code",
   "execution_count": 29,
   "id": "231fd42e",
   "metadata": {},
   "outputs": [
    {
     "data": {
      "text/plain": [
       "421"
      ]
     },
     "execution_count": 29,
     "metadata": {},
     "output_type": "execute_result"
    }
   ],
   "source": [
    "data = [12,3454,34312,43,421,345,45,346,4324,56]\n",
    "\n",
    "data[4]"
   ]
  },
  {
   "cell_type": "code",
   "execution_count": 40,
   "id": "3619aa44",
   "metadata": {},
   "outputs": [
    {
     "data": {
      "text/plain": [
       "421"
      ]
     },
     "execution_count": 40,
     "metadata": {},
     "output_type": "execute_result"
    }
   ],
   "source": [
    "data[-6]"
   ]
  },
  {
   "cell_type": "code",
   "execution_count": 43,
   "id": "2683810b",
   "metadata": {},
   "outputs": [
    {
     "data": {
      "text/plain": [
       "[34312, 43, 421, 345, 45, 346]"
      ]
     },
     "execution_count": 43,
     "metadata": {},
     "output_type": "execute_result"
    }
   ],
   "source": [
    "# 3>> list support slicing\n",
    "\n",
    "data = [12,3454,34312,43,421,345,45,346,4324,56]\n",
    "\n",
    "\n",
    "data[2:8]"
   ]
  },
  {
   "cell_type": "code",
   "execution_count": 44,
   "id": "b2d0c7aa",
   "metadata": {},
   "outputs": [
    {
     "data": {
      "text/plain": [
       "[34312, 43, 421, 345, 45, 346]"
      ]
     },
     "execution_count": 44,
     "metadata": {},
     "output_type": "execute_result"
    }
   ],
   "source": [
    "data[-8:-2]"
   ]
  },
  {
   "cell_type": "code",
   "execution_count": 45,
   "id": "41272e99",
   "metadata": {},
   "outputs": [
    {
     "data": {
      "text/plain": [
       "[12, 34312, 421, 45, 4324]"
      ]
     },
     "execution_count": 45,
     "metadata": {},
     "output_type": "execute_result"
    }
   ],
   "source": [
    "data[::2]"
   ]
  },
  {
   "cell_type": "code",
   "execution_count": 47,
   "id": "76a223cd",
   "metadata": {},
   "outputs": [
    {
     "data": {
      "text/plain": [
       "[56, 4324, 346, 45, 345, 421, 43, 34312, 3454, 12]"
      ]
     },
     "execution_count": 47,
     "metadata": {},
     "output_type": "execute_result"
    }
   ],
   "source": [
    "# reverse a list\n",
    "data[::-1]"
   ]
  },
  {
   "cell_type": "code",
   "execution_count": 52,
   "id": "803b9201",
   "metadata": {},
   "outputs": [
    {
     "name": "stdout",
     "output_type": "stream",
     "text": [
      "[1, 234, 4, [12, 432, 5, [23, 124, 325, [1, 24, 35, [12, 1324325]]]]]\n"
     ]
    }
   ],
   "source": [
    "# 4>> list can be nested\n",
    "data = [1,234,4,[12,432,5,[23,124,325,[1,24,35,[12,1324325]]]]]\n",
    "\n",
    "print(data)"
   ]
  },
  {
   "cell_type": "code",
   "execution_count": 54,
   "id": "c7bbee99",
   "metadata": {},
   "outputs": [],
   "source": [
    "# 5>> list are mutable in nature\n",
    "# we can change element/elements of a list\n",
    "# list support item assignment"
   ]
  },
  {
   "cell_type": "code",
   "execution_count": 55,
   "id": "6b316487",
   "metadata": {},
   "outputs": [
    {
     "name": "stdout",
     "output_type": "stream",
     "text": [
      "['karan', 'ravi', 'mohan', 'ajay', 'kavita', 'khani', 'adhuri']\n"
     ]
    }
   ],
   "source": [
    "students = ['karan','ravi','mohan','ajay','kavita','khani','adhuri']\n",
    "\n",
    "\n",
    "print(students)"
   ]
  },
  {
   "cell_type": "code",
   "execution_count": 61,
   "id": "b857f018",
   "metadata": {},
   "outputs": [],
   "source": [
    "students[3] = 'Ajay Verma'\n",
    "# item assignment"
   ]
  },
  {
   "cell_type": "code",
   "execution_count": 62,
   "id": "38ed6095",
   "metadata": {},
   "outputs": [
    {
     "name": "stdout",
     "output_type": "stream",
     "text": [
      "['karan', 'ravi', 'mohan', 'Ajay Verma', 'kavita', 'khani', 'adhuri']\n"
     ]
    }
   ],
   "source": [
    "print(students)"
   ]
  },
  {
   "cell_type": "code",
   "execution_count": 64,
   "id": "35b4589b",
   "metadata": {},
   "outputs": [],
   "source": [
    "students[-1] = 'puri'"
   ]
  },
  {
   "cell_type": "code",
   "execution_count": 65,
   "id": "54a6aed5",
   "metadata": {},
   "outputs": [
    {
     "name": "stdout",
     "output_type": "stream",
     "text": [
      "['karan', 'ravi', 'mohan', 'Ajay Verma', 'kavita', 'khani', 'puri']\n"
     ]
    }
   ],
   "source": [
    "print(students)"
   ]
  },
  {
   "cell_type": "code",
   "execution_count": 67,
   "id": "6aaf8c5a",
   "metadata": {},
   "outputs": [],
   "source": [
    "students[2]+= ' sharma'"
   ]
  },
  {
   "cell_type": "code",
   "execution_count": 68,
   "id": "d728e401",
   "metadata": {},
   "outputs": [
    {
     "name": "stdout",
     "output_type": "stream",
     "text": [
      "['karan', 'ravi', 'mohan sharma', 'Ajay Verma', 'kavita', 'khani', 'puri']\n"
     ]
    }
   ],
   "source": [
    "print(students)"
   ]
  },
  {
   "cell_type": "code",
   "execution_count": 69,
   "id": "baee9be3",
   "metadata": {},
   "outputs": [],
   "source": [
    "students[-2] = 'adhuri ' + students[-2]"
   ]
  },
  {
   "cell_type": "code",
   "execution_count": 70,
   "id": "c2e8057b",
   "metadata": {},
   "outputs": [
    {
     "name": "stdout",
     "output_type": "stream",
     "text": [
      "['karan', 'ravi', 'mohan sharma', 'Ajay Verma', 'kavita', 'adhuri khani', 'puri']\n"
     ]
    }
   ],
   "source": [
    "print(students)"
   ]
  },
  {
   "cell_type": "code",
   "execution_count": 72,
   "id": "996a44eb",
   "metadata": {},
   "outputs": [
    {
     "name": "stdout",
     "output_type": "stream",
     "text": [
      "[True, True, True, True, True, True, True, True, True, True]\n"
     ]
    }
   ],
   "source": [
    "data = [True]*10\n",
    "\n",
    "print(data)"
   ]
  },
  {
   "cell_type": "code",
   "execution_count": 73,
   "id": "b278258b",
   "metadata": {},
   "outputs": [],
   "source": [
    "data[-1] = False"
   ]
  },
  {
   "cell_type": "code",
   "execution_count": 74,
   "id": "9ed40654",
   "metadata": {},
   "outputs": [
    {
     "name": "stdout",
     "output_type": "stream",
     "text": [
      "[True, True, True, True, True, True, True, True, True, False]\n"
     ]
    }
   ],
   "source": [
    "print(data)"
   ]
  },
  {
   "cell_type": "code",
   "execution_count": 76,
   "id": "014b626b",
   "metadata": {},
   "outputs": [
    {
     "name": "stdout",
     "output_type": "stream",
     "text": [
      "['karan', 'ravi', 'mohan sharma', 'Ajay Verma', 'kavita', 'adhuri khani', 'puri']\n"
     ]
    }
   ],
   "source": [
    "print(students)"
   ]
  },
  {
   "cell_type": "code",
   "execution_count": 78,
   "id": "67349098",
   "metadata": {},
   "outputs": [],
   "source": [
    "students[1:-2] = ['khanna','salmon bhai','srkk','ji modi']"
   ]
  },
  {
   "cell_type": "code",
   "execution_count": 79,
   "id": "f20db668",
   "metadata": {},
   "outputs": [
    {
     "name": "stdout",
     "output_type": "stream",
     "text": [
      "['karan', 'khanna', 'salmon bhai', 'srkk', 'ji modi', 'adhuri khani', 'puri']\n"
     ]
    }
   ],
   "source": [
    "print(students)"
   ]
  },
  {
   "cell_type": "code",
   "execution_count": 84,
   "id": "ddf26d86",
   "metadata": {},
   "outputs": [],
   "source": [
    "students[::2] = [None]*4"
   ]
  },
  {
   "cell_type": "code",
   "execution_count": 85,
   "id": "69b27281",
   "metadata": {},
   "outputs": [
    {
     "name": "stdout",
     "output_type": "stream",
     "text": [
      "[None, 'khanna', None, 'srkk', None, 'adhuri khani', None]\n"
     ]
    }
   ],
   "source": [
    "print(students)"
   ]
  },
  {
   "cell_type": "code",
   "execution_count": 92,
   "id": "5b99e0f1",
   "metadata": {},
   "outputs": [],
   "source": [
    "students[2:5] = [None]"
   ]
  },
  {
   "cell_type": "code",
   "execution_count": 93,
   "id": "a9a295b5",
   "metadata": {},
   "outputs": [
    {
     "name": "stdout",
     "output_type": "stream",
     "text": [
      "[None, 'khanna', None, 'adhuri khani', None]\n"
     ]
    }
   ],
   "source": [
    "print(students)"
   ]
  },
  {
   "cell_type": "code",
   "execution_count": 95,
   "id": "064df673",
   "metadata": {},
   "outputs": [],
   "source": [
    "#6>> we can delete element/elements of list"
   ]
  },
  {
   "cell_type": "code",
   "execution_count": 100,
   "id": "9eac0091",
   "metadata": {},
   "outputs": [],
   "source": [
    "del students[::2]"
   ]
  },
  {
   "cell_type": "code",
   "execution_count": 101,
   "id": "288af824",
   "metadata": {},
   "outputs": [
    {
     "name": "stdout",
     "output_type": "stream",
     "text": [
      "['khanna', 'adhuri khani']\n"
     ]
    }
   ],
   "source": [
    "print(students)"
   ]
  },
  {
   "cell_type": "code",
   "execution_count": 102,
   "id": "d55492b7",
   "metadata": {},
   "outputs": [],
   "source": [
    "del students"
   ]
  },
  {
   "cell_type": "code",
   "execution_count": 103,
   "id": "002557de",
   "metadata": {},
   "outputs": [
    {
     "ename": "NameError",
     "evalue": "name 'students' is not defined",
     "output_type": "error",
     "traceback": [
      "\u001b[1;31m---------------------------------------------------------------------------\u001b[0m",
      "\u001b[1;31mNameError\u001b[0m                                 Traceback (most recent call last)",
      "Cell \u001b[1;32mIn[103], line 1\u001b[0m\n\u001b[1;32m----> 1\u001b[0m \u001b[38;5;28mprint\u001b[39m(students)\n",
      "\u001b[1;31mNameError\u001b[0m: name 'students' is not defined"
     ]
    }
   ],
   "source": [
    "print(students)"
   ]
  },
  {
   "cell_type": "code",
   "execution_count": 104,
   "id": "376c68f3",
   "metadata": {},
   "outputs": [],
   "source": [
    "#7>> nested item assignment"
   ]
  },
  {
   "cell_type": "code",
   "execution_count": 105,
   "id": "37b0679a",
   "metadata": {},
   "outputs": [
    {
     "name": "stdout",
     "output_type": "stream",
     "text": [
      "[12, 42, 342, [12, 432, 5, [12, 34, 5, [2, 34, 65]]]]\n"
     ]
    }
   ],
   "source": [
    "data = [12,42,342,[12,432,5,[12,34,5,[2,34,65]]]]\n",
    "\n",
    "\n",
    "print(data)"
   ]
  },
  {
   "cell_type": "code",
   "execution_count": 109,
   "id": "36cfedd7",
   "metadata": {},
   "outputs": [],
   "source": [
    "data[3][3][1] = 420"
   ]
  },
  {
   "cell_type": "code",
   "execution_count": 110,
   "id": "9ea1f4c6",
   "metadata": {},
   "outputs": [
    {
     "name": "stdout",
     "output_type": "stream",
     "text": [
      "[12, 42, 342, [12, 432, 5, [12, 420, 5, [2, 34, 65]]]]\n"
     ]
    }
   ],
   "source": [
    "print(data)"
   ]
  },
  {
   "cell_type": "code",
   "execution_count": 115,
   "id": "4402d750",
   "metadata": {},
   "outputs": [],
   "source": [
    "data[3][3][3][2] = 650"
   ]
  },
  {
   "cell_type": "code",
   "execution_count": 116,
   "id": "35533c11",
   "metadata": {},
   "outputs": [
    {
     "name": "stdout",
     "output_type": "stream",
     "text": [
      "[12, 42, 342, [12, 432, 5, [12, 420, 5, [2, 34, 650]]]]\n"
     ]
    }
   ],
   "source": [
    "print(data)"
   ]
  },
  {
   "cell_type": "code",
   "execution_count": 121,
   "id": "294b9a8c",
   "metadata": {},
   "outputs": [],
   "source": [
    "data[-1][-1][-1][-1] = 65"
   ]
  },
  {
   "cell_type": "code",
   "execution_count": 122,
   "id": "c6c4e17b",
   "metadata": {},
   "outputs": [
    {
     "name": "stdout",
     "output_type": "stream",
     "text": [
      "[12, 42, 342, [12, 432, 5, [12, 420, 5, [2, 34, 65]]]]\n"
     ]
    }
   ],
   "source": [
    "print(data)"
   ]
  },
  {
   "cell_type": "markdown",
   "id": "9c5ce83d",
   "metadata": {},
   "source": [
    "# List Methods"
   ]
  },
  {
   "cell_type": "code",
   "execution_count": 123,
   "id": "57d37548",
   "metadata": {},
   "outputs": [
    {
     "name": "stdout",
     "output_type": "stream",
     "text": [
      "['__add__', '__class__', '__class_getitem__', '__contains__', '__delattr__', '__delitem__', '__dir__', '__doc__', '__eq__', '__format__', '__ge__', '__getattribute__', '__getitem__', '__getstate__', '__gt__', '__hash__', '__iadd__', '__imul__', '__init__', '__init_subclass__', '__iter__', '__le__', '__len__', '__lt__', '__mul__', '__ne__', '__new__', '__reduce__', '__reduce_ex__', '__repr__', '__reversed__', '__rmul__', '__setattr__', '__setitem__', '__sizeof__', '__str__', '__subclasshook__', 'append', 'clear', 'copy', 'count', 'extend', 'index', 'insert', 'pop', 'remove', 'reverse', 'sort']\n"
     ]
    }
   ],
   "source": [
    "print(dir(list))"
   ]
  },
  {
   "cell_type": "code",
   "execution_count": 124,
   "id": "93fd1e3a",
   "metadata": {},
   "outputs": [],
   "source": [
    "methods = ['append', 'clear', 'copy', 'count', 'extend', 'index', 'insert', 'pop', 'remove', 'reverse', 'sort']"
   ]
  },
  {
   "cell_type": "code",
   "execution_count": 125,
   "id": "6ed38dd9",
   "metadata": {},
   "outputs": [
    {
     "name": "stdout",
     "output_type": "stream",
     "text": [
      "11\n"
     ]
    }
   ],
   "source": [
    "print(len(methods))"
   ]
  },
  {
   "cell_type": "code",
   "execution_count": 126,
   "id": "2d469799",
   "metadata": {},
   "outputs": [
    {
     "name": "stdout",
     "output_type": "stream",
     "text": [
      "['append', 'clear', 'copy', 'count', 'extend', 'index', 'insert', 'pop', 'remove', 'reverse', 'sort']\n"
     ]
    }
   ],
   "source": [
    "print(methods)"
   ]
  },
  {
   "cell_type": "code",
   "execution_count": 127,
   "id": "30a04832",
   "metadata": {},
   "outputs": [
    {
     "name": "stdout",
     "output_type": "stream",
     "text": [
      "['bmw', 'audi', 'rolls royce', 'porsche', 'mustang gt', 'bugatti', 'land rover']\n"
     ]
    }
   ],
   "source": [
    "sheikh_sahab = ['bmw','audi','rolls royce','porsche','mustang gt','bugatti','land rover']\n",
    "\n",
    "print(sheikh_sahab)"
   ]
  },
  {
   "cell_type": "code",
   "execution_count": 128,
   "id": "0d32e007",
   "metadata": {},
   "outputs": [],
   "source": [
    "sheikh_sahab.append('Gold Plated Tesla')"
   ]
  },
  {
   "cell_type": "code",
   "execution_count": 129,
   "id": "06463c2f",
   "metadata": {},
   "outputs": [
    {
     "name": "stdout",
     "output_type": "stream",
     "text": [
      "['bmw', 'audi', 'rolls royce', 'porsche', 'mustang gt', 'bugatti', 'land rover', 'Gold Plated Tesla']\n"
     ]
    }
   ],
   "source": [
    "print(sheikh_sahab)"
   ]
  },
  {
   "cell_type": "code",
   "execution_count": 130,
   "id": "2023851f",
   "metadata": {},
   "outputs": [
    {
     "ename": "TypeError",
     "evalue": "list.append() takes exactly one argument (2 given)",
     "output_type": "error",
     "traceback": [
      "\u001b[1;31m---------------------------------------------------------------------------\u001b[0m",
      "\u001b[1;31mTypeError\u001b[0m                                 Traceback (most recent call last)",
      "Cell \u001b[1;32mIn[130], line 1\u001b[0m\n\u001b[1;32m----> 1\u001b[0m sheikh_sahab\u001b[38;5;241m.\u001b[39mappend(\u001b[38;5;124m'\u001b[39m\u001b[38;5;124mTesla\u001b[39m\u001b[38;5;124m'\u001b[39m,\u001b[38;5;124m'\u001b[39m\u001b[38;5;124mNano\u001b[39m\u001b[38;5;124m'\u001b[39m)\n",
      "\u001b[1;31mTypeError\u001b[0m: list.append() takes exactly one argument (2 given)"
     ]
    }
   ],
   "source": [
    "sheikh_sahab.append('Tesla','Nano')"
   ]
  },
  {
   "cell_type": "code",
   "execution_count": 131,
   "id": "26f56894",
   "metadata": {},
   "outputs": [],
   "source": [
    "sheikh_sahab.append(['Tesla','Nano'])"
   ]
  },
  {
   "cell_type": "code",
   "execution_count": 132,
   "id": "0739ff89",
   "metadata": {},
   "outputs": [
    {
     "name": "stdout",
     "output_type": "stream",
     "text": [
      "['bmw', 'audi', 'rolls royce', 'porsche', 'mustang gt', 'bugatti', 'land rover', 'Gold Plated Tesla', ['Tesla', 'Nano']]\n"
     ]
    }
   ],
   "source": [
    "print(sheikh_sahab)"
   ]
  },
  {
   "cell_type": "code",
   "execution_count": 134,
   "id": "de79ab9a",
   "metadata": {},
   "outputs": [],
   "source": [
    "sheikh_sahab.clear()"
   ]
  },
  {
   "cell_type": "code",
   "execution_count": 135,
   "id": "9df78e87",
   "metadata": {},
   "outputs": [
    {
     "name": "stdout",
     "output_type": "stream",
     "text": [
      "[]\n"
     ]
    }
   ],
   "source": [
    "print(sheikh_sahab)"
   ]
  },
  {
   "cell_type": "code",
   "execution_count": 136,
   "id": "7d10393f",
   "metadata": {},
   "outputs": [],
   "source": [
    "arun = ['bmw', 'audi', 'rolls royce']\n",
    "varun = arun"
   ]
  },
  {
   "cell_type": "code",
   "execution_count": 137,
   "id": "81d37578",
   "metadata": {},
   "outputs": [
    {
     "name": "stdout",
     "output_type": "stream",
     "text": [
      "['bmw', 'audi', 'rolls royce']\n"
     ]
    }
   ],
   "source": [
    "print(varun)"
   ]
  },
  {
   "cell_type": "code",
   "execution_count": 138,
   "id": "2118bca5",
   "metadata": {},
   "outputs": [
    {
     "name": "stdout",
     "output_type": "stream",
     "text": [
      "['bmw', 'audi', 'rolls royce']\n"
     ]
    }
   ],
   "source": [
    "print(arun)"
   ]
  },
  {
   "cell_type": "code",
   "execution_count": 139,
   "id": "f0de7abb",
   "metadata": {},
   "outputs": [],
   "source": [
    "# deep copy"
   ]
  },
  {
   "cell_type": "code",
   "execution_count": 140,
   "id": "6c78cee6",
   "metadata": {},
   "outputs": [],
   "source": [
    "varun.append('Nano')"
   ]
  },
  {
   "cell_type": "code",
   "execution_count": 141,
   "id": "2f6b77dc",
   "metadata": {},
   "outputs": [
    {
     "name": "stdout",
     "output_type": "stream",
     "text": [
      "['bmw', 'audi', 'rolls royce', 'Nano']\n"
     ]
    }
   ],
   "source": [
    "print(varun)"
   ]
  },
  {
   "cell_type": "code",
   "execution_count": 142,
   "id": "4906c00c",
   "metadata": {},
   "outputs": [
    {
     "name": "stdout",
     "output_type": "stream",
     "text": [
      "['bmw', 'audi', 'rolls royce', 'Nano']\n"
     ]
    }
   ],
   "source": [
    "print(arun)"
   ]
  },
  {
   "cell_type": "code",
   "execution_count": 143,
   "id": "2fa64bbd",
   "metadata": {},
   "outputs": [
    {
     "data": {
      "text/plain": [
       "2358975629824"
      ]
     },
     "execution_count": 143,
     "metadata": {},
     "output_type": "execute_result"
    }
   ],
   "source": [
    "id(varun)"
   ]
  },
  {
   "cell_type": "code",
   "execution_count": 144,
   "id": "eea639db",
   "metadata": {},
   "outputs": [
    {
     "data": {
      "text/plain": [
       "2358975629824"
      ]
     },
     "execution_count": 144,
     "metadata": {},
     "output_type": "execute_result"
    }
   ],
   "source": [
    "id(arun)"
   ]
  },
  {
   "cell_type": "code",
   "execution_count": 145,
   "id": "c4a5c05b",
   "metadata": {},
   "outputs": [],
   "source": [
    "# shallow copy\n",
    "\n",
    "arun = ['bmw', 'audi', 'rolls royce']\n",
    "\n",
    "shivam = arun.copy()"
   ]
  },
  {
   "cell_type": "code",
   "execution_count": 146,
   "id": "4a56dfe0",
   "metadata": {},
   "outputs": [
    {
     "name": "stdout",
     "output_type": "stream",
     "text": [
      "['bmw', 'audi', 'rolls royce']\n"
     ]
    }
   ],
   "source": [
    "print(arun)"
   ]
  },
  {
   "cell_type": "code",
   "execution_count": 147,
   "id": "2e990b19",
   "metadata": {},
   "outputs": [
    {
     "name": "stdout",
     "output_type": "stream",
     "text": [
      "['bmw', 'audi', 'rolls royce']\n"
     ]
    }
   ],
   "source": [
    "print(shivam)"
   ]
  },
  {
   "cell_type": "code",
   "execution_count": 148,
   "id": "99937618",
   "metadata": {},
   "outputs": [],
   "source": [
    "shivam.append('Kia')"
   ]
  },
  {
   "cell_type": "code",
   "execution_count": 149,
   "id": "dfcecd35",
   "metadata": {},
   "outputs": [
    {
     "name": "stdout",
     "output_type": "stream",
     "text": [
      "['bmw', 'audi', 'rolls royce', 'Kia']\n"
     ]
    }
   ],
   "source": [
    "print(shivam)"
   ]
  },
  {
   "cell_type": "code",
   "execution_count": 150,
   "id": "22c6d8ed",
   "metadata": {},
   "outputs": [
    {
     "name": "stdout",
     "output_type": "stream",
     "text": [
      "['bmw', 'audi', 'rolls royce']\n"
     ]
    }
   ],
   "source": [
    "print(arun)"
   ]
  },
  {
   "cell_type": "code",
   "execution_count": 151,
   "id": "9917a1ad",
   "metadata": {},
   "outputs": [
    {
     "data": {
      "text/plain": [
       "2358975330624"
      ]
     },
     "execution_count": 151,
     "metadata": {},
     "output_type": "execute_result"
    }
   ],
   "source": [
    "id(arun)"
   ]
  },
  {
   "cell_type": "code",
   "execution_count": 152,
   "id": "c70c4a9a",
   "metadata": {},
   "outputs": [
    {
     "data": {
      "text/plain": [
       "2358975885120"
      ]
     },
     "execution_count": 152,
     "metadata": {},
     "output_type": "execute_result"
    }
   ],
   "source": [
    "id(shivam)"
   ]
  },
  {
   "cell_type": "code",
   "execution_count": null,
   "id": "43741f08",
   "metadata": {},
   "outputs": [],
   "source": []
  },
  {
   "cell_type": "code",
   "execution_count": 165,
   "id": "eae58b75",
   "metadata": {},
   "outputs": [],
   "source": [
    "\n",
    "madan = ['bmw', 'audi', 'rolls royce']\n",
    "\n",
    "shivam = madan[:]"
   ]
  },
  {
   "cell_type": "code",
   "execution_count": 166,
   "id": "aaf922ce",
   "metadata": {},
   "outputs": [
    {
     "data": {
      "text/plain": [
       "2358975878720"
      ]
     },
     "execution_count": 166,
     "metadata": {},
     "output_type": "execute_result"
    }
   ],
   "source": [
    "id(shivam)"
   ]
  },
  {
   "cell_type": "code",
   "execution_count": 167,
   "id": "95568779",
   "metadata": {},
   "outputs": [
    {
     "data": {
      "text/plain": [
       "2358958730816"
      ]
     },
     "execution_count": 167,
     "metadata": {},
     "output_type": "execute_result"
    }
   ],
   "source": [
    "id(madan)"
   ]
  },
  {
   "cell_type": "code",
   "execution_count": 168,
   "id": "09b749e1",
   "metadata": {},
   "outputs": [],
   "source": [
    "shivam.append('ford')"
   ]
  },
  {
   "cell_type": "code",
   "execution_count": 169,
   "id": "719bc722",
   "metadata": {},
   "outputs": [
    {
     "name": "stdout",
     "output_type": "stream",
     "text": [
      "['bmw', 'audi', 'rolls royce', 'ford']\n"
     ]
    }
   ],
   "source": [
    "print(shivam)"
   ]
  },
  {
   "cell_type": "code",
   "execution_count": 170,
   "id": "e0ed9acf",
   "metadata": {},
   "outputs": [
    {
     "name": "stdout",
     "output_type": "stream",
     "text": [
      "['bmw', 'audi', 'rolls royce']\n"
     ]
    }
   ],
   "source": [
    "print(madan)"
   ]
  },
  {
   "cell_type": "code",
   "execution_count": 171,
   "id": "a498af37",
   "metadata": {},
   "outputs": [
    {
     "name": "stdout",
     "output_type": "stream",
     "text": [
      "['append', 'clear', 'copy', 'count', 'extend', 'index', 'insert', 'pop', 'remove', 'reverse', 'sort']\n"
     ]
    }
   ],
   "source": [
    "print(methods)"
   ]
  },
  {
   "cell_type": "code",
   "execution_count": 172,
   "id": "5ba4d0f5",
   "metadata": {},
   "outputs": [
    {
     "data": {
      "text/plain": [
       "6"
      ]
     },
     "execution_count": 172,
     "metadata": {},
     "output_type": "execute_result"
    }
   ],
   "source": [
    "data = [1,1,1,2,2,2,2,2,2,3,3,3,23,4,324,23,3,23,3,323,23,234,4,45,5,6]\n",
    "\n",
    "\n",
    "\n",
    "data.count(2)"
   ]
  },
  {
   "cell_type": "code",
   "execution_count": 173,
   "id": "af5d40e2",
   "metadata": {},
   "outputs": [
    {
     "data": {
      "text/plain": [
       "['bmw', 'audi', 'rolls royce', 'ford']"
      ]
     },
     "execution_count": 173,
     "metadata": {},
     "output_type": "execute_result"
    }
   ],
   "source": [
    "shivam"
   ]
  },
  {
   "cell_type": "code",
   "execution_count": 174,
   "id": "1fbdd1e5",
   "metadata": {},
   "outputs": [],
   "source": [
    "shivam.append(['kia','maruti'])"
   ]
  },
  {
   "cell_type": "code",
   "execution_count": 175,
   "id": "1eaa1443",
   "metadata": {},
   "outputs": [
    {
     "data": {
      "text/plain": [
       "['bmw', 'audi', 'rolls royce', 'ford', ['kia', 'maruti']]"
      ]
     },
     "execution_count": 175,
     "metadata": {},
     "output_type": "execute_result"
    }
   ],
   "source": [
    "shivam"
   ]
  },
  {
   "cell_type": "code",
   "execution_count": 176,
   "id": "7e7a3b56",
   "metadata": {},
   "outputs": [
    {
     "data": {
      "text/plain": [
       "['bmw', 'audi', 'rolls royce']"
      ]
     },
     "execution_count": 176,
     "metadata": {},
     "output_type": "execute_result"
    }
   ],
   "source": [
    "arun"
   ]
  },
  {
   "cell_type": "code",
   "execution_count": 180,
   "id": "8b5625f0",
   "metadata": {},
   "outputs": [],
   "source": [
    "arun.extend(['kia', 'maruti'])"
   ]
  },
  {
   "cell_type": "code",
   "execution_count": 181,
   "id": "d4ee42e7",
   "metadata": {},
   "outputs": [
    {
     "name": "stdout",
     "output_type": "stream",
     "text": [
      "['bmw', 'audi', 'rolls royce', 'kia', 'maruti', 'kia', 'maruti']\n"
     ]
    }
   ],
   "source": [
    "print(arun)"
   ]
  },
  {
   "cell_type": "code",
   "execution_count": null,
   "id": "d4b4b0b5",
   "metadata": {},
   "outputs": [],
   "source": []
  },
  {
   "cell_type": "code",
   "execution_count": 183,
   "id": "455de392",
   "metadata": {},
   "outputs": [
    {
     "data": {
      "text/plain": [
       "3"
      ]
     },
     "execution_count": 183,
     "metadata": {},
     "output_type": "execute_result"
    }
   ],
   "source": [
    "arun.index('kia')"
   ]
  },
  {
   "cell_type": "code",
   "execution_count": 186,
   "id": "bbb33dfa",
   "metadata": {},
   "outputs": [
    {
     "data": {
      "text/plain": [
       "['bmw', 'audi', 'rolls royce', 'Nano']"
      ]
     },
     "execution_count": 186,
     "metadata": {},
     "output_type": "execute_result"
    }
   ],
   "source": [
    "varun"
   ]
  },
  {
   "cell_type": "code",
   "execution_count": 187,
   "id": "8c38fc6b",
   "metadata": {},
   "outputs": [
    {
     "data": {
      "text/plain": [
       "2"
      ]
     },
     "execution_count": 187,
     "metadata": {},
     "output_type": "execute_result"
    }
   ],
   "source": [
    "varun.index('rolls royce')"
   ]
  },
  {
   "cell_type": "code",
   "execution_count": 195,
   "id": "bade2904",
   "metadata": {},
   "outputs": [
    {
     "data": {
      "text/plain": [
       "4"
      ]
     },
     "execution_count": 195,
     "metadata": {},
     "output_type": "execute_result"
    }
   ],
   "source": [
    "data = [21,43,412,4,4,33,565,432,4,3,24,324,21,34,4,65,67]\n",
    "\n",
    "\n",
    "data.index(4,4)"
   ]
  },
  {
   "cell_type": "code",
   "execution_count": 197,
   "id": "c9653d77",
   "metadata": {},
   "outputs": [],
   "source": [
    "varun.insert(1,'Range Rover')"
   ]
  },
  {
   "cell_type": "code",
   "execution_count": 198,
   "id": "1f534794",
   "metadata": {},
   "outputs": [
    {
     "name": "stdout",
     "output_type": "stream",
     "text": [
      "['bmw', 'Range Rover', 'audi', 'rolls royce', 'Nano']\n"
     ]
    }
   ],
   "source": [
    "print(varun)"
   ]
  },
  {
   "cell_type": "code",
   "execution_count": 199,
   "id": "6a1e9ad2",
   "metadata": {},
   "outputs": [
    {
     "data": {
      "text/plain": [
       "['bmw', 'Range Rover', 'audi', 'rolls royce', 'Nano']"
      ]
     },
     "execution_count": 199,
     "metadata": {},
     "output_type": "execute_result"
    }
   ],
   "source": [
    "varun"
   ]
  },
  {
   "cell_type": "code",
   "execution_count": 200,
   "id": "a8b87b2b",
   "metadata": {},
   "outputs": [
    {
     "data": {
      "text/plain": [
       "'Nano'"
      ]
     },
     "execution_count": 200,
     "metadata": {},
     "output_type": "execute_result"
    }
   ],
   "source": [
    "varun.pop()"
   ]
  },
  {
   "cell_type": "code",
   "execution_count": 202,
   "id": "97ac0911",
   "metadata": {},
   "outputs": [
    {
     "data": {
      "text/plain": [
       "'rolls royce'"
      ]
     },
     "execution_count": 202,
     "metadata": {},
     "output_type": "execute_result"
    }
   ],
   "source": [
    "varun.pop()"
   ]
  },
  {
   "cell_type": "code",
   "execution_count": 204,
   "id": "e362026a",
   "metadata": {},
   "outputs": [
    {
     "data": {
      "text/plain": [
       "'Range Rover'"
      ]
     },
     "execution_count": 204,
     "metadata": {},
     "output_type": "execute_result"
    }
   ],
   "source": [
    "varun.pop(1)"
   ]
  },
  {
   "cell_type": "code",
   "execution_count": 205,
   "id": "95bc8649",
   "metadata": {},
   "outputs": [
    {
     "data": {
      "text/plain": [
       "['bmw', 'audi']"
      ]
     },
     "execution_count": 205,
     "metadata": {},
     "output_type": "execute_result"
    }
   ],
   "source": [
    "varun"
   ]
  },
  {
   "cell_type": "code",
   "execution_count": 207,
   "id": "85ef000f",
   "metadata": {},
   "outputs": [
    {
     "data": {
      "text/plain": [
       "'audi'"
      ]
     },
     "execution_count": 207,
     "metadata": {},
     "output_type": "execute_result"
    }
   ],
   "source": [
    "varun.pop()"
   ]
  },
  {
   "cell_type": "code",
   "execution_count": 209,
   "id": "ef1a155d",
   "metadata": {},
   "outputs": [
    {
     "data": {
      "text/plain": [
       "'bmw'"
      ]
     },
     "execution_count": 209,
     "metadata": {},
     "output_type": "execute_result"
    }
   ],
   "source": [
    "varun.pop()"
   ]
  },
  {
   "cell_type": "code",
   "execution_count": 210,
   "id": "bf8c96f7",
   "metadata": {},
   "outputs": [
    {
     "data": {
      "text/plain": [
       "[]"
      ]
     },
     "execution_count": 210,
     "metadata": {},
     "output_type": "execute_result"
    }
   ],
   "source": [
    "varun"
   ]
  },
  {
   "cell_type": "code",
   "execution_count": 211,
   "id": "de75961e",
   "metadata": {},
   "outputs": [
    {
     "data": {
      "text/plain": [
       "['bmw', 'audi', 'rolls royce', 'kia', 'maruti', 'kia', 'maruti']"
      ]
     },
     "execution_count": 211,
     "metadata": {},
     "output_type": "execute_result"
    }
   ],
   "source": [
    "arun"
   ]
  },
  {
   "cell_type": "code",
   "execution_count": 214,
   "id": "9e76021e",
   "metadata": {},
   "outputs": [],
   "source": [
    "arun.remove('kia')"
   ]
  },
  {
   "cell_type": "code",
   "execution_count": 216,
   "id": "8abe0d41",
   "metadata": {},
   "outputs": [],
   "source": [
    "arun.remove('rolls royce')"
   ]
  },
  {
   "cell_type": "code",
   "execution_count": 221,
   "id": "c52b16ea",
   "metadata": {},
   "outputs": [
    {
     "ename": "ValueError",
     "evalue": "list.remove(x): x not in list",
     "output_type": "error",
     "traceback": [
      "\u001b[1;31m---------------------------------------------------------------------------\u001b[0m",
      "\u001b[1;31mValueError\u001b[0m                                Traceback (most recent call last)",
      "Cell \u001b[1;32mIn[221], line 1\u001b[0m\n\u001b[1;32m----> 1\u001b[0m arun\u001b[38;5;241m.\u001b[39mremove(\u001b[38;5;124m'\u001b[39m\u001b[38;5;124mMaruti\u001b[39m\u001b[38;5;124m'\u001b[39m)\n",
      "\u001b[1;31mValueError\u001b[0m: list.remove(x): x not in list"
     ]
    }
   ],
   "source": [
    "arun.remove('Maruti')"
   ]
  },
  {
   "cell_type": "code",
   "execution_count": 222,
   "id": "e6e2052c",
   "metadata": {},
   "outputs": [],
   "source": [
    "# 'reverse', 'sort'"
   ]
  },
  {
   "cell_type": "code",
   "execution_count": 223,
   "id": "d77802ed",
   "metadata": {},
   "outputs": [
    {
     "name": "stdout",
     "output_type": "stream",
     "text": [
      "12\n"
     ]
    }
   ],
   "source": [
    "sales = [1,243,4312,43,432,45,53,54,6,576,5534,5]\n",
    "\n",
    "print(len(sales))"
   ]
  },
  {
   "cell_type": "code",
   "execution_count": 224,
   "id": "21b36a69",
   "metadata": {},
   "outputs": [
    {
     "name": "stdout",
     "output_type": "stream",
     "text": [
      "[1, 243, 4312, 43, 432, 45, 53, 54, 6, 576, 5534, 5]\n"
     ]
    }
   ],
   "source": [
    "print(sales)"
   ]
  },
  {
   "cell_type": "code",
   "execution_count": 227,
   "id": "7b5df473",
   "metadata": {},
   "outputs": [],
   "source": [
    "sales.reverse()"
   ]
  },
  {
   "cell_type": "code",
   "execution_count": 228,
   "id": "0e9f77c0",
   "metadata": {},
   "outputs": [
    {
     "name": "stdout",
     "output_type": "stream",
     "text": [
      "[1, 243, 4312, 43, 432, 45, 53, 54, 6, 576, 5534, 5]\n"
     ]
    }
   ],
   "source": [
    "print(sales)"
   ]
  },
  {
   "cell_type": "code",
   "execution_count": 229,
   "id": "f87ee343",
   "metadata": {},
   "outputs": [],
   "source": [
    "# 'sort'"
   ]
  },
  {
   "cell_type": "code",
   "execution_count": 232,
   "id": "6ef16af4",
   "metadata": {},
   "outputs": [],
   "source": [
    "sales.sort()"
   ]
  },
  {
   "cell_type": "code",
   "execution_count": 233,
   "id": "db34f3cf",
   "metadata": {},
   "outputs": [
    {
     "name": "stdout",
     "output_type": "stream",
     "text": [
      "[1, 5, 6, 43, 45, 53, 54, 243, 432, 576, 4312, 5534]\n"
     ]
    }
   ],
   "source": [
    "print(sales)"
   ]
  },
  {
   "cell_type": "code",
   "execution_count": 234,
   "id": "529026f2",
   "metadata": {},
   "outputs": [],
   "source": [
    "# for descending\n",
    "sales.sort(reverse=True)"
   ]
  },
  {
   "cell_type": "code",
   "execution_count": 235,
   "id": "acf03944",
   "metadata": {},
   "outputs": [
    {
     "name": "stdout",
     "output_type": "stream",
     "text": [
      "[5534, 4312, 576, 432, 243, 54, 53, 45, 43, 6, 5, 1]\n"
     ]
    }
   ],
   "source": [
    "print(sales)"
   ]
  },
  {
   "cell_type": "code",
   "execution_count": 236,
   "id": "cc3c3977",
   "metadata": {},
   "outputs": [
    {
     "name": "stdout",
     "output_type": "stream",
     "text": [
      "[12, 43, 412, 34, 34312, 35]\n"
     ]
    }
   ],
   "source": [
    "sales = [12,43,412,34,34312,35]\n",
    "\n",
    "\n",
    "print(sales)"
   ]
  },
  {
   "cell_type": "code",
   "execution_count": 237,
   "id": "5f96709b",
   "metadata": {},
   "outputs": [],
   "source": [
    "sales.sort(reverse=False)"
   ]
  },
  {
   "cell_type": "code",
   "execution_count": 238,
   "id": "e297e181",
   "metadata": {},
   "outputs": [
    {
     "name": "stdout",
     "output_type": "stream",
     "text": [
      "[12, 34, 35, 43, 412, 34312]\n"
     ]
    }
   ],
   "source": [
    "print(sales)"
   ]
  },
  {
   "cell_type": "code",
   "execution_count": 239,
   "id": "c150da36",
   "metadata": {},
   "outputs": [],
   "source": [
    "# DSA"
   ]
  },
  {
   "cell_type": "markdown",
   "id": "f5e8dbab",
   "metadata": {},
   "source": [
    "max min"
   ]
  },
  {
   "cell_type": "code",
   "execution_count": 240,
   "id": "e0212fde",
   "metadata": {},
   "outputs": [
    {
     "data": {
      "text/plain": [
       "[12, 34, 35, 43, 412, 34312]"
      ]
     },
     "execution_count": 240,
     "metadata": {},
     "output_type": "execute_result"
    }
   ],
   "source": [
    "sales "
   ]
  },
  {
   "cell_type": "code",
   "execution_count": 241,
   "id": "04770a3b",
   "metadata": {},
   "outputs": [
    {
     "data": {
      "text/plain": [
       "34312"
      ]
     },
     "execution_count": 241,
     "metadata": {},
     "output_type": "execute_result"
    }
   ],
   "source": [
    "max(sales)"
   ]
  },
  {
   "cell_type": "code",
   "execution_count": 242,
   "id": "fce30987",
   "metadata": {},
   "outputs": [
    {
     "data": {
      "text/plain": [
       "12"
      ]
     },
     "execution_count": 242,
     "metadata": {},
     "output_type": "execute_result"
    }
   ],
   "source": [
    "min(sales)"
   ]
  },
  {
   "cell_type": "code",
   "execution_count": 243,
   "id": "7784554a",
   "metadata": {},
   "outputs": [
    {
     "data": {
      "text/plain": [
       "34848"
      ]
     },
     "execution_count": 243,
     "metadata": {},
     "output_type": "execute_result"
    }
   ],
   "source": [
    "sum(sales)"
   ]
  },
  {
   "cell_type": "code",
   "execution_count": 244,
   "id": "6bddb2c0",
   "metadata": {},
   "outputs": [
    {
     "data": {
      "text/plain": [
       "5808.0"
      ]
     },
     "execution_count": 244,
     "metadata": {},
     "output_type": "execute_result"
    }
   ],
   "source": [
    "sum(sales)/len(sales)"
   ]
  },
  {
   "cell_type": "code",
   "execution_count": null,
   "id": "03b6a705",
   "metadata": {},
   "outputs": [],
   "source": []
  },
  {
   "cell_type": "markdown",
   "id": "a67293fe",
   "metadata": {},
   "source": [
    "# Tuple data type "
   ]
  },
  {
   "cell_type": "code",
   "execution_count": 245,
   "id": "73a3683e",
   "metadata": {},
   "outputs": [
    {
     "name": "stdout",
     "output_type": "stream",
     "text": [
      "(1, 234, 543, 56)\n"
     ]
    }
   ],
   "source": [
    "data  = (1,234,543,56)\n",
    "\n",
    "print(data)"
   ]
  },
  {
   "cell_type": "code",
   "execution_count": 246,
   "id": "6915f2e2",
   "metadata": {},
   "outputs": [
    {
     "name": "stdout",
     "output_type": "stream",
     "text": [
      "(213, 45, 523, 4, 32, 454, 6)\n"
     ]
    }
   ],
   "source": [
    "sales = 213,45,523,4,32,454,6\n",
    "\n",
    "\n",
    "print(sales)"
   ]
  },
  {
   "cell_type": "code",
   "execution_count": 247,
   "id": "4f86c618",
   "metadata": {},
   "outputs": [
    {
     "name": "stdout",
     "output_type": "stream",
     "text": [
      "<class 'tuple'>\n"
     ]
    }
   ],
   "source": [
    "print(type(sales))"
   ]
  },
  {
   "cell_type": "code",
   "execution_count": 248,
   "id": "d55c747b",
   "metadata": {},
   "outputs": [
    {
     "name": "stdout",
     "output_type": "stream",
     "text": [
      "()\n"
     ]
    }
   ],
   "source": [
    "# empty tuple \n",
    "\n",
    "a = ()\n",
    "\n",
    "print(a)"
   ]
  },
  {
   "cell_type": "code",
   "execution_count": 249,
   "id": "f3ed9622",
   "metadata": {},
   "outputs": [
    {
     "name": "stdout",
     "output_type": "stream",
     "text": [
      "<class 'tuple'>\n"
     ]
    }
   ],
   "source": [
    "print(type(a))"
   ]
  },
  {
   "cell_type": "code",
   "execution_count": 252,
   "id": "330b5a59",
   "metadata": {},
   "outputs": [],
   "source": [
    "# 1>> tuple can also contain all data types\n",
    "# 2>> indexing, slicing\n",
    "# 3>> imutable in nature:- does not support item assignment"
   ]
  },
  {
   "cell_type": "code",
   "execution_count": 254,
   "id": "d4ffc3a4",
   "metadata": {},
   "outputs": [
    {
     "ename": "TypeError",
     "evalue": "'tuple' object does not support item assignment",
     "output_type": "error",
     "traceback": [
      "\u001b[1;31m---------------------------------------------------------------------------\u001b[0m",
      "\u001b[1;31mTypeError\u001b[0m                                 Traceback (most recent call last)",
      "Cell \u001b[1;32mIn[254], line 3\u001b[0m\n\u001b[0;32m      1\u001b[0m a \u001b[38;5;241m=\u001b[39m (\u001b[38;5;241m12\u001b[39m,\u001b[38;5;241m343\u001b[39m,\u001b[38;5;241m465\u001b[39m,\u001b[38;5;241m21\u001b[39m,\u001b[38;5;241m42\u001b[39m)\n\u001b[1;32m----> 3\u001b[0m a[\u001b[38;5;241m2\u001b[39m] \u001b[38;5;241m=\u001b[39m \u001b[38;5;241m800\u001b[39m\n",
      "\u001b[1;31mTypeError\u001b[0m: 'tuple' object does not support item assignment"
     ]
    }
   ],
   "source": [
    "a = (12,343,465,21,42)\n",
    "\n",
    "a[2] = 800"
   ]
  },
  {
   "cell_type": "code",
   "execution_count": 255,
   "id": "ed5fbe45",
   "metadata": {},
   "outputs": [
    {
     "data": {
      "text/plain": [
       "12"
      ]
     },
     "execution_count": 255,
     "metadata": {},
     "output_type": "execute_result"
    }
   ],
   "source": [
    "min(a)"
   ]
  },
  {
   "cell_type": "code",
   "execution_count": 256,
   "id": "ba4d0810",
   "metadata": {},
   "outputs": [
    {
     "data": {
      "text/plain": [
       "465"
      ]
     },
     "execution_count": 256,
     "metadata": {},
     "output_type": "execute_result"
    }
   ],
   "source": [
    "max(a)"
   ]
  },
  {
   "cell_type": "code",
   "execution_count": 257,
   "id": "8848ca4c",
   "metadata": {},
   "outputs": [
    {
     "data": {
      "text/plain": [
       "883"
      ]
     },
     "execution_count": 257,
     "metadata": {},
     "output_type": "execute_result"
    }
   ],
   "source": [
    "sum(a)"
   ]
  },
  {
   "cell_type": "code",
   "execution_count": 262,
   "id": "5bd1d01f",
   "metadata": {},
   "outputs": [
    {
     "data": {
      "text/plain": [
       "(24, 1243, 420, 23, 543, 6, 4214)"
      ]
     },
     "execution_count": 262,
     "metadata": {},
     "output_type": "execute_result"
    }
   ],
   "source": [
    "pwd = (24,1243,431,23,543,6,4214)\n",
    "\n",
    "pwd  = list(pwd)  # type casting\n",
    "\n",
    "pwd[2] = 420\n",
    "pwd = tuple(pwd)\n",
    "\n",
    "pwd"
   ]
  },
  {
   "cell_type": "code",
   "execution_count": 263,
   "id": "bdd5ba1a",
   "metadata": {},
   "outputs": [
    {
     "data": {
      "text/plain": [
       "2"
      ]
     },
     "execution_count": 263,
     "metadata": {},
     "output_type": "execute_result"
    }
   ],
   "source": [
    "data = (1,234,4,12,4,2,345,523,423,42,345,35,34256)\n",
    "\n",
    "data.count(4)"
   ]
  },
  {
   "cell_type": "code",
   "execution_count": 264,
   "id": "9e03b800",
   "metadata": {},
   "outputs": [
    {
     "data": {
      "text/plain": [
       "6"
      ]
     },
     "execution_count": 264,
     "metadata": {},
     "output_type": "execute_result"
    }
   ],
   "source": [
    "data.index(345)"
   ]
  },
  {
   "cell_type": "code",
   "execution_count": 266,
   "id": "8b3ff034",
   "metadata": {},
   "outputs": [
    {
     "data": {
      "text/plain": [
       "(213, 45, 523, 4, 32, 454, 6, 213, 45, 523, 4, 32, 454, 6)"
      ]
     },
     "execution_count": 266,
     "metadata": {},
     "output_type": "execute_result"
    }
   ],
   "source": [
    "sales + sales"
   ]
  },
  {
   "cell_type": "code",
   "execution_count": 269,
   "id": "48d03e07",
   "metadata": {},
   "outputs": [
    {
     "data": {
      "text/plain": [
       "(12, 343, 465, 21, 42, 12, 343, 465, 21, 42)"
      ]
     },
     "execution_count": 269,
     "metadata": {},
     "output_type": "execute_result"
    }
   ],
   "source": [
    "a*2"
   ]
  },
  {
   "cell_type": "code",
   "execution_count": 270,
   "id": "6ba243a9",
   "metadata": {},
   "outputs": [
    {
     "name": "stdout",
     "output_type": "stream",
     "text": [
      "(1, 23, 14, 2, (1, 2, 4, (1, 24, 35)))\n"
     ]
    }
   ],
   "source": [
    "s = (1,23,14,2,(1,2,4,(1,24,35)))\n",
    "\n",
    "print(s)"
   ]
  },
  {
   "cell_type": "code",
   "execution_count": 271,
   "id": "b6c44b6c",
   "metadata": {},
   "outputs": [
    {
     "name": "stdout",
     "output_type": "stream",
     "text": [
      "2\n",
      "<class 'int'>\n"
     ]
    }
   ],
   "source": [
    "# single element tuple\n",
    "\n",
    "\n",
    "d = (2)\n",
    "\n",
    "print(d)\n",
    "print(type(d))"
   ]
  },
  {
   "cell_type": "code",
   "execution_count": 272,
   "id": "7299fcc0",
   "metadata": {},
   "outputs": [
    {
     "name": "stdout",
     "output_type": "stream",
     "text": [
      "(2,)\n",
      "<class 'tuple'>\n"
     ]
    }
   ],
   "source": [
    "# single element tuple\n",
    "\n",
    "\n",
    "d = (2,)\n",
    "\n",
    "print(d)\n",
    "print(type(d))"
   ]
  },
  {
   "cell_type": "code",
   "execution_count": null,
   "id": "78f96ea6",
   "metadata": {},
   "outputs": [],
   "source": []
  }
 ],
 "metadata": {
  "kernelspec": {
   "display_name": "Python 3 (ipykernel)",
   "language": "python",
   "name": "python3"
  },
  "language_info": {
   "codemirror_mode": {
    "name": "ipython",
    "version": 3
   },
   "file_extension": ".py",
   "mimetype": "text/x-python",
   "name": "python",
   "nbconvert_exporter": "python",
   "pygments_lexer": "ipython3",
   "version": "3.11.3"
  }
 },
 "nbformat": 4,
 "nbformat_minor": 5
}
