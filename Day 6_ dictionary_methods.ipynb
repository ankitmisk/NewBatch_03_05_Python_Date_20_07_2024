{
 "cells": [
  {
   "cell_type": "markdown",
   "id": "ffcf8485",
   "metadata": {},
   "source": [
    "# Dictionary and Methods"
   ]
  },
  {
   "cell_type": "code",
   "execution_count": 1,
   "id": "249a8e7f",
   "metadata": {},
   "outputs": [
    {
     "name": "stdout",
     "output_type": "stream",
     "text": [
      "{'Name': 'Karan', 'Age': 45, 'Address': 'Noida'}\n"
     ]
    }
   ],
   "source": [
    "a = {'Name':'Karan','Age':45,'Address':'Noida'}\n",
    "\n",
    "print(a)"
   ]
  },
  {
   "cell_type": "code",
   "execution_count": 2,
   "id": "954b6786",
   "metadata": {},
   "outputs": [
    {
     "name": "stdout",
     "output_type": "stream",
     "text": [
      "<class 'dict'>\n"
     ]
    }
   ],
   "source": [
    "print(type(a))"
   ]
  },
  {
   "cell_type": "code",
   "execution_count": 3,
   "id": "f81aab1f",
   "metadata": {},
   "outputs": [],
   "source": [
    "# empty dict"
   ]
  },
  {
   "cell_type": "code",
   "execution_count": 4,
   "id": "381dd82d",
   "metadata": {},
   "outputs": [
    {
     "name": "stdout",
     "output_type": "stream",
     "text": [
      "{}\n"
     ]
    }
   ],
   "source": [
    "d = {}\n",
    "print(d)"
   ]
  },
  {
   "cell_type": "code",
   "execution_count": 5,
   "id": "4f171c76",
   "metadata": {},
   "outputs": [
    {
     "name": "stdout",
     "output_type": "stream",
     "text": [
      "<class 'dict'>\n"
     ]
    }
   ],
   "source": [
    "print(type(d))"
   ]
  },
  {
   "cell_type": "code",
   "execution_count": 6,
   "id": "1678066f",
   "metadata": {},
   "outputs": [
    {
     "name": "stdout",
     "output_type": "stream",
     "text": [
      "0\n"
     ]
    }
   ],
   "source": [
    "print(len(d))"
   ]
  },
  {
   "cell_type": "code",
   "execution_count": 8,
   "id": "82aa6edd",
   "metadata": {},
   "outputs": [],
   "source": [
    "# {key:value}:- mapping, key-value pair, hash data type, json"
   ]
  },
  {
   "cell_type": "code",
   "execution_count": 9,
   "id": "d7c8e1a8",
   "metadata": {},
   "outputs": [],
   "source": [
    "# # Rules of key and values\n",
    "\n",
    "# # set, list, float, complex, int, str, None, True,tuple, dict, frozenset\n",
    "\n",
    "# allowed at key-  int,float, complex, None, True, tuple, str, frozenset\n",
    "# not allowed at key:- set, list, dict"
   ]
  },
  {
   "cell_type": "code",
   "execution_count": 10,
   "id": "b37075d0",
   "metadata": {},
   "outputs": [
    {
     "name": "stdout",
     "output_type": "stream",
     "text": [
      "{1: False, 34.7: 'Karan', 'Address': 'Noida', None: None, (1, 2, 3): 'Mohan', frozenset({1, 2, 3}): 'Kamal'}\n"
     ]
    }
   ],
   "source": [
    "# allowed\n",
    "\n",
    "data = {1:'value',\n",
    "       34.7:'Karan',\n",
    "       'Address':'Noida',\n",
    "       None:None,\n",
    "       True:False,\n",
    "       (1,2,3):'Mohan',\n",
    "       frozenset((1,2,3)):'Kamal'}\n",
    "\n",
    "print(data)"
   ]
  },
  {
   "cell_type": "code",
   "execution_count": 11,
   "id": "c7c38fb2",
   "metadata": {},
   "outputs": [],
   "source": [
    "# not allowed"
   ]
  },
  {
   "cell_type": "code",
   "execution_count": 12,
   "id": "ae72ce13",
   "metadata": {},
   "outputs": [
    {
     "ename": "TypeError",
     "evalue": "unhashable type: 'list'",
     "output_type": "error",
     "traceback": [
      "\u001b[1;31m---------------------------------------------------------------------------\u001b[0m",
      "\u001b[1;31mTypeError\u001b[0m                                 Traceback (most recent call last)",
      "Cell \u001b[1;32mIn[12], line 1\u001b[0m\n\u001b[1;32m----> 1\u001b[0m a \u001b[38;5;241m=\u001b[39m {[\u001b[38;5;241m12\u001b[39m,\u001b[38;5;241m4356\u001b[39m,\u001b[38;5;241m4\u001b[39m]:\u001b[38;5;124m'\u001b[39m\u001b[38;5;124mAjay\u001b[39m\u001b[38;5;124m'\u001b[39m}\n\u001b[0;32m      3\u001b[0m \u001b[38;5;28mprint\u001b[39m(a)\n",
      "\u001b[1;31mTypeError\u001b[0m: unhashable type: 'list'"
     ]
    }
   ],
   "source": [
    "a = {[12,4356,4]:'Ajay'}\n",
    "\n",
    "print(a)"
   ]
  },
  {
   "cell_type": "code",
   "execution_count": 13,
   "id": "9655f807",
   "metadata": {},
   "outputs": [
    {
     "ename": "TypeError",
     "evalue": "unhashable type: 'set'",
     "output_type": "error",
     "traceback": [
      "\u001b[1;31m---------------------------------------------------------------------------\u001b[0m",
      "\u001b[1;31mTypeError\u001b[0m                                 Traceback (most recent call last)",
      "Cell \u001b[1;32mIn[13], line 1\u001b[0m\n\u001b[1;32m----> 1\u001b[0m a \u001b[38;5;241m=\u001b[39m {{\u001b[38;5;241m12\u001b[39m,\u001b[38;5;241m4356\u001b[39m,\u001b[38;5;241m4\u001b[39m}:\u001b[38;5;124m'\u001b[39m\u001b[38;5;124mAjay\u001b[39m\u001b[38;5;124m'\u001b[39m}\n\u001b[0;32m      3\u001b[0m \u001b[38;5;28mprint\u001b[39m(a)\n",
      "\u001b[1;31mTypeError\u001b[0m: unhashable type: 'set'"
     ]
    }
   ],
   "source": [
    "a = {{12,4356,4}:'Ajay'}\n",
    "\n",
    "print(a)"
   ]
  },
  {
   "cell_type": "code",
   "execution_count": 14,
   "id": "bcd92436",
   "metadata": {},
   "outputs": [
    {
     "ename": "TypeError",
     "evalue": "unhashable type: 'dict'",
     "output_type": "error",
     "traceback": [
      "\u001b[1;31m---------------------------------------------------------------------------\u001b[0m",
      "\u001b[1;31mTypeError\u001b[0m                                 Traceback (most recent call last)",
      "Cell \u001b[1;32mIn[14], line 1\u001b[0m\n\u001b[1;32m----> 1\u001b[0m a \u001b[38;5;241m=\u001b[39m {{\u001b[38;5;124m'\u001b[39m\u001b[38;5;124mMohan\u001b[39m\u001b[38;5;124m'\u001b[39m:\u001b[38;5;28;01mTrue\u001b[39;00m}:\u001b[38;5;124m'\u001b[39m\u001b[38;5;124mAjay\u001b[39m\u001b[38;5;124m'\u001b[39m}\n\u001b[0;32m      3\u001b[0m \u001b[38;5;28mprint\u001b[39m(a)\n",
      "\u001b[1;31mTypeError\u001b[0m: unhashable type: 'dict'"
     ]
    }
   ],
   "source": [
    "a = {{'Mohan':True}:'Ajay'}\n",
    "\n",
    "print(a)"
   ]
  },
  {
   "cell_type": "code",
   "execution_count": 15,
   "id": "bd02cee8",
   "metadata": {},
   "outputs": [],
   "source": [
    "# at value position:- everything or every datatype\n",
    "# set, list, float, complex, int, str, None, True,tuple, dict, frozenset"
   ]
  },
  {
   "cell_type": "code",
   "execution_count": 16,
   "id": "472b41db",
   "metadata": {},
   "outputs": [
    {
     "name": "stdout",
     "output_type": "stream",
     "text": [
      "{1: {1, 4, 23}, 2: [1, 23, 5], 3: 56.0, 4: (56-9j), 5: 5, 6: 'Ajay', 7: None, 8: (1, 3, 45), 9: {'Komal': 'Ajay'}, 10: frozenset({1, 2, 34}), 11: True}\n"
     ]
    }
   ],
   "source": [
    "all_dict = {1:{1,23,4},\n",
    "           2:[1,23,5],\n",
    "           3:56.0,\n",
    "           4:56-9j,\n",
    "           5:5,\n",
    "           6:\"Ajay\",\n",
    "           7:None,\n",
    "           8:(1,3,45),\n",
    "           9:{'Komal':'Ajay'},\n",
    "           10:frozenset((1,2,34)),\n",
    "           11:True}\n",
    "\n",
    "\n",
    "print(all_dict)"
   ]
  },
  {
   "cell_type": "code",
   "execution_count": 17,
   "id": "6fc4d593",
   "metadata": {},
   "outputs": [],
   "source": [
    "# dict does not have indexing or slicing methods concept\n",
    "\n",
    "\n",
    "a = {'Name':'Komal','Age':34,'Address':'Delhi','One':True}"
   ]
  },
  {
   "cell_type": "code",
   "execution_count": 18,
   "id": "f1dda5c9",
   "metadata": {},
   "outputs": [
    {
     "name": "stdout",
     "output_type": "stream",
     "text": [
      "{'Name': 'Komal', 'Age': 34, 'Address': 'Delhi', 'One': True}\n"
     ]
    }
   ],
   "source": [
    "print(a)"
   ]
  },
  {
   "cell_type": "code",
   "execution_count": 20,
   "id": "651a04f7",
   "metadata": {},
   "outputs": [
    {
     "ename": "KeyError",
     "evalue": "0",
     "output_type": "error",
     "traceback": [
      "\u001b[1;31m---------------------------------------------------------------------------\u001b[0m",
      "\u001b[1;31mKeyError\u001b[0m                                  Traceback (most recent call last)",
      "Cell \u001b[1;32mIn[20], line 1\u001b[0m\n\u001b[1;32m----> 1\u001b[0m a[\u001b[38;5;241m0\u001b[39m]\n",
      "\u001b[1;31mKeyError\u001b[0m: 0"
     ]
    }
   ],
   "source": [
    "a[0]"
   ]
  },
  {
   "cell_type": "code",
   "execution_count": 21,
   "id": "43915b36",
   "metadata": {},
   "outputs": [
    {
     "data": {
      "text/plain": [
       "{'Name': 'Komal', 'Age': 34, 'Address': 'Delhi', 'One': True}"
      ]
     },
     "execution_count": 21,
     "metadata": {},
     "output_type": "execute_result"
    }
   ],
   "source": [
    "a"
   ]
  },
  {
   "cell_type": "code",
   "execution_count": 22,
   "id": "26377ef8",
   "metadata": {},
   "outputs": [
    {
     "ename": "TypeError",
     "evalue": "unhashable type: 'slice'",
     "output_type": "error",
     "traceback": [
      "\u001b[1;31m---------------------------------------------------------------------------\u001b[0m",
      "\u001b[1;31mTypeError\u001b[0m                                 Traceback (most recent call last)",
      "Cell \u001b[1;32mIn[22], line 1\u001b[0m\n\u001b[1;32m----> 1\u001b[0m a[\u001b[38;5;241m2\u001b[39m:\u001b[38;5;241m5\u001b[39m]\n",
      "\u001b[1;31mTypeError\u001b[0m: unhashable type: 'slice'"
     ]
    }
   ],
   "source": [
    "a[2:5]"
   ]
  },
  {
   "cell_type": "code",
   "execution_count": 25,
   "id": "4e28b9d4",
   "metadata": {},
   "outputs": [],
   "source": [
    "# supports item assignment if form of keys  and values\n",
    "\n",
    "a[5] = 'Lucky'"
   ]
  },
  {
   "cell_type": "code",
   "execution_count": 26,
   "id": "81ed2f7d",
   "metadata": {},
   "outputs": [
    {
     "name": "stdout",
     "output_type": "stream",
     "text": [
      "{'Name': 'Komal', 'Age': 34, 'Address': 'Delhi', 'One': True, 5: 'Lucky'}\n"
     ]
    }
   ],
   "source": [
    "print(a)"
   ]
  },
  {
   "cell_type": "code",
   "execution_count": 27,
   "id": "a40c0a53",
   "metadata": {},
   "outputs": [],
   "source": [
    "a['Salary'] = 765432"
   ]
  },
  {
   "cell_type": "code",
   "execution_count": 28,
   "id": "1ccd6cd5",
   "metadata": {},
   "outputs": [
    {
     "name": "stdout",
     "output_type": "stream",
     "text": [
      "{'Name': 'Komal', 'Age': 34, 'Address': 'Delhi', 'One': True, 5: 'Lucky', 'Salary': 765432}\n"
     ]
    }
   ],
   "source": [
    "print(a)"
   ]
  },
  {
   "cell_type": "code",
   "execution_count": 29,
   "id": "ca81c530",
   "metadata": {},
   "outputs": [],
   "source": [
    "# we can add new key value inside dict \n",
    "\n",
    "a['bank'] = 1234"
   ]
  },
  {
   "cell_type": "code",
   "execution_count": 30,
   "id": "44acb435",
   "metadata": {},
   "outputs": [
    {
     "name": "stdout",
     "output_type": "stream",
     "text": [
      "{'Name': 'Komal', 'Age': 34, 'Address': 'Delhi', 'One': True, 5: 'Lucky', 'Salary': 765432, 'bank': 1234}\n"
     ]
    }
   ],
   "source": [
    "print(a)"
   ]
  },
  {
   "cell_type": "code",
   "execution_count": 31,
   "id": "5a521841",
   "metadata": {},
   "outputs": [
    {
     "data": {
      "text/plain": [
       "'Delhi'"
      ]
     },
     "execution_count": 31,
     "metadata": {},
     "output_type": "execute_result"
    }
   ],
   "source": [
    "# we can change value of a dict\n",
    "\n",
    "a['Address']"
   ]
  },
  {
   "cell_type": "code",
   "execution_count": 32,
   "id": "8dd6eb46",
   "metadata": {},
   "outputs": [],
   "source": [
    "a['Address'] = 'New Delhi'"
   ]
  },
  {
   "cell_type": "code",
   "execution_count": 33,
   "id": "5886a5cb",
   "metadata": {},
   "outputs": [
    {
     "name": "stdout",
     "output_type": "stream",
     "text": [
      "{'Name': 'Komal', 'Age': 34, 'Address': 'New Delhi', 'One': True, 5: 'Lucky', 'Salary': 765432, 'bank': 1234}\n"
     ]
    }
   ],
   "source": [
    "print(a)"
   ]
  },
  {
   "cell_type": "code",
   "execution_count": 35,
   "id": "b3352827",
   "metadata": {},
   "outputs": [],
   "source": [
    "a['Name'] = 'Komal verma'"
   ]
  },
  {
   "cell_type": "code",
   "execution_count": 36,
   "id": "70d94093",
   "metadata": {},
   "outputs": [
    {
     "name": "stdout",
     "output_type": "stream",
     "text": [
      "{'Name': 'Komal verma', 'Age': 34, 'Address': 'New Delhi', 'One': True, 5: 'Lucky', 'Salary': 765432, 'bank': 1234}\n"
     ]
    }
   ],
   "source": [
    "print(a)"
   ]
  },
  {
   "cell_type": "code",
   "execution_count": 37,
   "id": "78e03419",
   "metadata": {},
   "outputs": [],
   "source": [
    "a['salary'] = 987654567"
   ]
  },
  {
   "cell_type": "code",
   "execution_count": 38,
   "id": "c3b6c282",
   "metadata": {},
   "outputs": [
    {
     "name": "stdout",
     "output_type": "stream",
     "text": [
      "{'Name': 'Komal verma', 'Age': 34, 'Address': 'New Delhi', 'One': True, 5: 'Lucky', 'Salary': 765432, 'bank': 1234, 'salary': 987654567}\n"
     ]
    }
   ],
   "source": [
    "print(a)"
   ]
  },
  {
   "cell_type": "code",
   "execution_count": 41,
   "id": "25e54db0",
   "metadata": {},
   "outputs": [],
   "source": [
    "a['Age'] = 45"
   ]
  },
  {
   "cell_type": "code",
   "execution_count": 42,
   "id": "f58d75b2",
   "metadata": {},
   "outputs": [
    {
     "data": {
      "text/plain": [
       "{'Name': 'Komal verma',\n",
       " 'Age': 45,\n",
       " 'Address': 'New Delhi',\n",
       " 'One': True,\n",
       " 5: 'Lucky',\n",
       " 'Salary': 765432,\n",
       " 'bank': 1234,\n",
       " 'salary': 987654567}"
      ]
     },
     "execution_count": 42,
     "metadata": {},
     "output_type": "execute_result"
    }
   ],
   "source": [
    "a"
   ]
  },
  {
   "cell_type": "code",
   "execution_count": 43,
   "id": "30885c23",
   "metadata": {},
   "outputs": [],
   "source": [
    "# we can create nested dict"
   ]
  },
  {
   "cell_type": "code",
   "execution_count": 48,
   "id": "89ce76a7",
   "metadata": {},
   "outputs": [
    {
     "data": {
      "text/plain": [
       "{'Delhi': {'Hdfc': {'L1': [12], 'L2': [[12]]}, 'PNB': [[{'L1': [100]}]]}}"
      ]
     },
     "execution_count": 48,
     "metadata": {},
     "output_type": "execute_result"
    }
   ],
   "source": [
    "data = {'Delhi':{'Hdfc':{'L1':[12],'L2':[[12]]},\n",
    "                 'PNB':[[{'L1':[100]}]]}}\n",
    "data"
   ]
  },
  {
   "cell_type": "code",
   "execution_count": 49,
   "id": "60ebcde5",
   "metadata": {},
   "outputs": [
    {
     "data": {
      "text/plain": [
       "{'Delhi': {'Hdfc': {'L1': [12], 'L2': [[12]]}, 'PNB': [[{'L1': [100]}]]}}"
      ]
     },
     "execution_count": 49,
     "metadata": {},
     "output_type": "execute_result"
    }
   ],
   "source": [
    "data"
   ]
  },
  {
   "cell_type": "code",
   "execution_count": 57,
   "id": "bc33627f",
   "metadata": {},
   "outputs": [
    {
     "data": {
      "text/plain": [
       "12"
      ]
     },
     "execution_count": 57,
     "metadata": {},
     "output_type": "execute_result"
    }
   ],
   "source": [
    "data['Delhi']['Hdfc']['L2'][0][0]"
   ]
  },
  {
   "cell_type": "code",
   "execution_count": 58,
   "id": "5105466e",
   "metadata": {},
   "outputs": [],
   "source": [
    "data['Delhi']['Hdfc']['L2'][0][0] = 100"
   ]
  },
  {
   "cell_type": "code",
   "execution_count": 59,
   "id": "e6504397",
   "metadata": {},
   "outputs": [
    {
     "name": "stdout",
     "output_type": "stream",
     "text": [
      "{'Delhi': {'Hdfc': {'L1': [12], 'L2': [[100]]}, 'PNB': [[{'L1': [100]}]]}}\n"
     ]
    }
   ],
   "source": [
    "print(data)"
   ]
  },
  {
   "cell_type": "code",
   "execution_count": 66,
   "id": "1ba11969",
   "metadata": {},
   "outputs": [],
   "source": [
    "data['Delhi']['PNB'][0][0]['L1'][0] = 12"
   ]
  },
  {
   "cell_type": "code",
   "execution_count": 67,
   "id": "83d23174",
   "metadata": {},
   "outputs": [
    {
     "name": "stdout",
     "output_type": "stream",
     "text": [
      "{'Delhi': {'Hdfc': {'L1': [12], 'L2': [[100]]}, 'PNB': [[{'L1': [12]}]]}}\n"
     ]
    }
   ],
   "source": [
    "print(data)"
   ]
  },
  {
   "cell_type": "code",
   "execution_count": null,
   "id": "ceb325d2",
   "metadata": {},
   "outputs": [],
   "source": []
  },
  {
   "cell_type": "code",
   "execution_count": null,
   "id": "000d7c4c",
   "metadata": {},
   "outputs": [],
   "source": []
  },
  {
   "cell_type": "code",
   "execution_count": null,
   "id": "8230de08",
   "metadata": {},
   "outputs": [],
   "source": []
  },
  {
   "cell_type": "code",
   "execution_count": 68,
   "id": "afae5bb7",
   "metadata": {},
   "outputs": [
    {
     "data": {
      "text/plain": [
       "{'Name': 'Komal verma',\n",
       " 'Age': 45,\n",
       " 'Address': 'New Delhi',\n",
       " 'One': True,\n",
       " 5: 'Lucky',\n",
       " 'Salary': 765432,\n",
       " 'bank': 1234,\n",
       " 'salary': 987654567}"
      ]
     },
     "execution_count": 68,
     "metadata": {},
     "output_type": "execute_result"
    }
   ],
   "source": [
    "a"
   ]
  },
  {
   "cell_type": "code",
   "execution_count": 70,
   "id": "9576a36c",
   "metadata": {},
   "outputs": [],
   "source": [
    "# del\n",
    "\n",
    "del a['salary']"
   ]
  },
  {
   "cell_type": "code",
   "execution_count": 71,
   "id": "3283b29d",
   "metadata": {},
   "outputs": [
    {
     "name": "stdout",
     "output_type": "stream",
     "text": [
      "{'Name': 'Komal verma', 'Age': 45, 'Address': 'New Delhi', 'One': True, 5: 'Lucky', 'Salary': 765432, 'bank': 1234}\n"
     ]
    }
   ],
   "source": [
    "print(a)"
   ]
  },
  {
   "cell_type": "code",
   "execution_count": 73,
   "id": "c1656128",
   "metadata": {},
   "outputs": [],
   "source": [
    "del a[5]"
   ]
  },
  {
   "cell_type": "code",
   "execution_count": 74,
   "id": "412828a6",
   "metadata": {},
   "outputs": [
    {
     "data": {
      "text/plain": [
       "{'Name': 'Komal verma',\n",
       " 'Age': 45,\n",
       " 'Address': 'New Delhi',\n",
       " 'One': True,\n",
       " 'Salary': 765432,\n",
       " 'bank': 1234}"
      ]
     },
     "execution_count": 74,
     "metadata": {},
     "output_type": "execute_result"
    }
   ],
   "source": [
    "a"
   ]
  },
  {
   "cell_type": "code",
   "execution_count": 76,
   "id": "07918c13",
   "metadata": {},
   "outputs": [],
   "source": [
    "del a['One']"
   ]
  },
  {
   "cell_type": "code",
   "execution_count": 77,
   "id": "dac4b155",
   "metadata": {},
   "outputs": [
    {
     "data": {
      "text/plain": [
       "{'Name': 'Komal verma',\n",
       " 'Age': 45,\n",
       " 'Address': 'New Delhi',\n",
       " 'Salary': 765432,\n",
       " 'bank': 1234}"
      ]
     },
     "execution_count": 77,
     "metadata": {},
     "output_type": "execute_result"
    }
   ],
   "source": [
    "a"
   ]
  },
  {
   "cell_type": "code",
   "execution_count": 78,
   "id": "ab08b737",
   "metadata": {},
   "outputs": [],
   "source": [
    "del a"
   ]
  },
  {
   "cell_type": "code",
   "execution_count": 79,
   "id": "def06ccd",
   "metadata": {},
   "outputs": [
    {
     "ename": "NameError",
     "evalue": "name 'a' is not defined",
     "output_type": "error",
     "traceback": [
      "\u001b[1;31m---------------------------------------------------------------------------\u001b[0m",
      "\u001b[1;31mNameError\u001b[0m                                 Traceback (most recent call last)",
      "Cell \u001b[1;32mIn[79], line 1\u001b[0m\n\u001b[1;32m----> 1\u001b[0m a\n",
      "\u001b[1;31mNameError\u001b[0m: name 'a' is not defined"
     ]
    }
   ],
   "source": [
    "a"
   ]
  },
  {
   "cell_type": "code",
   "execution_count": null,
   "id": "5abbbe11",
   "metadata": {},
   "outputs": [],
   "source": []
  },
  {
   "cell_type": "code",
   "execution_count": 80,
   "id": "33aee3dd",
   "metadata": {},
   "outputs": [],
   "source": [
    "# some basic dict op"
   ]
  },
  {
   "cell_type": "code",
   "execution_count": 81,
   "id": "84eec2c6",
   "metadata": {},
   "outputs": [
    {
     "ename": "TypeError",
     "evalue": "unsupported operand type(s) for +: 'dict' and 'dict'",
     "output_type": "error",
     "traceback": [
      "\u001b[1;31m---------------------------------------------------------------------------\u001b[0m",
      "\u001b[1;31mTypeError\u001b[0m                                 Traceback (most recent call last)",
      "Cell \u001b[1;32mIn[81], line 6\u001b[0m\n\u001b[0;32m      2\u001b[0m b \u001b[38;5;241m=\u001b[39m {\u001b[38;5;124m'\u001b[39m\u001b[38;5;124mSalary\u001b[39m\u001b[38;5;124m'\u001b[39m:\u001b[38;5;241m345\u001b[39m}\n\u001b[0;32m      3\u001b[0m c \u001b[38;5;241m=\u001b[39m {\u001b[38;5;124m\"\u001b[39m\u001b[38;5;124mName\u001b[39m\u001b[38;5;124m\"\u001b[39m:\u001b[38;5;124m'\u001b[39m\u001b[38;5;124mMohit\u001b[39m\u001b[38;5;124m'\u001b[39m}\n\u001b[1;32m----> 6\u001b[0m \u001b[38;5;28mprint\u001b[39m( a  \u001b[38;5;241m+\u001b[39m b  \u001b[38;5;241m+\u001b[39m c)\n",
      "\u001b[1;31mTypeError\u001b[0m: unsupported operand type(s) for +: 'dict' and 'dict'"
     ]
    }
   ],
   "source": [
    "a = {'Age':34}\n",
    "b = {'Salary':345}\n",
    "c = {\"Name\":'Mohit'}\n",
    "\n",
    "\n",
    "print( a  + b  + c)"
   ]
  },
  {
   "cell_type": "code",
   "execution_count": 82,
   "id": "a4ad459d",
   "metadata": {},
   "outputs": [
    {
     "ename": "TypeError",
     "evalue": "unsupported operand type(s) for -: 'dict' and 'dict'",
     "output_type": "error",
     "traceback": [
      "\u001b[1;31m---------------------------------------------------------------------------\u001b[0m",
      "\u001b[1;31mTypeError\u001b[0m                                 Traceback (most recent call last)",
      "Cell \u001b[1;32mIn[82], line 6\u001b[0m\n\u001b[0;32m      2\u001b[0m b \u001b[38;5;241m=\u001b[39m {\u001b[38;5;124m'\u001b[39m\u001b[38;5;124mSalary\u001b[39m\u001b[38;5;124m'\u001b[39m:\u001b[38;5;241m345\u001b[39m}\n\u001b[0;32m      3\u001b[0m c \u001b[38;5;241m=\u001b[39m {\u001b[38;5;124m\"\u001b[39m\u001b[38;5;124mName\u001b[39m\u001b[38;5;124m\"\u001b[39m:\u001b[38;5;124m'\u001b[39m\u001b[38;5;124mMohit\u001b[39m\u001b[38;5;124m'\u001b[39m}\n\u001b[1;32m----> 6\u001b[0m \u001b[38;5;28mprint\u001b[39m( a  \u001b[38;5;241m-\u001b[39m b  \u001b[38;5;241m-\u001b[39m c)\n",
      "\u001b[1;31mTypeError\u001b[0m: unsupported operand type(s) for -: 'dict' and 'dict'"
     ]
    }
   ],
   "source": [
    "a = {'Age':34}\n",
    "b = {'Salary':345}\n",
    "c = {\"Name\":'Mohit'}\n",
    "\n",
    "\n",
    "print( a  - b  - c)"
   ]
  },
  {
   "cell_type": "code",
   "execution_count": 83,
   "id": "5aa2938c",
   "metadata": {},
   "outputs": [],
   "source": [
    "# dict can not contain repeat key"
   ]
  },
  {
   "cell_type": "code",
   "execution_count": 84,
   "id": "1b5cb035",
   "metadata": {},
   "outputs": [
    {
     "name": "stdout",
     "output_type": "stream",
     "text": [
      "{'name': 'lucky', 'age': 34, 'address': 'Delhi'}\n"
     ]
    }
   ],
   "source": [
    "a = {'name':'komal','age':34,'name':'lucky','address':'Delhi'}\n",
    "\n",
    "print(a)"
   ]
  },
  {
   "cell_type": "code",
   "execution_count": 86,
   "id": "c276904c",
   "metadata": {},
   "outputs": [
    {
     "name": "stdout",
     "output_type": "stream",
     "text": [
      "{'name': 'komal', 'age': 34, 'Name': 'komal', 'address': 'Delhi'}\n"
     ]
    }
   ],
   "source": [
    "a = {'name':'komal','age':34,'Name':'komal','address':'Delhi'}\n",
    "\n",
    "print(a)"
   ]
  },
  {
   "cell_type": "code",
   "execution_count": 89,
   "id": "6fe31e07",
   "metadata": {},
   "outputs": [],
   "source": [
    "# dict not repeat"
   ]
  },
  {
   "cell_type": "code",
   "execution_count": 91,
   "id": "2602a907",
   "metadata": {},
   "outputs": [],
   "source": [
    "a = {'Address':'Delhi','Age':34} "
   ]
  },
  {
   "cell_type": "code",
   "execution_count": 92,
   "id": "ac57c9bf",
   "metadata": {},
   "outputs": [
    {
     "data": {
      "text/plain": [
       "{'Address': 'Delhi', 'Age': 34}"
      ]
     },
     "execution_count": 92,
     "metadata": {},
     "output_type": "execute_result"
    }
   ],
   "source": [
    "a"
   ]
  },
  {
   "cell_type": "code",
   "execution_count": 93,
   "id": "c556831d",
   "metadata": {},
   "outputs": [
    {
     "ename": "TypeError",
     "evalue": "unsupported operand type(s) for *: 'dict' and 'int'",
     "output_type": "error",
     "traceback": [
      "\u001b[1;31m---------------------------------------------------------------------------\u001b[0m",
      "\u001b[1;31mTypeError\u001b[0m                                 Traceback (most recent call last)",
      "Cell \u001b[1;32mIn[93], line 1\u001b[0m\n\u001b[1;32m----> 1\u001b[0m a\u001b[38;5;241m*\u001b[39m \u001b[38;5;241m5\u001b[39m\n",
      "\u001b[1;31mTypeError\u001b[0m: unsupported operand type(s) for *: 'dict' and 'int'"
     ]
    }
   ],
   "source": [
    "a* 5"
   ]
  },
  {
   "cell_type": "code",
   "execution_count": 95,
   "id": "36e6ad41",
   "metadata": {},
   "outputs": [
    {
     "data": {
      "text/plain": [
       "[2, 4, 5, 2, 4, 5, 2, 4, 5, 2, 4, 5, 2, 4, 5]"
      ]
     },
     "execution_count": 95,
     "metadata": {},
     "output_type": "execute_result"
    }
   ],
   "source": [
    "b = [2,4,5]\n",
    "\n",
    "b * 5"
   ]
  },
  {
   "cell_type": "code",
   "execution_count": null,
   "id": "20bd3450",
   "metadata": {},
   "outputs": [],
   "source": []
  },
  {
   "cell_type": "code",
   "execution_count": 96,
   "id": "7856a476",
   "metadata": {},
   "outputs": [
    {
     "data": {
      "text/plain": [
       "True"
      ]
     },
     "execution_count": 96,
     "metadata": {},
     "output_type": "execute_result"
    }
   ],
   "source": [
    "a = {'name':'mohan','age':23}\n",
    "\n",
    "b = {'name':'mohan','age':23}\n",
    "\n",
    "\n",
    "a == b"
   ]
  },
  {
   "cell_type": "code",
   "execution_count": 99,
   "id": "55e7a9af",
   "metadata": {},
   "outputs": [
    {
     "data": {
      "text/plain": [
       "False"
      ]
     },
     "execution_count": 99,
     "metadata": {},
     "output_type": "execute_result"
    }
   ],
   "source": [
    "a = {'name':'mohan','Age':23}\n",
    "\n",
    "b = {'name':'mohan','age':23}\n",
    "\n",
    "\n",
    "a == b"
   ]
  },
  {
   "cell_type": "code",
   "execution_count": null,
   "id": "b04d3245",
   "metadata": {},
   "outputs": [],
   "source": []
  },
  {
   "cell_type": "code",
   "execution_count": 100,
   "id": "cd08a9b2",
   "metadata": {},
   "outputs": [],
   "source": [
    "# dict to excel table"
   ]
  },
  {
   "cell_type": "code",
   "execution_count": 101,
   "id": "fbed1214",
   "metadata": {},
   "outputs": [
    {
     "data": {
      "text/plain": [
       "{'Name': ['Komal', 'Ajay', 'Lucky', 'Jatin', 'Akshay'],\n",
       " 'Address': ['Noida', 'Delhi', 'Delhi', 'Noida', 'Greater Noida'],\n",
       " 'Salary': [1234, 2132, 4542, 3543, 1243],\n",
       " 'Age': [34, 43, 23, 34, 45]}"
      ]
     },
     "execution_count": 101,
     "metadata": {},
     "output_type": "execute_result"
    }
   ],
   "source": [
    "a = {'Name':['Komal','Ajay','Lucky','Jatin','Akshay'],\n",
    "    'Address':['Noida','Delhi','Delhi','Noida','Greater Noida'],\n",
    "    'Salary':[1234,2132,4542,3543,1243],\n",
    "    'Age':[34,43,23,34,45]}\n",
    "\n",
    "a"
   ]
  },
  {
   "cell_type": "code",
   "execution_count": 103,
   "id": "3eb032d4",
   "metadata": {},
   "outputs": [],
   "source": [
    "import pandas as pd"
   ]
  },
  {
   "cell_type": "code",
   "execution_count": 105,
   "id": "539a5cab",
   "metadata": {},
   "outputs": [],
   "source": [
    "table = pd.DataFrame(a)"
   ]
  },
  {
   "cell_type": "code",
   "execution_count": 106,
   "id": "56b0061e",
   "metadata": {},
   "outputs": [
    {
     "data": {
      "text/html": [
       "<div>\n",
       "<style scoped>\n",
       "    .dataframe tbody tr th:only-of-type {\n",
       "        vertical-align: middle;\n",
       "    }\n",
       "\n",
       "    .dataframe tbody tr th {\n",
       "        vertical-align: top;\n",
       "    }\n",
       "\n",
       "    .dataframe thead th {\n",
       "        text-align: right;\n",
       "    }\n",
       "</style>\n",
       "<table border=\"1\" class=\"dataframe\">\n",
       "  <thead>\n",
       "    <tr style=\"text-align: right;\">\n",
       "      <th></th>\n",
       "      <th>Name</th>\n",
       "      <th>Address</th>\n",
       "      <th>Salary</th>\n",
       "      <th>Age</th>\n",
       "    </tr>\n",
       "  </thead>\n",
       "  <tbody>\n",
       "    <tr>\n",
       "      <th>0</th>\n",
       "      <td>Komal</td>\n",
       "      <td>Noida</td>\n",
       "      <td>1234</td>\n",
       "      <td>34</td>\n",
       "    </tr>\n",
       "    <tr>\n",
       "      <th>1</th>\n",
       "      <td>Ajay</td>\n",
       "      <td>Delhi</td>\n",
       "      <td>2132</td>\n",
       "      <td>43</td>\n",
       "    </tr>\n",
       "    <tr>\n",
       "      <th>2</th>\n",
       "      <td>Lucky</td>\n",
       "      <td>Delhi</td>\n",
       "      <td>4542</td>\n",
       "      <td>23</td>\n",
       "    </tr>\n",
       "    <tr>\n",
       "      <th>3</th>\n",
       "      <td>Jatin</td>\n",
       "      <td>Noida</td>\n",
       "      <td>3543</td>\n",
       "      <td>34</td>\n",
       "    </tr>\n",
       "    <tr>\n",
       "      <th>4</th>\n",
       "      <td>Akshay</td>\n",
       "      <td>Greater Noida</td>\n",
       "      <td>1243</td>\n",
       "      <td>45</td>\n",
       "    </tr>\n",
       "  </tbody>\n",
       "</table>\n",
       "</div>"
      ],
      "text/plain": [
       "     Name        Address  Salary  Age\n",
       "0   Komal          Noida    1234   34\n",
       "1    Ajay          Delhi    2132   43\n",
       "2   Lucky          Delhi    4542   23\n",
       "3   Jatin          Noida    3543   34\n",
       "4  Akshay  Greater Noida    1243   45"
      ]
     },
     "execution_count": 106,
     "metadata": {},
     "output_type": "execute_result"
    }
   ],
   "source": [
    "table"
   ]
  },
  {
   "cell_type": "code",
   "execution_count": 108,
   "id": "c2b1f5f2",
   "metadata": {},
   "outputs": [
    {
     "name": "stdout",
     "output_type": "stream",
     "text": [
      "code chal gaya\n"
     ]
    }
   ],
   "source": [
    "table.to_excel('Mera_file.xlsx')\n",
    "\n",
    "print('code chal gaya')"
   ]
  },
  {
   "cell_type": "code",
   "execution_count": null,
   "id": "609d974c",
   "metadata": {},
   "outputs": [],
   "source": []
  },
  {
   "cell_type": "code",
   "execution_count": 111,
   "id": "9c8897bb",
   "metadata": {},
   "outputs": [],
   "source": [
    "sales = pd.read_excel(r\"C:\\Users\\Lenovo\\Desktop\\mera_sales.xlsx\")"
   ]
  },
  {
   "cell_type": "code",
   "execution_count": 114,
   "id": "12596385",
   "metadata": {},
   "outputs": [
    {
     "data": {
      "text/plain": [
       "<Axes: xlabel='Region'>"
      ]
     },
     "execution_count": 114,
     "metadata": {},
     "output_type": "execute_result"
    },
    {
     "data": {
      "image/png": "[encoded data removed]",
      "text/plain": [
       "<Figure size 640x480 with 1 Axes>"
      ]
     },
     "metadata": {},
     "output_type": "display_data"
    }
   ],
   "source": [
    "sales.plot(kind='bar',x = 'Region',y = 'Sales',color = ['r','g','pink','orange','yellow','orange','green'])"
   ]
  },
  {
   "cell_type": "code",
   "execution_count": null,
   "id": "a7ea3022",
   "metadata": {},
   "outputs": [],
   "source": []
  },
  {
   "cell_type": "code",
   "execution_count": null,
   "id": "eb7727b2",
   "metadata": {},
   "outputs": [],
   "source": []
  },
  {
   "cell_type": "code",
   "execution_count": null,
   "id": "83dd7bac",
   "metadata": {},
   "outputs": [],
   "source": []
  },
  {
   "cell_type": "code",
   "execution_count": 117,
   "id": "7603d6fb",
   "metadata": {},
   "outputs": [
    {
     "name": "stderr",
     "output_type": "stream",
     "text": [
      "\n",
      "KeyboardInterrupt\n",
      "\n"
     ]
    }
   ],
   "source": [
    "input('Enter: ')"
   ]
  },
  {
   "cell_type": "code",
   "execution_count": 118,
   "id": "9be35a10",
   "metadata": {},
   "outputs": [
    {
     "name": "stdout",
     "output_type": "stream",
     "text": [
      "Enter your name: Karan\n",
      "Enter your name: Jatin\n",
      "Enter your name: Mohit\n",
      "Enter your maths marks: 45\n",
      "Enter your maths marks: 43\n",
      "Enter your maths marks: 50\n",
      "Enter your sci marks: 34\n",
      "Enter your sci marks: 35\n",
      "Enter your sci marks: 36\n",
      "{'Name': ['Karan', 'Jatin', 'Mohit'], 'maths': ['45', '43', '50'], 'sci': ['34', '35', '36']}\n"
     ]
    }
   ],
   "source": [
    "students_reports = {'Name':[input('Enter your name: '),\n",
    "                            input('Enter your name: '),\n",
    "                            input('Enter your name: ')],\n",
    "                    \n",
    "                   'maths':[input('Enter your maths marks: '),\n",
    "                            input('Enter your maths marks: '),\n",
    "                            input('Enter your maths marks: ')],\n",
    "                    \n",
    "                   'sci':[input('Enter your sci marks: '),\n",
    "                          input('Enter your sci marks: '),\n",
    "                          input('Enter your sci marks: ')]}\n",
    "\n",
    "\n",
    "\n",
    "print(students_reports)"
   ]
  },
  {
   "cell_type": "code",
   "execution_count": 119,
   "id": "066e26d7",
   "metadata": {},
   "outputs": [
    {
     "name": "stdout",
     "output_type": "stream",
     "text": [
      "{'Name': ['Karan', 'Jatin', 'Mohit'], 'maths': ['45', '43', '50'], 'sci': ['34', '35', '36']}\n"
     ]
    }
   ],
   "source": [
    "print(students_reports)"
   ]
  },
  {
   "cell_type": "code",
   "execution_count": 121,
   "id": "15954473",
   "metadata": {},
   "outputs": [],
   "source": [
    "records = pd.DataFrame(students_reports)"
   ]
  },
  {
   "cell_type": "code",
   "execution_count": 122,
   "id": "a01e52ad",
   "metadata": {},
   "outputs": [
    {
     "data": {
      "text/html": [
       "<div>\n",
       "<style scoped>\n",
       "    .dataframe tbody tr th:only-of-type {\n",
       "        vertical-align: middle;\n",
       "    }\n",
       "\n",
       "    .dataframe tbody tr th {\n",
       "        vertical-align: top;\n",
       "    }\n",
       "\n",
       "    .dataframe thead th {\n",
       "        text-align: right;\n",
       "    }\n",
       "</style>\n",
       "<table border=\"1\" class=\"dataframe\">\n",
       "  <thead>\n",
       "    <tr style=\"text-align: right;\">\n",
       "      <th></th>\n",
       "      <th>Name</th>\n",
       "      <th>maths</th>\n",
       "      <th>sci</th>\n",
       "    </tr>\n",
       "  </thead>\n",
       "  <tbody>\n",
       "    <tr>\n",
       "      <th>0</th>\n",
       "      <td>Karan</td>\n",
       "      <td>45</td>\n",
       "      <td>34</td>\n",
       "    </tr>\n",
       "    <tr>\n",
       "      <th>1</th>\n",
       "      <td>Jatin</td>\n",
       "      <td>43</td>\n",
       "      <td>35</td>\n",
       "    </tr>\n",
       "    <tr>\n",
       "      <th>2</th>\n",
       "      <td>Mohit</td>\n",
       "      <td>50</td>\n",
       "      <td>36</td>\n",
       "    </tr>\n",
       "  </tbody>\n",
       "</table>\n",
       "</div>"
      ],
      "text/plain": [
       "    Name maths sci\n",
       "0  Karan    45  34\n",
       "1  Jatin    43  35\n",
       "2  Mohit    50  36"
      ]
     },
     "execution_count": 122,
     "metadata": {},
     "output_type": "execute_result"
    }
   ],
   "source": [
    "records"
   ]
  },
  {
   "cell_type": "code",
   "execution_count": 130,
   "id": "70d5b282",
   "metadata": {},
   "outputs": [],
   "source": [
    "records['maths'] = records['maths'].astype('int')\n",
    "records['sci']= records['sci'].astype('int')"
   ]
  },
  {
   "cell_type": "code",
   "execution_count": 133,
   "id": "fc380070",
   "metadata": {},
   "outputs": [
    {
     "data": {
      "text/plain": [
       "<Axes: xlabel='Name'>"
      ]
     },
     "execution_count": 133,
     "metadata": {},
     "output_type": "execute_result"
    },
    {
     "data": {
      "image/png": "[encoded data removed]",
      "text/plain": [
       "<Figure size 640x480 with 1 Axes>"
      ]
     },
     "metadata": {},
     "output_type": "display_data"
    }
   ],
   "source": [
    "records.plot(kind = 'bar',x = 'Name',y =['maths','sci'],color = ['r','g','b'])"
   ]
  },
  {
   "cell_type": "code",
   "execution_count": null,
   "id": "e87ed8bf",
   "metadata": {},
   "outputs": [],
   "source": []
  },
  {
   "cell_type": "code",
   "execution_count": null,
   "id": "923539fd",
   "metadata": {},
   "outputs": [],
   "source": []
  },
  {
   "cell_type": "markdown",
   "id": "e81f7940",
   "metadata": {},
   "source": [
    "# Dict Methods"
   ]
  },
  {
   "cell_type": "code",
   "execution_count": 134,
   "id": "e67410d8",
   "metadata": {},
   "outputs": [
    {
     "name": "stdout",
     "output_type": "stream",
     "text": [
      "['__class__', '__class_getitem__', '__contains__', '__delattr__', '__delitem__', '__dir__', '__doc__', '__eq__', '__format__', '__ge__', '__getattribute__', '__getitem__', '__getstate__', '__gt__', '__hash__', '__init__', '__init_subclass__', '__ior__', '__iter__', '__le__', '__len__', '__lt__', '__ne__', '__new__', '__or__', '__reduce__', '__reduce_ex__', '__repr__', '__reversed__', '__ror__', '__setattr__', '__setitem__', '__sizeof__', '__str__', '__subclasshook__', 'clear', 'copy', 'fromkeys', 'get', 'items', 'keys', 'pop', 'popitem', 'setdefault', 'update', 'values']\n"
     ]
    }
   ],
   "source": [
    "print(dir(dict))"
   ]
  },
  {
   "cell_type": "code",
   "execution_count": 135,
   "id": "ffe151d1",
   "metadata": {},
   "outputs": [],
   "source": [
    "all_methods = ['clear', 'copy', 'fromkeys', 'get', 'items', 'keys', 'pop', 'popitem', 'setdefault', 'update', 'values']"
   ]
  },
  {
   "cell_type": "code",
   "execution_count": 136,
   "id": "9b6dd362",
   "metadata": {},
   "outputs": [
    {
     "name": "stdout",
     "output_type": "stream",
     "text": [
      "['clear', 'copy', 'fromkeys', 'get', 'items', 'keys', 'pop', 'popitem', 'setdefault', 'update', 'values']\n"
     ]
    }
   ],
   "source": [
    "print(all_methods)"
   ]
  },
  {
   "cell_type": "code",
   "execution_count": 137,
   "id": "63ba8ade",
   "metadata": {},
   "outputs": [
    {
     "data": {
      "text/plain": [
       "{'Name': ['Karan', 'Jatin', 'Mohit'],\n",
       " 'maths': ['45', '43', '50'],\n",
       " 'sci': ['34', '35', '36']}"
      ]
     },
     "execution_count": 137,
     "metadata": {},
     "output_type": "execute_result"
    }
   ],
   "source": [
    "# clear\n",
    "\n",
    "\n",
    "students_reports"
   ]
  },
  {
   "cell_type": "code",
   "execution_count": 138,
   "id": "1105e670",
   "metadata": {},
   "outputs": [],
   "source": [
    "students_reports.clear()"
   ]
  },
  {
   "cell_type": "code",
   "execution_count": 139,
   "id": "078fc5f3",
   "metadata": {},
   "outputs": [
    {
     "data": {
      "text/plain": [
       "{}"
      ]
     },
     "execution_count": 139,
     "metadata": {},
     "output_type": "execute_result"
    }
   ],
   "source": [
    "students_reports"
   ]
  },
  {
   "cell_type": "code",
   "execution_count": 144,
   "id": "f5c3bc83",
   "metadata": {},
   "outputs": [],
   "source": [
    "# deep copy\n",
    "arun = {'Bank1':23,'Bank2':234}\n",
    "\n",
    "\n",
    "varun = arun"
   ]
  },
  {
   "cell_type": "code",
   "execution_count": 142,
   "id": "c997e64a",
   "metadata": {},
   "outputs": [
    {
     "name": "stdout",
     "output_type": "stream",
     "text": [
      "{'Bank1': 23, 'Bank2': 234}\n"
     ]
    }
   ],
   "source": [
    "print(varun)"
   ]
  },
  {
   "cell_type": "code",
   "execution_count": 143,
   "id": "cadc59c4",
   "metadata": {},
   "outputs": [
    {
     "name": "stdout",
     "output_type": "stream",
     "text": [
      "{'Bank1': 23, 'Bank2': 234}\n"
     ]
    }
   ],
   "source": [
    "print(arun)"
   ]
  },
  {
   "cell_type": "code",
   "execution_count": 146,
   "id": "cd998fc2",
   "metadata": {},
   "outputs": [],
   "source": [
    "arun['Bank3'] = 8765"
   ]
  },
  {
   "cell_type": "code",
   "execution_count": 147,
   "id": "6505886e",
   "metadata": {},
   "outputs": [
    {
     "name": "stdout",
     "output_type": "stream",
     "text": [
      "{'Bank1': 23, 'Bank2': 234, 'Bank3': 8765}\n"
     ]
    }
   ],
   "source": [
    "print(arun)"
   ]
  },
  {
   "cell_type": "code",
   "execution_count": 148,
   "id": "7fbb463c",
   "metadata": {},
   "outputs": [
    {
     "name": "stdout",
     "output_type": "stream",
     "text": [
      "{'Bank1': 23, 'Bank2': 234, 'Bank3': 8765}\n"
     ]
    }
   ],
   "source": [
    "print(varun)"
   ]
  },
  {
   "cell_type": "code",
   "execution_count": 149,
   "id": "5d1ccc66",
   "metadata": {},
   "outputs": [],
   "source": [
    "arun = {'Bank1':23,'Bank2':234}\n",
    "\n",
    "\n",
    "train_wala_dost = arun.copy()"
   ]
  },
  {
   "cell_type": "code",
   "execution_count": 150,
   "id": "8f7df621",
   "metadata": {},
   "outputs": [
    {
     "name": "stdout",
     "output_type": "stream",
     "text": [
      "{'Bank1': 23, 'Bank2': 234}\n"
     ]
    }
   ],
   "source": [
    "print(arun)"
   ]
  },
  {
   "cell_type": "code",
   "execution_count": 151,
   "id": "3cc56eba",
   "metadata": {},
   "outputs": [
    {
     "name": "stdout",
     "output_type": "stream",
     "text": [
      "{'Bank1': 23, 'Bank2': 234}\n"
     ]
    }
   ],
   "source": [
    "print(train_wala_dost)"
   ]
  },
  {
   "cell_type": "code",
   "execution_count": 152,
   "id": "f7ada20e",
   "metadata": {},
   "outputs": [],
   "source": [
    "train_wala_dost['Lottery'] = 'Gold'"
   ]
  },
  {
   "cell_type": "code",
   "execution_count": 153,
   "id": "34c84a27",
   "metadata": {},
   "outputs": [
    {
     "data": {
      "text/plain": [
       "{'Bank1': 23, 'Bank2': 234, 'Lottery': 'Gold'}"
      ]
     },
     "execution_count": 153,
     "metadata": {},
     "output_type": "execute_result"
    }
   ],
   "source": [
    "train_wala_dost"
   ]
  },
  {
   "cell_type": "code",
   "execution_count": 154,
   "id": "544c8fe1",
   "metadata": {},
   "outputs": [
    {
     "name": "stdout",
     "output_type": "stream",
     "text": [
      "{'Bank1': 23, 'Bank2': 234}\n"
     ]
    }
   ],
   "source": [
    "print(arun)"
   ]
  },
  {
   "cell_type": "code",
   "execution_count": null,
   "id": "aa877548",
   "metadata": {},
   "outputs": [],
   "source": []
  },
  {
   "cell_type": "code",
   "execution_count": 155,
   "id": "1b8da08a",
   "metadata": {},
   "outputs": [
    {
     "name": "stdout",
     "output_type": "stream",
     "text": [
      "['clear', 'copy', 'fromkeys', 'get', 'items', 'keys', 'pop', 'popitem', 'setdefault', 'update', 'values']\n"
     ]
    }
   ],
   "source": [
    "print(all_methods)"
   ]
  },
  {
   "cell_type": "code",
   "execution_count": 156,
   "id": "afbbf19e",
   "metadata": {},
   "outputs": [],
   "source": [
    "# get"
   ]
  },
  {
   "cell_type": "code",
   "execution_count": 157,
   "id": "351951e2",
   "metadata": {},
   "outputs": [
    {
     "data": {
      "text/plain": [
       "{'Bank1': 23, 'Bank2': 234}"
      ]
     },
     "execution_count": 157,
     "metadata": {},
     "output_type": "execute_result"
    }
   ],
   "source": [
    "arun"
   ]
  },
  {
   "cell_type": "code",
   "execution_count": 159,
   "id": "07ea9054",
   "metadata": {},
   "outputs": [
    {
     "data": {
      "text/plain": [
       "234"
      ]
     },
     "execution_count": 159,
     "metadata": {},
     "output_type": "execute_result"
    }
   ],
   "source": [
    "arun.get('Bank2')"
   ]
  },
  {
   "cell_type": "code",
   "execution_count": 160,
   "id": "c3941249",
   "metadata": {},
   "outputs": [
    {
     "data": {
      "text/plain": [
       "234"
      ]
     },
     "execution_count": 160,
     "metadata": {},
     "output_type": "execute_result"
    }
   ],
   "source": [
    "arun['Bank2']"
   ]
  },
  {
   "cell_type": "code",
   "execution_count": 161,
   "id": "51a90131",
   "metadata": {},
   "outputs": [
    {
     "ename": "KeyError",
     "evalue": "'bank2'",
     "output_type": "error",
     "traceback": [
      "\u001b[1;31m---------------------------------------------------------------------------\u001b[0m",
      "\u001b[1;31mKeyError\u001b[0m                                  Traceback (most recent call last)",
      "Cell \u001b[1;32mIn[161], line 1\u001b[0m\n\u001b[1;32m----> 1\u001b[0m arun[\u001b[38;5;124m'\u001b[39m\u001b[38;5;124mbank2\u001b[39m\u001b[38;5;124m'\u001b[39m]\n",
      "\u001b[1;31mKeyError\u001b[0m: 'bank2'"
     ]
    }
   ],
   "source": [
    "arun['bank2']"
   ]
  },
  {
   "cell_type": "code",
   "execution_count": 163,
   "id": "e9cdd993",
   "metadata": {},
   "outputs": [
    {
     "data": {
      "text/plain": [
       "234"
      ]
     },
     "execution_count": 163,
     "metadata": {},
     "output_type": "execute_result"
    }
   ],
   "source": [
    "arun.get('Bank2')"
   ]
  },
  {
   "cell_type": "code",
   "execution_count": 164,
   "id": "ef57aa23",
   "metadata": {},
   "outputs": [],
   "source": [
    "# 'items', 'keys', 'pop', 'popitem', 'setdefault', 'update', 'values']"
   ]
  },
  {
   "cell_type": "code",
   "execution_count": 169,
   "id": "a6a3185c",
   "metadata": {},
   "outputs": [
    {
     "data": {
      "text/plain": [
       "{}"
      ]
     },
     "execution_count": 169,
     "metadata": {},
     "output_type": "execute_result"
    }
   ],
   "source": []
  },
  {
   "cell_type": "code",
   "execution_count": 171,
   "id": "ce2d4812",
   "metadata": {},
   "outputs": [
    {
     "name": "stdout",
     "output_type": "stream",
     "text": [
      "{'Name': 'Karan', 'Age': 45, 'Address': 'Noida'}\n"
     ]
    }
   ],
   "source": [
    "a = {'Name':'Karan','Age':45,'Address':'Noida'}\n",
    "\n",
    "print(a)"
   ]
  },
  {
   "cell_type": "code",
   "execution_count": 172,
   "id": "67c89d31",
   "metadata": {},
   "outputs": [
    {
     "data": {
      "text/plain": [
       "dict_items([('Name', 'Karan'), ('Age', 45), ('Address', 'Noida')])"
      ]
     },
     "execution_count": 172,
     "metadata": {},
     "output_type": "execute_result"
    }
   ],
   "source": [
    "a.items()"
   ]
  },
  {
   "cell_type": "code",
   "execution_count": 173,
   "id": "13090770",
   "metadata": {},
   "outputs": [
    {
     "data": {
      "text/plain": [
       "dict_keys(['Name', 'Age', 'Address'])"
      ]
     },
     "execution_count": 173,
     "metadata": {},
     "output_type": "execute_result"
    }
   ],
   "source": [
    "a.keys()"
   ]
  },
  {
   "cell_type": "code",
   "execution_count": 174,
   "id": "8d101a04",
   "metadata": {},
   "outputs": [
    {
     "data": {
      "text/plain": [
       "{'Name': 'Karan', 'Age': 45, 'Address': 'Noida'}"
      ]
     },
     "execution_count": 174,
     "metadata": {},
     "output_type": "execute_result"
    }
   ],
   "source": [
    "a"
   ]
  },
  {
   "cell_type": "code",
   "execution_count": 175,
   "id": "b1c17a39",
   "metadata": {},
   "outputs": [
    {
     "data": {
      "text/plain": [
       "['Name', 'Age', 'Address']"
      ]
     },
     "execution_count": 175,
     "metadata": {},
     "output_type": "execute_result"
    }
   ],
   "source": [
    "list(a)"
   ]
  },
  {
   "cell_type": "code",
   "execution_count": 176,
   "id": "508ef9e4",
   "metadata": {},
   "outputs": [
    {
     "data": {
      "text/plain": [
       "dict_values(['Karan', 45, 'Noida'])"
      ]
     },
     "execution_count": 176,
     "metadata": {},
     "output_type": "execute_result"
    }
   ],
   "source": [
    "a.values()"
   ]
  },
  {
   "cell_type": "code",
   "execution_count": 177,
   "id": "03047e3a",
   "metadata": {},
   "outputs": [],
   "source": [
    "# 'pop', 'popitem', 'setdefault', 'update'"
   ]
  },
  {
   "cell_type": "code",
   "execution_count": 178,
   "id": "5c4380fc",
   "metadata": {},
   "outputs": [
    {
     "data": {
      "text/plain": [
       "{'Name': 'Karan', 'Age': 45, 'Address': 'Noida'}"
      ]
     },
     "execution_count": 178,
     "metadata": {},
     "output_type": "execute_result"
    }
   ],
   "source": [
    "a"
   ]
  },
  {
   "cell_type": "code",
   "execution_count": 179,
   "id": "7dbccfd6",
   "metadata": {},
   "outputs": [
    {
     "data": {
      "text/plain": [
       "'Noida'"
      ]
     },
     "execution_count": 179,
     "metadata": {},
     "output_type": "execute_result"
    }
   ],
   "source": [
    "a.pop('Address')"
   ]
  },
  {
   "cell_type": "code",
   "execution_count": 181,
   "id": "ed2f27b9",
   "metadata": {},
   "outputs": [
    {
     "name": "stdout",
     "output_type": "stream",
     "text": [
      "{'Name': 'Karan', 'Age': 45}\n"
     ]
    }
   ],
   "source": [
    "print(a)"
   ]
  },
  {
   "cell_type": "code",
   "execution_count": null,
   "id": "ea267ab6",
   "metadata": {},
   "outputs": [],
   "source": []
  },
  {
   "cell_type": "code",
   "execution_count": null,
   "id": "fff25c30",
   "metadata": {},
   "outputs": [],
   "source": []
  },
  {
   "cell_type": "code",
   "execution_count": 182,
   "id": "fd81919e",
   "metadata": {},
   "outputs": [
    {
     "name": "stdout",
     "output_type": "stream",
     "text": [
      "{'name': 'komal', 'age': 34, 'salary': 87654, 'address': 'Delhi'}\n"
     ]
    }
   ],
   "source": [
    "a = {'name':'komal','age':34,'salary':87654,'address':'Delhi'}\n",
    "\n",
    "print(a)"
   ]
  },
  {
   "cell_type": "code",
   "execution_count": 185,
   "id": "64a4bd13",
   "metadata": {},
   "outputs": [
    {
     "data": {
      "text/plain": [
       "('age', 34)"
      ]
     },
     "execution_count": 185,
     "metadata": {},
     "output_type": "execute_result"
    }
   ],
   "source": [
    "a.popitem()"
   ]
  },
  {
   "cell_type": "code",
   "execution_count": 186,
   "id": "a8b1e868",
   "metadata": {},
   "outputs": [
    {
     "name": "stdout",
     "output_type": "stream",
     "text": [
      "{'name': 'komal'}\n"
     ]
    }
   ],
   "source": [
    "print(a)"
   ]
  },
  {
   "cell_type": "code",
   "execution_count": 187,
   "id": "4295667f",
   "metadata": {},
   "outputs": [],
   "source": [
    "#  'setdefault', 'update'"
   ]
  },
  {
   "cell_type": "code",
   "execution_count": 188,
   "id": "d0b13e48",
   "metadata": {},
   "outputs": [],
   "source": [
    "# from keys"
   ]
  },
  {
   "cell_type": "code",
   "execution_count": 190,
   "id": "ea3638b5",
   "metadata": {},
   "outputs": [
    {
     "data": {
      "text/plain": [
       "{}"
      ]
     },
     "execution_count": 190,
     "metadata": {},
     "output_type": "execute_result"
    }
   ],
   "source": []
  },
  {
   "cell_type": "code",
   "execution_count": 191,
   "id": "17d82789",
   "metadata": {},
   "outputs": [
    {
     "name": "stdout",
     "output_type": "stream",
     "text": [
      "{'name': 'komal', 'age': 34, 'salary': 87654, 'address': 'Delhi'}\n"
     ]
    }
   ],
   "source": [
    "a = {'name':'komal','age':34,'salary':87654,'address':'Delhi'}\n",
    "\n",
    "print(a)"
   ]
  },
  {
   "cell_type": "code",
   "execution_count": 192,
   "id": "85201be5",
   "metadata": {},
   "outputs": [],
   "source": [
    "new_dict = {}\n",
    "\n",
    "\n",
    "new_dict = new_dict.fromkeys(a)"
   ]
  },
  {
   "cell_type": "code",
   "execution_count": 193,
   "id": "e6c049c4",
   "metadata": {},
   "outputs": [
    {
     "name": "stdout",
     "output_type": "stream",
     "text": [
      "{'name': None, 'age': None, 'salary': None, 'address': None}\n"
     ]
    }
   ],
   "source": [
    "print(new_dict)"
   ]
  },
  {
   "cell_type": "code",
   "execution_count": null,
   "id": "fd24e7d6",
   "metadata": {},
   "outputs": [],
   "source": []
  },
  {
   "cell_type": "code",
   "execution_count": null,
   "id": "1cf41b92",
   "metadata": {},
   "outputs": [],
   "source": []
  },
  {
   "cell_type": "code",
   "execution_count": 194,
   "id": "b50f00fd",
   "metadata": {},
   "outputs": [],
   "source": [
    "#  'setdefault'"
   ]
  },
  {
   "cell_type": "code",
   "execution_count": 195,
   "id": "cdadf873",
   "metadata": {},
   "outputs": [
    {
     "data": {
      "text/plain": [
       "{'name': 'komal', 'age': 34, 'salary': 87654, 'address': 'Delhi'}"
      ]
     },
     "execution_count": 195,
     "metadata": {},
     "output_type": "execute_result"
    }
   ],
   "source": [
    "a"
   ]
  },
  {
   "cell_type": "code",
   "execution_count": 196,
   "id": "f567a860",
   "metadata": {},
   "outputs": [],
   "source": [
    "a.setdefault('Prince')"
   ]
  },
  {
   "cell_type": "code",
   "execution_count": 197,
   "id": "7f1bafac",
   "metadata": {},
   "outputs": [
    {
     "name": "stdout",
     "output_type": "stream",
     "text": [
      "{'name': 'komal', 'age': 34, 'salary': 87654, 'address': 'Delhi', 'Prince': None}\n"
     ]
    }
   ],
   "source": [
    "print(a)"
   ]
  },
  {
   "cell_type": "code",
   "execution_count": 198,
   "id": "84c6dc2c",
   "metadata": {},
   "outputs": [],
   "source": [
    "a.setdefault('Anuj')"
   ]
  },
  {
   "cell_type": "code",
   "execution_count": 199,
   "id": "ee6b5bf7",
   "metadata": {},
   "outputs": [
    {
     "data": {
      "text/plain": [
       "{'name': 'komal',\n",
       " 'age': 34,\n",
       " 'salary': 87654,\n",
       " 'address': 'Delhi',\n",
       " 'Prince': None,\n",
       " 'Anuj': None}"
      ]
     },
     "execution_count": 199,
     "metadata": {},
     "output_type": "execute_result"
    }
   ],
   "source": [
    "a"
   ]
  },
  {
   "cell_type": "code",
   "execution_count": 200,
   "id": "3e83a474",
   "metadata": {},
   "outputs": [
    {
     "data": {
      "text/plain": [
       "87654212346780"
      ]
     },
     "execution_count": 200,
     "metadata": {},
     "output_type": "execute_result"
    }
   ],
   "source": [
    "a.setdefault('India',87654212346780)"
   ]
  },
  {
   "cell_type": "code",
   "execution_count": 201,
   "id": "fe7ff4c2",
   "metadata": {},
   "outputs": [
    {
     "data": {
      "text/plain": [
       "{'name': 'komal',\n",
       " 'age': 34,\n",
       " 'salary': 87654,\n",
       " 'address': 'Delhi',\n",
       " 'Prince': None,\n",
       " 'Anuj': None,\n",
       " 'India': 87654212346780}"
      ]
     },
     "execution_count": 201,
     "metadata": {},
     "output_type": "execute_result"
    }
   ],
   "source": [
    "a"
   ]
  },
  {
   "cell_type": "code",
   "execution_count": 202,
   "id": "d08e155c",
   "metadata": {},
   "outputs": [
    {
     "data": {
      "text/plain": [
       "87654"
      ]
     },
     "execution_count": 202,
     "metadata": {},
     "output_type": "execute_result"
    }
   ],
   "source": [
    "a.setdefault('salary',5434567876543212345678908654321234567890)"
   ]
  },
  {
   "cell_type": "code",
   "execution_count": 204,
   "id": "113df665",
   "metadata": {},
   "outputs": [
    {
     "data": {
      "text/plain": [
       "{'name': 'komal',\n",
       " 'age': 34,\n",
       " 'salary': 87654,\n",
       " 'address': 'Delhi',\n",
       " 'Prince': None,\n",
       " 'Anuj': None,\n",
       " 'India': 87654212346780}"
      ]
     },
     "execution_count": 204,
     "metadata": {},
     "output_type": "execute_result"
    }
   ],
   "source": [
    "a"
   ]
  },
  {
   "cell_type": "code",
   "execution_count": 205,
   "id": "2ed44b6e",
   "metadata": {},
   "outputs": [],
   "source": [
    "# update"
   ]
  },
  {
   "cell_type": "code",
   "execution_count": 206,
   "id": "1bdf28c9",
   "metadata": {},
   "outputs": [],
   "source": [
    "car_collection = {'Bmw':7654,'Kia':76543,'Maruti':34567}"
   ]
  },
  {
   "cell_type": "code",
   "execution_count": 207,
   "id": "20c2ecbc",
   "metadata": {},
   "outputs": [
    {
     "name": "stdout",
     "output_type": "stream",
     "text": [
      "{'Bmw': 7654, 'Kia': 76543, 'Maruti': 34567}\n"
     ]
    }
   ],
   "source": [
    "print(car_collection)"
   ]
  },
  {
   "cell_type": "code",
   "execution_count": 209,
   "id": "25ccd045",
   "metadata": {},
   "outputs": [],
   "source": [
    "car_collection.update({'Nano':87654,'Jaguar':345678,'Audi':87654,'Rolls Royce':87654})"
   ]
  },
  {
   "cell_type": "code",
   "execution_count": 211,
   "id": "a9b32f57",
   "metadata": {},
   "outputs": [
    {
     "data": {
      "text/plain": [
       "{'Bmw': 7654,\n",
       " 'Kia': 76543,\n",
       " 'Maruti': 34567,\n",
       " 'Nano': 87654,\n",
       " 'Jaguar': 345678,\n",
       " 'Audi': 87654,\n",
       " 'Rolls Royce': 87654}"
      ]
     },
     "execution_count": 211,
     "metadata": {},
     "output_type": "execute_result"
    }
   ],
   "source": [
    "car_collection"
   ]
  },
  {
   "cell_type": "code",
   "execution_count": null,
   "id": "d2b1edf5",
   "metadata": {},
   "outputs": [],
   "source": []
  },
  {
   "cell_type": "code",
   "execution_count": null,
   "id": "95b57167",
   "metadata": {},
   "outputs": [],
   "source": []
  },
  {
   "cell_type": "code",
   "execution_count": 212,
   "id": "405b12bf",
   "metadata": {},
   "outputs": [
    {
     "ename": "TypeError",
     "evalue": "unsupported operand type(s) for +: 'dict' and 'dict'",
     "output_type": "error",
     "traceback": [
      "\u001b[1;31m---------------------------------------------------------------------------\u001b[0m",
      "\u001b[1;31mTypeError\u001b[0m                                 Traceback (most recent call last)",
      "Cell \u001b[1;32mIn[212], line 6\u001b[0m\n\u001b[0;32m      2\u001b[0m b \u001b[38;5;241m=\u001b[39m {\u001b[38;5;124m'\u001b[39m\u001b[38;5;124mSalary\u001b[39m\u001b[38;5;124m'\u001b[39m:\u001b[38;5;241m345\u001b[39m}\n\u001b[0;32m      3\u001b[0m c \u001b[38;5;241m=\u001b[39m {\u001b[38;5;124m\"\u001b[39m\u001b[38;5;124mName\u001b[39m\u001b[38;5;124m\"\u001b[39m:\u001b[38;5;124m'\u001b[39m\u001b[38;5;124mMohit\u001b[39m\u001b[38;5;124m'\u001b[39m}\n\u001b[1;32m----> 6\u001b[0m \u001b[38;5;28mprint\u001b[39m( a  \u001b[38;5;241m+\u001b[39m b  \u001b[38;5;241m+\u001b[39m c)\n",
      "\u001b[1;31mTypeError\u001b[0m: unsupported operand type(s) for +: 'dict' and 'dict'"
     ]
    }
   ],
   "source": [
    "a = {'Age':34}\n",
    "b = {'Salary':345}\n",
    "c = {\"Name\":'Mohit'}\n",
    "\n",
    "\n",
    "print( a  + b  + c)"
   ]
  },
  {
   "cell_type": "code",
   "execution_count": 213,
   "id": "ee02f3d5",
   "metadata": {},
   "outputs": [],
   "source": [
    "d = {}"
   ]
  },
  {
   "cell_type": "code",
   "execution_count": 214,
   "id": "6ea3675d",
   "metadata": {},
   "outputs": [],
   "source": [
    "d.update(a)"
   ]
  },
  {
   "cell_type": "code",
   "execution_count": 215,
   "id": "88e1596c",
   "metadata": {},
   "outputs": [],
   "source": [
    "d.update(b)"
   ]
  },
  {
   "cell_type": "code",
   "execution_count": 216,
   "id": "397f14ab",
   "metadata": {},
   "outputs": [],
   "source": [
    "d.update(c)"
   ]
  },
  {
   "cell_type": "code",
   "execution_count": 217,
   "id": "8062bd4c",
   "metadata": {},
   "outputs": [
    {
     "data": {
      "text/plain": [
       "{'Age': 34, 'Salary': 345, 'Name': 'Mohit'}"
      ]
     },
     "execution_count": 217,
     "metadata": {},
     "output_type": "execute_result"
    }
   ],
   "source": [
    "d"
   ]
  },
  {
   "cell_type": "code",
   "execution_count": 218,
   "id": "1a0da4cb",
   "metadata": {},
   "outputs": [],
   "source": [
    "a = {'Age':34}\n",
    "b = {'Salary':345}\n",
    "c = {\"Name\":'Mohit'}"
   ]
  },
  {
   "cell_type": "code",
   "execution_count": 219,
   "id": "054a6de0",
   "metadata": {},
   "outputs": [
    {
     "data": {
      "text/plain": [
       "{'Age': 34, 'Salary': 345, 'Name': 'Mohit'}"
      ]
     },
     "execution_count": 219,
     "metadata": {},
     "output_type": "execute_result"
    }
   ],
   "source": [
    "f = {**a, **b, **c}  # unpacking\n",
    "f"
   ]
  },
  {
   "cell_type": "code",
   "execution_count": null,
   "id": "6a4a3d95",
   "metadata": {},
   "outputs": [],
   "source": []
  },
  {
   "cell_type": "code",
   "execution_count": null,
   "id": "dc6da534",
   "metadata": {},
   "outputs": [],
   "source": []
  },
  {
   "cell_type": "code",
   "execution_count": 220,
   "id": "d9318da3",
   "metadata": {},
   "outputs": [
    {
     "data": {
      "text/plain": [
       "{'Age', 'Name', 'Salary'}"
      ]
     },
     "execution_count": 220,
     "metadata": {},
     "output_type": "execute_result"
    }
   ],
   "source": [
    "f = {*a, *b, *c}  # unpacking\n",
    "f"
   ]
  },
  {
   "cell_type": "code",
   "execution_count": 221,
   "id": "6aa1c50d",
   "metadata": {},
   "outputs": [
    {
     "data": {
      "text/plain": [
       "['Age', 'Salary', 'Name']"
      ]
     },
     "execution_count": 221,
     "metadata": {},
     "output_type": "execute_result"
    }
   ],
   "source": [
    "f = [*a, *b, *c]  # unpacking\n",
    "f"
   ]
  },
  {
   "cell_type": "code",
   "execution_count": 222,
   "id": "0e896206",
   "metadata": {},
   "outputs": [
    {
     "data": {
      "text/plain": [
       "dict_keys(['Bmw', 'Kia', 'Maruti', 'Nano', 'Jaguar', 'Audi', 'Rolls Royce'])"
      ]
     },
     "execution_count": 222,
     "metadata": {},
     "output_type": "execute_result"
    }
   ],
   "source": [
    "car_collection.keys()"
   ]
  },
  {
   "cell_type": "code",
   "execution_count": 223,
   "id": "30f59371",
   "metadata": {},
   "outputs": [
    {
     "data": {
      "text/plain": [
       "['Bmw', 'Kia', 'Maruti', 'Nano', 'Jaguar', 'Audi', 'Rolls Royce']"
      ]
     },
     "execution_count": 223,
     "metadata": {},
     "output_type": "execute_result"
    }
   ],
   "source": [
    "list(car_collection)"
   ]
  },
  {
   "cell_type": "code",
   "execution_count": 224,
   "id": "b66cf85e",
   "metadata": {},
   "outputs": [
    {
     "data": {
      "text/plain": [
       "['Bmw', 'Kia', 'Maruti', 'Nano', 'Jaguar', 'Audi', 'Rolls Royce']"
      ]
     },
     "execution_count": 224,
     "metadata": {},
     "output_type": "execute_result"
    }
   ],
   "source": [
    "all_keys = [*car_collection]\n",
    "\n",
    "all_keys"
   ]
  },
  {
   "cell_type": "code",
   "execution_count": null,
   "id": "c733b049",
   "metadata": {},
   "outputs": [],
   "source": []
  },
  {
   "cell_type": "code",
   "execution_count": null,
   "id": "9d2b1cd8",
   "metadata": {},
   "outputs": [],
   "source": []
  },
  {
   "cell_type": "code",
   "execution_count": 225,
   "id": "4bd16105",
   "metadata": {},
   "outputs": [],
   "source": [
    "data = {'India':[{'Delhi':[{'IcicI':{(1,2,3):[[True,True,True]]}}],\n",
    "                  'Noida':[{'Hdfc':None}],\n",
    "                 'Faridabad':[{'Pnb':[None]}]}]}"
   ]
  },
  {
   "cell_type": "code",
   "execution_count": 226,
   "id": "8223a219",
   "metadata": {},
   "outputs": [
    {
     "data": {
      "text/plain": [
       "{'India': [{'Delhi': [{'IcicI': {(1, 2, 3): [[True, True, True]]}}],\n",
       "   'Noida': [{'Hdfc': None}],\n",
       "   'Faridabad': [{'Pnb': [None]}]}]}"
      ]
     },
     "execution_count": 226,
     "metadata": {},
     "output_type": "execute_result"
    }
   ],
   "source": [
    "data"
   ]
  },
  {
   "cell_type": "code",
   "execution_count": null,
   "id": "38503480",
   "metadata": {},
   "outputs": [],
   "source": []
  },
  {
   "cell_type": "code",
   "execution_count": null,
   "id": "e9f0e85f",
   "metadata": {},
   "outputs": [],
   "source": []
  }
 ],
 "metadata": {
  "kernelspec": {
   "display_name": "Python 3 (ipykernel)",
   "language": "python",
   "name": "python3"
  },
  "language_info": {
   "codemirror_mode": {
    "name": "ipython",
    "version": 3
   },
   "file_extension": ".py",
   "mimetype": "text/x-python",
   "name": "python",
   "nbconvert_exporter": "python",
   "pygments_lexer": "ipython3",
   "version": "3.11.3"
  }
 },
 "nbformat": 4,
 "nbformat_minor": 5
}
