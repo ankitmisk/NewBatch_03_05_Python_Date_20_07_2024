{
 "cells": [
  {
   "cell_type": "code",
   "execution_count": 1,
   "id": "c3680ddd",
   "metadata": {},
   "outputs": [],
   "source": [
    "# flow control:- if else, elif,loop:- for loop, while loop, break , continue, pass, with else, one liner etc"
   ]
  },
  {
   "cell_type": "code",
   "execution_count": 4,
   "id": "72c59f0e",
   "metadata": {},
   "outputs": [
    {
     "name": "stdout",
     "output_type": "stream",
     "text": [
      "you can vote!!\n"
     ]
    }
   ],
   "source": [
    "# conditional programming:-\n",
    "\n",
    "age = 300\n",
    "\n",
    "if age >= 18:\n",
    "    print('you can vote!!')\n",
    "else:\n",
    "    print('You can not vote!!')"
   ]
  },
  {
   "cell_type": "code",
   "execution_count": null,
   "id": "f0588c07",
   "metadata": {},
   "outputs": [],
   "source": []
  },
  {
   "cell_type": "code",
   "execution_count": 5,
   "id": "2cf6a7f8",
   "metadata": {},
   "outputs": [],
   "source": [
    "# if (condition/conditions):\n",
    "#     # indentation\n",
    "#     print('this is if code block')\n",
    "#     df\n",
    "#     h\n",
    "#     drg\n",
    "    \n",
    "#     rtg\n",
    "#     rtg\n",
    "#     rtg\n",
    "# else:\n",
    "#     print('else code block')\n",
    "#     er\n",
    "#     ge\n",
    "#     rg\n",
    "#     rtg\n",
    "#     erg"
   ]
  },
  {
   "cell_type": "code",
   "execution_count": null,
   "id": "677f863d",
   "metadata": {},
   "outputs": [],
   "source": []
  },
  {
   "cell_type": "code",
   "execution_count": 10,
   "id": "35493350",
   "metadata": {},
   "outputs": [
    {
     "name": "stdout",
     "output_type": "stream",
     "text": [
      "you can vote!!\n"
     ]
    }
   ],
   "source": [
    "# conditional programming:-\n",
    "\n",
    "age = 300\n",
    "\n",
    "if age >= 18:\n",
    "    print('you can vote!!')\n",
    "else:\n",
    "    print('You can not vote!!')"
   ]
  },
  {
   "cell_type": "code",
   "execution_count": 11,
   "id": "c42a1d25",
   "metadata": {},
   "outputs": [
    {
     "name": "stdout",
     "output_type": "stream",
     "text": [
      "['anil', 'jatin', 'ravi', 'mohan', 'karan']\n"
     ]
    }
   ],
   "source": [
    "students = ['anil','jatin','ravi','mohan','karan']\n",
    "\n",
    "print(students)"
   ]
  },
  {
   "cell_type": "code",
   "execution_count": null,
   "id": "e335d408",
   "metadata": {},
   "outputs": [],
   "source": []
  },
  {
   "cell_type": "code",
   "execution_count": null,
   "id": "55c3823c",
   "metadata": {},
   "outputs": [],
   "source": [
    "if (condition/conditions):\n",
    "    True\n",
    "    print('ye code nahi chalega')\n",
    "else:\n",
    "    print('else')  "
   ]
  },
  {
   "cell_type": "code",
   "execution_count": 23,
   "id": "71106ee2",
   "metadata": {},
   "outputs": [
    {
     "name": "stdout",
     "output_type": "stream",
     "text": [
      "anuj, Your name already exists!!\n"
     ]
    }
   ],
   "source": [
    "name = 'anuj'\n",
    "\n",
    "if name in students:\n",
    "    print(f'{name}, Your name already exists!!')\n",
    "\n",
    "else:\n",
    "    print(f'{name}, your name has been added successfully!')\n",
    "    students.append(name)"
   ]
  },
  {
   "cell_type": "code",
   "execution_count": 24,
   "id": "316a13e9",
   "metadata": {},
   "outputs": [
    {
     "name": "stdout",
     "output_type": "stream",
     "text": [
      "['anil', 'jatin', 'ravi', 'mohan', 'karan', 'lucky', 'komal', 'ajay', 'anuj', 'anuja', 'kartik', 'vijay', 'prince']\n"
     ]
    }
   ],
   "source": [
    "print(students)"
   ]
  },
  {
   "cell_type": "code",
   "execution_count": null,
   "id": "bc59abf6",
   "metadata": {},
   "outputs": [],
   "source": []
  },
  {
   "cell_type": "code",
   "execution_count": null,
   "id": "d6642031",
   "metadata": {},
   "outputs": [],
   "source": []
  },
  {
   "cell_type": "code",
   "execution_count": 32,
   "id": "21a63916",
   "metadata": {},
   "outputs": [
    {
     "name": "stdout",
     "output_type": "stream",
     "text": [
      "Enter your name: ajay\n",
      "AJAY🤫, YOUR NAME ALREADY EXISTS!!\n"
     ]
    }
   ],
   "source": [
    "name = input('Enter your name: ').lower()\n",
    "\n",
    "if name in students:\n",
    "    print(f'{name}🤫, Your name already exists!!'.upper())\n",
    "\n",
    "else:\n",
    "    print(f'😊{name}😊, your name has been added successfully!'.upper())\n",
    "    students.append(name)"
   ]
  },
  {
   "cell_type": "code",
   "execution_count": null,
   "id": "cbb18b96",
   "metadata": {},
   "outputs": [],
   "source": []
  },
  {
   "cell_type": "code",
   "execution_count": 33,
   "id": "cc88620a",
   "metadata": {},
   "outputs": [],
   "source": [
    "# guess a number"
   ]
  },
  {
   "cell_type": "code",
   "execution_count": 34,
   "id": "4ee2933b",
   "metadata": {},
   "outputs": [],
   "source": [
    "import random"
   ]
  },
  {
   "cell_type": "code",
   "execution_count": 44,
   "id": "083b982e",
   "metadata": {},
   "outputs": [
    {
     "name": "stdout",
     "output_type": "stream",
     "text": [
      "Enter your choice: 23\n",
      "23\n",
      "<class 'int'>\n"
     ]
    }
   ],
   "source": [
    "comp_ne_ye_choice_kiya = random.randint(1,10)\n",
    "\n",
    "user_ka_choice = int(input('Enter your choice: '))\n",
    "\n",
    "print(user_ka_choice)\n",
    "print(type(user_ka_choice))"
   ]
  },
  {
   "cell_type": "code",
   "execution_count": null,
   "id": "594f6096",
   "metadata": {},
   "outputs": [],
   "source": []
  },
  {
   "cell_type": "code",
   "execution_count": null,
   "id": "ff08fd30",
   "metadata": {},
   "outputs": [],
   "source": []
  },
  {
   "cell_type": "code",
   "execution_count": null,
   "id": "6fa1969e",
   "metadata": {},
   "outputs": [],
   "source": []
  },
  {
   "cell_type": "code",
   "execution_count": 86,
   "id": "107b583f",
   "metadata": {},
   "outputs": [
    {
     "name": "stdout",
     "output_type": "stream",
     "text": [
      "Enter your choice: 5\n",
      "computer choice 4\n",
      "Aapne galat guess kiya👍\n"
     ]
    }
   ],
   "source": [
    "comp_ne_ye_choice_kiya = random.randint(1,5)\n",
    "\n",
    "user_ka_choice = int(input('Enter your choice: '))\n",
    "\n",
    "\n",
    "print('computer choice',comp_ne_ye_choice_kiya)\n",
    "\n",
    "\n",
    "if user_ka_choice == comp_ne_ye_choice_kiya:\n",
    "    print('Aapne sahi guess kiya👍')\n",
    "    \n",
    "else:\n",
    "    print('Aapne galat guess kiya👍')"
   ]
  },
  {
   "cell_type": "code",
   "execution_count": null,
   "id": "a9fed0dd",
   "metadata": {},
   "outputs": [],
   "source": []
  },
  {
   "cell_type": "code",
   "execution_count": 87,
   "id": "3dad9cd0",
   "metadata": {},
   "outputs": [],
   "source": [
    "# multiple if else condition"
   ]
  },
  {
   "cell_type": "code",
   "execution_count": 91,
   "id": "b41283f2",
   "metadata": {},
   "outputs": [
    {
     "name": "stdout",
     "output_type": "stream",
     "text": [
      "a is greatest amongst all number\n"
     ]
    }
   ],
   "source": [
    "a = 34\n",
    "b = 5\n",
    "c = 6\n",
    "\n",
    "if (a>b)  and (a>c):\n",
    "    print('a is greatest amongst all number')\n",
    "    \n",
    "elif (b>c) and (b>a):\n",
    "    print('b is greatest amongst all number')\n",
    "    \n",
    "elif (c>a) and (c>b):\n",
    "    print('c is greatest amongst all number')\n",
    "\n",
    "else:\n",
    "    print('I don\\'t Know')"
   ]
  },
  {
   "cell_type": "code",
   "execution_count": 94,
   "id": "34966f87",
   "metadata": {},
   "outputs": [
    {
     "name": "stdout",
     "output_type": "stream",
     "text": [
      "I don't Know\n"
     ]
    }
   ],
   "source": [
    "a = 6\n",
    "b = 8\n",
    "c = 8\n",
    "\n",
    "if (a>b)  and (a>c):\n",
    "    print('a is greatest amongst all number')\n",
    "    \n",
    "elif (b>c) and (b>a):\n",
    "    print('b is greatest amongst all number')\n",
    "    \n",
    "elif (c>a) and (c>b):\n",
    "    print('c is greatest amongst all number')\n",
    "\n",
    "else:\n",
    "    print('I don\\'t Know')"
   ]
  },
  {
   "cell_type": "code",
   "execution_count": null,
   "id": "c82d1489",
   "metadata": {},
   "outputs": [],
   "source": []
  },
  {
   "cell_type": "code",
   "execution_count": 95,
   "id": "b472bbc0",
   "metadata": {},
   "outputs": [],
   "source": [
    "# nested if else:- if else ke andar if else and so on...."
   ]
  },
  {
   "cell_type": "code",
   "execution_count": 107,
   "id": "89240965",
   "metadata": {},
   "outputs": [
    {
     "name": "stdout",
     "output_type": "stream",
     "text": [
      "your age not above 18,you are not allowed!!\n"
     ]
    }
   ],
   "source": [
    "age = 10\n",
    "\n",
    "\n",
    "if age>=1:\n",
    "    \n",
    "    if age>=18:\n",
    "        print('You can vote!!')\n",
    "\n",
    "        if 18<=age<=30:\n",
    "            print('You are young!!')\n",
    "\n",
    "        elif 30<age<=50:\n",
    "            print('You are middle age person')\n",
    "\n",
    "        elif 100> age >50:\n",
    "            print('You are an aged person!!')\n",
    "\n",
    "        else:\n",
    "            print('You are very old person!!')\n",
    "\n",
    "    else:\n",
    "        print('your age not above 18,you are not allowed!!')\n",
    "        \n",
    "else:\n",
    "    print('You are very under age or invalid age!!')"
   ]
  },
  {
   "cell_type": "code",
   "execution_count": null,
   "id": "b8ae4069",
   "metadata": {},
   "outputs": [],
   "source": []
  },
  {
   "cell_type": "code",
   "execution_count": null,
   "id": "cd2e3585",
   "metadata": {},
   "outputs": [],
   "source": []
  },
  {
   "cell_type": "code",
   "execution_count": 109,
   "id": "d4213f86",
   "metadata": {},
   "outputs": [],
   "source": [
    "# Grading system \n",
    "# rock paper scissors game\n",
    "# Trip Budget planner\n",
    "# login form"
   ]
  },
  {
   "cell_type": "code",
   "execution_count": 110,
   "id": "13ba8d0b",
   "metadata": {},
   "outputs": [],
   "source": [
    "# Trip Budget planner"
   ]
  },
  {
   "cell_type": "code",
   "execution_count": 117,
   "id": "51e159af",
   "metadata": {},
   "outputs": [
    {
     "name": "stdout",
     "output_type": "stream",
     "text": [
      "Enter your budget: 4567\n",
      "You can plan for: \n",
      "        1>> Rishikesh\n",
      "        2>> Manali\n",
      "        3>> Amritsar\n",
      "        4>> Jaipur\n",
      "        5>> Katra vaishno Devi\n"
     ]
    }
   ],
   "source": [
    "budget = int(input('Enter your budget: '))\n",
    "\n",
    "if budget>0:\n",
    "\n",
    "    if 1<=budget<100:\n",
    "        print('Beta ghar pe baitho or tofi khao!!')\n",
    "\n",
    "    elif 100<=budget<=1000:\n",
    "        print('''you can plan for:\n",
    "        1>> CP\n",
    "        2>> Mall\n",
    "        3>> Delhi Explore\n",
    "        4>> Agra Taj Mahal\n",
    "        5>> Gurgaon''')\n",
    "\n",
    "    elif 1000<budget<=5000:\n",
    "        print('''You can plan for: \n",
    "        1>> Rishikesh\n",
    "        2>> Manali\n",
    "        3>> Amritsar\n",
    "        4>> Jaipur\n",
    "        5>> Katra vaishno Devi''')\n",
    "\n",
    "    elif 5_000<budget<=20_000:\n",
    "        print('''You can plan for:\n",
    "        1>> Goa\n",
    "        2>> ladakh\n",
    "        3>> kashmir\n",
    "        4>> Lonawala\n",
    "        5>> Kerala''')\n",
    "\n",
    "    elif 20_000<budget<=50_000:\n",
    "        print('''You can plan for:\n",
    "        1>> India \n",
    "        2>> Nepal\n",
    "        3>> Bhutan\n",
    "        4>> Srilanka\n",
    "        5>> China''')\n",
    "\n",
    "    else:\n",
    "        print('''You can plan for World tour!!''')\n",
    "        \n",
    "else:\n",
    "    print('Invalid Budget!!')"
   ]
  },
  {
   "cell_type": "code",
   "execution_count": null,
   "id": "970d1752",
   "metadata": {},
   "outputs": [],
   "source": []
  },
  {
   "cell_type": "code",
   "execution_count": 118,
   "id": "aeff7cc8",
   "metadata": {},
   "outputs": [],
   "source": [
    "# rock paper scissors game"
   ]
  },
  {
   "attachments": {
    "v4-460px-Play-Rock,-Paper,-Scissors-Step-5-Version-3.jpg": {
     "image/jpeg": "[encoded data removed]"
    }
   },
   "cell_type": "markdown",
   "id": "595e4cba",
   "metadata": {},
   "source": [
    "![v4-460px-Play-Rock,-Paper,-Scissors-Step-5-Version-3.jpg](attachment:v4-460px-Play-Rock,-Paper,-Scissors-Step-5-Version-3.jpg)"
   ]
  },
  {
   "cell_type": "code",
   "execution_count": 156,
   "id": "b6d04bb2",
   "metadata": {},
   "outputs": [
    {
     "name": "stdout",
     "output_type": "stream",
     "text": [
      "Enter your choice: df\n",
      "Computer choice is:  scissors\n",
      "User choice is:  df\n",
      "❌Invalid choice❌!!\n"
     ]
    }
   ],
   "source": [
    "all_choice = ['rock','paper','scissors']*3\n",
    "\n",
    "comp_choice = random.choice(all_choice)\n",
    "\n",
    "user_choice = input('Enter your choice: ').lower()\n",
    "\n",
    "print('Computer choice is: ',comp_choice)\n",
    "\n",
    "print('User choice is: ',user_choice)\n",
    "\n",
    "\n",
    "if user_choice in all_choice:\n",
    "\n",
    "    if user_choice == comp_choice:\n",
    "        print('It\\'s a tie')\n",
    "\n",
    "\n",
    "    elif comp_choice == 'paper':\n",
    "        if user_choice == 'rock':\n",
    "            print('Computer wins👍 user Lose 👎!!')\n",
    "\n",
    "        else:\n",
    "            print('User wins 👍 computer Lose 👎!!')\n",
    "\n",
    "    elif comp_choice == 'rock':\n",
    "        if user_choice == 'paper':\n",
    "            print('User wins 👍 computer Lose 👎!!')\n",
    "        else:\n",
    "            print('Computer wins 👍 user Lose👎 !!')\n",
    "\n",
    "\n",
    "    elif comp_choice == 'scissors':\n",
    "        if user_choice == 'rock':\n",
    "            print('User wins 👍 computer Lose 👎!!')\n",
    "\n",
    "        else:\n",
    "            print('Computer 👍 wins user Lose 👎!!')\n",
    "\n",
    "else:\n",
    "    print('❌Invalid choice❌!!')\n"
   ]
  },
  {
   "cell_type": "code",
   "execution_count": 150,
   "id": "9b8bafd6",
   "metadata": {},
   "outputs": [],
   "source": [
    "# all_choice*3"
   ]
  },
  {
   "cell_type": "code",
   "execution_count": null,
   "id": "92254251",
   "metadata": {},
   "outputs": [],
   "source": []
  },
  {
   "cell_type": "code",
   "execution_count": null,
   "id": "e7e58cd0",
   "metadata": {},
   "outputs": [],
   "source": []
  },
  {
   "cell_type": "code",
   "execution_count": 157,
   "id": "ffacec67",
   "metadata": {},
   "outputs": [],
   "source": [
    "# # Grading system \n",
    "\n",
    "# maths \n",
    "# sci\n",
    "# hindi\n",
    "# sst\n",
    "# english\n",
    "\n",
    "# tp\n",
    "\n",
    "# 90> A+\n",
    "# 80-90 A\n",
    "# 70-80 B+\n",
    "# 60-70 B\n",
    "# 50-60 C\n",
    "# 40-50 D\n",
    "# 33-40 E\n",
    "# >33 F\n"
   ]
  },
  {
   "cell_type": "code",
   "execution_count": 158,
   "id": "cbe477db",
   "metadata": {},
   "outputs": [],
   "source": [
    "# all_marks = maths + sci+hindi + eng + sst\n",
    "\n",
    "# tp = all_marks/5"
   ]
  },
  {
   "cell_type": "code",
   "execution_count": null,
   "id": "7747e57d",
   "metadata": {},
   "outputs": [],
   "source": []
  },
  {
   "cell_type": "code",
   "execution_count": 159,
   "id": "52c46e2f",
   "metadata": {},
   "outputs": [],
   "source": [
    "# login form"
   ]
  },
  {
   "cell_type": "code",
   "execution_count": 162,
   "id": "f17828bb",
   "metadata": {},
   "outputs": [
    {
     "name": "stdout",
     "output_type": "stream",
     "text": [
      "Enter your name: Sanjay\n",
      "Create your user id: sanjay@1998\n",
      "Create your password: sanjay@123\n",
      "want to login (y/n)y\n",
      "Enter your user id: sanjay@1998\n",
      "Enter your password: sanjay@123\n",
      "Welcome Sanjay, How are you??\n"
     ]
    }
   ],
   "source": [
    "name = input('Enter your name: ')\n",
    "uid = input('Create your user id: ')\n",
    "pwd = input('Create your password: ')\n",
    "\n",
    "ans = input('want to login (y/n)').lower()\n",
    "\n",
    "if ans == 'y':\n",
    "    user_id = input('Enter your user id: ')\n",
    "    password = input('Enter your password: ')\n",
    "    \n",
    "    if (user_id == uid) and (pwd == password):\n",
    "        print(f'Welcome {name}, How are you??')\n",
    "        \n",
    "    else:\n",
    "        print('Incorrect user id or password!!')\n",
    "    \n",
    "    \n",
    "else:\n",
    "    print('Thanks for the signup!!')"
   ]
  },
  {
   "cell_type": "code",
   "execution_count": null,
   "id": "3ad55c16",
   "metadata": {},
   "outputs": [],
   "source": []
  },
  {
   "cell_type": "code",
   "execution_count": null,
   "id": "d15ed71f",
   "metadata": {},
   "outputs": [],
   "source": []
  },
  {
   "cell_type": "code",
   "execution_count": 163,
   "id": "4d0f8608",
   "metadata": {},
   "outputs": [],
   "source": [
    "# even number ya odd number"
   ]
  },
  {
   "cell_type": "code",
   "execution_count": 166,
   "id": "488d0f5c",
   "metadata": {},
   "outputs": [
    {
     "name": "stdout",
     "output_type": "stream",
     "text": [
      "Enter number: 34\n",
      "Even number\n"
     ]
    }
   ],
   "source": [
    "number = int(input('Enter number: '))\n",
    "\n",
    "if (number % 2) == 0:\n",
    "    print('Even number')\n",
    "    \n",
    "else:\n",
    "    print('Odd Number!!')"
   ]
  },
  {
   "cell_type": "code",
   "execution_count": null,
   "id": "3bcda62d",
   "metadata": {},
   "outputs": [],
   "source": []
  },
  {
   "cell_type": "code",
   "execution_count": 167,
   "id": "10eae1ca",
   "metadata": {},
   "outputs": [],
   "source": [
    "# Grading System:- Home work"
   ]
  },
  {
   "cell_type": "code",
   "execution_count": 168,
   "id": "a691d4de",
   "metadata": {},
   "outputs": [],
   "source": [
    "# if else with pass\n",
    "# leap year\n",
    "# one liner if else"
   ]
  },
  {
   "cell_type": "markdown",
   "id": "47b07a82",
   "metadata": {},
   "source": [
    "# Day 9"
   ]
  },
  {
   "cell_type": "code",
   "execution_count": 1,
   "id": "1b07afc2",
   "metadata": {},
   "outputs": [],
   "source": [
    "# if else with pass\n",
    "# leap year\n",
    "# one liner if else"
   ]
  },
  {
   "cell_type": "code",
   "execution_count": null,
   "id": "83523945",
   "metadata": {},
   "outputs": [],
   "source": []
  },
  {
   "cell_type": "code",
   "execution_count": 4,
   "id": "a4265495",
   "metadata": {},
   "outputs": [
    {
     "name": "stdout",
     "output_type": "stream",
     "text": [
      "You are not allowed\n"
     ]
    }
   ],
   "source": [
    "# logically \n",
    "\n",
    "age = 4\n",
    "\n",
    "if age>=18:\n",
    "    pass   # skip, pass# \n",
    "else:\n",
    "    print('You are not allowed')"
   ]
  },
  {
   "cell_type": "code",
   "execution_count": 6,
   "id": "875c373b",
   "metadata": {},
   "outputs": [],
   "source": [
    "# one liner if else"
   ]
  },
  {
   "cell_type": "code",
   "execution_count": 8,
   "id": "b4bc5aa7",
   "metadata": {},
   "outputs": [
    {
     "name": "stdout",
     "output_type": "stream",
     "text": [
      "No\n"
     ]
    }
   ],
   "source": [
    "a = 3456\n",
    "\n",
    "if a % 7 == 0:\n",
    "    print('Div by 7')   \n",
    "else:\n",
    "    print('No')"
   ]
  },
  {
   "cell_type": "code",
   "execution_count": 11,
   "id": "0ec0b506",
   "metadata": {},
   "outputs": [
    {
     "ename": "SyntaxError",
     "evalue": "invalid syntax (2860678474.py, line 1)",
     "output_type": "error",
     "traceback": [
      "\u001b[1;36m  Cell \u001b[1;32mIn[11], line 1\u001b[1;36m\u001b[0m\n\u001b[1;33m    if a % 7 == 0 print('ABC') else print('AB')\u001b[0m\n\u001b[1;37m                  ^\u001b[0m\n\u001b[1;31mSyntaxError\u001b[0m\u001b[1;31m:\u001b[0m invalid syntax\n"
     ]
    }
   ],
   "source": [
    "if a % 7 == 0 print('ABC') else print('AB')"
   ]
  },
  {
   "cell_type": "code",
   "execution_count": 12,
   "id": "c48eef18",
   "metadata": {},
   "outputs": [
    {
     "name": "stdout",
     "output_type": "stream",
     "text": [
      "NO\n"
     ]
    }
   ],
   "source": [
    "print('Div by 7') if a % 7 == 0 else print('NO')"
   ]
  },
  {
   "cell_type": "code",
   "execution_count": null,
   "id": "40e69374",
   "metadata": {},
   "outputs": [],
   "source": []
  },
  {
   "cell_type": "code",
   "execution_count": 14,
   "id": "a74fa3f3",
   "metadata": {},
   "outputs": [
    {
     "name": "stdout",
     "output_type": "stream",
     "text": [
      "c is greatest\n"
     ]
    }
   ],
   "source": [
    "# \n",
    "\n",
    "a = 45\n",
    "b = 45\n",
    "c = 56\n",
    "\n",
    "if (a>b) and (a>c):\n",
    "    print('a is greatest')\n",
    "    \n",
    "elif (b>a) and (b>c):\n",
    "    print('b is greatest')\n",
    "\n",
    "elif (c>a) and (c>b):\n",
    "    print('c is greatest')\n",
    "\n",
    "else:\n",
    "    print('all are equal')"
   ]
  },
  {
   "cell_type": "code",
   "execution_count": null,
   "id": "137f74a0",
   "metadata": {},
   "outputs": [],
   "source": []
  },
  {
   "cell_type": "code",
   "execution_count": 15,
   "id": "33739e85",
   "metadata": {},
   "outputs": [],
   "source": [
    "# one liner"
   ]
  },
  {
   "cell_type": "code",
   "execution_count": 17,
   "id": "f63cc1cf",
   "metadata": {},
   "outputs": [],
   "source": [
    "# print('a is greatest') if (a>b) and (a>c) print('b is greatest') elif (b>a) and (b>c) print('c is greatest') elif (c>a) and (c>b) else print('all are equal')"
   ]
  },
  {
   "cell_type": "code",
   "execution_count": 18,
   "id": "4ecefcf7",
   "metadata": {},
   "outputs": [
    {
     "name": "stdout",
     "output_type": "stream",
     "text": [
      "c is greatest\n"
     ]
    }
   ],
   "source": [
    "print('a is greatest') if (a>b) and (a>c) else  print('b is greatest') if (b>a) and (b>c) else print('c is greatest') if (c>a) and (c>b) else print('all are equal')"
   ]
  },
  {
   "cell_type": "code",
   "execution_count": null,
   "id": "340edbac",
   "metadata": {},
   "outputs": [],
   "source": []
  },
  {
   "cell_type": "code",
   "execution_count": 19,
   "id": "3128683f",
   "metadata": {},
   "outputs": [],
   "source": [
    "import calendar"
   ]
  },
  {
   "cell_type": "code",
   "execution_count": 23,
   "id": "d581ec2f",
   "metadata": {},
   "outputs": [
    {
     "data": {
      "text/plain": [
       "False"
      ]
     },
     "execution_count": 23,
     "metadata": {},
     "output_type": "execute_result"
    }
   ],
   "source": [
    "calendar.isleap(2025)"
   ]
  },
  {
   "cell_type": "code",
   "execution_count": 24,
   "id": "4cbe721c",
   "metadata": {},
   "outputs": [
    {
     "data": {
      "text/plain": [
       "False"
      ]
     },
     "execution_count": 24,
     "metadata": {},
     "output_type": "execute_result"
    }
   ],
   "source": [
    "calendar.isleap(1800)"
   ]
  },
  {
   "cell_type": "code",
   "execution_count": 27,
   "id": "d7ffd7e7",
   "metadata": {},
   "outputs": [
    {
     "data": {
      "text/plain": [
       "True"
      ]
     },
     "execution_count": 27,
     "metadata": {},
     "output_type": "execute_result"
    }
   ],
   "source": [
    "calendar.isleap(1200)"
   ]
  },
  {
   "cell_type": "code",
   "execution_count": 28,
   "id": "ba94411f",
   "metadata": {},
   "outputs": [],
   "source": [
    "# 1600, 2000"
   ]
  },
  {
   "cell_type": "code",
   "execution_count": 34,
   "id": "eddcc004",
   "metadata": {},
   "outputs": [
    {
     "data": {
      "text/plain": [
       "0"
      ]
     },
     "execution_count": 34,
     "metadata": {},
     "output_type": "execute_result"
    }
   ],
   "source": [
    "year = 2024\n",
    "\n",
    "1700 % 400\n",
    "\n",
    "\n",
    "1700 % 100"
   ]
  },
  {
   "cell_type": "code",
   "execution_count": 35,
   "id": "669ab81b",
   "metadata": {},
   "outputs": [],
   "source": [
    "# and or"
   ]
  },
  {
   "cell_type": "code",
   "execution_count": 53,
   "id": "71b03d05",
   "metadata": {},
   "outputs": [
    {
     "name": "stdout",
     "output_type": "stream",
     "text": [
      "lp\n"
     ]
    }
   ],
   "source": [
    "year = 2024\n",
    "if (year % 4 == 0 and year %100 !=0) or (year % 400 ==0):\n",
    "    print('lp')\n",
    "else:\n",
    "    print('no lp')"
   ]
  },
  {
   "cell_type": "code",
   "execution_count": 54,
   "id": "eb72164a",
   "metadata": {},
   "outputs": [
    {
     "data": {
      "text/plain": [
       "True"
      ]
     },
     "execution_count": 54,
     "metadata": {},
     "output_type": "execute_result"
    }
   ],
   "source": [
    "year % 4 == 0"
   ]
  },
  {
   "cell_type": "code",
   "execution_count": 55,
   "id": "f9d239f1",
   "metadata": {},
   "outputs": [
    {
     "data": {
      "text/plain": [
       "True"
      ]
     },
     "execution_count": 55,
     "metadata": {},
     "output_type": "execute_result"
    }
   ],
   "source": [
    "year %100 !=0"
   ]
  },
  {
   "cell_type": "code",
   "execution_count": 56,
   "id": "a65eda63",
   "metadata": {},
   "outputs": [
    {
     "data": {
      "text/plain": [
       "False"
      ]
     },
     "execution_count": 56,
     "metadata": {},
     "output_type": "execute_result"
    }
   ],
   "source": [
    "(year % 400 ==0)"
   ]
  },
  {
   "cell_type": "code",
   "execution_count": null,
   "id": "3bf48db2",
   "metadata": {},
   "outputs": [],
   "source": []
  },
  {
   "cell_type": "code",
   "execution_count": 57,
   "id": "9054b358",
   "metadata": {},
   "outputs": [
    {
     "name": "stdout",
     "output_type": "stream",
     "text": [
      "lp\n"
     ]
    }
   ],
   "source": [
    "year = 2024\n",
    "\n",
    "print('lp') if (year % 4 == 0 and year %100 !=0) or (year % 400 ==0) else  print('no lp')"
   ]
  },
  {
   "cell_type": "code",
   "execution_count": 59,
   "id": "512d2ee0",
   "metadata": {},
   "outputs": [
    {
     "data": {
      "text/plain": [
       "-9"
      ]
     },
     "execution_count": 59,
     "metadata": {},
     "output_type": "execute_result"
    }
   ],
   "source": [
    "# - * -\n",
    "\n",
    "- 3 - 6"
   ]
  },
  {
   "cell_type": "code",
   "execution_count": 60,
   "id": "0605c254",
   "metadata": {},
   "outputs": [],
   "source": [
    "# loop"
   ]
  },
  {
   "cell_type": "code",
   "execution_count": 61,
   "id": "025e645a",
   "metadata": {},
   "outputs": [],
   "source": [
    "# for\n",
    "# while"
   ]
  },
  {
   "cell_type": "code",
   "execution_count": 62,
   "id": "07bc7c77",
   "metadata": {},
   "outputs": [],
   "source": [
    "# do while\n",
    "# for each loop\n",
    "# for \n",
    "# while"
   ]
  },
  {
   "cell_type": "code",
   "execution_count": 64,
   "id": "5a3a3307",
   "metadata": {},
   "outputs": [],
   "source": [
    "# for:- jab hume pata hota hai ki kitni der chalna hai\n",
    "# while:- ye condition pe chalta hai"
   ]
  },
  {
   "cell_type": "code",
   "execution_count": 65,
   "id": "ed878a66",
   "metadata": {},
   "outputs": [],
   "source": [
    "# # data types:\n",
    "# # iterator\n",
    "\n",
    "# bag = [1,234,54,2143,56]\n",
    "# for i in bag:\n",
    "#     code block\n",
    "#     code block\n",
    "    \n",
    "#     code block\n",
    "#     code block\n",
    "#     code block\n",
    "#     code block\n",
    "    \n",
    "    "
   ]
  },
  {
   "cell_type": "code",
   "execution_count": 66,
   "id": "14844292",
   "metadata": {},
   "outputs": [],
   "source": [
    "# for temp_variable in datatype_iterables:\n",
    "#     code block\n",
    "\n",
    "# '101010101'"
   ]
  },
  {
   "cell_type": "code",
   "execution_count": 67,
   "id": "01149acf",
   "metadata": {},
   "outputs": [],
   "source": [
    "# datatype_iterables:- str,set, tuple, list, dict, frozenset, range(),iterables\n",
    "# not allowed:- float, int, complex, bool, None, "
   ]
  },
  {
   "cell_type": "code",
   "execution_count": 70,
   "id": "2bda8d45",
   "metadata": {},
   "outputs": [
    {
     "name": "stdout",
     "output_type": "stream",
     "text": [
      "ajay\n",
      "kumar verma\n",
      "harry\n",
      "nitin\n",
      "verma ji\n"
     ]
    }
   ],
   "source": [
    "students = ['ajay','kumar verma','harry','nitin','verma ji']\n",
    "\n",
    "import time\n",
    "for i in students:\n",
    "    print(i)\n",
    "    time.sleep(3)"
   ]
  },
  {
   "cell_type": "code",
   "execution_count": 71,
   "id": "c7bd6b47",
   "metadata": {},
   "outputs": [
    {
     "name": "stdout",
     "output_type": "stream",
     "text": [
      "ajay\n",
      "kumar verma\n",
      "harry\n",
      "nitin\n",
      "verma ji\n"
     ]
    }
   ],
   "source": [
    "students = ['ajay','kumar verma','harry','nitin','verma ji']\n",
    "\n",
    "import time\n",
    "for i in students:\n",
    "    print(i)"
   ]
  },
  {
   "cell_type": "code",
   "execution_count": 72,
   "id": "caa7eaf9",
   "metadata": {},
   "outputs": [
    {
     "name": "stdout",
     "output_type": "stream",
     "text": [
      "ajay\n",
      "kumar verma\n",
      "harry\n",
      "nitin\n",
      "verma ji\n"
     ]
    }
   ],
   "source": [
    "students = ['ajay','kumar verma','harry','nitin','verma ji']\n",
    "\n",
    "import time\n",
    "for cm in students:\n",
    "    print(cm)"
   ]
  },
  {
   "cell_type": "code",
   "execution_count": 73,
   "id": "7b5b2935",
   "metadata": {},
   "outputs": [
    {
     "name": "stdout",
     "output_type": "stream",
     "text": [
      "1\n",
      "23\n",
      "421\n",
      "3\n",
      "235\n"
     ]
    }
   ],
   "source": [
    "modiji = [1,23,421,3,235]\n",
    "\n",
    "for modiji in modiji:\n",
    "    print(modiji)"
   ]
  },
  {
   "cell_type": "code",
   "execution_count": 75,
   "id": "a562af01",
   "metadata": {},
   "outputs": [
    {
     "name": "stdout",
     "output_type": "stream",
     "text": [
      "123\n",
      "154\n",
      "753\n",
      "2667\n"
     ]
    }
   ],
   "source": [
    "results = [23,54,653,2567]\n",
    "\n",
    "for result in results:\n",
    "    print(result+100)"
   ]
  },
  {
   "cell_type": "code",
   "execution_count": 76,
   "id": "e8a0cf78",
   "metadata": {},
   "outputs": [
    {
     "name": "stdout",
     "output_type": "stream",
     "text": [
      "Even list [2, 34, 412, 34]\n",
      "Odd List [565, 32567, 535, 667, 543, 265]\n"
     ]
    }
   ],
   "source": [
    "data = [2,34,412,34,565,32567,535,667,543,265]\n",
    "\n",
    "even = []\n",
    "odd = []\n",
    "\n",
    "for i in data:\n",
    "    if i % 2 == 0:\n",
    "        even.append(i)\n",
    "    else:\n",
    "        odd.append(i)\n",
    "        \n",
    "print('Even list',even)\n",
    "print('Odd List',odd)"
   ]
  },
  {
   "cell_type": "code",
   "execution_count": 82,
   "id": "c6b15113",
   "metadata": {},
   "outputs": [
    {
     "name": "stdout",
     "output_type": "stream",
     "text": [
      "Vowels ['ola', 'ADANI']\n",
      "Consonants ['kia', 'tata', 'mahindra', 'honda', 'meta']\n"
     ]
    }
   ],
   "source": [
    "data = ['ola','kia','tata','mahindra','honda','ADANI','meta']\n",
    "\n",
    "v = []\n",
    "c = []\n",
    "\n",
    "for i in data:\n",
    "    if i[0].lower() in 'aeiou':\n",
    "        v.append(i)\n",
    "    else:\n",
    "        c.append(i)\n",
    "        \n",
    "print('Vowels',v)\n",
    "print('Consonants',c)"
   ]
  },
  {
   "cell_type": "code",
   "execution_count": null,
   "id": "541de110",
   "metadata": {},
   "outputs": [],
   "source": []
  },
  {
   "cell_type": "code",
   "execution_count": 83,
   "id": "9fd76010",
   "metadata": {},
   "outputs": [
    {
     "name": "stdout",
     "output_type": "stream",
     "text": [
      "['@ola', '@kia', '@tata', '@mahindra', '@honda', '@ADANI', '@meta']\n"
     ]
    }
   ],
   "source": [
    "data = ['ola','kia','tata','mahindra','honda','ADANI','meta']\n",
    "\n",
    "# ['@ola','@tata']\n",
    "\n",
    "tag_data = []\n",
    "\n",
    "for kuchbhi in data:\n",
    "    tag_data.append('@'+kuchbhi)\n",
    "print(tag_data)"
   ]
  },
  {
   "cell_type": "code",
   "execution_count": 84,
   "id": "51a60820",
   "metadata": {},
   "outputs": [],
   "source": [
    "# for loop with pass"
   ]
  },
  {
   "cell_type": "code",
   "execution_count": 85,
   "id": "aa1c1251",
   "metadata": {},
   "outputs": [
    {
     "name": "stdout",
     "output_type": "stream",
     "text": [
      "['@ola', '@kia', '@tata', '@mahindra', '@honda', '@meta']\n"
     ]
    }
   ],
   "source": [
    "data = ['ola','kia','tata','mahindra','honda','ADANI','meta']\n",
    "\n",
    "# ['@ola','@tata']\n",
    "\n",
    "tag_data = []\n",
    "\n",
    "for kuchbhi in data:\n",
    "    if kuchbhi.lower() == 'adani':\n",
    "        pass\n",
    "    else:\n",
    "        tag_data.append('@'+kuchbhi)\n",
    "print(tag_data)"
   ]
  },
  {
   "cell_type": "code",
   "execution_count": 86,
   "id": "efa4f8a5",
   "metadata": {},
   "outputs": [
    {
     "name": "stdout",
     "output_type": "stream",
     "text": [
      "['@ola', '@kia', '@tata', '@mahindra', '@honda', 'ADANI', '@meta']\n"
     ]
    }
   ],
   "source": [
    "data = ['ola','kia','tata','mahindra','honda','ADANI','meta']\n",
    "\n",
    "# ['@ola','@tata']\n",
    "\n",
    "tag_data = []\n",
    "\n",
    "for kuchbhi in data:\n",
    "    if kuchbhi.lower() == 'adani':\n",
    "        tag_data.append(kuchbhi)\n",
    "    else:\n",
    "        tag_data.append('@'+kuchbhi)\n",
    "print(tag_data)"
   ]
  },
  {
   "cell_type": "code",
   "execution_count": 87,
   "id": "98e03739",
   "metadata": {},
   "outputs": [
    {
     "name": "stdout",
     "output_type": "stream",
     "text": [
      "Hello World\n",
      "Hello World\n",
      "Hello World\n",
      "Hello World\n",
      "Hello World\n"
     ]
    }
   ],
   "source": [
    "print('Hello World')\n",
    "print('Hello World')\n",
    "print('Hello World')\n",
    "print('Hello World')\n",
    "print('Hello World')"
   ]
  },
  {
   "cell_type": "code",
   "execution_count": 88,
   "id": "06e663a8",
   "metadata": {},
   "outputs": [
    {
     "name": "stdout",
     "output_type": "stream",
     "text": [
      "Hello World\n",
      "Hello World\n",
      "Hello World\n",
      "Hello World\n",
      "Hello World\n",
      "Hello World\n",
      "Hello World\n",
      "Hello World\n",
      "Hello World\n",
      "Hello World\n",
      "\n"
     ]
    }
   ],
   "source": [
    "a = 'Hello World\\n'\n",
    "print(a*10)"
   ]
  },
  {
   "cell_type": "code",
   "execution_count": 90,
   "id": "71a1245a",
   "metadata": {},
   "outputs": [
    {
     "name": "stdout",
     "output_type": "stream",
     "text": [
      "Hello World\n",
      "Hello World\n",
      "Hello World\n",
      "Hello World\n",
      "Hello World\n",
      "Hello World\n",
      "Hello World\n",
      "Hello World\n",
      "Hello World\n",
      "Hello World\n"
     ]
    }
   ],
   "source": [
    "data = [1,345,123,563457,623,567,346,354,3,4]\n",
    "\n",
    "for i in data:\n",
    "    print('Hello World')"
   ]
  },
  {
   "cell_type": "code",
   "execution_count": 91,
   "id": "afc2cced",
   "metadata": {},
   "outputs": [
    {
     "name": "stdout",
     "output_type": "stream",
     "text": [
      "Hello World\n",
      "Hello World\n",
      "Hello World\n",
      "Hello World\n",
      "Hello World\n",
      "Hello World\n",
      "Hello World\n",
      "Hello World\n",
      "Hello World\n",
      "Hello World\n"
     ]
    }
   ],
   "source": [
    "data = [1,2,3,4,5,6,7,8,9,10]\n",
    "\n",
    "for i in data:\n",
    "    print('Hello World')"
   ]
  },
  {
   "cell_type": "code",
   "execution_count": 94,
   "id": "84ea54fe",
   "metadata": {},
   "outputs": [
    {
     "name": "stdout",
     "output_type": "stream",
     "text": [
      "Hello World\n",
      "Hello World\n",
      "Hello World\n",
      "Hello World\n",
      "Hello World\n",
      "Hello World\n",
      "Hello World\n",
      "Hello World\n",
      "Hello World\n",
      "Hello World\n"
     ]
    }
   ],
   "source": [
    "for i in range(10):\n",
    "    print('Hello World')"
   ]
  },
  {
   "cell_type": "code",
   "execution_count": 102,
   "id": "063d6f8b",
   "metadata": {},
   "outputs": [
    {
     "name": "stdout",
     "output_type": "stream",
     "text": [
      "23 x 1 = 23\n",
      "23 x 2 = 46\n",
      "23 x 3 = 69\n",
      "23 x 4 = 92\n",
      "23 x 5 = 115\n",
      "23 x 6 = 138\n",
      "23 x 7 = 161\n",
      "23 x 8 = 184\n",
      "23 x 9 = 207\n",
      "23 x 10 = 230\n"
     ]
    }
   ],
   "source": [
    "table = 23\n",
    "\n",
    "# 5 x 1 = 5\n",
    "# 5 x 2 = 10\n",
    "\n",
    "for i in range(1,11):\n",
    "    print(f\"{table} x {i} = {table * i}\")"
   ]
  },
  {
   "cell_type": "code",
   "execution_count": null,
   "id": "7da90ad0",
   "metadata": {},
   "outputs": [],
   "source": []
  },
  {
   "cell_type": "code",
   "execution_count": 104,
   "id": "5324b431",
   "metadata": {},
   "outputs": [],
   "source": [
    "# break, continue, pass"
   ]
  },
  {
   "cell_type": "code",
   "execution_count": 107,
   "id": "bd33a97f",
   "metadata": {},
   "outputs": [],
   "source": [
    "# continue :- skip that iteration"
   ]
  },
  {
   "cell_type": "code",
   "execution_count": 113,
   "id": "832f446f",
   "metadata": {},
   "outputs": [
    {
     "name": "stdout",
     "output_type": "stream",
     "text": [
      "👍 ola\n",
      "ABC\n",
      "👍 kia\n",
      "ABC\n",
      "👍 tata\n",
      "ABC\n",
      "👍 mahindra\n",
      "ABC\n",
      "👍 ADANI\n",
      "ABC\n",
      "👍 meta\n",
      "ABC\n"
     ]
    }
   ],
   "source": [
    "data = ['ola','kia','tata','mahindra','honda','ADANI','honda','meta']\n",
    "\n",
    "\n",
    "for i in data:\n",
    "    if i.lower() == 'honda':\n",
    "        continue  # skip kar do isse\n",
    "        print('ye chalao')\n",
    "    else:\n",
    "        print('👍',i)\n",
    "        \n",
    "    print('ABC')"
   ]
  },
  {
   "cell_type": "code",
   "execution_count": 116,
   "id": "71ebffd4",
   "metadata": {},
   "outputs": [
    {
     "name": "stdout",
     "output_type": "stream",
     "text": [
      "👍 ola\n",
      "ABC\n",
      "👍 kia\n",
      "ABC\n",
      "👍 tata\n",
      "ABC\n",
      "👍 mahindra\n",
      "ABC\n",
      "isse bhi\n",
      "ABC\n",
      "👍 ADANI\n",
      "ABC\n",
      "👍 meta\n",
      "ABC\n"
     ]
    }
   ],
   "source": [
    "data = ['ola','kia','tata','mahindra','honda','ADANI','meta']\n",
    "\n",
    "\n",
    "for i in data:\n",
    "    if i.lower() == 'honda':\n",
    "        pass  # skip kar do isse\n",
    "        print('isse bhi')\n",
    "    else:\n",
    "        print('👍',i)\n",
    "        \n",
    "    print('ABC')"
   ]
  },
  {
   "cell_type": "code",
   "execution_count": null,
   "id": "4714ae55",
   "metadata": {},
   "outputs": [],
   "source": []
  },
  {
   "cell_type": "code",
   "execution_count": 118,
   "id": "5d4dfc28",
   "metadata": {},
   "outputs": [],
   "source": [
    "data_dict = {'Aman':False,'karan':False,'Ravi':'Bomb','Ajay':None}"
   ]
  },
  {
   "cell_type": "code",
   "execution_count": 128,
   "id": "9dddf81f",
   "metadata": {},
   "outputs": [
    {
     "name": "stdout",
     "output_type": "stream",
     "text": [
      "Aman can go!!\n",
      "karan can go!!\n",
      "STOP STOP💥BOMB💥\n"
     ]
    }
   ],
   "source": [
    "for checking in data_dict:\n",
    "    if data_dict[checking] == 'Bomb':\n",
    "        print('STOP STOP💥BOMB💥')\n",
    "        break  # break that iteration\n",
    "    else:\n",
    "        print(checking,'can go!!')"
   ]
  },
  {
   "cell_type": "code",
   "execution_count": 122,
   "id": "1728c0cc",
   "metadata": {},
   "outputs": [
    {
     "data": {
      "text/plain": [
       "'Bomb'"
      ]
     },
     "execution_count": 122,
     "metadata": {},
     "output_type": "execute_result"
    }
   ],
   "source": [
    "data_dict['Ravi']"
   ]
  },
  {
   "cell_type": "code",
   "execution_count": null,
   "id": "d34e95bd",
   "metadata": {},
   "outputs": [],
   "source": []
  },
  {
   "cell_type": "code",
   "execution_count": 129,
   "id": "aa65befa",
   "metadata": {},
   "outputs": [],
   "source": [
    "# traffic light code\n",
    "# random number guess game"
   ]
  },
  {
   "cell_type": "code",
   "execution_count": 147,
   "id": "6e39376f",
   "metadata": {},
   "outputs": [],
   "source": [
    "bande_ka_money = 0\n",
    "company_money = 0"
   ]
  },
  {
   "cell_type": "code",
   "execution_count": 160,
   "id": "227eea20",
   "metadata": {},
   "outputs": [
    {
     "name": "stdout",
     "output_type": "stream",
     "text": [
      "Guess a number: 7\n",
      "Comp choice:  2\n",
      "You Lose\n",
      "Better Luck Next time❌\n",
      "9 Attempts left\n",
      "Guess a number: 4\n",
      "Comp choice:  7\n",
      "You Lose\n",
      "Better Luck Next time❌\n",
      "8 Attempts left\n",
      "Guess a number: 5\n",
      "Comp choice:  10\n",
      "You Lose\n",
      "Better Luck Next time❌\n",
      "7 Attempts left\n",
      "Guess a number: 2\n",
      "Comp choice:  7\n",
      "You Lose\n",
      "Better Luck Next time❌\n",
      "6 Attempts left\n",
      "Guess a number: 3\n",
      "Comp choice:  1\n",
      "You Lose\n",
      "Better Luck Next time❌\n",
      "5 Attempts left\n",
      "Guess a number: 9\n",
      "Comp choice:  5\n",
      "You Lose\n",
      "Better Luck Next time❌\n",
      "4 Attempts left\n",
      "Guess a number: 8\n",
      "Comp choice:  1\n",
      "You Lose\n",
      "Better Luck Next time❌\n",
      "3 Attempts left\n",
      "Guess a number: 6\n",
      "Comp choice:  2\n",
      "You Lose\n",
      "Better Luck Next time❌\n",
      "2 Attempts left\n",
      "Guess a number: 1\n",
      "Comp choice:  7\n",
      "You Lose\n",
      "Better Luck Next time❌\n",
      "1 Attempts left\n",
      "Guess a number: 7\n",
      "Comp choice:  7\n",
      "You guess right👍\n",
      "0 Attempts left\n"
     ]
    }
   ],
   "source": [
    "import random\n",
    "\n",
    "for i in range(1,11):\n",
    "    company_money += 10000\n",
    "    comp = random.choice(list(range(1,11)))\n",
    "    \n",
    "    user = int(input('Guess a number: '))\n",
    "    \n",
    "    print('Comp choice: ',comp)\n",
    "    if user == comp:\n",
    "        print('You guess right👍')\n",
    "        bande_ka_money+= 100000\n",
    "        company_money -= bande_ka_money\n",
    "    else:\n",
    "        print('You Lose\\nBetter Luck Next time❌')\n",
    "        bande_ka_money -= 10000\n",
    "#         break\n",
    "    print(f'{10-i} Attempts left')"
   ]
  },
  {
   "cell_type": "code",
   "execution_count": 162,
   "id": "3b8541d8",
   "metadata": {},
   "outputs": [
    {
     "name": "stdout",
     "output_type": "stream",
     "text": [
      "Bande ka collection 30000\n",
      "company money 150000\n"
     ]
    }
   ],
   "source": [
    "print('Bande ka collection',bande_ka_money)\n",
    "print('company money',company_money)"
   ]
  },
  {
   "cell_type": "code",
   "execution_count": null,
   "id": "5bbd1b61",
   "metadata": {},
   "outputs": [],
   "source": []
  }
 ],
 "metadata": {
  "kernelspec": {
   "display_name": "Python 3 (ipykernel)",
   "language": "python",
   "name": "python3"
  },
  "language_info": {
   "codemirror_mode": {
    "name": "ipython",
    "version": 3
   },
   "file_extension": ".py",
   "mimetype": "text/x-python",
   "name": "python",
   "nbconvert_exporter": "python",
   "pygments_lexer": "ipython3",
   "version": "3.11.3"
  }
 },
 "nbformat": 4,
 "nbformat_minor": 5
}
