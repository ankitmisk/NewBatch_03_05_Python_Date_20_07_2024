{
 "cells": [
  {
   "cell_type": "code",
   "execution_count": 2,
   "id": "c975c79a",
   "metadata": {},
   "outputs": [],
   "source": [
    "# For loop\n",
    "# for loop with else\n",
    "# one liner for loop\n",
    "# list comphrension\n",
    "# ---------------------------\n",
    "# KBC Game"
   ]
  },
  {
   "cell_type": "code",
   "execution_count": 3,
   "id": "ee74163f",
   "metadata": {},
   "outputs": [],
   "source": [
    "# for loop with else"
   ]
  },
  {
   "cell_type": "code",
   "execution_count": 4,
   "id": "776f0f7f",
   "metadata": {},
   "outputs": [],
   "source": [
    "# if\n",
    "# else"
   ]
  },
  {
   "cell_type": "code",
   "execution_count": 5,
   "id": "5fbb63f3",
   "metadata": {},
   "outputs": [
    {
     "name": "stdout",
     "output_type": "stream",
     "text": [
      "234\n",
      "1243\n",
      "45\n",
      "214\n",
      "3546\n",
      "ye tabhi chalega jab for loop pura chalega\n"
     ]
    }
   ],
   "source": [
    "data = [234,1243,45,214,3546]\n",
    "for i in data:\n",
    "    print(i)\n",
    "    \n",
    "else:\n",
    "    print('ye tabhi chalega jab for loop pura chalega')"
   ]
  },
  {
   "cell_type": "code",
   "execution_count": null,
   "id": "7bbbe942",
   "metadata": {},
   "outputs": [],
   "source": []
  },
  {
   "cell_type": "code",
   "execution_count": null,
   "id": "692182e7",
   "metadata": {},
   "outputs": [],
   "source": []
  },
  {
   "cell_type": "code",
   "execution_count": 6,
   "id": "d616cf5b",
   "metadata": {},
   "outputs": [
    {
     "name": "stdout",
     "output_type": "stream",
     "text": [
      "234\n",
      "1243\n"
     ]
    }
   ],
   "source": [
    "data = [234,1243,45,214,3546]\n",
    "for i in data:\n",
    "    if i == 45:\n",
    "        break\n",
    "    else:\n",
    "        print(i)\n",
    "    \n",
    "else:\n",
    "    print('ye tabhi chalega jab for loop pura chalega')"
   ]
  },
  {
   "cell_type": "code",
   "execution_count": 7,
   "id": "4fb419ab",
   "metadata": {},
   "outputs": [],
   "source": [
    "# prime number find:\n",
    "# prime:- divisible by itself and 1\n",
    "# atleast 2 divisibility"
   ]
  },
  {
   "cell_type": "code",
   "execution_count": 8,
   "id": "c3b16eb8",
   "metadata": {},
   "outputs": [],
   "source": [
    "# 2:- 2,1\n",
    "# 3:- 3,1\n",
    "# 4:- 1,2,4\n",
    "# 1:- 1"
   ]
  },
  {
   "cell_type": "code",
   "execution_count": 20,
   "id": "61250123",
   "metadata": {},
   "outputs": [
    {
     "name": "stdout",
     "output_type": "stream",
     "text": [
      "Prime Number\n"
     ]
    }
   ],
   "source": [
    "number = 3\n",
    "\n",
    "if number>=2:\n",
    "\n",
    "    for i in range(2,number):\n",
    "        if number % i == 0:\n",
    "            print('Not a prime Number')\n",
    "            break\n",
    "\n",
    "    else:\n",
    "        print('Prime Number')\n",
    "else:\n",
    "    print('Invalid') "
   ]
  },
  {
   "cell_type": "code",
   "execution_count": 21,
   "id": "c1a52b8b",
   "metadata": {},
   "outputs": [],
   "source": [
    "# nested for loop"
   ]
  },
  {
   "cell_type": "code",
   "execution_count": 22,
   "id": "629bdbad",
   "metadata": {},
   "outputs": [],
   "source": [
    "# for loop:\n",
    "#     for loop:\n",
    "#         for loop:\n",
    "#             for loop\n",
    "# time complex:- High"
   ]
  },
  {
   "cell_type": "code",
   "execution_count": 23,
   "id": "ac5ece8e",
   "metadata": {},
   "outputs": [],
   "source": [
    "bag1 = ['apple','mango','banana','papaya']\n",
    "bag2 = ['@','#','$','^']\n",
    "\n",
    "# @#$^apple\n",
    "# @#$^mango"
   ]
  },
  {
   "cell_type": "code",
   "execution_count": 46,
   "id": "d04bd62c",
   "metadata": {},
   "outputs": [
    {
     "name": "stdout",
     "output_type": "stream",
     "text": [
      "@#$^apple\n",
      "@#$^mango\n",
      "@#$^banana\n",
      "@#$^papaya\n"
     ]
    }
   ],
   "source": [
    "for i in bag1:  # outer loop\n",
    "    for j in bag2: # inner loop\n",
    "        print(j,end = '')\n",
    "        \n",
    "    print(i)"
   ]
  },
  {
   "cell_type": "code",
   "execution_count": 53,
   "id": "a5a36234",
   "metadata": {},
   "outputs": [
    {
     "name": "stdout",
     "output_type": "stream",
     "text": [
      "[1, 34, 34, 6, 653]\n"
     ]
    }
   ],
   "source": [
    "data1 = [1,232,43,1243,34,135,6,345,653,445,67,43243,4456,787,54534]\n",
    "data2 = [1,235,12,34,6532,6,7,34,655,47,653,24,367,575]\n",
    "\n",
    "# c = [1,34,6]\n",
    "\n",
    "common = []\n",
    "\n",
    "for i in data1:\n",
    "    for j in data2:\n",
    "        if i == j:\n",
    "            common.append(i)\n",
    "            \n",
    "print(common)\n"
   ]
  },
  {
   "cell_type": "code",
   "execution_count": null,
   "id": "76197c77",
   "metadata": {},
   "outputs": [],
   "source": []
  },
  {
   "cell_type": "code",
   "execution_count": 57,
   "id": "241cc345",
   "metadata": {},
   "outputs": [
    {
     "name": "stdout",
     "output_type": "stream",
     "text": [
      "[34, 653]\n"
     ]
    }
   ],
   "source": [
    "data1 = [1,232,43,1243,34,135,6,345,653,445,67,43243,4456,787,54534]\n",
    "data2 = [1,235,12,34,6532,6,7,34,655,47,653,24,367,575]\n",
    "data3 = [21,3456,5432,4,567,653,34,65678,3,234,5457]\n",
    "\n",
    "common = []\n",
    "\n",
    "for i in data1:\n",
    "    for j in data2:\n",
    "        for k in data3:\n",
    "            if (i == j == k):\n",
    "                common.append(i)\n",
    "            \n",
    "print(list(set(common)))\n"
   ]
  },
  {
   "cell_type": "code",
   "execution_count": null,
   "id": "8f07a93d",
   "metadata": {},
   "outputs": [],
   "source": []
  },
  {
   "cell_type": "code",
   "execution_count": 96,
   "id": "8cfc6c5b",
   "metadata": {},
   "outputs": [],
   "source": [
    "data1 = [1,232,43,1243,34,135,6,2,345,653,445,67,43243,4456,787,54534]\n",
    "data2 = [1,235,12,34,6532,6,7,34,2,655,47,653,24,367,575]\n",
    "data3 = [21,3456,5432,4,567,653,2,34,65678,3,234,5457]\n",
    "data4 = [12,34,412,354,6532,56,2,775,4,567,54,677]\n",
    "data5 = [4,12354,34,1235,45,1235,2,64,6532,6758]\n",
    "data6 = [21,345,42,345,67,4324,56782,2,5542,1344,5677]\n",
    "data7 = [12,43,65,324,567,5,434,2,456,7,654,55,67,9]\n",
    "# print(data1+data2+data3)"
   ]
  },
  {
   "cell_type": "code",
   "execution_count": 97,
   "id": "8a7da800",
   "metadata": {},
   "outputs": [
    {
     "data": {
      "text/plain": [
       "{2}"
      ]
     },
     "execution_count": 97,
     "metadata": {},
     "output_type": "execute_result"
    }
   ],
   "source": [
    "set(data1).intersection(data2,data3,data4,data5,data6,data7)"
   ]
  },
  {
   "cell_type": "code",
   "execution_count": null,
   "id": "ba896fd0",
   "metadata": {},
   "outputs": [],
   "source": []
  },
  {
   "cell_type": "code",
   "execution_count": 98,
   "id": "f925b09a",
   "metadata": {},
   "outputs": [],
   "source": [
    "mera_message = 'ans = set(data1).intersection('\n",
    "\n",
    "for i in range(2,8):\n",
    "    mera_message += 'data'+str(i)+','\n",
    "    \n",
    "mera_message = mera_message[:-1]+')'\n",
    "exec(mera_message)"
   ]
  },
  {
   "cell_type": "code",
   "execution_count": 99,
   "id": "fe14be0a",
   "metadata": {},
   "outputs": [],
   "source": [
    "a = 'python'"
   ]
  },
  {
   "cell_type": "code",
   "execution_count": 100,
   "id": "418aadbe",
   "metadata": {},
   "outputs": [
    {
     "data": {
      "text/plain": [
       "'pytho'"
      ]
     },
     "execution_count": 100,
     "metadata": {},
     "output_type": "execute_result"
    }
   ],
   "source": [
    "a[:-1]"
   ]
  },
  {
   "cell_type": "code",
   "execution_count": 101,
   "id": "900a4141",
   "metadata": {},
   "outputs": [
    {
     "data": {
      "text/plain": [
       "{2}"
      ]
     },
     "execution_count": 101,
     "metadata": {},
     "output_type": "execute_result"
    }
   ],
   "source": [
    "ans"
   ]
  },
  {
   "cell_type": "code",
   "execution_count": 102,
   "id": "1fad11f5",
   "metadata": {},
   "outputs": [
    {
     "data": {
      "text/plain": [
       "'ans = set(data1).intersection(data2,data3,data4,data5,data6,data7)'"
      ]
     },
     "execution_count": 102,
     "metadata": {},
     "output_type": "execute_result"
    }
   ],
   "source": [
    "mera_message"
   ]
  },
  {
   "cell_type": "code",
   "execution_count": null,
   "id": "be42093e",
   "metadata": {},
   "outputs": [],
   "source": []
  },
  {
   "cell_type": "code",
   "execution_count": null,
   "id": "e678f967",
   "metadata": {},
   "outputs": [],
   "source": []
  },
  {
   "cell_type": "code",
   "execution_count": 103,
   "id": "c15376b3",
   "metadata": {},
   "outputs": [],
   "source": [
    "# one liner for loop\n",
    "# list comphrension"
   ]
  },
  {
   "cell_type": "code",
   "execution_count": 104,
   "id": "b650aaec",
   "metadata": {},
   "outputs": [],
   "source": [
    "# one liner for loop"
   ]
  },
  {
   "cell_type": "code",
   "execution_count": 110,
   "id": "41d788eb",
   "metadata": {},
   "outputs": [
    {
     "name": "stdout",
     "output_type": "stream",
     "text": [
      "kia\n",
      "bmw\n",
      "audi\n",
      "nano\n"
     ]
    }
   ],
   "source": [
    "data = ['kia','bmw','audi','nano']\n",
    "import time\n",
    "\n",
    "for i in data:\n",
    "    print(i)\n",
    "    time.sleep(1)"
   ]
  },
  {
   "cell_type": "code",
   "execution_count": 113,
   "id": "18b8c089",
   "metadata": {},
   "outputs": [
    {
     "name": "stdout",
     "output_type": "stream",
     "text": [
      "kia\n",
      "bmw\n",
      "audi\n",
      "nano\n"
     ]
    }
   ],
   "source": [
    "data = ['kia','bmw','audi','nano']\n",
    "import time\n",
    "\n",
    "for i in data:print(i);time.sleep(1)"
   ]
  },
  {
   "cell_type": "code",
   "execution_count": 114,
   "id": "c1d7d117",
   "metadata": {},
   "outputs": [],
   "source": [
    "# list comphrension"
   ]
  },
  {
   "cell_type": "code",
   "execution_count": 115,
   "id": "e6bf0dc4",
   "metadata": {},
   "outputs": [],
   "source": [
    "# list ke andar for loop chalana"
   ]
  },
  {
   "cell_type": "code",
   "execution_count": 116,
   "id": "d698810b",
   "metadata": {},
   "outputs": [
    {
     "name": "stdout",
     "output_type": "stream",
     "text": [
      "[12, 456, 432, 45678]\n",
      "[43, 523, 43]\n"
     ]
    }
   ],
   "source": [
    "data = [12,43,523,456,432,43,45678]\n",
    "\n",
    "even = []\n",
    "odd =[]\n",
    "for i in data:\n",
    "    if i % 2== 0:\n",
    "        even.append(i)\n",
    "    else:\n",
    "        odd.append(i)\n",
    "print(even)\n",
    "print(odd)"
   ]
  },
  {
   "cell_type": "code",
   "execution_count": 117,
   "id": "af73752a",
   "metadata": {},
   "outputs": [
    {
     "data": {
      "text/plain": [
       "[12, 43, 523, 456, 432, 43, 45678]"
      ]
     },
     "execution_count": 117,
     "metadata": {},
     "output_type": "execute_result"
    }
   ],
   "source": [
    "data"
   ]
  },
  {
   "cell_type": "code",
   "execution_count": 119,
   "id": "aea89623",
   "metadata": {},
   "outputs": [
    {
     "data": {
      "text/plain": [
       "[22, 53, 533, 466, 442, 53, 45688]"
      ]
     },
     "execution_count": 119,
     "metadata": {},
     "output_type": "execute_result"
    }
   ],
   "source": [
    "[i+10 for i in data]"
   ]
  },
  {
   "cell_type": "code",
   "execution_count": 122,
   "id": "5aad6fda",
   "metadata": {},
   "outputs": [
    {
     "name": "stdout",
     "output_type": "stream",
     "text": [
      "[12, 456, 432, 45678]\n",
      "[43, 523, 43]\n"
     ]
    }
   ],
   "source": [
    "even = [i for i in data if i % 2 == 0]\n",
    "odd = [i for i in data if i % 2 != 0]\n",
    "\n",
    "print(even)\n",
    "print(odd)"
   ]
  },
  {
   "cell_type": "code",
   "execution_count": 123,
   "id": "f72a8233",
   "metadata": {},
   "outputs": [
    {
     "data": {
      "text/plain": [
       "[12, 43, 523, 456, 432, 43, 45678]"
      ]
     },
     "execution_count": 123,
     "metadata": {},
     "output_type": "execute_result"
    }
   ],
   "source": [
    "data"
   ]
  },
  {
   "cell_type": "code",
   "execution_count": 126,
   "id": "c772709d",
   "metadata": {},
   "outputs": [
    {
     "name": "stdout",
     "output_type": "stream",
     "text": [
      "[(12, 12), (43, 43), (523, 523), (456, 456), (432, 432), (43, 43), (45678, 45678)]\n"
     ]
    }
   ],
   "source": [
    "print([(i,i) for i in data])"
   ]
  },
  {
   "cell_type": "code",
   "execution_count": null,
   "id": "79b3bb67",
   "metadata": {},
   "outputs": [],
   "source": []
  },
  {
   "cell_type": "code",
   "execution_count": null,
   "id": "4b9308f5",
   "metadata": {},
   "outputs": [],
   "source": []
  },
  {
   "cell_type": "code",
   "execution_count": 127,
   "id": "096b0365",
   "metadata": {},
   "outputs": [
    {
     "name": "stdout",
     "output_type": "stream",
     "text": [
      "[12, 456, 432, 45678]\n",
      "[43, 523, 43]\n"
     ]
    }
   ],
   "source": [
    "print([i for i in data if i % 2 == 0])\n",
    "print([i for i in data if i % 2 != 0])"
   ]
  },
  {
   "cell_type": "code",
   "execution_count": 140,
   "id": "7e08c040",
   "metadata": {},
   "outputs": [
    {
     "name": "stdout",
     "output_type": "stream",
     "text": [
      "P\n",
      "Py\n",
      "Pyt\n",
      "Pyth\n",
      "Pytho\n",
      "Python\n"
     ]
    }
   ],
   "source": [
    "data = 'Python'\n",
    "\n",
    "for i in range(1,len(data)+1):\n",
    "    print(data[0:i])"
   ]
  },
  {
   "cell_type": "code",
   "execution_count": null,
   "id": "f80a9e7d",
   "metadata": {},
   "outputs": [],
   "source": []
  },
  {
   "cell_type": "code",
   "execution_count": 141,
   "id": "bec38f7e",
   "metadata": {},
   "outputs": [],
   "source": [
    "# [(1,1),(2,2),(3,3),(4,4)]"
   ]
  },
  {
   "cell_type": "code",
   "execution_count": 144,
   "id": "88bfb365",
   "metadata": {},
   "outputs": [
    {
     "data": {
      "text/plain": [
       "[(1, 1), (2, 2), (3, 3), (4, 4), (5, 5)]"
      ]
     },
     "execution_count": 144,
     "metadata": {},
     "output_type": "execute_result"
    }
   ],
   "source": [
    "num = 5\n",
    "# [(1,1),(2,2),(3,3),(4,4),(5,5)]\n",
    "\n",
    "[(i,i) for i in range(1,num+1)]"
   ]
  },
  {
   "cell_type": "code",
   "execution_count": null,
   "id": "935387b2",
   "metadata": {},
   "outputs": [],
   "source": []
  },
  {
   "cell_type": "code",
   "execution_count": 145,
   "id": "5eaf2579",
   "metadata": {},
   "outputs": [
    {
     "data": {
      "text/plain": [
       "[(1, 1), (2, 4), (3, 9), (4, 16), (5, 25)]"
      ]
     },
     "execution_count": 145,
     "metadata": {},
     "output_type": "execute_result"
    }
   ],
   "source": [
    "num = 5\n",
    "# [(1,1),(2,4),(3,9),(4,16),(5,25)]\n",
    "\n",
    "[(i,i**2) for i in range(1,num+1)]"
   ]
  },
  {
   "cell_type": "code",
   "execution_count": 148,
   "id": "4ed4e66f",
   "metadata": {},
   "outputs": [
    {
     "name": "stdout",
     "output_type": "stream",
     "text": [
      "[3, 32]\n"
     ]
    }
   ],
   "source": [
    "data1 = [12,3,412,32,542]\n",
    "data2 = [21,3,65,32,356]\n",
    "\n",
    "common = [i for i in data1 for j in data2 if i == j]\n",
    "print(common)"
   ]
  },
  {
   "cell_type": "code",
   "execution_count": null,
   "id": "12bf4e3c",
   "metadata": {},
   "outputs": [],
   "source": []
  },
  {
   "cell_type": "code",
   "execution_count": null,
   "id": "ca90e735",
   "metadata": {},
   "outputs": [],
   "source": []
  },
  {
   "cell_type": "code",
   "execution_count": 150,
   "id": "26036dd4",
   "metadata": {},
   "outputs": [
    {
     "name": "stdout",
     "output_type": "stream",
     "text": [
      "[(32, 32, 32)]\n"
     ]
    }
   ],
   "source": [
    "data1 = [12,3,412,32,542]\n",
    "data2 = [21,3,65,32,356]\n",
    "data3 = [2,32,5342,153,47]\n",
    "common = [(i,j,k) for i in data1 for j in data2 for k in data3 if i==j==k]\n",
    "print(common)"
   ]
  },
  {
   "cell_type": "code",
   "execution_count": 151,
   "id": "1cfcea25",
   "metadata": {},
   "outputs": [],
   "source": [
    "# [(1,'A'),(2,'B'),...]"
   ]
  },
  {
   "cell_type": "code",
   "execution_count": 152,
   "id": "3dff3fe5",
   "metadata": {},
   "outputs": [],
   "source": [
    "# enumerate "
   ]
  },
  {
   "cell_type": "code",
   "execution_count": 160,
   "id": "cacec146",
   "metadata": {},
   "outputs": [
    {
     "data": {
      "text/plain": [
       "[(1, 'A'), (2, 'B'), (3, 'C'), (4, 'D'), (5, 'E'), (6, 'F')]"
      ]
     },
     "execution_count": 160,
     "metadata": {},
     "output_type": "execute_result"
    }
   ],
   "source": [
    "data = 'ABCDEF'\n",
    "ans = []\n",
    "\n",
    "for index,value in enumerate(data):\n",
    "    ans.append((index+1,value))\n",
    "ans"
   ]
  },
  {
   "cell_type": "code",
   "execution_count": 168,
   "id": "3f2c6de4",
   "metadata": {},
   "outputs": [
    {
     "name": "stdout",
     "output_type": "stream",
     "text": [
      "[(1, 'A'), (2, 'B'), (3, 'C'), (4, 'D'), (5, 'E'), (6, 'F'), (7, 'G'), (8, 'H'), (9, 'I'), (10, 'J'), (11, 'K'), (12, 'L'), (13, 'M'), (14, 'N'), (15, 'O'), (16, 'P'), (17, 'Q'), (18, 'R'), (19, 'S'), (20, 'T'), (21, 'U'), (22, 'V'), (23, 'W'), (24, 'X'), (25, 'Y'), (26, 'Z')]\n"
     ]
    }
   ],
   "source": [
    "data = string.ascii_uppercase\n",
    "\n",
    "\n",
    "ans = [(i+1,j) for i,j in enumerate(data)]\n",
    "print(ans)"
   ]
  },
  {
   "cell_type": "code",
   "execution_count": 166,
   "id": "9236eb6c",
   "metadata": {},
   "outputs": [],
   "source": [
    "import string"
   ]
  },
  {
   "cell_type": "code",
   "execution_count": 169,
   "id": "34b1c856",
   "metadata": {},
   "outputs": [
    {
     "data": {
      "text/plain": [
       "'ABCDEFGHIJKLMNOPQRSTUVWXYZ'"
      ]
     },
     "execution_count": 169,
     "metadata": {},
     "output_type": "execute_result"
    }
   ],
   "source": [
    "string.ascii_uppercase"
   ]
  },
  {
   "cell_type": "code",
   "execution_count": 170,
   "id": "77fe85aa",
   "metadata": {},
   "outputs": [],
   "source": [
    "import calendar"
   ]
  },
  {
   "cell_type": "code",
   "execution_count": 171,
   "id": "da5648a2",
   "metadata": {},
   "outputs": [
    {
     "name": "stdout",
     "output_type": "stream",
     "text": [
      "                                  2024\n",
      "\n",
      "      January                   February                   March\n",
      "Mo Tu We Th Fr Sa Su      Mo Tu We Th Fr Sa Su      Mo Tu We Th Fr Sa Su\n",
      " 1  2  3  4  5  6  7                1  2  3  4                   1  2  3\n",
      " 8  9 10 11 12 13 14       5  6  7  8  9 10 11       4  5  6  7  8  9 10\n",
      "15 16 17 18 19 20 21      12 13 14 15 16 17 18      11 12 13 14 15 16 17\n",
      "22 23 24 25 26 27 28      19 20 21 22 23 24 25      18 19 20 21 22 23 24\n",
      "29 30 31                  26 27 28 29               25 26 27 28 29 30 31\n",
      "\n",
      "       April                      May                       June\n",
      "Mo Tu We Th Fr Sa Su      Mo Tu We Th Fr Sa Su      Mo Tu We Th Fr Sa Su\n",
      " 1  2  3  4  5  6  7             1  2  3  4  5                      1  2\n",
      " 8  9 10 11 12 13 14       6  7  8  9 10 11 12       3  4  5  6  7  8  9\n",
      "15 16 17 18 19 20 21      13 14 15 16 17 18 19      10 11 12 13 14 15 16\n",
      "22 23 24 25 26 27 28      20 21 22 23 24 25 26      17 18 19 20 21 22 23\n",
      "29 30                     27 28 29 30 31            24 25 26 27 28 29 30\n",
      "\n",
      "        July                     August                  September\n",
      "Mo Tu We Th Fr Sa Su      Mo Tu We Th Fr Sa Su      Mo Tu We Th Fr Sa Su\n",
      " 1  2  3  4  5  6  7                1  2  3  4                         1\n",
      " 8  9 10 11 12 13 14       5  6  7  8  9 10 11       2  3  4  5  6  7  8\n",
      "15 16 17 18 19 20 21      12 13 14 15 16 17 18       9 10 11 12 13 14 15\n",
      "22 23 24 25 26 27 28      19 20 21 22 23 24 25      16 17 18 19 20 21 22\n",
      "29 30 31                  26 27 28 29 30 31         23 24 25 26 27 28 29\n",
      "                                                    30\n",
      "\n",
      "      October                   November                  December\n",
      "Mo Tu We Th Fr Sa Su      Mo Tu We Th Fr Sa Su      Mo Tu We Th Fr Sa Su\n",
      "    1  2  3  4  5  6                   1  2  3                         1\n",
      " 7  8  9 10 11 12 13       4  5  6  7  8  9 10       2  3  4  5  6  7  8\n",
      "14 15 16 17 18 19 20      11 12 13 14 15 16 17       9 10 11 12 13 14 15\n",
      "21 22 23 24 25 26 27      18 19 20 21 22 23 24      16 17 18 19 20 21 22\n",
      "28 29 30 31               25 26 27 28 29 30         23 24 25 26 27 28 29\n",
      "                                                    30 31\n",
      "\n"
     ]
    }
   ],
   "source": [
    "print(calendar.calendar(2024))"
   ]
  },
  {
   "cell_type": "code",
   "execution_count": 172,
   "id": "cad2c70e",
   "metadata": {},
   "outputs": [],
   "source": [
    "# Random password generator"
   ]
  },
  {
   "cell_type": "code",
   "execution_count": 203,
   "id": "5c1255f4",
   "metadata": {},
   "outputs": [],
   "source": [
    "import random\n",
    "google_account = {}"
   ]
  },
  {
   "cell_type": "code",
   "execution_count": 212,
   "id": "9f756449",
   "metadata": {},
   "outputs": [
    {
     "name": "stdout",
     "output_type": "stream",
     "text": [
      "Present account: uber\n",
      "9*jno\n",
      "want to save (yes/no): yes\n"
     ]
    }
   ],
   "source": [
    "length = 5\n",
    "possible_char = string.ascii_letters+string.digits+string.punctuation\n",
    "\n",
    "pwd = ''\n",
    "\n",
    "\n",
    "account = input('Present account: ')\n",
    "for i in range(length):\n",
    "    pwd += random.choice(possible_char)\n",
    "    \n",
    "for i in google_account:\n",
    "    if pwd == google_account[i]:\n",
    "        break\n",
    "else:   \n",
    "    print(pwd)\n",
    "\n",
    "    ans = input('want to save (yes/no): ')\n",
    "    if ans.lower() == 'yes':\n",
    "        google_account[account] = pwd\n"
   ]
  },
  {
   "cell_type": "code",
   "execution_count": 213,
   "id": "efa2cdcc",
   "metadata": {},
   "outputs": [
    {
     "data": {
      "text/plain": [
       "{'netflix': 'DUj53g|A|l7a}Nl',\n",
       " 'ola': '9^\\\\Jp`#CN9[xfwi',\n",
       " 'meta': '8`7}GtK.y;8%}55',\n",
       " 'google': 'XEuQiBSA.3$04QE',\n",
       " 'uber': '9*jno'}"
      ]
     },
     "execution_count": 213,
     "metadata": {},
     "output_type": "execute_result"
    }
   ],
   "source": [
    "google_account"
   ]
  },
  {
   "cell_type": "code",
   "execution_count": 214,
   "id": "5de00622",
   "metadata": {},
   "outputs": [],
   "source": [
    "google_account['uber'] = '878hy@'"
   ]
  },
  {
   "cell_type": "code",
   "execution_count": 215,
   "id": "35f1c58d",
   "metadata": {},
   "outputs": [
    {
     "data": {
      "text/plain": [
       "{'netflix': 'DUj53g|A|l7a}Nl',\n",
       " 'ola': '9^\\\\Jp`#CN9[xfwi',\n",
       " 'meta': '8`7}GtK.y;8%}55',\n",
       " 'google': 'XEuQiBSA.3$04QE',\n",
       " 'uber': '878hy@'}"
      ]
     },
     "execution_count": 215,
     "metadata": {},
     "output_type": "execute_result"
    }
   ],
   "source": [
    "google_account"
   ]
  },
  {
   "cell_type": "code",
   "execution_count": null,
   "id": "3c323394",
   "metadata": {},
   "outputs": [],
   "source": []
  },
  {
   "cell_type": "code",
   "execution_count": 216,
   "id": "186aba53",
   "metadata": {},
   "outputs": [],
   "source": [
    "# add data in database"
   ]
  },
  {
   "cell_type": "code",
   "execution_count": 226,
   "id": "2f709665",
   "metadata": {},
   "outputs": [
    {
     "name": "stdout",
     "output_type": "stream",
     "text": [
      "Done\n"
     ]
    }
   ],
   "source": [
    "database = {'Name':[],\n",
    "           'Salary':[],\n",
    "           'Address':[],\n",
    "           'Age':[]}\n",
    "\n",
    "print('Done')"
   ]
  },
  {
   "cell_type": "code",
   "execution_count": 227,
   "id": "4b631ed4",
   "metadata": {},
   "outputs": [
    {
     "data": {
      "text/plain": [
       "{'Name': [], 'Salary': [], 'Address': [], 'Age': []}"
      ]
     },
     "execution_count": 227,
     "metadata": {},
     "output_type": "execute_result"
    }
   ],
   "source": [
    "database"
   ]
  },
  {
   "cell_type": "code",
   "execution_count": 234,
   "id": "38f8c5e0",
   "metadata": {},
   "outputs": [
    {
     "name": "stdout",
     "output_type": "stream",
     "text": [
      "Enter your Name: Ajay\n",
      "Enter your Salary: 1234\n",
      "Enter your Address: Noida\n",
      "Enter your Age: 24\n",
      "student record added successfully!!\n",
      "\n",
      "Enter your Name: Deepak\n",
      "Enter your Salary: 654324567\n",
      "Enter your Address: Noida\n",
      "Enter your Age: 25\n",
      "student record added successfully!!\n",
      "\n"
     ]
    }
   ],
   "source": [
    "number_of_students = 2\n",
    "\n",
    "\n",
    "for i in range(number_of_students):\n",
    "    for j in database:\n",
    "        database[j].append(input(f'Enter your {j}: '))\n",
    "        \n",
    "    print('student record added successfully!!')\n",
    "    print()"
   ]
  },
  {
   "cell_type": "code",
   "execution_count": 235,
   "id": "b0e2cb4a",
   "metadata": {},
   "outputs": [
    {
     "data": {
      "text/plain": [
       "{'Name': ['Ajay', 'Jatin', 'Akshay', 'Ajay', 'Deepak'],\n",
       " 'Salary': ['23456', '23456', '54321', '1234', '654324567'],\n",
       " 'Address': ['Noida', 'Delhi', 'Greater Noida', 'Noida', 'Noida'],\n",
       " 'Age': ['21', '32', '43', '24', '25']}"
      ]
     },
     "execution_count": 235,
     "metadata": {},
     "output_type": "execute_result"
    }
   ],
   "source": [
    "database"
   ]
  },
  {
   "cell_type": "code",
   "execution_count": 236,
   "id": "0a146a86",
   "metadata": {},
   "outputs": [],
   "source": [
    "import pandas as pd"
   ]
  },
  {
   "cell_type": "code",
   "execution_count": 239,
   "id": "b864a94c",
   "metadata": {},
   "outputs": [
    {
     "ename": "NameError",
     "evalue": "name 'database' is not defined",
     "output_type": "error",
     "traceback": [
      "\u001b[1;31m---------------------------------------------------------------------------\u001b[0m",
      "\u001b[1;31mNameError\u001b[0m                                 Traceback (most recent call last)",
      "Cell \u001b[1;32mIn[239], line 1\u001b[0m\n\u001b[1;32m----> 1\u001b[0m table \u001b[38;5;241m=\u001b[39m pd\u001b[38;5;241m.\u001b[39mDataFrame(database)\n\u001b[0;32m      2\u001b[0m table\n",
      "\u001b[1;31mNameError\u001b[0m: name 'database' is not defined"
     ]
    }
   ],
   "source": [
    "table = pd.DataFrame(database)\n",
    "table"
   ]
  },
  {
   "cell_type": "code",
   "execution_count": 238,
   "id": "75393042",
   "metadata": {},
   "outputs": [],
   "source": [
    "del database"
   ]
  },
  {
   "cell_type": "code",
   "execution_count": 261,
   "id": "63cf06bc",
   "metadata": {},
   "outputs": [],
   "source": [
    "#\n",
    "\n",
    "Hidden_message = [[[[[[[[[[[[[[[[[[[[[[[[[[[['Chin Tapak Dam Dam']]]]]]]]]]]]]]]]]]]]]]]]]]]]\n"
   ]
  },
  {
   "cell_type": "code",
   "execution_count": 262,
   "id": "fa038734",
   "metadata": {},
   "outputs": [
    {
     "data": {
      "text/plain": [
       "[[[[[[[[[[[['Chin Tapak Dam Dam']]]]]]]]]]]]"
      ]
     },
     "execution_count": 262,
     "metadata": {},
     "output_type": "execute_result"
    }
   ],
   "source": [
    "Hidden_message[0][0][0][0][0][0][0][0][0][0][0][0][0][0][0][0]"
   ]
  },
  {
   "cell_type": "code",
   "execution_count": 264,
   "id": "deb3b3db",
   "metadata": {},
   "outputs": [],
   "source": [
    "#h/w"
   ]
  },
  {
   "cell_type": "code",
   "execution_count": 265,
   "id": "11cedd2c",
   "metadata": {},
   "outputs": [
    {
     "name": "stdout",
     "output_type": "stream",
     "text": [
      "[[[[[[[[[[[[[[[[[[[[[[[[[[['Chin Tapak Dam Dam']]]]]]]]]]]]]]]]]]]]]]]]]]]\n"
     ]
    }
   ],
   "source": [
    "for i in Hidden_message:\n",
    "    print(i)"
   ]
  },
  {
   "cell_type": "code",
   "execution_count": null,
   "id": "c432c43e",
   "metadata": {},
   "outputs": [],
   "source": []
  },
  {
   "cell_type": "code",
   "execution_count": 266,
   "id": "532adb23",
   "metadata": {},
   "outputs": [
    {
     "data": {
      "text/plain": [
       "3"
      ]
     },
     "execution_count": 266,
     "metadata": {},
     "output_type": "execute_result"
    }
   ],
   "source": [
    "data = [12,3,434,2143,4,6]\n",
    "\n",
    "min(data)"
   ]
  },
  {
   "cell_type": "code",
   "execution_count": 267,
   "id": "70c839c0",
   "metadata": {},
   "outputs": [
    {
     "data": {
      "text/plain": [
       "2143"
      ]
     },
     "execution_count": 267,
     "metadata": {},
     "output_type": "execute_result"
    }
   ],
   "source": [
    "max(data)"
   ]
  },
  {
   "cell_type": "code",
   "execution_count": 268,
   "id": "c36c09b9",
   "metadata": {},
   "outputs": [
    {
     "data": {
      "text/plain": [
       "2602"
      ]
     },
     "execution_count": 268,
     "metadata": {},
     "output_type": "execute_result"
    }
   ],
   "source": [
    "sum(data)"
   ]
  },
  {
   "cell_type": "code",
   "execution_count": null,
   "id": "58954a28",
   "metadata": {},
   "outputs": [],
   "source": []
  }
 ],
 "metadata": {
  "kernelspec": {
   "display_name": "Python 3 (ipykernel)",
   "language": "python",
   "name": "python3"
  },
  "language_info": {
   "codemirror_mode": {
    "name": "ipython",
    "version": 3
   },
   "file_extension": ".py",
   "mimetype": "text/x-python",
   "name": "python",
   "nbconvert_exporter": "python",
   "pygments_lexer": "ipython3",
   "version": "3.11.3"
  }
 },
 "nbformat": 4,
 "nbformat_minor": 5
}
