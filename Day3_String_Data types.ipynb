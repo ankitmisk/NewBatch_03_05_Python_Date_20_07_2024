{
 "cells": [
  {
   "cell_type": "code",
   "execution_count": 1,
   "id": "414b6839",
   "metadata": {},
   "outputs": [
    {
     "name": "stdout",
     "output_type": "stream",
     "text": [
      "I Love Python\n"
     ]
    }
   ],
   "source": [
    "data = 'I Love Python'\n",
    "\n",
    "print(data)"
   ]
  },
  {
   "cell_type": "code",
   "execution_count": 3,
   "id": "e086170b",
   "metadata": {},
   "outputs": [
    {
     "name": "stdout",
     "output_type": "stream",
     "text": [
      "<class 'str'>\n"
     ]
    }
   ],
   "source": [
    "print(type(data))"
   ]
  },
  {
   "cell_type": "code",
   "execution_count": 4,
   "id": "7b456557",
   "metadata": {},
   "outputs": [
    {
     "data": {
      "text/plain": [
       "'I LOVE PYTHON'"
      ]
     },
     "execution_count": 4,
     "metadata": {},
     "output_type": "execute_result"
    }
   ],
   "source": [
    "data.upper()"
   ]
  },
  {
   "cell_type": "code",
   "execution_count": 6,
   "id": "2c05295d",
   "metadata": {},
   "outputs": [
    {
     "data": {
      "text/plain": [
       "'___________________________________________I Love Python____________________________________________'"
      ]
     },
     "execution_count": 6,
     "metadata": {},
     "output_type": "execute_result"
    }
   ],
   "source": [
    "data.center(100,'_')"
   ]
  },
  {
   "cell_type": "code",
   "execution_count": 7,
   "id": "cb8189a7",
   "metadata": {},
   "outputs": [],
   "source": [
    "# single quotes\n",
    "# double quotes\n",
    "# triple quotes"
   ]
  },
  {
   "cell_type": "code",
   "execution_count": 8,
   "id": "5a55c40d",
   "metadata": {},
   "outputs": [
    {
     "name": "stdout",
     "output_type": "stream",
     "text": [
      "My name is gaurav\n"
     ]
    }
   ],
   "source": [
    "a = 'My name is gaurav'\n",
    "\n",
    "print(a)"
   ]
  },
  {
   "cell_type": "code",
   "execution_count": 9,
   "id": "84274c2e",
   "metadata": {},
   "outputs": [
    {
     "name": "stdout",
     "output_type": "stream",
     "text": [
      "My name is gaurav\n"
     ]
    }
   ],
   "source": [
    "a = \"My name is gaurav\"\n",
    "\n",
    "print(a)"
   ]
  },
  {
   "cell_type": "code",
   "execution_count": 10,
   "id": "f14d3ade",
   "metadata": {},
   "outputs": [
    {
     "ename": "SyntaxError",
     "evalue": "unterminated string literal (detected at line 1) (287434441.py, line 1)",
     "output_type": "error",
     "traceback": [
      "\u001b[1;36m  Cell \u001b[1;32mIn[10], line 1\u001b[1;36m\u001b[0m\n\u001b[1;33m    a = 'This is Python's class'\u001b[0m\n\u001b[1;37m                               ^\u001b[0m\n\u001b[1;31mSyntaxError\u001b[0m\u001b[1;31m:\u001b[0m unterminated string literal (detected at line 1)\n"
     ]
    }
   ],
   "source": [
    "a = 'This is Python's class'\n",
    "\n",
    "print(a)"
   ]
  },
  {
   "cell_type": "code",
   "execution_count": 11,
   "id": "0a8d869b",
   "metadata": {},
   "outputs": [
    {
     "name": "stdout",
     "output_type": "stream",
     "text": [
      "This is Python's class\n"
     ]
    }
   ],
   "source": [
    "a = \"This is Python's class\"\n",
    "\n",
    "print(a)"
   ]
  },
  {
   "cell_type": "code",
   "execution_count": 13,
   "id": "ffaf48fc",
   "metadata": {},
   "outputs": [
    {
     "name": "stdout",
     "output_type": "stream",
     "text": [
      "\"Every strike brings me closer to the next home run.\"\n"
     ]
    }
   ],
   "source": [
    "c = '\"Every strike brings me closer to the next home run.\"'\n",
    "\n",
    "print(c)"
   ]
  },
  {
   "cell_type": "code",
   "execution_count": 14,
   "id": "ff6e4674",
   "metadata": {},
   "outputs": [
    {
     "ename": "SyntaxError",
     "evalue": "unterminated string literal (detected at line 1) (2904482560.py, line 1)",
     "output_type": "error",
     "traceback": [
      "\u001b[1;36m  Cell \u001b[1;32mIn[14], line 1\u001b[1;36m\u001b[0m\n\u001b[1;33m    c = \"\"Every strike bring's me closer to the next home run.\"\"\u001b[0m\n\u001b[1;37m                            ^\u001b[0m\n\u001b[1;31mSyntaxError\u001b[0m\u001b[1;31m:\u001b[0m unterminated string literal (detected at line 1)\n"
     ]
    }
   ],
   "source": [
    "c = \"\"Every strike bring's me closer to the next home run.\"\"\n",
    "\n",
    "print(c)"
   ]
  },
  {
   "cell_type": "code",
   "execution_count": 16,
   "id": "80405683",
   "metadata": {},
   "outputs": [
    {
     "name": "stdout",
     "output_type": "stream",
     "text": [
      "\"Every strike bring's me closer to the next home run.\"\n"
     ]
    }
   ],
   "source": [
    "c = '''\"Every strike bring's me closer to the next home run.\"'''\n",
    "\n",
    "print(c)"
   ]
  },
  {
   "cell_type": "code",
   "execution_count": null,
   "id": "dc8ab55b",
   "metadata": {},
   "outputs": [],
   "source": []
  },
  {
   "cell_type": "code",
   "execution_count": 18,
   "id": "7e858137",
   "metadata": {},
   "outputs": [
    {
     "ename": "SyntaxError",
     "evalue": "unterminated string literal (detected at line 1) (2269921738.py, line 1)",
     "output_type": "error",
     "traceback": [
      "\u001b[1;36m  Cell \u001b[1;32mIn[18], line 1\u001b[1;36m\u001b[0m\n\u001b[1;33m    c = \"Every strike bring's me\u001b[0m\n\u001b[1;37m        ^\u001b[0m\n\u001b[1;31mSyntaxError\u001b[0m\u001b[1;31m:\u001b[0m unterminated string literal (detected at line 1)\n"
     ]
    }
   ],
   "source": [
    "c = \"Every strike bring's me \n",
    "closer to the next home run.\"\n",
    "\n",
    "print(c)"
   ]
  },
  {
   "cell_type": "code",
   "execution_count": 19,
   "id": "809279d5",
   "metadata": {},
   "outputs": [
    {
     "name": "stdout",
     "output_type": "stream",
     "text": [
      "Every strike bring's mecloser to the next home run.\n"
     ]
    }
   ],
   "source": [
    "c = \"Every strike bring's me\\\n",
    "closer to the next home run.\"\n",
    "\n",
    "print(c)"
   ]
  },
  {
   "cell_type": "code",
   "execution_count": 20,
   "id": "7a36e863",
   "metadata": {},
   "outputs": [],
   "source": [
    "poem = 'Twinkle, twinkle, little star,\\\n",
    "How I wonder what you are!\\\n",
    "Up above the world so high,\\\n",
    "Like a diamond in the sky.\\\n",
    "\\\n",
    "When the blazing sun is gone,\\\n",
    "When he nothing shines upon,\\\n",
    "Then you show your little light,\\\n",
    "Twinkle, twinkle, all the night.\\\n",
    "\\\n",
    "Then the traveler in the dark\\\n",
    "Thanks you for your tiny spark,\\\n",
    "How could he see where to go,\\\n",
    "If you did not twinkle so?'"
   ]
  },
  {
   "cell_type": "code",
   "execution_count": 21,
   "id": "34046786",
   "metadata": {},
   "outputs": [
    {
     "name": "stdout",
     "output_type": "stream",
     "text": [
      "Twinkle, twinkle, little star,How I wonder what you are!Up above the world so high,Like a diamond in the sky.When the blazing sun is gone,When he nothing shines upon,Then you show your little light,Twinkle, twinkle, all the night.Then the traveler in the darkThanks you for your tiny spark,How could he see where to go,If you did not twinkle so?\n"
     ]
    }
   ],
   "source": [
    "print(poem)"
   ]
  },
  {
   "cell_type": "code",
   "execution_count": 23,
   "id": "658b56bf",
   "metadata": {},
   "outputs": [
    {
     "name": "stdout",
     "output_type": "stream",
     "text": [
      "Twinkle, twinkle, little star,\n",
      "How I wonder what you are!\n",
      "Up above the world so high,\n",
      "Like a diamond in the sky.\n",
      "\n",
      "                                                    When the blazing sun is gone,\n",
      "                                                    When he nothing shines upon,\n",
      "                                                    Then you show your little light,\n",
      "                                                    Twinkle, twinkle, all the night.\n",
      "\n",
      "Then the traveler in the dark\n",
      "Thanks you for your tiny spark,\n",
      "How could he see where to go,\n",
      "If you did not twinkle so?\n"
     ]
    }
   ],
   "source": [
    "pm = '''Twinkle, twinkle, little star,\n",
    "How I wonder what you are!\n",
    "Up above the world so high,\n",
    "Like a diamond in the sky.\n",
    "\n",
    "                                                    When the blazing sun is gone,\n",
    "                                                    When he nothing shines upon,\n",
    "                                                    Then you show your little light,\n",
    "                                                    Twinkle, twinkle, all the night.\n",
    "\n",
    "Then the traveler in the dark\n",
    "Thanks you for your tiny spark,\n",
    "How could he see where to go,\n",
    "If you did not twinkle so?'''\n",
    "\n",
    "\n",
    "print(pm)"
   ]
  },
  {
   "cell_type": "code",
   "execution_count": null,
   "id": "c6530b07",
   "metadata": {},
   "outputs": [],
   "source": []
  },
  {
   "cell_type": "code",
   "execution_count": null,
   "id": "b6f8a957",
   "metadata": {},
   "outputs": [],
   "source": []
  },
  {
   "cell_type": "code",
   "execution_count": 24,
   "id": "23b16c2a",
   "metadata": {},
   "outputs": [
    {
     "name": "stdout",
     "output_type": "stream",
     "text": [
      "Twinkle, twinkle, little star,\n",
      "How I wonder what you are!\n",
      "Up above the world so high,\n",
      "Like a diamond in the sky.\n",
      "\n",
      "                                                    When the blazing sun is gone,\n",
      "                                                    When he nothing shines upon,\n",
      "                                                    Then you show your little light,\n",
      "                                                    Twinkle, twinkle, all the night.\n",
      "\n",
      "Then the traveler in the dark\n",
      "Thanks you for your tiny spark,\n",
      "How could he see where to go,\n",
      "If you did not twinkle so?\n"
     ]
    }
   ],
   "source": [
    "pm = \"\"\"Twinkle, twinkle, little star,\n",
    "How I wonder what you are!\n",
    "Up above the world so high,\n",
    "Like a diamond in the sky.\n",
    "\n",
    "                                                    When the blazing sun is gone,\n",
    "                                                    When he nothing shines upon,\n",
    "                                                    Then you show your little light,\n",
    "                                                    Twinkle, twinkle, all the night.\n",
    "\n",
    "Then the traveler in the dark\n",
    "Thanks you for your tiny spark,\n",
    "How could he see where to go,\n",
    "If you did not twinkle so?\"\"\"\n",
    "\n",
    "\n",
    "print(pm)"
   ]
  },
  {
   "cell_type": "code",
   "execution_count": 26,
   "id": "98272f5d",
   "metadata": {},
   "outputs": [
    {
     "name": "stdout",
     "output_type": "stream",
     "text": [
      "naman\n"
     ]
    }
   ],
   "source": [
    "# single, inline comment\n",
    "a = 'karan'  #This is a name\n",
    "b = 'naman'  # This is a name   # comment\n",
    "\n",
    "print(b)"
   ]
  },
  {
   "cell_type": "code",
   "execution_count": 28,
   "id": "3c432244",
   "metadata": {},
   "outputs": [
    {
     "name": "stdout",
     "output_type": "stream",
     "text": [
      "naman\n"
     ]
    }
   ],
   "source": [
    "a = 'karan'  # This is a name\n",
    "b = 'naman'  # This is a name   # comment\n",
    "\n",
    "print(b)"
   ]
  },
  {
   "cell_type": "code",
   "execution_count": 31,
   "id": "4c8868af",
   "metadata": {},
   "outputs": [
    {
     "name": "stdout",
     "output_type": "stream",
     "text": [
      "30\n"
     ]
    }
   ],
   "source": [
    "# for i in range(10):\n",
    "#     print('Hello')\n",
    "    \n",
    "# print('I love Python')\n",
    "\n",
    "# print('We are in techvidya')\n",
    "\n",
    "\n",
    "a = 20\n",
    "print(a + 10)"
   ]
  },
  {
   "cell_type": "code",
   "execution_count": null,
   "id": "78c000bc",
   "metadata": {},
   "outputs": [],
   "source": []
  },
  {
   "cell_type": "code",
   "execution_count": null,
   "id": "cf7107c4",
   "metadata": {},
   "outputs": [],
   "source": [
    "# multiline comments"
   ]
  },
  {
   "cell_type": "code",
   "execution_count": 34,
   "id": "5ace65a2",
   "metadata": {},
   "outputs": [
    {
     "name": "stdout",
     "output_type": "stream",
     "text": [
      "30\n"
     ]
    }
   ],
   "source": [
    "'''for i in range(10):\n",
    "    print('Hello')\n",
    "    \n",
    "print('I love Python')\n",
    "\n",
    "print('We are in techvidya')'''\n",
    "\n",
    "\n",
    "a = 20\n",
    "print(a + 10)"
   ]
  },
  {
   "cell_type": "code",
   "execution_count": 36,
   "id": "2aa17fef",
   "metadata": {},
   "outputs": [
    {
     "name": "stdout",
     "output_type": "stream",
     "text": [
      "112\n"
     ]
    }
   ],
   "source": [
    "a = 234\n",
    "b = 234\n",
    "c = 356\n",
    "d  = 2345\n",
    "e = 'Karan'\n",
    "f = a+b-c\n",
    "print(f)"
   ]
  },
  {
   "cell_type": "code",
   "execution_count": 37,
   "id": "2c9dc1d6",
   "metadata": {},
   "outputs": [],
   "source": [
    "# multiline statements:- codes"
   ]
  },
  {
   "cell_type": "code",
   "execution_count": 38,
   "id": "42aa73fd",
   "metadata": {},
   "outputs": [
    {
     "name": "stdout",
     "output_type": "stream",
     "text": [
      "112\n"
     ]
    }
   ],
   "source": [
    "a = 234; b = 234; c = 356; d  = 2345; e = 'Karan'; f = a+b-c;print(f)"
   ]
  },
  {
   "cell_type": "code",
   "execution_count": 39,
   "id": "9d8e4e18",
   "metadata": {},
   "outputs": [
    {
     "ename": "TypeError",
     "evalue": "cannot unpack non-iterable int object",
     "output_type": "error",
     "traceback": [
      "\u001b[1;31m---------------------------------------------------------------------------\u001b[0m",
      "\u001b[1;31mTypeError\u001b[0m                                 Traceback (most recent call last)",
      "Cell \u001b[1;32mIn[39], line 4\u001b[0m\n\u001b[0;32m      1\u001b[0m \u001b[38;5;66;03m# multiple variable one value\u001b[39;00m\n\u001b[1;32m----> 4\u001b[0m a,b ,c ,d,e \u001b[38;5;241m=\u001b[39m \u001b[38;5;241m5678\u001b[39m\n\u001b[0;32m      6\u001b[0m \u001b[38;5;28mprint\u001b[39m(a)\n",
      "\u001b[1;31mTypeError\u001b[0m: cannot unpack non-iterable int object"
     ]
    }
   ],
   "source": [
    "# multiple variable one value\n",
    "\n",
    "\n",
    "a,b ,c ,d,e = 5678\n",
    "\n",
    "print(a)"
   ]
  },
  {
   "cell_type": "code",
   "execution_count": 40,
   "id": "e89ba617",
   "metadata": {},
   "outputs": [
    {
     "name": "stdout",
     "output_type": "stream",
     "text": [
      "5678\n"
     ]
    }
   ],
   "source": [
    "# multiple variable one value\n",
    "\n",
    "\n",
    "a = b  = c = d = e = 5678\n",
    "\n",
    "print(a)"
   ]
  },
  {
   "cell_type": "code",
   "execution_count": 42,
   "id": "91e46695",
   "metadata": {},
   "outputs": [
    {
     "name": "stdout",
     "output_type": "stream",
     "text": [
      "5678\n"
     ]
    }
   ],
   "source": [
    "print(e)"
   ]
  },
  {
   "cell_type": "code",
   "execution_count": 51,
   "id": "50c9aaca",
   "metadata": {},
   "outputs": [
    {
     "data": {
      "text/plain": [
       "7"
      ]
     },
     "execution_count": 51,
     "metadata": {},
     "output_type": "execute_result"
    }
   ],
   "source": [
    "# unpacking karna\n",
    "\n",
    "\n",
    "\n",
    "money = [1,2345,32,345,47,6576,100]\n",
    "\n",
    "\n",
    "len(money)"
   ]
  },
  {
   "cell_type": "code",
   "execution_count": 52,
   "id": "c1305c79",
   "metadata": {},
   "outputs": [],
   "source": [
    "arun,karan,ravi,mohan,ajay,prince,deepak = money"
   ]
  },
  {
   "cell_type": "code",
   "execution_count": 53,
   "id": "acd756c9",
   "metadata": {},
   "outputs": [
    {
     "name": "stdout",
     "output_type": "stream",
     "text": [
      "345\n"
     ]
    }
   ],
   "source": [
    "print(mohan)"
   ]
  },
  {
   "cell_type": "code",
   "execution_count": 54,
   "id": "27bd5f9b",
   "metadata": {},
   "outputs": [
    {
     "name": "stdout",
     "output_type": "stream",
     "text": [
      "6576\n"
     ]
    }
   ],
   "source": [
    "print(prince)"
   ]
  },
  {
   "cell_type": "code",
   "execution_count": null,
   "id": "d2b1c3e4",
   "metadata": {},
   "outputs": [],
   "source": []
  },
  {
   "cell_type": "code",
   "execution_count": 55,
   "id": "0f396892",
   "metadata": {},
   "outputs": [],
   "source": [
    "# some basic operations "
   ]
  },
  {
   "cell_type": "code",
   "execution_count": 57,
   "id": "82bfb2f4",
   "metadata": {},
   "outputs": [
    {
     "name": "stdout",
     "output_type": "stream",
     "text": [
      "Hello World\n"
     ]
    }
   ],
   "source": [
    "a = 'Hello '\n",
    "\n",
    "b = 'World'\n",
    "\n",
    "\n",
    "print(a + b)"
   ]
  },
  {
   "cell_type": "code",
   "execution_count": 58,
   "id": "3885c6e7",
   "metadata": {},
   "outputs": [
    {
     "name": "stdout",
     "output_type": "stream",
     "text": [
      "Hello World\n"
     ]
    }
   ],
   "source": [
    "a = 'Hello'\n",
    "\n",
    "b = ' World'\n",
    "\n",
    "\n",
    "print(a + b)"
   ]
  },
  {
   "cell_type": "code",
   "execution_count": 60,
   "id": "a20ac983",
   "metadata": {},
   "outputs": [
    {
     "name": "stdout",
     "output_type": "stream",
     "text": [
      "Hello World\n"
     ]
    }
   ],
   "source": [
    "a = 'Hello'\n",
    "\n",
    "b = 'World'\n",
    "\n",
    "\n",
    "print(a +' ' + b)"
   ]
  },
  {
   "cell_type": "code",
   "execution_count": 61,
   "id": "21c114aa",
   "metadata": {},
   "outputs": [
    {
     "ename": "TypeError",
     "evalue": "unsupported operand type(s) for -: 'str' and 'str'",
     "output_type": "error",
     "traceback": [
      "\u001b[1;31m---------------------------------------------------------------------------\u001b[0m",
      "\u001b[1;31mTypeError\u001b[0m                                 Traceback (most recent call last)",
      "Cell \u001b[1;32mIn[61], line 6\u001b[0m\n\u001b[0;32m      1\u001b[0m a \u001b[38;5;241m=\u001b[39m \u001b[38;5;124m'\u001b[39m\u001b[38;5;124mHello\u001b[39m\u001b[38;5;124m'\u001b[39m\n\u001b[0;32m      3\u001b[0m b \u001b[38;5;241m=\u001b[39m \u001b[38;5;124m'\u001b[39m\u001b[38;5;124mWorld\u001b[39m\u001b[38;5;124m'\u001b[39m\n\u001b[1;32m----> 6\u001b[0m \u001b[38;5;28mprint\u001b[39m(a \u001b[38;5;241m-\u001b[39m b)\n",
      "\u001b[1;31mTypeError\u001b[0m: unsupported operand type(s) for -: 'str' and 'str'"
     ]
    }
   ],
   "source": [
    "a = 'Hello'\n",
    "\n",
    "b = 'World'\n",
    "\n",
    "\n",
    "print(a - b)"
   ]
  },
  {
   "cell_type": "code",
   "execution_count": 62,
   "id": "39610be8",
   "metadata": {},
   "outputs": [
    {
     "ename": "TypeError",
     "evalue": "can only concatenate str (not \"int\") to str",
     "output_type": "error",
     "traceback": [
      "\u001b[1;31m---------------------------------------------------------------------------\u001b[0m",
      "\u001b[1;31mTypeError\u001b[0m                                 Traceback (most recent call last)",
      "Cell \u001b[1;32mIn[62], line 6\u001b[0m\n\u001b[0;32m      1\u001b[0m a \u001b[38;5;241m=\u001b[39m \u001b[38;5;124m'\u001b[39m\u001b[38;5;124mHello\u001b[39m\u001b[38;5;124m'\u001b[39m\n\u001b[0;32m      3\u001b[0m b \u001b[38;5;241m=\u001b[39m \u001b[38;5;241m345\u001b[39m\n\u001b[1;32m----> 6\u001b[0m \u001b[38;5;28mprint\u001b[39m(a \u001b[38;5;241m+\u001b[39m b)\n",
      "\u001b[1;31mTypeError\u001b[0m: can only concatenate str (not \"int\") to str"
     ]
    }
   ],
   "source": [
    "a = 'Hello'\n",
    "\n",
    "b = 345\n",
    "\n",
    "\n",
    "print(a + b)"
   ]
  },
  {
   "cell_type": "code",
   "execution_count": 63,
   "id": "163ab9c1",
   "metadata": {},
   "outputs": [
    {
     "name": "stdout",
     "output_type": "stream",
     "text": [
      "Hello345\n"
     ]
    }
   ],
   "source": [
    "a = 'Hello'\n",
    "\n",
    "b = '345'\n",
    "\n",
    "\n",
    "print(a + b)"
   ]
  },
  {
   "cell_type": "code",
   "execution_count": 64,
   "id": "767893d1",
   "metadata": {},
   "outputs": [],
   "source": [
    "# *,/,**,-,%"
   ]
  },
  {
   "cell_type": "code",
   "execution_count": 65,
   "id": "f8fa3381",
   "metadata": {},
   "outputs": [
    {
     "ename": "TypeError",
     "evalue": "can't multiply sequence by non-int of type 'str'",
     "output_type": "error",
     "traceback": [
      "\u001b[1;31m---------------------------------------------------------------------------\u001b[0m",
      "\u001b[1;31mTypeError\u001b[0m                                 Traceback (most recent call last)",
      "Cell \u001b[1;32mIn[65], line 6\u001b[0m\n\u001b[0;32m      1\u001b[0m a \u001b[38;5;241m=\u001b[39m \u001b[38;5;124m'\u001b[39m\u001b[38;5;124mHello\u001b[39m\u001b[38;5;124m'\u001b[39m\n\u001b[0;32m      3\u001b[0m b \u001b[38;5;241m=\u001b[39m \u001b[38;5;124m'\u001b[39m\u001b[38;5;124mWorld\u001b[39m\u001b[38;5;124m'\u001b[39m\n\u001b[1;32m----> 6\u001b[0m \u001b[38;5;28mprint\u001b[39m(a \u001b[38;5;241m*\u001b[39m b)\n",
      "\u001b[1;31mTypeError\u001b[0m: can't multiply sequence by non-int of type 'str'"
     ]
    }
   ],
   "source": [
    "a = 'Hello'\n",
    "\n",
    "b = 'World'\n",
    "\n",
    "\n",
    "print(a * b)"
   ]
  },
  {
   "cell_type": "code",
   "execution_count": 71,
   "id": "0800e8e9",
   "metadata": {},
   "outputs": [
    {
     "name": "stdout",
     "output_type": "stream",
     "text": [
      "Hello Hello Hello Hello Hello \n"
     ]
    }
   ],
   "source": [
    "a = 'Hello '\n",
    "\n",
    "print(a * 5)"
   ]
  },
  {
   "cell_type": "code",
   "execution_count": null,
   "id": "49e60b2f",
   "metadata": {},
   "outputs": [],
   "source": []
  },
  {
   "cell_type": "code",
   "execution_count": 74,
   "id": "fea21357",
   "metadata": {},
   "outputs": [
    {
     "name": "stdout",
     "output_type": "stream",
     "text": [
      "Hello\n",
      "world\n"
     ]
    }
   ],
   "source": [
    "a = 'Hello\\nworld'\n",
    "\n",
    "print(a)"
   ]
  },
  {
   "cell_type": "code",
   "execution_count": null,
   "id": "d98ca6bb",
   "metadata": {},
   "outputs": [],
   "source": []
  },
  {
   "cell_type": "code",
   "execution_count": 76,
   "id": "6fefdaf8",
   "metadata": {},
   "outputs": [
    {
     "name": "stdout",
     "output_type": "stream",
     "text": [
      "😒\n",
      "😒\n",
      "😒\n",
      "😒\n",
      "😒\n",
      "\n"
     ]
    }
   ],
   "source": [
    "a = '😒\\n'\n",
    "\n",
    "print(a*5)"
   ]
  },
  {
   "cell_type": "code",
   "execution_count": 77,
   "id": "731b7bd7",
   "metadata": {},
   "outputs": [],
   "source": [
    "# advance concept"
   ]
  },
  {
   "cell_type": "code",
   "execution_count": 79,
   "id": "9255303b",
   "metadata": {},
   "outputs": [
    {
     "name": "stdout",
     "output_type": "stream",
     "text": [
      "Hello Python\n"
     ]
    }
   ],
   "source": [
    "a = 'Hello Python'\n",
    "\n",
    "\n",
    "print(a)"
   ]
  },
  {
   "cell_type": "code",
   "execution_count": 81,
   "id": "5a35c1bf",
   "metadata": {},
   "outputs": [
    {
     "data": {
      "text/plain": [
       "'y'"
      ]
     },
     "execution_count": 81,
     "metadata": {},
     "output_type": "execute_result"
    }
   ],
   "source": [
    "# indexing\n",
    "a[7]"
   ]
  },
  {
   "cell_type": "code",
   "execution_count": 82,
   "id": "97ac6da5",
   "metadata": {},
   "outputs": [
    {
     "name": "stdout",
     "output_type": "stream",
     "text": [
      "Hello Python\n"
     ]
    }
   ],
   "source": [
    "a = 'Hello Python'\n",
    "# positive indexing:- L to R + ve\n",
    "# Negative Indexing:- R to L -ve\n",
    "\n",
    "print(a)"
   ]
  },
  {
   "cell_type": "code",
   "execution_count": 83,
   "id": "1153d892",
   "metadata": {},
   "outputs": [
    {
     "name": "stdout",
     "output_type": "stream",
     "text": [
      "n\n"
     ]
    }
   ],
   "source": [
    "print(a[-1])"
   ]
  },
  {
   "cell_type": "code",
   "execution_count": 84,
   "id": "683ed45f",
   "metadata": {},
   "outputs": [
    {
     "name": "stdout",
     "output_type": "stream",
     "text": [
      "t\n",
      "t\n"
     ]
    }
   ],
   "source": [
    "print(a[8])\n",
    "print(a[-4])"
   ]
  },
  {
   "cell_type": "code",
   "execution_count": 85,
   "id": "6fb9caa1",
   "metadata": {},
   "outputs": [
    {
     "data": {
      "text/plain": [
       "True"
      ]
     },
     "execution_count": 85,
     "metadata": {},
     "output_type": "execute_result"
    }
   ],
   "source": [
    "a[8] == a[-4]"
   ]
  },
  {
   "cell_type": "code",
   "execution_count": 86,
   "id": "f5a6f2da",
   "metadata": {},
   "outputs": [
    {
     "data": {
      "text/plain": [
       "'Hello Python'"
      ]
     },
     "execution_count": 86,
     "metadata": {},
     "output_type": "execute_result"
    }
   ],
   "source": [
    "a"
   ]
  },
  {
   "cell_type": "code",
   "execution_count": 88,
   "id": "03656097",
   "metadata": {},
   "outputs": [
    {
     "ename": "TypeError",
     "evalue": "string indices must be integers, not 'tuple'",
     "output_type": "error",
     "traceback": [
      "\u001b[1;31m---------------------------------------------------------------------------\u001b[0m",
      "\u001b[1;31mTypeError\u001b[0m                                 Traceback (most recent call last)",
      "Cell \u001b[1;32mIn[88], line 1\u001b[0m\n\u001b[1;32m----> 1\u001b[0m a[\u001b[38;5;241m1\u001b[39m,\u001b[38;5;241m2\u001b[39m,\u001b[38;5;241m3\u001b[39m,\u001b[38;5;241m4\u001b[39m]\n",
      "\u001b[1;31mTypeError\u001b[0m: string indices must be integers, not 'tuple'"
     ]
    }
   ],
   "source": [
    "a[1,2,3,4]"
   ]
  },
  {
   "cell_type": "code",
   "execution_count": 93,
   "id": "3f1ac6c9",
   "metadata": {},
   "outputs": [
    {
     "data": {
      "text/plain": [
       "'ello'"
      ]
     },
     "execution_count": 93,
     "metadata": {},
     "output_type": "execute_result"
    }
   ],
   "source": [
    "a[1]+a[2]+a[3]+a[4]"
   ]
  },
  {
   "cell_type": "code",
   "execution_count": 94,
   "id": "2f5e5aaf",
   "metadata": {},
   "outputs": [],
   "source": [
    "# slicing:-more than one char"
   ]
  },
  {
   "cell_type": "code",
   "execution_count": 95,
   "id": "b03c7338",
   "metadata": {},
   "outputs": [
    {
     "data": {
      "text/plain": [
       "'Hello Python'"
      ]
     },
     "execution_count": 95,
     "metadata": {},
     "output_type": "execute_result"
    }
   ],
   "source": [
    "a"
   ]
  },
  {
   "cell_type": "code",
   "execution_count": 97,
   "id": "a52f9784",
   "metadata": {},
   "outputs": [
    {
     "data": {
      "text/plain": [
       "'ello'"
      ]
     },
     "execution_count": 97,
     "metadata": {},
     "output_type": "execute_result"
    }
   ],
   "source": [
    "a[1:5]   # slicing"
   ]
  },
  {
   "cell_type": "code",
   "execution_count": 98,
   "id": "20bca637",
   "metadata": {},
   "outputs": [
    {
     "data": {
      "text/plain": [
       "'Python'"
      ]
     },
     "execution_count": 98,
     "metadata": {},
     "output_type": "execute_result"
    }
   ],
   "source": [
    "a[6:12]"
   ]
  },
  {
   "cell_type": "code",
   "execution_count": 99,
   "id": "8bf3e6ad",
   "metadata": {},
   "outputs": [
    {
     "data": {
      "text/plain": [
       "'Python'"
      ]
     },
     "execution_count": 99,
     "metadata": {},
     "output_type": "execute_result"
    }
   ],
   "source": [
    "a[6:]"
   ]
  },
  {
   "cell_type": "code",
   "execution_count": 100,
   "id": "55131179",
   "metadata": {},
   "outputs": [
    {
     "data": {
      "text/plain": [
       "'Hello Python'"
      ]
     },
     "execution_count": 100,
     "metadata": {},
     "output_type": "execute_result"
    }
   ],
   "source": [
    "a"
   ]
  },
  {
   "cell_type": "code",
   "execution_count": 102,
   "id": "032ced09",
   "metadata": {},
   "outputs": [
    {
     "data": {
      "text/plain": [
       "'Hello'"
      ]
     },
     "execution_count": 102,
     "metadata": {},
     "output_type": "execute_result"
    }
   ],
   "source": [
    "a[0:5]"
   ]
  },
  {
   "cell_type": "code",
   "execution_count": 103,
   "id": "00ede62d",
   "metadata": {},
   "outputs": [
    {
     "data": {
      "text/plain": [
       "'Hello'"
      ]
     },
     "execution_count": 103,
     "metadata": {},
     "output_type": "execute_result"
    }
   ],
   "source": [
    "a[:5]"
   ]
  },
  {
   "cell_type": "code",
   "execution_count": 104,
   "id": "f9b03c1a",
   "metadata": {},
   "outputs": [],
   "source": [
    "# a[start:stop]"
   ]
  },
  {
   "cell_type": "code",
   "execution_count": 105,
   "id": "6aaa9d4d",
   "metadata": {},
   "outputs": [
    {
     "data": {
      "text/plain": [
       "'Hello Python'"
      ]
     },
     "execution_count": 105,
     "metadata": {},
     "output_type": "execute_result"
    }
   ],
   "source": [
    "a"
   ]
  },
  {
   "cell_type": "code",
   "execution_count": 107,
   "id": "885c2116",
   "metadata": {},
   "outputs": [
    {
     "data": {
      "text/plain": [
       "'HloPto'"
      ]
     },
     "execution_count": 107,
     "metadata": {},
     "output_type": "execute_result"
    }
   ],
   "source": [
    "# HloPto\n",
    "\n",
    "a[0:12:2]"
   ]
  },
  {
   "cell_type": "code",
   "execution_count": 108,
   "id": "7d9a8909",
   "metadata": {},
   "outputs": [],
   "source": [
    "# a[start:stop:step/skip]"
   ]
  },
  {
   "cell_type": "code",
   "execution_count": 113,
   "id": "b18b0d58",
   "metadata": {},
   "outputs": [
    {
     "data": {
      "text/plain": [
       "'Hello Python'"
      ]
     },
     "execution_count": 113,
     "metadata": {},
     "output_type": "execute_result"
    }
   ],
   "source": [
    "a"
   ]
  },
  {
   "cell_type": "code",
   "execution_count": 112,
   "id": "7c65868b",
   "metadata": {},
   "outputs": [
    {
     "data": {
      "text/plain": [
       "'Hot'"
      ]
     },
     "execution_count": 112,
     "metadata": {},
     "output_type": "execute_result"
    }
   ],
   "source": [
    "a[0:12:4]"
   ]
  },
  {
   "cell_type": "code",
   "execution_count": 114,
   "id": "fb8e8f5d",
   "metadata": {},
   "outputs": [
    {
     "data": {
      "text/plain": [
       "'Hot'"
      ]
     },
     "execution_count": 114,
     "metadata": {},
     "output_type": "execute_result"
    }
   ],
   "source": [
    "a[::4]"
   ]
  },
  {
   "cell_type": "code",
   "execution_count": 115,
   "id": "d25471a6",
   "metadata": {},
   "outputs": [
    {
     "data": {
      "text/plain": [
       "'Hello Python'"
      ]
     },
     "execution_count": 115,
     "metadata": {},
     "output_type": "execute_result"
    }
   ],
   "source": [
    "a"
   ]
  },
  {
   "cell_type": "code",
   "execution_count": 118,
   "id": "0069f898",
   "metadata": {},
   "outputs": [
    {
     "data": {
      "text/plain": [
       "'el yhn'"
      ]
     },
     "execution_count": 118,
     "metadata": {},
     "output_type": "execute_result"
    }
   ],
   "source": [
    "a[1::2]"
   ]
  },
  {
   "cell_type": "code",
   "execution_count": 119,
   "id": "2cb118b9",
   "metadata": {},
   "outputs": [],
   "source": [
    "# reverse string"
   ]
  },
  {
   "cell_type": "code",
   "execution_count": 120,
   "id": "3beecba8",
   "metadata": {},
   "outputs": [
    {
     "data": {
      "text/plain": [
       "'Hello Python'"
      ]
     },
     "execution_count": 120,
     "metadata": {},
     "output_type": "execute_result"
    }
   ],
   "source": [
    "a"
   ]
  },
  {
   "cell_type": "code",
   "execution_count": 121,
   "id": "71febb1f",
   "metadata": {},
   "outputs": [],
   "source": [
    "# nohtyP olleH"
   ]
  },
  {
   "cell_type": "code",
   "execution_count": 123,
   "id": "75e85837",
   "metadata": {},
   "outputs": [
    {
     "data": {
      "text/plain": [
       "'nohtyP olleH'"
      ]
     },
     "execution_count": 123,
     "metadata": {},
     "output_type": "execute_result"
    }
   ],
   "source": [
    "a[::-1]"
   ]
  },
  {
   "cell_type": "code",
   "execution_count": 124,
   "id": "3dca45a7",
   "metadata": {},
   "outputs": [
    {
     "name": "stdout",
     "output_type": "stream",
     "text": [
      "mohan\n"
     ]
    }
   ],
   "source": [
    "a = 'mohan'\n",
    "\n",
    "\n",
    "print(a)"
   ]
  },
  {
   "cell_type": "code",
   "execution_count": 125,
   "id": "d4ff3ad9",
   "metadata": {},
   "outputs": [
    {
     "data": {
      "text/plain": [
       "'nahom'"
      ]
     },
     "execution_count": 125,
     "metadata": {},
     "output_type": "execute_result"
    }
   ],
   "source": [
    "a[::-1]"
   ]
  },
  {
   "cell_type": "code",
   "execution_count": 126,
   "id": "ae084a5c",
   "metadata": {},
   "outputs": [
    {
     "name": "stdout",
     "output_type": "stream",
     "text": [
      "naman\n"
     ]
    }
   ],
   "source": [
    "s = 'naman'\n",
    "\n",
    "print(s)"
   ]
  },
  {
   "cell_type": "code",
   "execution_count": 128,
   "id": "7d7736df",
   "metadata": {},
   "outputs": [
    {
     "data": {
      "text/plain": [
       "'naman'"
      ]
     },
     "execution_count": 128,
     "metadata": {},
     "output_type": "execute_result"
    }
   ],
   "source": [
    "s[::-1]"
   ]
  },
  {
   "cell_type": "code",
   "execution_count": 129,
   "id": "a8f36ac0",
   "metadata": {},
   "outputs": [],
   "source": [
    "# Palindrome words"
   ]
  },
  {
   "cell_type": "code",
   "execution_count": 130,
   "id": "bb27a756",
   "metadata": {},
   "outputs": [
    {
     "data": {
      "text/plain": [
       "True"
      ]
     },
     "execution_count": 130,
     "metadata": {},
     "output_type": "execute_result"
    }
   ],
   "source": [
    "a = 'nitin'\n",
    "\n",
    "a == a[::-1]"
   ]
  },
  {
   "cell_type": "code",
   "execution_count": 135,
   "id": "74d421df",
   "metadata": {},
   "outputs": [
    {
     "name": "stdout",
     "output_type": "stream",
     "text": [
      "NITIN is Palindrome words!!\n"
     ]
    }
   ],
   "source": [
    "a = 'nitin'\n",
    "\n",
    "if a == a[::-1]:\n",
    "    print(f'{a.upper()} is Palindrome words!!')\n",
    "else:\n",
    "    print('Not a Palindrome words!!')"
   ]
  },
  {
   "cell_type": "code",
   "execution_count": null,
   "id": "0b844a2e",
   "metadata": {},
   "outputs": [],
   "source": []
  },
  {
   "cell_type": "code",
   "execution_count": null,
   "id": "dd2fe863",
   "metadata": {},
   "outputs": [],
   "source": []
  },
  {
   "cell_type": "code",
   "execution_count": 137,
   "id": "d708a0d4",
   "metadata": {},
   "outputs": [],
   "source": [
    "a = 'Python is awesome'"
   ]
  },
  {
   "cell_type": "code",
   "execution_count": 138,
   "id": "649585ab",
   "metadata": {},
   "outputs": [
    {
     "data": {
      "text/plain": [
       "'is'"
      ]
     },
     "execution_count": 138,
     "metadata": {},
     "output_type": "execute_result"
    }
   ],
   "source": [
    "a[7:9]"
   ]
  },
  {
   "cell_type": "code",
   "execution_count": 139,
   "id": "790a8fe7",
   "metadata": {},
   "outputs": [
    {
     "data": {
      "text/plain": [
       "'is'"
      ]
     },
     "execution_count": 139,
     "metadata": {},
     "output_type": "execute_result"
    }
   ],
   "source": [
    "a[-10:-8]"
   ]
  },
  {
   "cell_type": "code",
   "execution_count": 142,
   "id": "a9bb1c87",
   "metadata": {},
   "outputs": [
    {
     "data": {
      "text/plain": [
       "' si'"
      ]
     },
     "execution_count": 142,
     "metadata": {},
     "output_type": "execute_result"
    }
   ],
   "source": [
    "a[-8:-11:-1]"
   ]
  },
  {
   "cell_type": "code",
   "execution_count": null,
   "id": "816af763",
   "metadata": {},
   "outputs": [],
   "source": []
  },
  {
   "cell_type": "code",
   "execution_count": 148,
   "id": "f57dc02b",
   "metadata": {},
   "outputs": [],
   "source": [
    "# strip\n",
    "# ljust\n",
    "# rjust\n",
    "# center\n",
    "# split\n",
    "# splitlines\n",
    "# upper\n",
    "# lower\n",
    "# join\n",
    "# title\n",
    "# capitalize\n",
    "# isupper\n",
    "# istitle\n",
    "# islower\n",
    "# zfill\n",
    "# rstrip\n",
    "# lstrip\n",
    "# find\n",
    "# index\n",
    "# isdigit\n",
    "# partition\n",
    "# count\n",
    "# swapcase\n",
    "# removeprefix\n",
    "# removesuffix \n",
    "# replace"
   ]
  },
  {
   "cell_type": "code",
   "execution_count": 144,
   "id": "325456db",
   "metadata": {},
   "outputs": [
    {
     "name": "stdout",
     "output_type": "stream",
     "text": [
      "['__add__', '__class__', '__contains__', '__delattr__', '__dir__', '__doc__', '__eq__', '__format__', '__ge__', '__getattribute__', '__getitem__', '__getnewargs__', '__getstate__', '__gt__', '__hash__', '__init__', '__init_subclass__', '__iter__', '__le__', '__len__', '__lt__', '__mod__', '__mul__', '__ne__', '__new__', '__reduce__', '__reduce_ex__', '__repr__', '__rmod__', '__rmul__', '__setattr__', '__sizeof__', '__str__', '__subclasshook__', 'capitalize', 'casefold', 'center', 'count', 'encode', 'endswith', 'expandtabs', 'find', 'format', 'format_map', 'index', 'isalnum', 'isalpha', 'isascii', 'isdecimal', 'isdigit', 'isidentifier', 'islower', 'isnumeric', 'isprintable', 'isspace', 'istitle', 'isupper', 'join', 'ljust', 'lower', 'lstrip', 'maketrans', 'partition', 'removeprefix', 'removesuffix', 'replace', 'rfind', 'rindex', 'rjust', 'rpartition', 'rsplit', 'rstrip', 'split', 'splitlines', 'startswith', 'strip', 'swapcase', 'title', 'translate', 'upper', 'zfill']\n"
     ]
    }
   ],
   "source": [
    "# total methods:- 47\n",
    "\n",
    "\n",
    "print(dir(str))"
   ]
  },
  {
   "cell_type": "code",
   "execution_count": 145,
   "id": "1451be31",
   "metadata": {},
   "outputs": [],
   "source": [
    "all_methods = 'capitalize', 'casefold', 'center', 'count', 'encode', 'endswith', 'expandtabs', 'find', 'format', 'format_map', 'index', 'isalnum', 'isalpha', 'isascii', 'isdecimal', 'isdigit', 'isidentifier', 'islower', 'isnumeric', 'isprintable', 'isspace', 'istitle', 'isupper', 'join', 'ljust', 'lower', 'lstrip', 'maketrans', 'partition', 'removeprefix', 'removesuffix', 'replace', 'rfind', 'rindex', 'rjust', 'rpartition', 'rsplit', 'rstrip', 'split', 'splitlines', 'startswith', 'strip', 'swapcase', 'title', 'translate', 'upper', 'zfill'"
   ]
  },
  {
   "cell_type": "code",
   "execution_count": 146,
   "id": "37b35232",
   "metadata": {},
   "outputs": [
    {
     "name": "stdout",
     "output_type": "stream",
     "text": [
      "('capitalize', 'casefold', 'center', 'count', 'encode', 'endswith', 'expandtabs', 'find', 'format', 'format_map', 'index', 'isalnum', 'isalpha', 'isascii', 'isdecimal', 'isdigit', 'isidentifier', 'islower', 'isnumeric', 'isprintable', 'isspace', 'istitle', 'isupper', 'join', 'ljust', 'lower', 'lstrip', 'maketrans', 'partition', 'removeprefix', 'removesuffix', 'replace', 'rfind', 'rindex', 'rjust', 'rpartition', 'rsplit', 'rstrip', 'split', 'splitlines', 'startswith', 'strip', 'swapcase', 'title', 'translate', 'upper', 'zfill')\n"
     ]
    }
   ],
   "source": [
    "print(all_methods)"
   ]
  },
  {
   "cell_type": "code",
   "execution_count": 147,
   "id": "b5b02251",
   "metadata": {},
   "outputs": [
    {
     "name": "stdout",
     "output_type": "stream",
     "text": [
      "47\n"
     ]
    }
   ],
   "source": [
    "print(len(all_methods))"
   ]
  },
  {
   "cell_type": "code",
   "execution_count": 149,
   "id": "7226cd35",
   "metadata": {},
   "outputs": [
    {
     "name": "stdout",
     "output_type": "stream",
     "text": [
      "     Kumar verma\n"
     ]
    }
   ],
   "source": [
    "# lstrip,rstrip, strip\n",
    "\n",
    "a  = '     Kumar verma'\n",
    "\n",
    "print(a)"
   ]
  },
  {
   "cell_type": "code",
   "execution_count": 150,
   "id": "f9610ced",
   "metadata": {},
   "outputs": [
    {
     "data": {
      "text/plain": [
       "'Kumar verma'"
      ]
     },
     "execution_count": 150,
     "metadata": {},
     "output_type": "execute_result"
    }
   ],
   "source": [
    "a.lstrip()"
   ]
  },
  {
   "cell_type": "code",
   "execution_count": 151,
   "id": "3dafae94",
   "metadata": {},
   "outputs": [
    {
     "data": {
      "text/plain": [
       "'verma ji      '"
      ]
     },
     "execution_count": 151,
     "metadata": {},
     "output_type": "execute_result"
    }
   ],
   "source": [
    "a = 'verma ji      '\n",
    "\n",
    "\n",
    "a"
   ]
  },
  {
   "cell_type": "code",
   "execution_count": 152,
   "id": "1ace25fe",
   "metadata": {},
   "outputs": [
    {
     "data": {
      "text/plain": [
       "'verma ji'"
      ]
     },
     "execution_count": 152,
     "metadata": {},
     "output_type": "execute_result"
    }
   ],
   "source": [
    "a.rstrip()"
   ]
  },
  {
   "cell_type": "code",
   "execution_count": 153,
   "id": "499424f7",
   "metadata": {},
   "outputs": [
    {
     "data": {
      "text/plain": [
       "'shivam ji'"
      ]
     },
     "execution_count": 153,
     "metadata": {},
     "output_type": "execute_result"
    }
   ],
   "source": [
    "d = '    shivam ji     '\n",
    "\n",
    "\n",
    "d.rstrip().lstrip()"
   ]
  },
  {
   "cell_type": "code",
   "execution_count": 154,
   "id": "d10c88ae",
   "metadata": {},
   "outputs": [
    {
     "data": {
      "text/plain": [
       "'    shivam ji     '"
      ]
     },
     "execution_count": 154,
     "metadata": {},
     "output_type": "execute_result"
    }
   ],
   "source": [
    "d"
   ]
  },
  {
   "cell_type": "code",
   "execution_count": 155,
   "id": "034e4d37",
   "metadata": {},
   "outputs": [
    {
     "data": {
      "text/plain": [
       "'shivam ji'"
      ]
     },
     "execution_count": 155,
     "metadata": {},
     "output_type": "execute_result"
    }
   ],
   "source": [
    "d.strip()"
   ]
  },
  {
   "cell_type": "code",
   "execution_count": 159,
   "id": "1b08e05e",
   "metadata": {},
   "outputs": [
    {
     "data": {
      "text/plain": [
       "'                                            Hello World                                             '"
      ]
     },
     "execution_count": 159,
     "metadata": {},
     "output_type": "execute_result"
    }
   ],
   "source": [
    "# ljust\n",
    "# rjust\n",
    "# center\n",
    "\n",
    "\n",
    "a = 'Hello World'\n",
    "\n",
    "a.center(100,' ')"
   ]
  },
  {
   "cell_type": "code",
   "execution_count": 161,
   "id": "d7d75461",
   "metadata": {},
   "outputs": [
    {
     "data": {
      "text/plain": [
       "'Hello World_________'"
      ]
     },
     "execution_count": 161,
     "metadata": {},
     "output_type": "execute_result"
    }
   ],
   "source": [
    "a = 'Hello World'\n",
    "\n",
    "\n",
    "a.ljust(20,'_')"
   ]
  },
  {
   "cell_type": "code",
   "execution_count": 162,
   "id": "7c952128",
   "metadata": {},
   "outputs": [
    {
     "data": {
      "text/plain": [
       "'_________Hello World'"
      ]
     },
     "execution_count": 162,
     "metadata": {},
     "output_type": "execute_result"
    }
   ],
   "source": [
    "a = 'Hello World'\n",
    "\n",
    "\n",
    "a.rjust(20,'_')"
   ]
  },
  {
   "cell_type": "code",
   "execution_count": 163,
   "id": "1a66c124",
   "metadata": {},
   "outputs": [],
   "source": [
    "# split\n",
    "# splitlines\n",
    "# upper\n",
    "# lower"
   ]
  },
  {
   "cell_type": "code",
   "execution_count": 166,
   "id": "8547d0dd",
   "metadata": {},
   "outputs": [
    {
     "name": "stdout",
     "output_type": "stream",
     "text": [
      "['t', 'h', 'i', 's', ' ', 'i', 's', ' ', 'e', 'l', 'o', 'n', ' ', 'm', 'u', 's', 'k']\n"
     ]
    }
   ],
   "source": [
    "a = 'this is elon musk'\n",
    "\n",
    "\n",
    "print(list(a))"
   ]
  },
  {
   "cell_type": "code",
   "execution_count": 167,
   "id": "2156e4f0",
   "metadata": {},
   "outputs": [
    {
     "data": {
      "text/plain": [
       "['this', 'is', 'elon', 'musk']"
      ]
     },
     "execution_count": 167,
     "metadata": {},
     "output_type": "execute_result"
    }
   ],
   "source": [
    "a = 'this is elon musk'\n",
    "\n",
    "\n",
    "a.split(' ')"
   ]
  },
  {
   "cell_type": "code",
   "execution_count": 168,
   "id": "fd1e14a6",
   "metadata": {},
   "outputs": [
    {
     "name": "stdout",
     "output_type": "stream",
     "text": [
      "This\n",
      "is\n",
      "Elon\n",
      "Musk\n"
     ]
    }
   ],
   "source": [
    "b = 'This\\nis\\nElon\\nMusk'\n",
    "\n",
    "print(b)"
   ]
  },
  {
   "cell_type": "code",
   "execution_count": 169,
   "id": "dd4c49f7",
   "metadata": {},
   "outputs": [
    {
     "data": {
      "text/plain": [
       "['This', 'is', 'Elon', 'Musk']"
      ]
     },
     "execution_count": 169,
     "metadata": {},
     "output_type": "execute_result"
    }
   ],
   "source": [
    "b.splitlines()"
   ]
  },
  {
   "cell_type": "code",
   "execution_count": 170,
   "id": "d389570e",
   "metadata": {},
   "outputs": [
    {
     "data": {
      "text/plain": [
       "['This', 'is', 'Elon', 'Musk']"
      ]
     },
     "execution_count": 170,
     "metadata": {},
     "output_type": "execute_result"
    }
   ],
   "source": [
    "b.split('\\n')"
   ]
  },
  {
   "cell_type": "code",
   "execution_count": null,
   "id": "8854798e",
   "metadata": {},
   "outputs": [],
   "source": []
  },
  {
   "cell_type": "code",
   "execution_count": null,
   "id": "07b4c289",
   "metadata": {},
   "outputs": [],
   "source": []
  },
  {
   "cell_type": "code",
   "execution_count": 171,
   "id": "1bc52b8f",
   "metadata": {},
   "outputs": [
    {
     "data": {
      "text/plain": [
       "'HELLO WORLD'"
      ]
     },
     "execution_count": 171,
     "metadata": {},
     "output_type": "execute_result"
    }
   ],
   "source": [
    "a = 'Hello world'\n",
    "\n",
    "\n",
    "a.upper()"
   ]
  },
  {
   "cell_type": "code",
   "execution_count": 177,
   "id": "ace2d472",
   "metadata": {},
   "outputs": [
    {
     "data": {
      "text/plain": [
       "'hello world'"
      ]
     },
     "execution_count": 177,
     "metadata": {},
     "output_type": "execute_result"
    }
   ],
   "source": [
    "a = 'Hello world'\n",
    "\n",
    "a.upper().lower()"
   ]
  },
  {
   "cell_type": "code",
   "execution_count": 178,
   "id": "8c56bc0c",
   "metadata": {},
   "outputs": [],
   "source": [
    "# join\n",
    "# title\n",
    "# capitalize\n",
    "# isupper\n",
    "# istitle\n",
    "# islower\n",
    "# zfill"
   ]
  },
  {
   "cell_type": "code",
   "execution_count": 179,
   "id": "9818dcaf",
   "metadata": {},
   "outputs": [
    {
     "data": {
      "text/plain": [
       "'This Is Elon Musk'"
      ]
     },
     "execution_count": 179,
     "metadata": {},
     "output_type": "execute_result"
    }
   ],
   "source": [
    "a = 'this is elon musk'\n",
    "\n",
    "a.title()"
   ]
  },
  {
   "cell_type": "code",
   "execution_count": 180,
   "id": "1d8ff541",
   "metadata": {},
   "outputs": [
    {
     "data": {
      "text/plain": [
       "'This is elon musk'"
      ]
     },
     "execution_count": 180,
     "metadata": {},
     "output_type": "execute_result"
    }
   ],
   "source": [
    "a = 'this is elon musk'\n",
    "\n",
    "a.capitalize()"
   ]
  },
  {
   "cell_type": "code",
   "execution_count": 181,
   "id": "7aad92fc",
   "metadata": {},
   "outputs": [
    {
     "data": {
      "text/plain": [
       "'This is elon musk. modi'"
      ]
     },
     "execution_count": 181,
     "metadata": {},
     "output_type": "execute_result"
    }
   ],
   "source": [
    "a = 'this is elon musk. modi'\n",
    "\n",
    "a.capitalize()"
   ]
  },
  {
   "cell_type": "code",
   "execution_count": 197,
   "id": "e9ca06fa",
   "metadata": {},
   "outputs": [
    {
     "name": "stdout",
     "output_type": "stream",
     "text": [
      "This is elon musk. Modi\n"
     ]
    }
   ],
   "source": [
    "a = 'this is elon musk. modi'\n",
    "\n",
    "result = ''\n",
    "for i in a.split('. '):\n",
    "    result+= i.capitalize()+'. '\n",
    "\n",
    "result = result.strip()[:-1]\n",
    "\n",
    "print(result)"
   ]
  },
  {
   "cell_type": "code",
   "execution_count": null,
   "id": "e55e65a9",
   "metadata": {},
   "outputs": [],
   "source": []
  },
  {
   "cell_type": "code",
   "execution_count": 199,
   "id": "f091c715",
   "metadata": {},
   "outputs": [
    {
     "data": {
      "text/plain": [
       "'THIS IS ELON MUSK. MODI'"
      ]
     },
     "execution_count": 199,
     "metadata": {},
     "output_type": "execute_result"
    }
   ],
   "source": [
    "a.upper()"
   ]
  },
  {
   "cell_type": "code",
   "execution_count": 201,
   "id": "71b5d4d4",
   "metadata": {},
   "outputs": [
    {
     "data": {
      "text/plain": [
       "False"
      ]
     },
     "execution_count": 201,
     "metadata": {},
     "output_type": "execute_result"
    }
   ],
   "source": [
    "# isupper\n",
    "# istitle\n",
    "# islower\n",
    "\n",
    "\n",
    "a = 'JHsGCGH'\n",
    "\n",
    "\n",
    "a.isupper()"
   ]
  },
  {
   "cell_type": "code",
   "execution_count": 203,
   "id": "bfaff398",
   "metadata": {},
   "outputs": [
    {
     "data": {
      "text/plain": [
       "True"
      ]
     },
     "execution_count": 203,
     "metadata": {},
     "output_type": "execute_result"
    }
   ],
   "source": [
    "a = 'jhgffd'\n",
    "\n",
    "a.islower()"
   ]
  },
  {
   "cell_type": "code",
   "execution_count": 205,
   "id": "07b55ba0",
   "metadata": {},
   "outputs": [
    {
     "data": {
      "text/plain": [
       "True"
      ]
     },
     "execution_count": 205,
     "metadata": {},
     "output_type": "execute_result"
    }
   ],
   "source": [
    "a = 'This Is Elon Musk'\n",
    "\n",
    "a.istitle()"
   ]
  },
  {
   "cell_type": "code",
   "execution_count": 212,
   "id": "572b84c9",
   "metadata": {},
   "outputs": [
    {
     "data": {
      "text/plain": [
       "True"
      ]
     },
     "execution_count": 212,
     "metadata": {},
     "output_type": "execute_result"
    }
   ],
   "source": [
    "# isdigit\n",
    "\n",
    "a = '8756578'          \n",
    "\n",
    "a.isdigit()"
   ]
  },
  {
   "cell_type": "code",
   "execution_count": 213,
   "id": "edd61d01",
   "metadata": {},
   "outputs": [],
   "source": [
    "# zfill"
   ]
  },
  {
   "cell_type": "code",
   "execution_count": 216,
   "id": "cb8f531a",
   "metadata": {},
   "outputs": [
    {
     "data": {
      "text/plain": [
       "'0hgvgh'"
      ]
     },
     "execution_count": 216,
     "metadata": {},
     "output_type": "execute_result"
    }
   ],
   "source": [
    "a = 'hgvgh'\n",
    "\n",
    "a.zfill(6)"
   ]
  },
  {
   "cell_type": "code",
   "execution_count": null,
   "id": "efb48cf2",
   "metadata": {},
   "outputs": [],
   "source": []
  },
  {
   "cell_type": "code",
   "execution_count": 217,
   "id": "d9d29d27",
   "metadata": {},
   "outputs": [],
   "source": [
    "# find\n",
    "# index"
   ]
  },
  {
   "cell_type": "code",
   "execution_count": 218,
   "id": "50bec670",
   "metadata": {},
   "outputs": [
    {
     "data": {
      "text/plain": [
       "10"
      ]
     },
     "execution_count": 218,
     "metadata": {},
     "output_type": "execute_result"
    }
   ],
   "source": [
    "a = 'This is Elon Musk'\n",
    "\n",
    "\n",
    "a.index('o')"
   ]
  },
  {
   "cell_type": "code",
   "execution_count": 223,
   "id": "96eff4ec",
   "metadata": {},
   "outputs": [
    {
     "data": {
      "text/plain": [
       "15"
      ]
     },
     "execution_count": 223,
     "metadata": {},
     "output_type": "execute_result"
    }
   ],
   "source": [
    "a.index('s',7)"
   ]
  },
  {
   "cell_type": "code",
   "execution_count": 224,
   "id": "8bbaebfd",
   "metadata": {},
   "outputs": [
    {
     "data": {
      "text/plain": [
       "'s'"
      ]
     },
     "execution_count": 224,
     "metadata": {},
     "output_type": "execute_result"
    }
   ],
   "source": [
    "a[15]"
   ]
  },
  {
   "cell_type": "code",
   "execution_count": 225,
   "id": "34d486e2",
   "metadata": {},
   "outputs": [
    {
     "data": {
      "text/plain": [
       "'This is Elon Musk'"
      ]
     },
     "execution_count": 225,
     "metadata": {},
     "output_type": "execute_result"
    }
   ],
   "source": [
    "a"
   ]
  },
  {
   "cell_type": "code",
   "execution_count": 226,
   "id": "64c73849",
   "metadata": {},
   "outputs": [
    {
     "ename": "ValueError",
     "evalue": "substring not found",
     "output_type": "error",
     "traceback": [
      "\u001b[1;31m---------------------------------------------------------------------------\u001b[0m",
      "\u001b[1;31mValueError\u001b[0m                                Traceback (most recent call last)",
      "Cell \u001b[1;32mIn[226], line 1\u001b[0m\n\u001b[1;32m----> 1\u001b[0m a\u001b[38;5;241m.\u001b[39mindex(\u001b[38;5;124m'\u001b[39m\u001b[38;5;124mz\u001b[39m\u001b[38;5;124m'\u001b[39m)\n",
      "\u001b[1;31mValueError\u001b[0m: substring not found"
     ]
    }
   ],
   "source": [
    "a.index('z')"
   ]
  },
  {
   "cell_type": "code",
   "execution_count": 227,
   "id": "369fddca",
   "metadata": {},
   "outputs": [
    {
     "data": {
      "text/plain": [
       "'This is Elon Musk'"
      ]
     },
     "execution_count": 227,
     "metadata": {},
     "output_type": "execute_result"
    }
   ],
   "source": [
    "# find\n",
    "\n",
    "a"
   ]
  },
  {
   "cell_type": "code",
   "execution_count": 231,
   "id": "a363d95d",
   "metadata": {},
   "outputs": [
    {
     "data": {
      "text/plain": [
       "15"
      ]
     },
     "execution_count": 231,
     "metadata": {},
     "output_type": "execute_result"
    }
   ],
   "source": [
    "a.find('s',7)"
   ]
  },
  {
   "cell_type": "code",
   "execution_count": 232,
   "id": "d6d06863",
   "metadata": {},
   "outputs": [
    {
     "data": {
      "text/plain": [
       "-1"
      ]
     },
     "execution_count": 232,
     "metadata": {},
     "output_type": "execute_result"
    }
   ],
   "source": [
    "a.find('z')"
   ]
  },
  {
   "cell_type": "code",
   "execution_count": 233,
   "id": "fb7c8a52",
   "metadata": {},
   "outputs": [
    {
     "ename": "ValueError",
     "evalue": "substring not found",
     "output_type": "error",
     "traceback": [
      "\u001b[1;31m---------------------------------------------------------------------------\u001b[0m",
      "\u001b[1;31mValueError\u001b[0m                                Traceback (most recent call last)",
      "Cell \u001b[1;32mIn[233], line 1\u001b[0m\n\u001b[1;32m----> 1\u001b[0m a\u001b[38;5;241m.\u001b[39mindex(\u001b[38;5;124m'\u001b[39m\u001b[38;5;124mz\u001b[39m\u001b[38;5;124m'\u001b[39m)\n\u001b[0;32m      3\u001b[0m \u001b[38;5;28mprint\u001b[39m(\u001b[38;5;124m'\u001b[39m\u001b[38;5;124mHello world\u001b[39m\u001b[38;5;124m'\u001b[39m)\n",
      "\u001b[1;31mValueError\u001b[0m: substring not found"
     ]
    }
   ],
   "source": [
    "a.index('z')\n",
    "\n",
    "print('Hello world')"
   ]
  },
  {
   "cell_type": "code",
   "execution_count": 235,
   "id": "5dc4870f",
   "metadata": {},
   "outputs": [
    {
     "name": "stdout",
     "output_type": "stream",
     "text": [
      "-1\n",
      "Hello world\n"
     ]
    }
   ],
   "source": [
    "print(a.find('z'))\n",
    "\n",
    "print('Hello world')"
   ]
  },
  {
   "cell_type": "code",
   "execution_count": 236,
   "id": "78a73e45",
   "metadata": {},
   "outputs": [],
   "source": [
    "# partition\n",
    "# count\n",
    "# swapcase\n",
    "# removeprefix\n",
    "# removesuffix \n",
    "# replace"
   ]
  },
  {
   "cell_type": "code",
   "execution_count": 239,
   "id": "b18a0940",
   "metadata": {},
   "outputs": [
    {
     "data": {
      "text/plain": [
       "('This is ', 'E', 'lon Musk')"
      ]
     },
     "execution_count": 239,
     "metadata": {},
     "output_type": "execute_result"
    }
   ],
   "source": [
    "a = 'This is Elon Musk'\n",
    "\n",
    "a.partition('E')"
   ]
  },
  {
   "cell_type": "code",
   "execution_count": 238,
   "id": "5b28b3f5",
   "metadata": {},
   "outputs": [
    {
     "data": {
      "text/plain": [
       "['This', 'is', 'Elon', 'Musk']"
      ]
     },
     "execution_count": 238,
     "metadata": {},
     "output_type": "execute_result"
    }
   ],
   "source": [
    "a = 'This is Elon Musk'\n",
    "\n",
    "a.split(' ')"
   ]
  },
  {
   "cell_type": "code",
   "execution_count": 240,
   "id": "fd14febb",
   "metadata": {},
   "outputs": [
    {
     "data": {
      "text/plain": [
       "'This is Elon Musk'"
      ]
     },
     "execution_count": 240,
     "metadata": {},
     "output_type": "execute_result"
    }
   ],
   "source": [
    "a"
   ]
  },
  {
   "cell_type": "code",
   "execution_count": 241,
   "id": "f54c0426",
   "metadata": {},
   "outputs": [
    {
     "data": {
      "text/plain": [
       "3"
      ]
     },
     "execution_count": 241,
     "metadata": {},
     "output_type": "execute_result"
    }
   ],
   "source": [
    "a.count('s')"
   ]
  },
  {
   "cell_type": "code",
   "execution_count": 242,
   "id": "fbccd538",
   "metadata": {},
   "outputs": [
    {
     "data": {
      "text/plain": [
       "'Twinkle, twinkle, little star,How I wonder what you are!Up above the world so high,Like a diamond in the sky.When the blazing sun is gone,When he nothing shines upon,Then you show your little light,Twinkle, twinkle, all the night.Then the traveler in the darkThanks you for your tiny spark,How could he see where to go,If you did not twinkle so?'"
      ]
     },
     "execution_count": 242,
     "metadata": {},
     "output_type": "execute_result"
    }
   ],
   "source": [
    "poem"
   ]
  },
  {
   "cell_type": "code",
   "execution_count": 243,
   "id": "597bcc50",
   "metadata": {},
   "outputs": [
    {
     "data": {
      "text/plain": [
       "5"
      ]
     },
     "execution_count": 243,
     "metadata": {},
     "output_type": "execute_result"
    }
   ],
   "source": [
    "poem.lower().count('twinkle')"
   ]
  },
  {
   "cell_type": "code",
   "execution_count": 244,
   "id": "a6d4a437",
   "metadata": {},
   "outputs": [
    {
     "data": {
      "text/plain": [
       "3"
      ]
     },
     "execution_count": 244,
     "metadata": {},
     "output_type": "execute_result"
    }
   ],
   "source": [
    "poem.count('twinkle')"
   ]
  },
  {
   "cell_type": "code",
   "execution_count": 245,
   "id": "bc27649b",
   "metadata": {},
   "outputs": [
    {
     "data": {
      "text/plain": [
       "5"
      ]
     },
     "execution_count": 245,
     "metadata": {},
     "output_type": "execute_result"
    }
   ],
   "source": [
    "poem.upper().count('TWINKLE')"
   ]
  },
  {
   "cell_type": "code",
   "execution_count": 246,
   "id": "d6d67b11",
   "metadata": {},
   "outputs": [
    {
     "data": {
      "text/plain": [
       "5"
      ]
     },
     "execution_count": 246,
     "metadata": {},
     "output_type": "execute_result"
    }
   ],
   "source": [
    "poem.upper().count('twinkle'.upper())"
   ]
  },
  {
   "cell_type": "code",
   "execution_count": 247,
   "id": "657749df",
   "metadata": {},
   "outputs": [
    {
     "data": {
      "text/plain": [
       "'TWINKLE, TWINKLE, LITTLE STAR,HOW I WONDER WHAT YOU ARE!UP ABOVE THE WORLD SO HIGH,LIKE A DIAMOND IN THE SKY.WHEN THE BLAZING SUN IS GONE,WHEN HE NOTHING SHINES UPON,THEN YOU SHOW YOUR LITTLE LIGHT,TWINKLE, TWINKLE, ALL THE NIGHT.THEN THE TRAVELER IN THE DARKTHANKS YOU FOR YOUR TINY SPARK,HOW COULD HE SEE WHERE TO GO,IF YOU DID NOT TWINKLE SO?'"
      ]
     },
     "execution_count": 247,
     "metadata": {},
     "output_type": "execute_result"
    }
   ],
   "source": []
  },
  {
   "cell_type": "code",
   "execution_count": 248,
   "id": "7b75d71f",
   "metadata": {},
   "outputs": [],
   "source": [
    "# swapcase\n",
    "# removeprefix\n",
    "# removesuffix "
   ]
  },
  {
   "cell_type": "code",
   "execution_count": 249,
   "id": "f553b9e8",
   "metadata": {},
   "outputs": [
    {
     "data": {
      "text/plain": [
       "'THIS is elon MUSK'"
      ]
     },
     "execution_count": 249,
     "metadata": {},
     "output_type": "execute_result"
    }
   ],
   "source": [
    "a = 'this IS ELON musk'\n",
    "\n",
    "a.swapcase()"
   ]
  },
  {
   "cell_type": "code",
   "execution_count": 250,
   "id": "30dc9102",
   "metadata": {},
   "outputs": [],
   "source": [
    "# removeprefix\n",
    "# removesuffix "
   ]
  },
  {
   "cell_type": "code",
   "execution_count": 251,
   "id": "7becf80b",
   "metadata": {},
   "outputs": [
    {
     "data": {
      "text/plain": [
       "'Kumar Verma'"
      ]
     },
     "execution_count": 251,
     "metadata": {},
     "output_type": "execute_result"
    }
   ],
   "source": [
    "a = 'Mr Kumar Verma'\n",
    "\n",
    "\n",
    "a.removeprefix('Mr ')"
   ]
  },
  {
   "cell_type": "code",
   "execution_count": 252,
   "id": "f703d52e",
   "metadata": {},
   "outputs": [
    {
     "data": {
      "text/plain": [
       "'dubey'"
      ]
     },
     "execution_count": 252,
     "metadata": {},
     "output_type": "execute_result"
    }
   ],
   "source": [
    "f = 'dubey ji kanpur waale'\n",
    "\n",
    "\n",
    "f.removesuffix(' ji kanpur waale')"
   ]
  },
  {
   "cell_type": "code",
   "execution_count": 253,
   "id": "4f499373",
   "metadata": {},
   "outputs": [],
   "source": [
    "# replace"
   ]
  },
  {
   "cell_type": "code",
   "execution_count": 257,
   "id": "21fdf60d",
   "metadata": {},
   "outputs": [
    {
     "data": {
      "text/plain": [
       "'This is Techvidya'"
      ]
     },
     "execution_count": 257,
     "metadata": {},
     "output_type": "execute_result"
    }
   ],
   "source": [
    "a = 'This is Elon Musk'\n",
    "\n",
    "\n",
    "a.replace('Elon Musk','Techvidya')"
   ]
  },
  {
   "cell_type": "code",
   "execution_count": null,
   "id": "6b90b4f5",
   "metadata": {},
   "outputs": [],
   "source": []
  },
  {
   "cell_type": "code",
   "execution_count": null,
   "id": "b95c603c",
   "metadata": {},
   "outputs": [],
   "source": []
  },
  {
   "cell_type": "code",
   "execution_count": 258,
   "id": "c0038439",
   "metadata": {},
   "outputs": [],
   "source": [
    "# join"
   ]
  },
  {
   "cell_type": "code",
   "execution_count": 259,
   "id": "43992692",
   "metadata": {},
   "outputs": [
    {
     "data": {
      "text/plain": [
       "'P*y*t*h*o*n'"
      ]
     },
     "execution_count": 259,
     "metadata": {},
     "output_type": "execute_result"
    }
   ],
   "source": [
    "a = 'Python'\n",
    "\n",
    "b = '*'\n",
    "\n",
    "b.join(a)"
   ]
  },
  {
   "cell_type": "code",
   "execution_count": 260,
   "id": "ed145c92",
   "metadata": {},
   "outputs": [
    {
     "data": {
      "text/plain": [
       "'P*y*t*h*o*n'"
      ]
     },
     "execution_count": 260,
     "metadata": {},
     "output_type": "execute_result"
    }
   ],
   "source": [
    "'*'.join('Python')"
   ]
  },
  {
   "cell_type": "code",
   "execution_count": 261,
   "id": "3008b240",
   "metadata": {},
   "outputs": [
    {
     "data": {
      "text/plain": [
       "'J1a1v1a'"
      ]
     },
     "execution_count": 261,
     "metadata": {},
     "output_type": "execute_result"
    }
   ],
   "source": [
    "'1'.join('Java')\n",
    "\n",
    "# J1a1v1a"
   ]
  },
  {
   "cell_type": "code",
   "execution_count": 262,
   "id": "32676e6d",
   "metadata": {},
   "outputs": [
    {
     "data": {
      "text/plain": [
       "'Python'"
      ]
     },
     "execution_count": 262,
     "metadata": {},
     "output_type": "execute_result"
    }
   ],
   "source": [
    "a"
   ]
  },
  {
   "cell_type": "code",
   "execution_count": 263,
   "id": "5cce9917",
   "metadata": {},
   "outputs": [
    {
     "data": {
      "text/plain": [
       "'*Python*'"
      ]
     },
     "execution_count": 263,
     "metadata": {},
     "output_type": "execute_result"
    }
   ],
   "source": [
    "a.center(8,'*')"
   ]
  },
  {
   "cell_type": "code",
   "execution_count": 264,
   "id": "a2c449a1",
   "metadata": {},
   "outputs": [],
   "source": [
    "a = 'hollywood'"
   ]
  },
  {
   "cell_type": "code",
   "execution_count": 265,
   "id": "72e8ea33",
   "metadata": {},
   "outputs": [],
   "source": [
    "# H O L L Y W O O D"
   ]
  },
  {
   "cell_type": "code",
   "execution_count": 267,
   "id": "fb329a74",
   "metadata": {},
   "outputs": [
    {
     "data": {
      "text/plain": [
       "'H O L L Y W O O D'"
      ]
     },
     "execution_count": 267,
     "metadata": {},
     "output_type": "execute_result"
    }
   ],
   "source": [
    "' '.join(a.upper())"
   ]
  },
  {
   "cell_type": "code",
   "execution_count": 268,
   "id": "b5803bdc",
   "metadata": {},
   "outputs": [
    {
     "data": {
      "text/plain": [
       "'H O L L Y W O O D'"
      ]
     },
     "execution_count": 268,
     "metadata": {},
     "output_type": "execute_result"
    }
   ],
   "source": [
    "' '.join(a).upper()"
   ]
  },
  {
   "cell_type": "code",
   "execution_count": 270,
   "id": "c9510c7f",
   "metadata": {},
   "outputs": [
    {
     "data": {
      "text/plain": [
       "'H__O__L__L__Y__W__O__O__D'"
      ]
     },
     "execution_count": 270,
     "metadata": {},
     "output_type": "execute_result"
    }
   ],
   "source": [
    "'__'.join(a).upper()"
   ]
  },
  {
   "cell_type": "code",
   "execution_count": 271,
   "id": "3d2d73cb",
   "metadata": {},
   "outputs": [
    {
     "name": "stdout",
     "output_type": "stream",
     "text": [
      "['arun', 'karan', 'ravi', 'mohan', 'ajay', 'prince', 'deepak']\n"
     ]
    }
   ],
   "source": [
    "data = ['arun','karan','ravi','mohan','ajay','prince','deepak']\n",
    "print(data)"
   ]
  },
  {
   "cell_type": "code",
   "execution_count": 273,
   "id": "13211fa4",
   "metadata": {},
   "outputs": [],
   "source": [
    "a = 'This is Elon Musk'\n",
    "\n",
    "data = a.split(' ')"
   ]
  },
  {
   "cell_type": "code",
   "execution_count": 274,
   "id": "996fb0f3",
   "metadata": {},
   "outputs": [
    {
     "data": {
      "text/plain": [
       "['This', 'is', 'Elon', 'Musk']"
      ]
     },
     "execution_count": 274,
     "metadata": {},
     "output_type": "execute_result"
    }
   ],
   "source": [
    "data"
   ]
  },
  {
   "cell_type": "code",
   "execution_count": 275,
   "id": "dcb46fce",
   "metadata": {},
   "outputs": [
    {
     "data": {
      "text/plain": [
       "'This is Elon Musk'"
      ]
     },
     "execution_count": 275,
     "metadata": {},
     "output_type": "execute_result"
    }
   ],
   "source": [
    "' '.join(data)"
   ]
  },
  {
   "cell_type": "code",
   "execution_count": 276,
   "id": "f71cb00e",
   "metadata": {},
   "outputs": [
    {
     "name": "stdout",
     "output_type": "stream",
     "text": [
      "['arun', 'karan', 'ravi', 'mohan', 'ajay', 'prince', 'deepak']\n"
     ]
    }
   ],
   "source": [
    "data = ['arun','karan','ravi','mohan','ajay','prince','deepak']\n",
    "print(data)"
   ]
  },
  {
   "cell_type": "code",
   "execution_count": 277,
   "id": "9b5873e3",
   "metadata": {},
   "outputs": [
    {
     "data": {
      "text/plain": [
       "'arun karan ravi mohan ajay prince deepak'"
      ]
     },
     "execution_count": 277,
     "metadata": {},
     "output_type": "execute_result"
    }
   ],
   "source": [
    "' '.join(data)"
   ]
  },
  {
   "cell_type": "code",
   "execution_count": 278,
   "id": "40d15884",
   "metadata": {},
   "outputs": [
    {
     "ename": "TypeError",
     "evalue": "sequence item 2: expected str instance, int found",
     "output_type": "error",
     "traceback": [
      "\u001b[1;31m---------------------------------------------------------------------------\u001b[0m",
      "\u001b[1;31mTypeError\u001b[0m                                 Traceback (most recent call last)",
      "Cell \u001b[1;32mIn[278], line 3\u001b[0m\n\u001b[0;32m      1\u001b[0m data \u001b[38;5;241m=\u001b[39m [\u001b[38;5;124m'\u001b[39m\u001b[38;5;124mkaran\u001b[39m\u001b[38;5;124m'\u001b[39m,\u001b[38;5;124m'\u001b[39m\u001b[38;5;124mnaman\u001b[39m\u001b[38;5;124m'\u001b[39m,\u001b[38;5;241m23\u001b[39m]\n\u001b[1;32m----> 3\u001b[0m \u001b[38;5;124m'\u001b[39m\u001b[38;5;124m \u001b[39m\u001b[38;5;124m'\u001b[39m\u001b[38;5;241m.\u001b[39mjoin(data)\n",
      "\u001b[1;31mTypeError\u001b[0m: sequence item 2: expected str instance, int found"
     ]
    }
   ],
   "source": [
    "data = ['karan','naman',23]\n",
    "\n",
    "' '.join(data)"
   ]
  },
  {
   "cell_type": "code",
   "execution_count": 279,
   "id": "03201675",
   "metadata": {},
   "outputs": [
    {
     "name": "stdout",
     "output_type": "stream",
     "text": [
      "Everyone I met in Pakistan was very curious about India. Their top question was, “What’s the difference between India and Pakistan? Are they similar?” The answer is, yes, there is a familiarity between India and Pakistan. After all, they used to be the same country. But at the same time, there are a few differences.\n"
     ]
    }
   ],
   "source": [
    "blog = '''Everyone I met in Pakistan was very curious about India. Their top question was, “What’s the difference between India and Pakistan? Are they similar?” The answer is, yes, there is a familiarity between India and Pakistan. After all, they used to be the same country. But at the same time, there are a few differences.'''\n",
    "\n",
    "print(blog)"
   ]
  },
  {
   "cell_type": "code",
   "execution_count": null,
   "id": "dfa1642d",
   "metadata": {},
   "outputs": [],
   "source": []
  }
 ],
 "metadata": {
  "kernelspec": {
   "display_name": "Python 3 (ipykernel)",
   "language": "python",
   "name": "python3"
  },
  "language_info": {
   "codemirror_mode": {
    "name": "ipython",
    "version": 3
   },
   "file_extension": ".py",
   "mimetype": "text/x-python",
   "name": "python",
   "nbconvert_exporter": "python",
   "pygments_lexer": "ipython3",
   "version": "3.11.3"
  }
 },
 "nbformat": 4,
 "nbformat_minor": 5
}
