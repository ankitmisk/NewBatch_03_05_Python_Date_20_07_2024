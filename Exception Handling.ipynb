{
 "cells": [
  {
   "cell_type": "code",
   "execution_count": null,
   "id": "7c01b4c2",
   "metadata": {},
   "outputs": [],
   "source": [
    "# errors handle:- Exception handling"
   ]
  },
  {
   "cell_type": "code",
   "execution_count": null,
   "id": "dbbf103b",
   "metadata": {},
   "outputs": [],
   "source": [
    "a = '23'\n",
    "b = 34\n",
    "\n",
    "print(a + b)"
   ]
  },
  {
   "cell_type": "code",
   "execution_count": null,
   "id": "f8fa6b33",
   "metadata": {},
   "outputs": [],
   "source": [
    "data = [12,43,42,34,t]"
   ]
  },
  {
   "cell_type": "code",
   "execution_count": null,
   "id": "a8592017",
   "metadata": {},
   "outputs": [],
   "source": [
    "print(data)"
   ]
  },
  {
   "cell_type": "code",
   "execution_count": null,
   "id": "3d36ff43",
   "metadata": {},
   "outputs": [],
   "source": [
    "data = [23,44,3342,45,6]"
   ]
  },
  {
   "cell_type": "code",
   "execution_count": null,
   "id": "a9cfabc9",
   "metadata": {},
   "outputs": [],
   "source": [
    "print(data[30])"
   ]
  },
  {
   "cell_type": "code",
   "execution_count": null,
   "id": "70a002bb",
   "metadata": {},
   "outputs": [],
   "source": [
    "if 2==2:\n",
    "    print('Yes')"
   ]
  },
  {
   "cell_type": "code",
   "execution_count": null,
   "id": "2a64d863",
   "metadata": {},
   "outputs": [],
   "source": [
    "print('jhvhg)"
   ]
  },
  {
   "cell_type": "code",
   "execution_count": null,
   "id": "c79f7835",
   "metadata": {},
   "outputs": [],
   "source": [
    "prin('jvhgv')"
   ]
  },
  {
   "cell_type": "code",
   "execution_count": null,
   "id": "b43aa044",
   "metadata": {},
   "outputs": [],
   "source": [
    "print(gfcghj"
   ]
  },
  {
   "cell_type": "code",
   "execution_count": null,
   "id": "5c6ebe8c",
   "metadata": {},
   "outputs": [],
   "source": [
    "data = {'Name':'Ajay','Age':234}\n",
    "\n",
    "\n",
    "print(data['Salary'])"
   ]
  },
  {
   "cell_type": "code",
   "execution_count": null,
   "id": "ad33d6ef",
   "metadata": {},
   "outputs": [],
   "source": [
    "def harry():\n",
    "    harry()"
   ]
  },
  {
   "cell_type": "code",
   "execution_count": null,
   "id": "002faadf",
   "metadata": {},
   "outputs": [],
   "source": [
    "harry()"
   ]
  },
  {
   "cell_type": "code",
   "execution_count": null,
   "id": "1fa73116",
   "metadata": {},
   "outputs": [],
   "source": [
    "data = [i for i in range(43456789876543456789765434567890)]"
   ]
  },
  {
   "cell_type": "code",
   "execution_count": 1,
   "id": "8b848960",
   "metadata": {},
   "outputs": [],
   "source": [
    "# for i in range(234567865432,234567865432456):\n",
    "#     print(i**i)"
   ]
  },
  {
   "cell_type": "code",
   "execution_count": 2,
   "id": "5779e938",
   "metadata": {},
   "outputs": [
    {
     "ename": "ValueError",
     "evalue": "invalid literal for int() with base 10: '56.8'",
     "output_type": "error",
     "traceback": [
      "\u001b[1;31m---------------------------------------------------------------------------\u001b[0m",
      "\u001b[1;31mValueError\u001b[0m                                Traceback (most recent call last)",
      "Cell \u001b[1;32mIn[2], line 9\u001b[0m\n\u001b[0;32m      1\u001b[0m \u001b[38;5;66;03m# # Exception Handling: way to handle error in Python\u001b[39;00m\n\u001b[0;32m      2\u001b[0m \u001b[38;5;66;03m# try\u001b[39;00m\n\u001b[0;32m      3\u001b[0m \u001b[38;5;66;03m# except\u001b[39;00m\n\u001b[0;32m      4\u001b[0m \u001b[38;5;66;03m# else\u001b[39;00m\n\u001b[0;32m      5\u001b[0m \u001b[38;5;66;03m# finally\u001b[39;00m\n\u001b[1;32m----> 9\u001b[0m a \u001b[38;5;241m=\u001b[39m \u001b[38;5;28mint\u001b[39m(\u001b[38;5;124m'\u001b[39m\u001b[38;5;124m56.8\u001b[39m\u001b[38;5;124m'\u001b[39m)\n\u001b[0;32m     10\u001b[0m \u001b[38;5;28mprint\u001b[39m(a)\n",
      "\u001b[1;31mValueError\u001b[0m: invalid literal for int() with base 10: '56.8'"
     ]
    }
   ],
   "source": [
    "# # Exception Handling: way to handle error in Python\n",
    "# try\n",
    "# except\n",
    "# else\n",
    "# finally\n",
    "\n",
    "\n",
    "\n",
    "a = int('56.8')\n",
    "print(a)"
   ]
  },
  {
   "cell_type": "code",
   "execution_count": 3,
   "id": "df3cc4f2",
   "metadata": {},
   "outputs": [
    {
     "ename": "ModuleNotFoundError",
     "evalue": "No module named 'timee'",
     "output_type": "error",
     "traceback": [
      "\u001b[1;31m---------------------------------------------------------------------------\u001b[0m",
      "\u001b[1;31mModuleNotFoundError\u001b[0m                       Traceback (most recent call last)",
      "Cell \u001b[1;32mIn[3], line 1\u001b[0m\n\u001b[1;32m----> 1\u001b[0m \u001b[38;5;28;01mimport\u001b[39;00m \u001b[38;5;21;01mtimee\u001b[39;00m\n",
      "\u001b[1;31mModuleNotFoundError\u001b[0m: No module named 'timee'"
     ]
    }
   ],
   "source": [
    "import timee\n"
   ]
  },
  {
   "cell_type": "code",
   "execution_count": 4,
   "id": "3361b82f",
   "metadata": {},
   "outputs": [
    {
     "name": "stdout",
     "output_type": "stream",
     "text": [
      "hello World\n",
      "hello World\n"
     ]
    },
    {
     "ename": "KeyboardInterrupt",
     "evalue": "",
     "output_type": "error",
     "traceback": [
      "\u001b[1;31m---------------------------------------------------------------------------\u001b[0m",
      "\u001b[1;31mKeyboardInterrupt\u001b[0m                         Traceback (most recent call last)",
      "Cell \u001b[1;32mIn[4], line 4\u001b[0m\n\u001b[0;32m      2\u001b[0m \u001b[38;5;28;01mwhile\u001b[39;00m \u001b[38;5;28;01mTrue\u001b[39;00m:\n\u001b[0;32m      3\u001b[0m     \u001b[38;5;28mprint\u001b[39m(\u001b[38;5;124m'\u001b[39m\u001b[38;5;124mhello World\u001b[39m\u001b[38;5;124m'\u001b[39m)\n\u001b[1;32m----> 4\u001b[0m     time\u001b[38;5;241m.\u001b[39msleep(\u001b[38;5;241m3\u001b[39m)\n",
      "\u001b[1;31mKeyboardInterrupt\u001b[0m: "
     ]
    }
   ],
   "source": [
    "import time\n",
    "while True:\n",
    "    print('hello World')\n",
    "    time.sleep(3)"
   ]
  },
  {
   "cell_type": "code",
   "execution_count": 5,
   "id": "9c020457",
   "metadata": {},
   "outputs": [
    {
     "name": "stdout",
     "output_type": "stream",
     "text": [
      "Try block fails, something went wrong!!\n"
     ]
    }
   ],
   "source": [
    "try:\n",
    "    import timee\n",
    "    print('Done')\n",
    "    \n",
    "except:\n",
    "    print('Try block fails, something went wrong!!')"
   ]
  },
  {
   "cell_type": "code",
   "execution_count": 7,
   "id": "16a74a85",
   "metadata": {},
   "outputs": [
    {
     "name": "stdout",
     "output_type": "stream",
     "text": [
      "Done\n",
      "Ans 4\n",
      "[1, 43, 2, 435, 6]\n"
     ]
    }
   ],
   "source": [
    "import timee\n",
    "print('Done')\n",
    "print('Ans',2*2)\n",
    "print([1,43,2,435,6])"
   ]
  },
  {
   "cell_type": "code",
   "execution_count": 8,
   "id": "877b5d0f",
   "metadata": {},
   "outputs": [
    {
     "name": "stdout",
     "output_type": "stream",
     "text": [
      "Try block fails, something went wrong!!\n",
      "Done\n",
      "Ans 4\n",
      "[1, 43, 2, 435, 6]\n"
     ]
    }
   ],
   "source": [
    "try:\n",
    "    import timee\n",
    "except:\n",
    "    print('Try block fails, something went wrong!!')\n",
    "    \n",
    "print('Done')\n",
    "print('Ans',2*2)\n",
    "print([1,43,2,435,6])"
   ]
  },
  {
   "cell_type": "code",
   "execution_count": 10,
   "id": "de77fb6c",
   "metadata": {},
   "outputs": [],
   "source": [
    "# import timee"
   ]
  },
  {
   "cell_type": "code",
   "execution_count": 25,
   "id": "eda08b2a",
   "metadata": {},
   "outputs": [
    {
     "name": "stdout",
     "output_type": "stream",
     "text": [
      "Done\n",
      "Ans 4\n",
      "[1, 43, 2, 435, 6]\n"
     ]
    }
   ],
   "source": [
    "try:\n",
    "    import time\n",
    "    \n",
    "except Exception as err:\n",
    "    print(err)\n",
    "    \n",
    "print('Done')\n",
    "print('Ans',2*2)\n",
    "print([1,43,2,435,6])"
   ]
  },
  {
   "cell_type": "code",
   "execution_count": 13,
   "id": "ec261255",
   "metadata": {},
   "outputs": [],
   "source": [
    "# type(Exception)"
   ]
  },
  {
   "cell_type": "code",
   "execution_count": 29,
   "id": "5a889c1a",
   "metadata": {},
   "outputs": [],
   "source": [
    "def ab(a,b,\n",
    "       c):\n",
    "    print('hjbh')"
   ]
  },
  {
   "cell_type": "code",
   "execution_count": 28,
   "id": "66e89ba5",
   "metadata": {},
   "outputs": [
    {
     "name": "stdout",
     "output_type": "stream",
     "text": [
      "hjbh\n"
     ]
    }
   ],
   "source": [
    "ab(1,24,4)"
   ]
  },
  {
   "cell_type": "code",
   "execution_count": null,
   "id": "cc5f357e",
   "metadata": {},
   "outputs": [],
   "source": []
  },
  {
   "cell_type": "code",
   "execution_count": null,
   "id": "fea6c212",
   "metadata": {},
   "outputs": [],
   "source": []
  },
  {
   "cell_type": "code",
   "execution_count": 30,
   "id": "952322f9",
   "metadata": {},
   "outputs": [
    {
     "name": "stdout",
     "output_type": "stream",
     "text": [
      "['ArithmeticError', 'AssertionError', 'AttributeError', 'BaseException', 'BaseExceptionGroup', 'BlockingIOError', 'BrokenPipeError', 'BufferError', 'BytesWarning', 'ChildProcessError', 'ConnectionAbortedError', 'ConnectionError', 'ConnectionRefusedError', 'ConnectionResetError', 'DeprecationWarning', 'EOFError', 'Ellipsis', 'EncodingWarning', 'EnvironmentError', 'Exception', 'ExceptionGroup', 'False', 'FileExistsError', 'FileNotFoundError', 'FloatingPointError', 'FutureWarning', 'GeneratorExit', 'IOError', 'ImportError', 'ImportWarning', 'IndentationError', 'IndexError', 'InterruptedError', 'IsADirectoryError', 'KeyError', 'KeyboardInterrupt', 'LookupError', 'MemoryError', 'ModuleNotFoundError', 'NameError', 'None', 'NotADirectoryError', 'NotImplemented', 'NotImplementedError', 'OSError', 'OverflowError', 'PendingDeprecationWarning', 'PermissionError', 'ProcessLookupError', 'RecursionError', 'ReferenceError', 'ResourceWarning', 'RuntimeError', 'RuntimeWarning', 'StopAsyncIteration', 'StopIteration', 'SyntaxError', 'SyntaxWarning', 'SystemError', 'SystemExit', 'TabError', 'TimeoutError', 'True', 'TypeError', 'UnboundLocalError', 'UnicodeDecodeError', 'UnicodeEncodeError', 'UnicodeError', 'UnicodeTranslateError', 'UnicodeWarning', 'UserWarning', 'ValueError', 'Warning', 'WindowsError', 'ZeroDivisionError', '__IPYTHON__', '__build_class__', '__debug__', '__doc__', '__import__', '__loader__', '__name__', '__package__', '__spec__', 'abs', 'aiter', 'all', 'anext', 'any', 'ascii', 'bin', 'bool', 'breakpoint', 'bytearray', 'bytes', 'callable', 'chr', 'classmethod', 'compile', 'complex', 'copyright', 'credits', 'delattr', 'dict', 'dir', 'display', 'divmod', 'enumerate', 'eval', 'exec', 'execfile', 'filter', 'float', 'format', 'frozenset', 'get_ipython', 'getattr', 'globals', 'hasattr', 'hash', 'help', 'hex', 'id', 'input', 'int', 'isinstance', 'issubclass', 'iter', 'len', 'license', 'list', 'locals', 'map', 'max', 'memoryview', 'min', 'next', 'object', 'oct', 'open', 'ord', 'pow', 'print', 'property', 'range', 'repr', 'reversed', 'round', 'runfile', 'set', 'setattr', 'slice', 'sorted', 'staticmethod', 'str', 'sum', 'super', 'tuple', 'type', 'vars', 'zip']\n"
     ]
    }
   ],
   "source": [
    "print(dir(__builtins__))"
   ]
  },
  {
   "cell_type": "code",
   "execution_count": 35,
   "id": "724768c9",
   "metadata": {},
   "outputs": [],
   "source": [
    "import pandas as pd\n",
    "\n",
    "import warnings\n",
    "warnings.filterwarnings('ignore')"
   ]
  },
  {
   "cell_type": "code",
   "execution_count": 38,
   "id": "527d5d42",
   "metadata": {},
   "outputs": [
    {
     "name": "stdout",
     "output_type": "stream",
     "text": [
      "Error:->> division by zero\n"
     ]
    }
   ],
   "source": [
    "try:\n",
    "    print(1/0)\n",
    "except Exception as p:\n",
    "    print('Error:->>',p)"
   ]
  },
  {
   "cell_type": "code",
   "execution_count": null,
   "id": "46f5041b",
   "metadata": {},
   "outputs": [],
   "source": []
  },
  {
   "cell_type": "code",
   "execution_count": null,
   "id": "e60bd737",
   "metadata": {},
   "outputs": [],
   "source": []
  },
  {
   "cell_type": "code",
   "execution_count": 51,
   "id": "fbac8bf3",
   "metadata": {},
   "outputs": [
    {
     "name": "stdout",
     "output_type": "stream",
     "text": [
      "Something went wrong\n",
      "invalid literal for int() with base 10: '67.8'\n"
     ]
    }
   ],
   "source": [
    "try:\n",
    "    data = [23,54,6,45]\n",
    "#     print(data[34])\n",
    "    \n",
    "#     print(1/0)\n",
    "    data = {'name':'mohan'}\n",
    "#     print(data['add'])\n",
    "    print(int('67.8'))\n",
    "\n",
    "except ZeroDivisionError:\n",
    "    print('You can not divide any number by Zero')\n",
    "    \n",
    "except IndexError:\n",
    "    print('Cross check list or tuple index that you have passed, it does not exists')\n",
    "\n",
    "except KeyError:\n",
    "    print('You have passed Invalid or Incorrect Key, key does not exists inside dict')\n",
    "    \n",
    "except Exception as err:\n",
    "    print('Something went wrong')\n",
    "    print(err)"
   ]
  },
  {
   "cell_type": "code",
   "execution_count": 46,
   "id": "38721c3b",
   "metadata": {},
   "outputs": [],
   "source": [
    "# data = {'name':'mohan'}\n",
    "# print(data['add'])\n"
   ]
  },
  {
   "cell_type": "code",
   "execution_count": null,
   "id": "1d987601",
   "metadata": {},
   "outputs": [],
   "source": []
  },
  {
   "cell_type": "code",
   "execution_count": 52,
   "id": "710470bb",
   "metadata": {},
   "outputs": [
    {
     "name": "stdout",
     "output_type": "stream",
     "text": [
      "Try block: Code that you wants to try!!\n",
      "Else block: This will only run, when try block all codes executed successfully!!\n",
      "Finally: It will run at any cost, not dependent to any code block\n"
     ]
    }
   ],
   "source": [
    "try:\n",
    "    print('Try block: Code that you wants to try!!')\n",
    "    \n",
    "except:\n",
    "    print('Except Block: If Try block fails, except block will Run!!')\n",
    "\n",
    "else:\n",
    "    print('Else block: This will only run, when try block all codes executed successfully!!')\n",
    "    \n",
    "finally:\n",
    "    print('Finally: It will run at any cost, not dependent to any code block')"
   ]
  },
  {
   "cell_type": "code",
   "execution_count": null,
   "id": "65ddedf2",
   "metadata": {},
   "outputs": [],
   "source": []
  },
  {
   "cell_type": "code",
   "execution_count": null,
   "id": "e4aceedc",
   "metadata": {},
   "outputs": [],
   "source": []
  },
  {
   "cell_type": "code",
   "execution_count": 53,
   "id": "fdfe4f6e",
   "metadata": {},
   "outputs": [
    {
     "name": "stdout",
     "output_type": "stream",
     "text": [
      "Try block: Code that you wants to try!!\n",
      "Except Block: If Try block fails, except block will Run!!\n",
      "Finally: It will run at any cost, not dependent to any code block\n"
     ]
    }
   ],
   "source": [
    "try:\n",
    "    print('Try block: Code that you wants to try!!')\n",
    "    print(1/0)\n",
    "    \n",
    "except:\n",
    "    print('Except Block: If Try block fails, except block will Run!!')\n",
    "\n",
    "else:\n",
    "    print('Else block: This will only run, when try block all codes executed successfully!!')\n",
    "    \n",
    "finally:\n",
    "    print('Finally: It will run at any cost, not dependent to any code block')"
   ]
  },
  {
   "cell_type": "code",
   "execution_count": 55,
   "id": "8187a16b",
   "metadata": {},
   "outputs": [
    {
     "name": "stdout",
     "output_type": "stream",
     "text": [
      "Module Imported successfully\n",
      "Hello\n",
      "Hello\n",
      "Hello\n",
      "Hello\n",
      "Hello\n",
      "Either try or except executed successfully!!\n"
     ]
    }
   ],
   "source": [
    "try:\n",
    "    import time\n",
    "    \n",
    "except:\n",
    "    print('No Such Module')\n",
    "    \n",
    "else:\n",
    "    print('Module Imported successfully')\n",
    "    for i in range(5):\n",
    "        time.sleep(1)\n",
    "        print('Hello')\n",
    "    \n",
    "finally:\n",
    "    print('Either try or except executed successfully!!')"
   ]
  },
  {
   "cell_type": "code",
   "execution_count": null,
   "id": "5e629781",
   "metadata": {},
   "outputs": [],
   "source": []
  },
  {
   "cell_type": "code",
   "execution_count": 56,
   "id": "6ae0669e",
   "metadata": {},
   "outputs": [
    {
     "name": "stdout",
     "output_type": "stream",
     "text": [
      "0\n",
      "2\n",
      "4\n",
      "6\n",
      "8\n",
      "10\n"
     ]
    }
   ],
   "source": [
    "for i in range(0,11,2):\n",
    "    print(i)"
   ]
  },
  {
   "cell_type": "code",
   "execution_count": 58,
   "id": "7fdc0b2a",
   "metadata": {},
   "outputs": [
    {
     "name": "stdout",
     "output_type": "stream",
     "text": [
      "Hello\n",
      "Hello\n",
      "Hello\n"
     ]
    },
    {
     "ename": "KeyboardInterrupt",
     "evalue": "",
     "output_type": "error",
     "traceback": [
      "\u001b[1;31m---------------------------------------------------------------------------\u001b[0m",
      "\u001b[1;31mKeyboardInterrupt\u001b[0m                         Traceback (most recent call last)",
      "Cell \u001b[1;32mIn[58], line 3\u001b[0m\n\u001b[0;32m      1\u001b[0m \u001b[38;5;28;01mwhile\u001b[39;00m (\u001b[38;5;241m2\u001b[39m\u001b[38;5;241m==\u001b[39m\u001b[38;5;241m2\u001b[39m):\n\u001b[0;32m      2\u001b[0m     \u001b[38;5;28mprint\u001b[39m(\u001b[38;5;124m'\u001b[39m\u001b[38;5;124mHello\u001b[39m\u001b[38;5;124m'\u001b[39m)\n\u001b[1;32m----> 3\u001b[0m     time\u001b[38;5;241m.\u001b[39msleep(\u001b[38;5;241m1\u001b[39m)\n",
      "\u001b[1;31mKeyboardInterrupt\u001b[0m: "
     ]
    }
   ],
   "source": [
    "while (2==2):\n",
    "    print('Hello')\n",
    "    time.sleep(1)"
   ]
  },
  {
   "cell_type": "code",
   "execution_count": 59,
   "id": "71ced445",
   "metadata": {},
   "outputs": [],
   "source": [
    "# How to raise an Exception"
   ]
  },
  {
   "cell_type": "code",
   "execution_count": 63,
   "id": "575620e4",
   "metadata": {},
   "outputs": [
    {
     "name": "stdout",
     "output_type": "stream",
     "text": [
      "Enter number a: er\n",
      "Enter a: 4rt\n",
      "Enter b: cfv\n",
      "4rtcfv\n"
     ]
    }
   ],
   "source": [
    "try:\n",
    "    a = int(input('Enter number a: '))\n",
    "    b = int(input('Enter number b: '))\n",
    "\n",
    "    print(a + b)\n",
    "except:\n",
    "    a = input('Enter a: ')\n",
    "    b = input('Enter b: ')\n",
    "    \n",
    "    print(a + b)"
   ]
  },
  {
   "cell_type": "code",
   "execution_count": 64,
   "id": "5f0f1540",
   "metadata": {},
   "outputs": [],
   "source": [
    "# raise "
   ]
  },
  {
   "cell_type": "code",
   "execution_count": 68,
   "id": "ba6635a6",
   "metadata": {},
   "outputs": [
    {
     "ename": "Exception",
     "evalue": "Your age is under limit!!",
     "output_type": "error",
     "traceback": [
      "\u001b[1;31m---------------------------------------------------------------------------\u001b[0m",
      "\u001b[1;31mException\u001b[0m                                 Traceback (most recent call last)",
      "Cell \u001b[1;32mIn[68], line 4\u001b[0m\n\u001b[0;32m      1\u001b[0m age \u001b[38;5;241m=\u001b[39m \u001b[38;5;241m2\u001b[39m\n\u001b[0;32m      3\u001b[0m \u001b[38;5;28;01mif\u001b[39;00m age\u001b[38;5;241m<\u001b[39m\u001b[38;5;241m18\u001b[39m:\n\u001b[1;32m----> 4\u001b[0m     \u001b[38;5;28;01mraise\u001b[39;00m \u001b[38;5;167;01mException\u001b[39;00m(\u001b[38;5;124m'\u001b[39m\u001b[38;5;124mYour age is under limit!!\u001b[39m\u001b[38;5;124m'\u001b[39m)\n\u001b[0;32m      5\u001b[0m \u001b[38;5;28;01melse\u001b[39;00m:\n\u001b[0;32m      6\u001b[0m     \u001b[38;5;28mprint\u001b[39m(\u001b[38;5;124m'\u001b[39m\u001b[38;5;124mWelcome Buddy!!\u001b[39m\u001b[38;5;124m'\u001b[39m)\n",
      "\u001b[1;31mException\u001b[0m: Your age is under limit!!"
     ]
    }
   ],
   "source": [
    "age = 2\n",
    "\n",
    "if age<18:\n",
    "    raise Exception('Your age is under limit!!')\n",
    "else:\n",
    "    print('Welcome Buddy!!')"
   ]
  },
  {
   "cell_type": "code",
   "execution_count": null,
   "id": "aebd6a16",
   "metadata": {},
   "outputs": [],
   "source": []
  },
  {
   "cell_type": "code",
   "execution_count": 69,
   "id": "e0be6908",
   "metadata": {},
   "outputs": [],
   "source": [
    "class Under_Age_Error(Exception):\n",
    "    pass"
   ]
  },
  {
   "cell_type": "code",
   "execution_count": null,
   "id": "30a4d4bc",
   "metadata": {},
   "outputs": [],
   "source": []
  },
  {
   "cell_type": "code",
   "execution_count": null,
   "id": "5901bf9f",
   "metadata": {},
   "outputs": [],
   "source": []
  },
  {
   "cell_type": "code",
   "execution_count": 70,
   "id": "c1d1a2a5",
   "metadata": {},
   "outputs": [
    {
     "ename": "Under_Age_Error",
     "evalue": "Your age is under limit!!",
     "output_type": "error",
     "traceback": [
      "\u001b[1;31m---------------------------------------------------------------------------\u001b[0m",
      "\u001b[1;31mUnder_Age_Error\u001b[0m                           Traceback (most recent call last)",
      "Cell \u001b[1;32mIn[70], line 4\u001b[0m\n\u001b[0;32m      1\u001b[0m age \u001b[38;5;241m=\u001b[39m \u001b[38;5;241m2\u001b[39m\n\u001b[0;32m      3\u001b[0m \u001b[38;5;28;01mif\u001b[39;00m age\u001b[38;5;241m<\u001b[39m\u001b[38;5;241m18\u001b[39m:\n\u001b[1;32m----> 4\u001b[0m     \u001b[38;5;28;01mraise\u001b[39;00m Under_Age_Error(\u001b[38;5;124m'\u001b[39m\u001b[38;5;124mYour age is under limit!!\u001b[39m\u001b[38;5;124m'\u001b[39m)\n\u001b[0;32m      5\u001b[0m \u001b[38;5;28;01melse\u001b[39;00m:\n\u001b[0;32m      6\u001b[0m     \u001b[38;5;28mprint\u001b[39m(\u001b[38;5;124m'\u001b[39m\u001b[38;5;124mWelcome Buddy!!\u001b[39m\u001b[38;5;124m'\u001b[39m)\n",
      "\u001b[1;31mUnder_Age_Error\u001b[0m: Your age is under limit!!"
     ]
    }
   ],
   "source": [
    "age = 2\n",
    "\n",
    "if age<18:\n",
    "    raise Under_Age_Error('Your age is under limit!!')\n",
    "else:\n",
    "    print('Welcome Buddy!!')"
   ]
  },
  {
   "cell_type": "code",
   "execution_count": null,
   "id": "211b24f2",
   "metadata": {},
   "outputs": [],
   "source": []
  },
  {
   "cell_type": "code",
   "execution_count": null,
   "id": "460683ef",
   "metadata": {},
   "outputs": [],
   "source": []
  },
  {
   "cell_type": "code",
   "execution_count": 103,
   "id": "f00644c2",
   "metadata": {},
   "outputs": [
    {
     "name": "stdout",
     "output_type": "stream",
     "text": [
      "('Your age is under limit!!', 4)\n"
     ]
    }
   ],
   "source": [
    "age = 2\n",
    "\n",
    "try:\n",
    "\n",
    "    if age<18:\n",
    "        raise Under_Age_Error('Your age is under limit!!',2*2)\n",
    "    else:\n",
    "        print('Welcome Buddy!!')\n",
    "        \n",
    "except Exception as e:\n",
    "    print(e)"
   ]
  },
  {
   "cell_type": "code",
   "execution_count": null,
   "id": "a41aab40",
   "metadata": {},
   "outputs": [],
   "source": []
  },
  {
   "cell_type": "code",
   "execution_count": null,
   "id": "00fcd0b1",
   "metadata": {},
   "outputs": [],
   "source": []
  },
  {
   "cell_type": "code",
   "execution_count": 75,
   "id": "6cbb6a65",
   "metadata": {},
   "outputs": [
    {
     "ename": "ModuleNotFoundError",
     "evalue": "No module named 'Time'",
     "output_type": "error",
     "traceback": [
      "\u001b[1;31m---------------------------------------------------------------------------\u001b[0m",
      "\u001b[1;31mModuleNotFoundError\u001b[0m                       Traceback (most recent call last)",
      "Cell \u001b[1;32mIn[75], line 2\u001b[0m\n\u001b[0;32m      1\u001b[0m \u001b[38;5;28;01mtry\u001b[39;00m:\n\u001b[1;32m----> 2\u001b[0m     \u001b[38;5;28;01mimport\u001b[39;00m \u001b[38;5;21;01mmathh\u001b[39;00m\n\u001b[0;32m      4\u001b[0m \u001b[38;5;28;01mexcept\u001b[39;00m:\n",
      "\u001b[1;31mModuleNotFoundError\u001b[0m: No module named 'mathh'",
      "\nDuring handling of the above exception, another exception occurred:\n",
      "\u001b[1;31mModuleNotFoundError\u001b[0m                       Traceback (most recent call last)",
      "Cell \u001b[1;32mIn[75], line 5\u001b[0m\n\u001b[0;32m      2\u001b[0m     \u001b[38;5;28;01mimport\u001b[39;00m \u001b[38;5;21;01mmathh\u001b[39;00m\n\u001b[0;32m      4\u001b[0m \u001b[38;5;28;01mexcept\u001b[39;00m:\n\u001b[1;32m----> 5\u001b[0m     \u001b[38;5;28;01mimport\u001b[39;00m \u001b[38;5;21;01mTime\u001b[39;00m\n",
      "\u001b[1;31mModuleNotFoundError\u001b[0m: No module named 'Time'"
     ]
    }
   ],
   "source": [
    "try:\n",
    "    import mathh\n",
    "    \n",
    "except:\n",
    "    import Time"
   ]
  },
  {
   "cell_type": "code",
   "execution_count": 76,
   "id": "0d654b13",
   "metadata": {},
   "outputs": [
    {
     "name": "stdout",
     "output_type": "stream",
     "text": [
      "3.141592653589793\n"
     ]
    }
   ],
   "source": [
    "try:\n",
    "\n",
    "    try:\n",
    "        import mathh\n",
    "\n",
    "    except:\n",
    "        import Time\n",
    "        \n",
    "except:\n",
    "    import math\n",
    "    print(math.pi)"
   ]
  },
  {
   "cell_type": "code",
   "execution_count": 77,
   "id": "c0f883da",
   "metadata": {},
   "outputs": [],
   "source": [
    "# try:\n",
    "#     try:\n",
    "#         pass\n",
    "#     except:\n",
    "#         pass\n",
    "#     else:\n",
    "#         try:\n",
    "#             pass\n",
    "#         except:\n",
    "#             pass\n",
    "# except:\n",
    "#     try:\n",
    "#         pass\n",
    "#     except:\n",
    "#         pass\n",
    "#     else:\n",
    "#         pass\n",
    "\n"
   ]
  },
  {
   "cell_type": "code",
   "execution_count": 78,
   "id": "32c854a6",
   "metadata": {},
   "outputs": [
    {
     "ename": "ImportError",
     "evalue": "cannot import name 'trexx' from 'cowsay' (C:\\Users\\Lenovo\\anaconda3\\Lib\\site-packages\\cowsay\\__init__.py)",
     "output_type": "error",
     "traceback": [
      "\u001b[1;31m---------------------------------------------------------------------------\u001b[0m",
      "\u001b[1;31mImportError\u001b[0m                               Traceback (most recent call last)",
      "Cell \u001b[1;32mIn[78], line 1\u001b[0m\n\u001b[1;32m----> 1\u001b[0m \u001b[38;5;28;01mfrom\u001b[39;00m \u001b[38;5;21;01mcowsay\u001b[39;00m \u001b[38;5;28;01mimport\u001b[39;00m trexx\n",
      "\u001b[1;31mImportError\u001b[0m: cannot import name 'trexx' from 'cowsay' (C:\\Users\\Lenovo\\anaconda3\\Lib\\site-packages\\cowsay\\__init__.py)"
     ]
    }
   ],
   "source": [
    "from cowsay import trexx"
   ]
  },
  {
   "cell_type": "code",
   "execution_count": 79,
   "id": "f759d538",
   "metadata": {},
   "outputs": [],
   "source": [
    "import IPython"
   ]
  },
  {
   "cell_type": "code",
   "execution_count": 82,
   "id": "66cf5ba5",
   "metadata": {},
   "outputs": [
    {
     "data": {
      "text/html": [
       "<style>pre { line-height: 125%; }\n",
       "td.linenos .normal { color: inherit; background-color: transparent; padding-left: 5px; padding-right: 5px; }\n",
       "span.linenos { color: inherit; background-color: transparent; padding-left: 5px; padding-right: 5px; }\n",
       "td.linenos .special { color: #000000; background-color: #ffffc0; padding-left: 5px; padding-right: 5px; }\n",
       "span.linenos.special { color: #000000; background-color: #ffffc0; padding-left: 5px; padding-right: 5px; }\n",
       ".output_html .hll { background-color: #ffffcc }\n",
       ".output_html { background: #f8f8f8; }\n",
       ".output_html .c { color: #3D7B7B; font-style: italic } /* Comment */\n",
       ".output_html .err { border: 1px solid #FF0000 } /* Error */\n",
       ".output_html .k { color: #008000; font-weight: bold } /* Keyword */\n",
       ".output_html .o { color: #666666 } /* Operator */\n",
       ".output_html .ch { color: #3D7B7B; font-style: italic } /* Comment.Hashbang */\n",
       ".output_html .cm { color: #3D7B7B; font-style: italic } /* Comment.Multiline */\n",
       ".output_html .cp { color: #9C6500 } /* Comment.Preproc */\n",
       ".output_html .cpf { color: #3D7B7B; font-style: italic } /* Comment.PreprocFile */\n",
       ".output_html .c1 { color: #3D7B7B; font-style: italic } /* Comment.Single */\n",
       ".output_html .cs { color: #3D7B7B; font-style: italic } /* Comment.Special */\n",
       ".output_html .gd { color: #A00000 } /* Generic.Deleted */\n",
       ".output_html .ge { font-style: italic } /* Generic.Emph */\n",
       ".output_html .gr { color: #E40000 } /* Generic.Error */\n",
       ".output_html .gh { color: #000080; font-weight: bold } /* Generic.Heading */\n",
       ".output_html .gi { color: #008400 } /* Generic.Inserted */\n",
       ".output_html .go { color: #717171 } /* Generic.Output */\n",
       ".output_html .gp { color: #000080; font-weight: bold } /* Generic.Prompt */\n",
       ".output_html .gs { font-weight: bold } /* Generic.Strong */\n",
       ".output_html .gu { color: #800080; font-weight: bold } /* Generic.Subheading */\n",
       ".output_html .gt { color: #0044DD } /* Generic.Traceback */\n",
       ".output_html .kc { color: #008000; font-weight: bold } /* Keyword.Constant */\n",
       ".output_html .kd { color: #008000; font-weight: bold } /* Keyword.Declaration */\n",
       ".output_html .kn { color: #008000; font-weight: bold } /* Keyword.Namespace */\n",
       ".output_html .kp { color: #008000 } /* Keyword.Pseudo */\n",
       ".output_html .kr { color: #008000; font-weight: bold } /* Keyword.Reserved */\n",
       ".output_html .kt { color: #B00040 } /* Keyword.Type */\n",
       ".output_html .m { color: #666666 } /* Literal.Number */\n",
       ".output_html .s { color: #BA2121 } /* Literal.String */\n",
       ".output_html .na { color: #687822 } /* Name.Attribute */\n",
       ".output_html .nb { color: #008000 } /* Name.Builtin */\n",
       ".output_html .nc { color: #0000FF; font-weight: bold } /* Name.Class */\n",
       ".output_html .no { color: #880000 } /* Name.Constant */\n",
       ".output_html .nd { color: #AA22FF } /* Name.Decorator */\n",
       ".output_html .ni { color: #717171; font-weight: bold } /* Name.Entity */\n",
       ".output_html .ne { color: #CB3F38; font-weight: bold } /* Name.Exception */\n",
       ".output_html .nf { color: #0000FF } /* Name.Function */\n",
       ".output_html .nl { color: #767600 } /* Name.Label */\n",
       ".output_html .nn { color: #0000FF; font-weight: bold } /* Name.Namespace */\n",
       ".output_html .nt { color: #008000; font-weight: bold } /* Name.Tag */\n",
       ".output_html .nv { color: #19177C } /* Name.Variable */\n",
       ".output_html .ow { color: #AA22FF; font-weight: bold } /* Operator.Word */\n",
       ".output_html .w { color: #bbbbbb } /* Text.Whitespace */\n",
       ".output_html .mb { color: #666666 } /* Literal.Number.Bin */\n",
       ".output_html .mf { color: #666666 } /* Literal.Number.Float */\n",
       ".output_html .mh { color: #666666 } /* Literal.Number.Hex */\n",
       ".output_html .mi { color: #666666 } /* Literal.Number.Integer */\n",
       ".output_html .mo { color: #666666 } /* Literal.Number.Oct */\n",
       ".output_html .sa { color: #BA2121 } /* Literal.String.Affix */\n",
       ".output_html .sb { color: #BA2121 } /* Literal.String.Backtick */\n",
       ".output_html .sc { color: #BA2121 } /* Literal.String.Char */\n",
       ".output_html .dl { color: #BA2121 } /* Literal.String.Delimiter */\n",
       ".output_html .sd { color: #BA2121; font-style: italic } /* Literal.String.Doc */\n",
       ".output_html .s2 { color: #BA2121 } /* Literal.String.Double */\n",
       ".output_html .se { color: #AA5D1F; font-weight: bold } /* Literal.String.Escape */\n",
       ".output_html .sh { color: #BA2121 } /* Literal.String.Heredoc */\n",
       ".output_html .si { color: #A45A77; font-weight: bold } /* Literal.String.Interpol */\n",
       ".output_html .sx { color: #008000 } /* Literal.String.Other */\n",
       ".output_html .sr { color: #A45A77 } /* Literal.String.Regex */\n",
       ".output_html .s1 { color: #BA2121 } /* Literal.String.Single */\n",
       ".output_html .ss { color: #19177C } /* Literal.String.Symbol */\n",
       ".output_html .bp { color: #008000 } /* Name.Builtin.Pseudo */\n",
       ".output_html .fm { color: #0000FF } /* Name.Function.Magic */\n",
       ".output_html .vc { color: #19177C } /* Name.Variable.Class */\n",
       ".output_html .vg { color: #19177C } /* Name.Variable.Global */\n",
       ".output_html .vi { color: #19177C } /* Name.Variable.Instance */\n",
       ".output_html .vm { color: #19177C } /* Name.Variable.Magic */\n",
       ".output_html .il { color: #666666 } /* Literal.Number.Integer.Long */</style><div class=\"highlight\"><pre><span></span><span class=\"kn\">from</span> <span class=\"nn\">__future__</span> <span class=\"kn\">import</span> <span class=\"n\">print_function</span>\n",
       "<span class=\"kn\">import</span> <span class=\"nn\">sys</span>\n",
       "<span class=\"kn\">import</span> <span class=\"nn\">re</span>\n",
       "\n",
       "<span class=\"kn\">from</span> <span class=\"nn\">.characters</span> <span class=\"kn\">import</span> <span class=\"n\">CHARS</span>\n",
       "\n",
       "<span class=\"n\">__version__</span> <span class=\"o\">=</span> <span class=\"s1\">&#39;5.0&#39;</span>\n",
       "\n",
       "<span class=\"n\">char_names</span> <span class=\"o\">=</span> <span class=\"nb\">list</span><span class=\"p\">(</span><span class=\"n\">CHARS</span><span class=\"o\">.</span><span class=\"n\">keys</span><span class=\"p\">())</span>\n",
       "\n",
       "\n",
       "<span class=\"k\">def</span> <span class=\"nf\">wrap_lines</span><span class=\"p\">(</span><span class=\"n\">lines</span><span class=\"p\">,</span> <span class=\"n\">max_width</span><span class=\"o\">=</span><span class=\"mi\">49</span><span class=\"p\">):</span>\n",
       "    <span class=\"n\">new_lines</span> <span class=\"o\">=</span> <span class=\"p\">[]</span>\n",
       "    <span class=\"k\">for</span> <span class=\"n\">line</span> <span class=\"ow\">in</span> <span class=\"n\">lines</span><span class=\"p\">:</span>\n",
       "        <span class=\"k\">for</span> <span class=\"n\">line_part</span> <span class=\"ow\">in</span> <span class=\"p\">[</span>\n",
       "            <span class=\"n\">line</span><span class=\"p\">[</span><span class=\"n\">i</span><span class=\"p\">:</span><span class=\"n\">i</span><span class=\"o\">+</span><span class=\"n\">max_width</span><span class=\"p\">]</span> <span class=\"k\">for</span> <span class=\"n\">i</span> <span class=\"ow\">in</span> <span class=\"nb\">range</span><span class=\"p\">(</span><span class=\"mi\">0</span><span class=\"p\">,</span> <span class=\"nb\">len</span><span class=\"p\">(</span><span class=\"n\">line</span><span class=\"p\">),</span> <span class=\"n\">max_width</span><span class=\"p\">)</span>\n",
       "        <span class=\"p\">]:</span>\n",
       "            <span class=\"n\">new_lines</span><span class=\"o\">.</span><span class=\"n\">append</span><span class=\"p\">(</span><span class=\"n\">line_part</span><span class=\"p\">)</span>\n",
       "    <span class=\"k\">return</span> <span class=\"n\">new_lines</span>\n",
       "\n",
       "\n",
       "<span class=\"k\">def</span> <span class=\"nf\">generate_bubble</span><span class=\"p\">(</span><span class=\"n\">text</span><span class=\"p\">):</span>\n",
       "    <span class=\"n\">lines</span> <span class=\"o\">=</span> <span class=\"p\">[</span><span class=\"n\">line</span><span class=\"o\">.</span><span class=\"n\">strip</span><span class=\"p\">()</span> <span class=\"k\">for</span> <span class=\"n\">line</span> <span class=\"ow\">in</span> <span class=\"nb\">str</span><span class=\"p\">(</span><span class=\"n\">text</span><span class=\"p\">)</span><span class=\"o\">.</span><span class=\"n\">split</span><span class=\"p\">(</span><span class=\"s2\">&quot;</span><span class=\"se\">\\n</span><span class=\"s2\">&quot;</span><span class=\"p\">)]</span>\n",
       "    <span class=\"n\">lines</span> <span class=\"o\">=</span> <span class=\"n\">wrap_lines</span><span class=\"p\">([</span><span class=\"n\">line</span> <span class=\"k\">for</span> <span class=\"n\">line</span> <span class=\"ow\">in</span> <span class=\"n\">lines</span> <span class=\"k\">if</span> <span class=\"n\">line</span><span class=\"p\">])</span>\n",
       "    <span class=\"n\">text_width</span> <span class=\"o\">=</span> <span class=\"nb\">max</span><span class=\"p\">([</span><span class=\"nb\">len</span><span class=\"p\">(</span><span class=\"n\">line</span><span class=\"p\">)</span> <span class=\"k\">for</span> <span class=\"n\">line</span> <span class=\"ow\">in</span> <span class=\"n\">lines</span><span class=\"p\">])</span>\n",
       "    <span class=\"n\">output</span> <span class=\"o\">=</span> <span class=\"p\">[]</span>\n",
       "    <span class=\"n\">output</span><span class=\"o\">.</span><span class=\"n\">append</span><span class=\"p\">(</span><span class=\"s2\">&quot;  &quot;</span> <span class=\"o\">+</span> <span class=\"s2\">&quot;_&quot;</span> <span class=\"o\">*</span> <span class=\"n\">text_width</span><span class=\"p\">)</span>\n",
       "    <span class=\"k\">if</span> <span class=\"nb\">len</span><span class=\"p\">(</span><span class=\"n\">lines</span><span class=\"p\">)</span> <span class=\"o\">&gt;</span> <span class=\"mi\">1</span><span class=\"p\">:</span>\n",
       "        <span class=\"n\">output</span><span class=\"o\">.</span><span class=\"n\">append</span><span class=\"p\">(</span><span class=\"s2\">&quot; /&quot;</span> <span class=\"o\">+</span> <span class=\"s2\">&quot; &quot;</span> <span class=\"o\">*</span> <span class=\"n\">text_width</span> <span class=\"o\">+</span> <span class=\"s2\">&quot;</span><span class=\"se\">\\\\</span><span class=\"s2\">&quot;</span><span class=\"p\">)</span>\n",
       "    <span class=\"k\">for</span> <span class=\"n\">line</span> <span class=\"ow\">in</span> <span class=\"n\">lines</span><span class=\"p\">:</span>\n",
       "        <span class=\"n\">output</span><span class=\"o\">.</span><span class=\"n\">append</span><span class=\"p\">(</span><span class=\"s2\">&quot;| &quot;</span> <span class=\"o\">+</span> <span class=\"n\">line</span> <span class=\"o\">+</span> <span class=\"s2\">&quot; &quot;</span> <span class=\"o\">*</span> <span class=\"p\">(</span><span class=\"n\">text_width</span> <span class=\"o\">-</span> <span class=\"nb\">len</span><span class=\"p\">(</span><span class=\"n\">line</span><span class=\"p\">)</span> <span class=\"o\">+</span> <span class=\"mi\">1</span><span class=\"p\">)</span> <span class=\"o\">+</span> <span class=\"s2\">&quot;|&quot;</span><span class=\"p\">)</span>\n",
       "    <span class=\"k\">if</span> <span class=\"nb\">len</span><span class=\"p\">(</span><span class=\"n\">lines</span><span class=\"p\">)</span> <span class=\"o\">&gt;</span> <span class=\"mi\">1</span><span class=\"p\">:</span>\n",
       "        <span class=\"n\">output</span><span class=\"o\">.</span><span class=\"n\">append</span><span class=\"p\">(</span><span class=\"s2\">&quot; </span><span class=\"se\">\\\\</span><span class=\"s2\">&quot;</span> <span class=\"o\">+</span> <span class=\"s2\">&quot; &quot;</span> <span class=\"o\">*</span> <span class=\"n\">text_width</span> <span class=\"o\">+</span> <span class=\"s2\">&quot;/&quot;</span><span class=\"p\">)</span>\n",
       "    <span class=\"n\">output</span><span class=\"o\">.</span><span class=\"n\">append</span><span class=\"p\">(</span><span class=\"s2\">&quot;  &quot;</span> <span class=\"o\">+</span> <span class=\"s2\">&quot;=&quot;</span> <span class=\"o\">*</span> <span class=\"n\">text_width</span><span class=\"p\">)</span>                 \n",
       "    <span class=\"k\">return</span> <span class=\"n\">output</span>\n",
       "\n",
       "\n",
       "<span class=\"k\">def</span> <span class=\"nf\">generate_char</span><span class=\"p\">(</span><span class=\"n\">char</span><span class=\"p\">,</span> <span class=\"n\">text_width</span><span class=\"p\">):</span>\n",
       "    <span class=\"n\">output</span> <span class=\"o\">=</span> <span class=\"p\">[]</span>\n",
       "    <span class=\"n\">char_lines</span> <span class=\"o\">=</span> <span class=\"n\">char</span><span class=\"o\">.</span><span class=\"n\">split</span><span class=\"p\">(</span><span class=\"s1\">&#39;</span><span class=\"se\">\\n</span><span class=\"s1\">&#39;</span><span class=\"p\">)</span>\n",
       "    <span class=\"n\">char_lines</span> <span class=\"o\">=</span> <span class=\"p\">[</span><span class=\"n\">i</span> <span class=\"k\">for</span> <span class=\"n\">i</span> <span class=\"ow\">in</span> <span class=\"n\">char_lines</span> <span class=\"k\">if</span> <span class=\"nb\">len</span><span class=\"p\">(</span><span class=\"n\">i</span><span class=\"p\">)</span> <span class=\"o\">!=</span> <span class=\"mi\">0</span><span class=\"p\">]</span>\n",
       "    <span class=\"k\">for</span> <span class=\"n\">line</span> <span class=\"ow\">in</span> <span class=\"n\">char_lines</span><span class=\"p\">:</span>\n",
       "        <span class=\"n\">output</span><span class=\"o\">.</span><span class=\"n\">append</span><span class=\"p\">(</span><span class=\"s1\">&#39; &#39;</span> <span class=\"o\">*</span> <span class=\"n\">text_width</span> <span class=\"o\">+</span> <span class=\"n\">line</span><span class=\"p\">)</span>\n",
       "    <span class=\"k\">return</span> <span class=\"n\">output</span>\n",
       "\n",
       "\n",
       "<span class=\"c1\"># we are doing some magic here: Creating the functions dynamically.</span>\n",
       "<span class=\"c1\"># in .characters is a dict CHARS which holds the lines for the characters.</span>\n",
       "<span class=\"c1\"># For each entry there, we create a function.</span>\n",
       "<span class=\"c1\"># Wo do this, to not break the old API.</span>\n",
       "\n",
       "<span class=\"k\">def</span> <span class=\"nf\">draw</span><span class=\"p\">(</span><span class=\"n\">char</span><span class=\"p\">,</span> <span class=\"n\">text</span><span class=\"p\">,</span> <span class=\"n\">to_console</span><span class=\"o\">=</span><span class=\"kc\">True</span><span class=\"p\">):</span>\n",
       "    <span class=\"k\">if</span> <span class=\"nb\">len</span><span class=\"p\">(</span><span class=\"n\">re</span><span class=\"o\">.</span><span class=\"n\">sub</span><span class=\"p\">(</span><span class=\"s1\">&#39;\\s&#39;</span><span class=\"p\">,</span> <span class=\"s1\">&#39;&#39;</span><span class=\"p\">,</span> <span class=\"n\">text</span><span class=\"p\">))</span> <span class=\"o\">==</span> <span class=\"mi\">0</span><span class=\"p\">:</span>\n",
       "        <span class=\"k\">raise</span> <span class=\"ne\">Exception</span><span class=\"p\">(</span><span class=\"s1\">&#39;Pass something meaningful to cowsay&#39;</span><span class=\"p\">)</span>\n",
       "    <span class=\"n\">output</span> <span class=\"o\">=</span> <span class=\"n\">generate_bubble</span><span class=\"p\">(</span><span class=\"n\">text</span><span class=\"p\">)</span>\n",
       "    <span class=\"n\">text_width</span> <span class=\"o\">=</span> <span class=\"nb\">max</span><span class=\"p\">([</span><span class=\"nb\">len</span><span class=\"p\">(</span><span class=\"n\">line</span><span class=\"p\">)</span> <span class=\"k\">for</span> <span class=\"n\">line</span> <span class=\"ow\">in</span> <span class=\"n\">output</span><span class=\"p\">])</span> <span class=\"o\">-</span> <span class=\"mi\">4</span>  <span class=\"c1\"># 4 is the frame</span>\n",
       "    <span class=\"n\">output</span> <span class=\"o\">+=</span> <span class=\"n\">generate_char</span><span class=\"p\">(</span><span class=\"n\">char</span><span class=\"p\">,</span> <span class=\"n\">text_width</span><span class=\"p\">)</span>\n",
       "    <span class=\"k\">if</span> <span class=\"n\">to_console</span><span class=\"p\">:</span>\n",
       "        <span class=\"k\">for</span> <span class=\"n\">line</span> <span class=\"ow\">in</span> <span class=\"n\">output</span><span class=\"p\">:</span>\n",
       "            <span class=\"nb\">print</span><span class=\"p\">(</span><span class=\"n\">line</span><span class=\"p\">)</span>\n",
       "    <span class=\"k\">return</span> <span class=\"s1\">&#39;</span><span class=\"se\">\\n</span><span class=\"s1\">&#39;</span><span class=\"o\">.</span><span class=\"n\">join</span><span class=\"p\">(</span><span class=\"n\">output</span><span class=\"p\">)</span>\n",
       "\n",
       "\n",
       "<span class=\"n\">chars</span> <span class=\"o\">=</span> <span class=\"p\">{}</span>\n",
       "<span class=\"k\">for</span> <span class=\"n\">char_name</span><span class=\"p\">,</span> <span class=\"n\">char_lines</span> <span class=\"ow\">in</span> <span class=\"n\">CHARS</span><span class=\"o\">.</span><span class=\"n\">items</span><span class=\"p\">():</span>\n",
       "    <span class=\"k\">def</span> <span class=\"nf\">func</span><span class=\"p\">(</span><span class=\"n\">text</span><span class=\"p\">,</span> <span class=\"n\">char_lines</span><span class=\"o\">=</span><span class=\"n\">char_lines</span><span class=\"p\">):</span>\n",
       "        <span class=\"n\">draw</span><span class=\"p\">(</span><span class=\"n\">char_lines</span><span class=\"p\">,</span> <span class=\"n\">text</span><span class=\"p\">)</span>\n",
       "    <span class=\"n\">func</span><span class=\"o\">.</span><span class=\"vm\">__name__</span> <span class=\"o\">=</span> <span class=\"n\">char_name</span>\n",
       "    <span class=\"nb\">globals</span><span class=\"p\">()[</span><span class=\"n\">char_name</span><span class=\"p\">]</span> <span class=\"o\">=</span> <span class=\"n\">func</span>\n",
       "    <span class=\"n\">chars</span><span class=\"p\">[</span><span class=\"n\">char_name</span><span class=\"p\">]</span> <span class=\"o\">=</span> <span class=\"n\">func</span>\n",
       "    \n",
       "\n",
       "<span class=\"k\">def</span> <span class=\"nf\">get_output_string</span><span class=\"p\">(</span><span class=\"n\">char_name</span><span class=\"p\">,</span> <span class=\"n\">text</span><span class=\"p\">):</span>\n",
       "    <span class=\"k\">if</span> <span class=\"n\">char_name</span> <span class=\"ow\">in</span> <span class=\"n\">CHARS</span><span class=\"p\">:</span>\n",
       "        <span class=\"k\">return</span> <span class=\"n\">draw</span><span class=\"p\">(</span><span class=\"n\">CHARS</span><span class=\"p\">[</span><span class=\"n\">char_name</span><span class=\"p\">],</span> <span class=\"n\">text</span><span class=\"p\">,</span> <span class=\"n\">to_console</span><span class=\"o\">=</span><span class=\"kc\">False</span><span class=\"p\">)</span>\n",
       "    <span class=\"k\">else</span><span class=\"p\">:</span>\n",
       "        <span class=\"k\">raise</span> <span class=\"ne\">Exception</span><span class=\"p\">(</span><span class=\"s1\">&#39;Available Characters:&#39;</span><span class=\"p\">,</span> <span class=\"nb\">list</span><span class=\"p\">(</span><span class=\"n\">CHARS</span><span class=\"o\">.</span><span class=\"n\">keys</span><span class=\"p\">()))</span>\n",
       "\n",
       "\n",
       "<span class=\"k\">def</span> <span class=\"nf\">cli</span><span class=\"p\">():</span>\n",
       "\n",
       "    <span class=\"k\">if</span> <span class=\"s1\">&#39;--version&#39;</span> <span class=\"ow\">in</span> <span class=\"n\">sys</span><span class=\"o\">.</span><span class=\"n\">argv</span><span class=\"p\">[</span><span class=\"mi\">1</span><span class=\"p\">:]:</span>\n",
       "        <span class=\"nb\">print</span><span class=\"p\">(</span><span class=\"n\">__version__</span><span class=\"p\">)</span>\n",
       "        <span class=\"n\">exit</span><span class=\"p\">(</span><span class=\"mi\">0</span><span class=\"p\">)</span>\n",
       "\n",
       "    <span class=\"k\">if</span> <span class=\"s1\">&#39;--character&#39;</span> <span class=\"ow\">in</span> <span class=\"n\">sys</span><span class=\"o\">.</span><span class=\"n\">argv</span><span class=\"p\">[</span><span class=\"mi\">1</span><span class=\"p\">:]:</span>\n",
       "        <span class=\"n\">character_index</span> <span class=\"o\">=</span> <span class=\"n\">sys</span><span class=\"o\">.</span><span class=\"n\">argv</span><span class=\"o\">.</span><span class=\"n\">index</span><span class=\"p\">(</span><span class=\"s1\">&#39;--character&#39;</span><span class=\"p\">)</span>\n",
       "        <span class=\"k\">try</span><span class=\"p\">:</span>\n",
       "            <span class=\"n\">character</span> <span class=\"o\">=</span> <span class=\"nb\">globals</span><span class=\"p\">()[</span><span class=\"n\">sys</span><span class=\"o\">.</span><span class=\"n\">argv</span><span class=\"p\">[</span><span class=\"n\">character_index</span> <span class=\"o\">+</span> <span class=\"mi\">1</span><span class=\"p\">]]</span>\n",
       "            <span class=\"k\">del</span> <span class=\"n\">sys</span><span class=\"o\">.</span><span class=\"n\">argv</span><span class=\"p\">[</span><span class=\"n\">character_index</span><span class=\"p\">:</span> <span class=\"n\">character_index</span> <span class=\"o\">+</span> <span class=\"mi\">2</span><span class=\"p\">]</span>\n",
       "        <span class=\"k\">except</span> <span class=\"p\">(</span><span class=\"ne\">KeyError</span><span class=\"p\">,</span> <span class=\"ne\">IndexError</span><span class=\"p\">):</span>\n",
       "            <span class=\"n\">options</span> <span class=\"o\">=</span> <span class=\"s1\">&#39;, &#39;</span><span class=\"o\">.</span><span class=\"n\">join</span><span class=\"p\">(</span><span class=\"n\">char_names</span><span class=\"p\">)</span>\n",
       "            <span class=\"k\">raise</span> <span class=\"ne\">LookupError</span><span class=\"p\">(</span>\n",
       "                <span class=\"s1\">&#39;Invalid character selection passed. Available options: &#39;</span> <span class=\"o\">+</span> <span class=\"n\">options</span>\n",
       "            <span class=\"p\">)</span>\n",
       "    <span class=\"k\">else</span><span class=\"p\">:</span>\n",
       "        <span class=\"n\">character</span> <span class=\"o\">=</span> <span class=\"n\">cow</span>\n",
       "\n",
       "    <span class=\"n\">character</span><span class=\"p\">(</span><span class=\"s1\">&#39; &#39;</span><span class=\"o\">.</span><span class=\"n\">join</span><span class=\"p\">(</span><span class=\"n\">sys</span><span class=\"o\">.</span><span class=\"n\">argv</span><span class=\"p\">[</span><span class=\"mi\">1</span><span class=\"p\">:]))</span>\n",
       "</pre></div>\n"
      ],
      "text/latex": [
       "\\begin{Verbatim}[commandchars=\\\\\\{\\}]\n",
       "\\PY{k+kn}{from} \\PY{n+nn}{\\PYZus{}\\PYZus{}future\\PYZus{}\\PYZus{}} \\PY{k+kn}{import} \\PY{n}{print\\PYZus{}function}\n",
       "\\PY{k+kn}{import} \\PY{n+nn}{sys}\n",
       "\\PY{k+kn}{import} \\PY{n+nn}{re}\n",
       "\n",
       "\\PY{k+kn}{from} \\PY{n+nn}{.}\\PY{n+nn}{characters} \\PY{k+kn}{import} \\PY{n}{CHARS}\n",
       "\n",
       "\\PY{n}{\\PYZus{}\\PYZus{}version\\PYZus{}\\PYZus{}} \\PY{o}{=} \\PY{l+s+s1}{\\PYZsq{}}\\PY{l+s+s1}{5.0}\\PY{l+s+s1}{\\PYZsq{}}\n",
       "\n",
       "\\PY{n}{char\\PYZus{}names} \\PY{o}{=} \\PY{n+nb}{list}\\PY{p}{(}\\PY{n}{CHARS}\\PY{o}{.}\\PY{n}{keys}\\PY{p}{(}\\PY{p}{)}\\PY{p}{)}\n",
       "\n",
       "\n",
       "\\PY{k}{def} \\PY{n+nf}{wrap\\PYZus{}lines}\\PY{p}{(}\\PY{n}{lines}\\PY{p}{,} \\PY{n}{max\\PYZus{}width}\\PY{o}{=}\\PY{l+m+mi}{49}\\PY{p}{)}\\PY{p}{:}\n",
       "    \\PY{n}{new\\PYZus{}lines} \\PY{o}{=} \\PY{p}{[}\\PY{p}{]}\n",
       "    \\PY{k}{for} \\PY{n}{line} \\PY{o+ow}{in} \\PY{n}{lines}\\PY{p}{:}\n",
       "        \\PY{k}{for} \\PY{n}{line\\PYZus{}part} \\PY{o+ow}{in} \\PY{p}{[}\n",
       "            \\PY{n}{line}\\PY{p}{[}\\PY{n}{i}\\PY{p}{:}\\PY{n}{i}\\PY{o}{+}\\PY{n}{max\\PYZus{}width}\\PY{p}{]} \\PY{k}{for} \\PY{n}{i} \\PY{o+ow}{in} \\PY{n+nb}{range}\\PY{p}{(}\\PY{l+m+mi}{0}\\PY{p}{,} \\PY{n+nb}{len}\\PY{p}{(}\\PY{n}{line}\\PY{p}{)}\\PY{p}{,} \\PY{n}{max\\PYZus{}width}\\PY{p}{)}\n",
       "        \\PY{p}{]}\\PY{p}{:}\n",
       "            \\PY{n}{new\\PYZus{}lines}\\PY{o}{.}\\PY{n}{append}\\PY{p}{(}\\PY{n}{line\\PYZus{}part}\\PY{p}{)}\n",
       "    \\PY{k}{return} \\PY{n}{new\\PYZus{}lines}\n",
       "\n",
       "\n",
       "\\PY{k}{def} \\PY{n+nf}{generate\\PYZus{}bubble}\\PY{p}{(}\\PY{n}{text}\\PY{p}{)}\\PY{p}{:}\n",
       "    \\PY{n}{lines} \\PY{o}{=} \\PY{p}{[}\\PY{n}{line}\\PY{o}{.}\\PY{n}{strip}\\PY{p}{(}\\PY{p}{)} \\PY{k}{for} \\PY{n}{line} \\PY{o+ow}{in} \\PY{n+nb}{str}\\PY{p}{(}\\PY{n}{text}\\PY{p}{)}\\PY{o}{.}\\PY{n}{split}\\PY{p}{(}\\PY{l+s+s2}{\\PYZdq{}}\\PY{l+s+se}{\\PYZbs{}n}\\PY{l+s+s2}{\\PYZdq{}}\\PY{p}{)}\\PY{p}{]}\n",
       "    \\PY{n}{lines} \\PY{o}{=} \\PY{n}{wrap\\PYZus{}lines}\\PY{p}{(}\\PY{p}{[}\\PY{n}{line} \\PY{k}{for} \\PY{n}{line} \\PY{o+ow}{in} \\PY{n}{lines} \\PY{k}{if} \\PY{n}{line}\\PY{p}{]}\\PY{p}{)}\n",
       "    \\PY{n}{text\\PYZus{}width} \\PY{o}{=} \\PY{n+nb}{max}\\PY{p}{(}\\PY{p}{[}\\PY{n+nb}{len}\\PY{p}{(}\\PY{n}{line}\\PY{p}{)} \\PY{k}{for} \\PY{n}{line} \\PY{o+ow}{in} \\PY{n}{lines}\\PY{p}{]}\\PY{p}{)}\n",
       "    \\PY{n}{output} \\PY{o}{=} \\PY{p}{[}\\PY{p}{]}\n",
       "    \\PY{n}{output}\\PY{o}{.}\\PY{n}{append}\\PY{p}{(}\\PY{l+s+s2}{\\PYZdq{}}\\PY{l+s+s2}{  }\\PY{l+s+s2}{\\PYZdq{}} \\PY{o}{+} \\PY{l+s+s2}{\\PYZdq{}}\\PY{l+s+s2}{\\PYZus{}}\\PY{l+s+s2}{\\PYZdq{}} \\PY{o}{*} \\PY{n}{text\\PYZus{}width}\\PY{p}{)}\n",
       "    \\PY{k}{if} \\PY{n+nb}{len}\\PY{p}{(}\\PY{n}{lines}\\PY{p}{)} \\PY{o}{\\PYZgt{}} \\PY{l+m+mi}{1}\\PY{p}{:}\n",
       "        \\PY{n}{output}\\PY{o}{.}\\PY{n}{append}\\PY{p}{(}\\PY{l+s+s2}{\\PYZdq{}}\\PY{l+s+s2}{ /}\\PY{l+s+s2}{\\PYZdq{}} \\PY{o}{+} \\PY{l+s+s2}{\\PYZdq{}}\\PY{l+s+s2}{ }\\PY{l+s+s2}{\\PYZdq{}} \\PY{o}{*} \\PY{n}{text\\PYZus{}width} \\PY{o}{+} \\PY{l+s+s2}{\\PYZdq{}}\\PY{l+s+se}{\\PYZbs{}\\PYZbs{}}\\PY{l+s+s2}{\\PYZdq{}}\\PY{p}{)}\n",
       "    \\PY{k}{for} \\PY{n}{line} \\PY{o+ow}{in} \\PY{n}{lines}\\PY{p}{:}\n",
       "        \\PY{n}{output}\\PY{o}{.}\\PY{n}{append}\\PY{p}{(}\\PY{l+s+s2}{\\PYZdq{}}\\PY{l+s+s2}{| }\\PY{l+s+s2}{\\PYZdq{}} \\PY{o}{+} \\PY{n}{line} \\PY{o}{+} \\PY{l+s+s2}{\\PYZdq{}}\\PY{l+s+s2}{ }\\PY{l+s+s2}{\\PYZdq{}} \\PY{o}{*} \\PY{p}{(}\\PY{n}{text\\PYZus{}width} \\PY{o}{\\PYZhy{}} \\PY{n+nb}{len}\\PY{p}{(}\\PY{n}{line}\\PY{p}{)} \\PY{o}{+} \\PY{l+m+mi}{1}\\PY{p}{)} \\PY{o}{+} \\PY{l+s+s2}{\\PYZdq{}}\\PY{l+s+s2}{|}\\PY{l+s+s2}{\\PYZdq{}}\\PY{p}{)}\n",
       "    \\PY{k}{if} \\PY{n+nb}{len}\\PY{p}{(}\\PY{n}{lines}\\PY{p}{)} \\PY{o}{\\PYZgt{}} \\PY{l+m+mi}{1}\\PY{p}{:}\n",
       "        \\PY{n}{output}\\PY{o}{.}\\PY{n}{append}\\PY{p}{(}\\PY{l+s+s2}{\\PYZdq{}}\\PY{l+s+s2}{ }\\PY{l+s+se}{\\PYZbs{}\\PYZbs{}}\\PY{l+s+s2}{\\PYZdq{}} \\PY{o}{+} \\PY{l+s+s2}{\\PYZdq{}}\\PY{l+s+s2}{ }\\PY{l+s+s2}{\\PYZdq{}} \\PY{o}{*} \\PY{n}{text\\PYZus{}width} \\PY{o}{+} \\PY{l+s+s2}{\\PYZdq{}}\\PY{l+s+s2}{/}\\PY{l+s+s2}{\\PYZdq{}}\\PY{p}{)}\n",
       "    \\PY{n}{output}\\PY{o}{.}\\PY{n}{append}\\PY{p}{(}\\PY{l+s+s2}{\\PYZdq{}}\\PY{l+s+s2}{  }\\PY{l+s+s2}{\\PYZdq{}} \\PY{o}{+} \\PY{l+s+s2}{\\PYZdq{}}\\PY{l+s+s2}{=}\\PY{l+s+s2}{\\PYZdq{}} \\PY{o}{*} \\PY{n}{text\\PYZus{}width}\\PY{p}{)}                 \n",
       "    \\PY{k}{return} \\PY{n}{output}\n",
       "\n",
       "\n",
       "\\PY{k}{def} \\PY{n+nf}{generate\\PYZus{}char}\\PY{p}{(}\\PY{n}{char}\\PY{p}{,} \\PY{n}{text\\PYZus{}width}\\PY{p}{)}\\PY{p}{:}\n",
       "    \\PY{n}{output} \\PY{o}{=} \\PY{p}{[}\\PY{p}{]}\n",
       "    \\PY{n}{char\\PYZus{}lines} \\PY{o}{=} \\PY{n}{char}\\PY{o}{.}\\PY{n}{split}\\PY{p}{(}\\PY{l+s+s1}{\\PYZsq{}}\\PY{l+s+se}{\\PYZbs{}n}\\PY{l+s+s1}{\\PYZsq{}}\\PY{p}{)}\n",
       "    \\PY{n}{char\\PYZus{}lines} \\PY{o}{=} \\PY{p}{[}\\PY{n}{i} \\PY{k}{for} \\PY{n}{i} \\PY{o+ow}{in} \\PY{n}{char\\PYZus{}lines} \\PY{k}{if} \\PY{n+nb}{len}\\PY{p}{(}\\PY{n}{i}\\PY{p}{)} \\PY{o}{!=} \\PY{l+m+mi}{0}\\PY{p}{]}\n",
       "    \\PY{k}{for} \\PY{n}{line} \\PY{o+ow}{in} \\PY{n}{char\\PYZus{}lines}\\PY{p}{:}\n",
       "        \\PY{n}{output}\\PY{o}{.}\\PY{n}{append}\\PY{p}{(}\\PY{l+s+s1}{\\PYZsq{}}\\PY{l+s+s1}{ }\\PY{l+s+s1}{\\PYZsq{}} \\PY{o}{*} \\PY{n}{text\\PYZus{}width} \\PY{o}{+} \\PY{n}{line}\\PY{p}{)}\n",
       "    \\PY{k}{return} \\PY{n}{output}\n",
       "\n",
       "\n",
       "\\PY{c+c1}{\\PYZsh{} we are doing some magic here: Creating the functions dynamically.}\n",
       "\\PY{c+c1}{\\PYZsh{} in .characters is a dict CHARS which holds the lines for the characters.}\n",
       "\\PY{c+c1}{\\PYZsh{} For each entry there, we create a function.}\n",
       "\\PY{c+c1}{\\PYZsh{} Wo do this, to not break the old API.}\n",
       "\n",
       "\\PY{k}{def} \\PY{n+nf}{draw}\\PY{p}{(}\\PY{n}{char}\\PY{p}{,} \\PY{n}{text}\\PY{p}{,} \\PY{n}{to\\PYZus{}console}\\PY{o}{=}\\PY{k+kc}{True}\\PY{p}{)}\\PY{p}{:}\n",
       "    \\PY{k}{if} \\PY{n+nb}{len}\\PY{p}{(}\\PY{n}{re}\\PY{o}{.}\\PY{n}{sub}\\PY{p}{(}\\PY{l+s+s1}{\\PYZsq{}}\\PY{l+s+s1}{\\PYZbs{}}\\PY{l+s+s1}{s}\\PY{l+s+s1}{\\PYZsq{}}\\PY{p}{,} \\PY{l+s+s1}{\\PYZsq{}}\\PY{l+s+s1}{\\PYZsq{}}\\PY{p}{,} \\PY{n}{text}\\PY{p}{)}\\PY{p}{)} \\PY{o}{==} \\PY{l+m+mi}{0}\\PY{p}{:}\n",
       "        \\PY{k}{raise} \\PY{n+ne}{Exception}\\PY{p}{(}\\PY{l+s+s1}{\\PYZsq{}}\\PY{l+s+s1}{Pass something meaningful to cowsay}\\PY{l+s+s1}{\\PYZsq{}}\\PY{p}{)}\n",
       "    \\PY{n}{output} \\PY{o}{=} \\PY{n}{generate\\PYZus{}bubble}\\PY{p}{(}\\PY{n}{text}\\PY{p}{)}\n",
       "    \\PY{n}{text\\PYZus{}width} \\PY{o}{=} \\PY{n+nb}{max}\\PY{p}{(}\\PY{p}{[}\\PY{n+nb}{len}\\PY{p}{(}\\PY{n}{line}\\PY{p}{)} \\PY{k}{for} \\PY{n}{line} \\PY{o+ow}{in} \\PY{n}{output}\\PY{p}{]}\\PY{p}{)} \\PY{o}{\\PYZhy{}} \\PY{l+m+mi}{4}  \\PY{c+c1}{\\PYZsh{} 4 is the frame}\n",
       "    \\PY{n}{output} \\PY{o}{+}\\PY{o}{=} \\PY{n}{generate\\PYZus{}char}\\PY{p}{(}\\PY{n}{char}\\PY{p}{,} \\PY{n}{text\\PYZus{}width}\\PY{p}{)}\n",
       "    \\PY{k}{if} \\PY{n}{to\\PYZus{}console}\\PY{p}{:}\n",
       "        \\PY{k}{for} \\PY{n}{line} \\PY{o+ow}{in} \\PY{n}{output}\\PY{p}{:}\n",
       "            \\PY{n+nb}{print}\\PY{p}{(}\\PY{n}{line}\\PY{p}{)}\n",
       "    \\PY{k}{return} \\PY{l+s+s1}{\\PYZsq{}}\\PY{l+s+se}{\\PYZbs{}n}\\PY{l+s+s1}{\\PYZsq{}}\\PY{o}{.}\\PY{n}{join}\\PY{p}{(}\\PY{n}{output}\\PY{p}{)}\n",
       "\n",
       "\n",
       "\\PY{n}{chars} \\PY{o}{=} \\PY{p}{\\PYZob{}}\\PY{p}{\\PYZcb{}}\n",
       "\\PY{k}{for} \\PY{n}{char\\PYZus{}name}\\PY{p}{,} \\PY{n}{char\\PYZus{}lines} \\PY{o+ow}{in} \\PY{n}{CHARS}\\PY{o}{.}\\PY{n}{items}\\PY{p}{(}\\PY{p}{)}\\PY{p}{:}\n",
       "    \\PY{k}{def} \\PY{n+nf}{func}\\PY{p}{(}\\PY{n}{text}\\PY{p}{,} \\PY{n}{char\\PYZus{}lines}\\PY{o}{=}\\PY{n}{char\\PYZus{}lines}\\PY{p}{)}\\PY{p}{:}\n",
       "        \\PY{n}{draw}\\PY{p}{(}\\PY{n}{char\\PYZus{}lines}\\PY{p}{,} \\PY{n}{text}\\PY{p}{)}\n",
       "    \\PY{n}{func}\\PY{o}{.}\\PY{n+nv+vm}{\\PYZus{}\\PYZus{}name\\PYZus{}\\PYZus{}} \\PY{o}{=} \\PY{n}{char\\PYZus{}name}\n",
       "    \\PY{n+nb}{globals}\\PY{p}{(}\\PY{p}{)}\\PY{p}{[}\\PY{n}{char\\PYZus{}name}\\PY{p}{]} \\PY{o}{=} \\PY{n}{func}\n",
       "    \\PY{n}{chars}\\PY{p}{[}\\PY{n}{char\\PYZus{}name}\\PY{p}{]} \\PY{o}{=} \\PY{n}{func}\n",
       "    \n",
       "\n",
       "\\PY{k}{def} \\PY{n+nf}{get\\PYZus{}output\\PYZus{}string}\\PY{p}{(}\\PY{n}{char\\PYZus{}name}\\PY{p}{,} \\PY{n}{text}\\PY{p}{)}\\PY{p}{:}\n",
       "    \\PY{k}{if} \\PY{n}{char\\PYZus{}name} \\PY{o+ow}{in} \\PY{n}{CHARS}\\PY{p}{:}\n",
       "        \\PY{k}{return} \\PY{n}{draw}\\PY{p}{(}\\PY{n}{CHARS}\\PY{p}{[}\\PY{n}{char\\PYZus{}name}\\PY{p}{]}\\PY{p}{,} \\PY{n}{text}\\PY{p}{,} \\PY{n}{to\\PYZus{}console}\\PY{o}{=}\\PY{k+kc}{False}\\PY{p}{)}\n",
       "    \\PY{k}{else}\\PY{p}{:}\n",
       "        \\PY{k}{raise} \\PY{n+ne}{Exception}\\PY{p}{(}\\PY{l+s+s1}{\\PYZsq{}}\\PY{l+s+s1}{Available Characters:}\\PY{l+s+s1}{\\PYZsq{}}\\PY{p}{,} \\PY{n+nb}{list}\\PY{p}{(}\\PY{n}{CHARS}\\PY{o}{.}\\PY{n}{keys}\\PY{p}{(}\\PY{p}{)}\\PY{p}{)}\\PY{p}{)}\n",
       "\n",
       "\n",
       "\\PY{k}{def} \\PY{n+nf}{cli}\\PY{p}{(}\\PY{p}{)}\\PY{p}{:}\n",
       "\n",
       "    \\PY{k}{if} \\PY{l+s+s1}{\\PYZsq{}}\\PY{l+s+s1}{\\PYZhy{}\\PYZhy{}version}\\PY{l+s+s1}{\\PYZsq{}} \\PY{o+ow}{in} \\PY{n}{sys}\\PY{o}{.}\\PY{n}{argv}\\PY{p}{[}\\PY{l+m+mi}{1}\\PY{p}{:}\\PY{p}{]}\\PY{p}{:}\n",
       "        \\PY{n+nb}{print}\\PY{p}{(}\\PY{n}{\\PYZus{}\\PYZus{}version\\PYZus{}\\PYZus{}}\\PY{p}{)}\n",
       "        \\PY{n}{exit}\\PY{p}{(}\\PY{l+m+mi}{0}\\PY{p}{)}\n",
       "\n",
       "    \\PY{k}{if} \\PY{l+s+s1}{\\PYZsq{}}\\PY{l+s+s1}{\\PYZhy{}\\PYZhy{}character}\\PY{l+s+s1}{\\PYZsq{}} \\PY{o+ow}{in} \\PY{n}{sys}\\PY{o}{.}\\PY{n}{argv}\\PY{p}{[}\\PY{l+m+mi}{1}\\PY{p}{:}\\PY{p}{]}\\PY{p}{:}\n",
       "        \\PY{n}{character\\PYZus{}index} \\PY{o}{=} \\PY{n}{sys}\\PY{o}{.}\\PY{n}{argv}\\PY{o}{.}\\PY{n}{index}\\PY{p}{(}\\PY{l+s+s1}{\\PYZsq{}}\\PY{l+s+s1}{\\PYZhy{}\\PYZhy{}character}\\PY{l+s+s1}{\\PYZsq{}}\\PY{p}{)}\n",
       "        \\PY{k}{try}\\PY{p}{:}\n",
       "            \\PY{n}{character} \\PY{o}{=} \\PY{n+nb}{globals}\\PY{p}{(}\\PY{p}{)}\\PY{p}{[}\\PY{n}{sys}\\PY{o}{.}\\PY{n}{argv}\\PY{p}{[}\\PY{n}{character\\PYZus{}index} \\PY{o}{+} \\PY{l+m+mi}{1}\\PY{p}{]}\\PY{p}{]}\n",
       "            \\PY{k}{del} \\PY{n}{sys}\\PY{o}{.}\\PY{n}{argv}\\PY{p}{[}\\PY{n}{character\\PYZus{}index}\\PY{p}{:} \\PY{n}{character\\PYZus{}index} \\PY{o}{+} \\PY{l+m+mi}{2}\\PY{p}{]}\n",
       "        \\PY{k}{except} \\PY{p}{(}\\PY{n+ne}{KeyError}\\PY{p}{,} \\PY{n+ne}{IndexError}\\PY{p}{)}\\PY{p}{:}\n",
       "            \\PY{n}{options} \\PY{o}{=} \\PY{l+s+s1}{\\PYZsq{}}\\PY{l+s+s1}{, }\\PY{l+s+s1}{\\PYZsq{}}\\PY{o}{.}\\PY{n}{join}\\PY{p}{(}\\PY{n}{char\\PYZus{}names}\\PY{p}{)}\n",
       "            \\PY{k}{raise} \\PY{n+ne}{LookupError}\\PY{p}{(}\n",
       "                \\PY{l+s+s1}{\\PYZsq{}}\\PY{l+s+s1}{Invalid character selection passed. Available options: }\\PY{l+s+s1}{\\PYZsq{}} \\PY{o}{+} \\PY{n}{options}\n",
       "            \\PY{p}{)}\n",
       "    \\PY{k}{else}\\PY{p}{:}\n",
       "        \\PY{n}{character} \\PY{o}{=} \\PY{n}{cow}\n",
       "\n",
       "    \\PY{n}{character}\\PY{p}{(}\\PY{l+s+s1}{\\PYZsq{}}\\PY{l+s+s1}{ }\\PY{l+s+s1}{\\PYZsq{}}\\PY{o}{.}\\PY{n}{join}\\PY{p}{(}\\PY{n}{sys}\\PY{o}{.}\\PY{n}{argv}\\PY{p}{[}\\PY{l+m+mi}{1}\\PY{p}{:}\\PY{p}{]}\\PY{p}{)}\\PY{p}{)}\n",
       "\\end{Verbatim}\n"
      ],
      "text/plain": [
       "from __future__ import print_function\n",
       "import sys\n",
       "import re\n",
       "\n",
       "from .characters import CHARS\n",
       "\n",
       "__version__ = '5.0'\n",
       "\n",
       "char_names = list(CHARS.keys())\n",
       "\n",
       "\n",
       "def wrap_lines(lines, max_width=49):\n",
       "    new_lines = []\n",
       "    for line in lines:\n",
       "        for line_part in [\n",
       "            line[i:i+max_width] for i in range(0, len(line), max_width)\n",
       "        ]:\n",
       "            new_lines.append(line_part)\n",
       "    return new_lines\n",
       "\n",
       "\n",
       "def generate_bubble(text):\n",
       "    lines = [line.strip() for line in str(text).split(\"\\n\")]\n",
       "    lines = wrap_lines([line for line in lines if line])\n",
       "    text_width = max([len(line) for line in lines])\n",
       "    output = []\n",
       "    output.append(\"  \" + \"_\" * text_width)\n",
       "    if len(lines) > 1:\n",
       "        output.append(\" /\" + \" \" * text_width + \"\\\\\")\n",
       "    for line in lines:\n",
       "        output.append(\"| \" + line + \" \" * (text_width - len(line) + 1) + \"|\")\n",
       "    if len(lines) > 1:\n",
       "        output.append(\" \\\\\" + \" \" * text_width + \"/\")\n",
       "    output.append(\"  \" + \"=\" * text_width)                 \n",
       "    return output\n",
       "\n",
       "\n",
       "def generate_char(char, text_width):\n",
       "    output = []\n",
       "    char_lines = char.split('\\n')\n",
       "    char_lines = [i for i in char_lines if len(i) != 0]\n",
       "    for line in char_lines:\n",
       "        output.append(' ' * text_width + line)\n",
       "    return output\n",
       "\n",
       "\n",
       "# we are doing some magic here: Creating the functions dynamically.\n",
       "# in .characters is a dict CHARS which holds the lines for the characters.\n",
       "# For each entry there, we create a function.\n",
       "# Wo do this, to not break the old API.\n",
       "\n",
       "def draw(char, text, to_console=True):\n",
       "    if len(re.sub('\\s', '', text)) == 0:\n",
       "        raise Exception('Pass something meaningful to cowsay')\n",
       "    output = generate_bubble(text)\n",
       "    text_width = max([len(line) for line in output]) - 4  # 4 is the frame\n",
       "    output += generate_char(char, text_width)\n",
       "    if to_console:\n",
       "        for line in output:\n",
       "            print(line)\n",
       "    return '\\n'.join(output)\n",
       "\n",
       "\n",
       "chars = {}\n",
       "for char_name, char_lines in CHARS.items():\n",
       "    def func(text, char_lines=char_lines):\n",
       "        draw(char_lines, text)\n",
       "    func.__name__ = char_name\n",
       "    globals()[char_name] = func\n",
       "    chars[char_name] = func\n",
       "    \n",
       "\n",
       "def get_output_string(char_name, text):\n",
       "    if char_name in CHARS:\n",
       "        return draw(CHARS[char_name], text, to_console=False)\n",
       "    else:\n",
       "        raise Exception('Available Characters:', list(CHARS.keys()))\n",
       "\n",
       "\n",
       "def cli():\n",
       "\n",
       "    if '--version' in sys.argv[1:]:\n",
       "        print(__version__)\n",
       "        exit(0)\n",
       "\n",
       "    if '--character' in sys.argv[1:]:\n",
       "        character_index = sys.argv.index('--character')\n",
       "        try:\n",
       "            character = globals()[sys.argv[character_index + 1]]\n",
       "            del sys.argv[character_index: character_index + 2]\n",
       "        except (KeyError, IndexError):\n",
       "            options = ', '.join(char_names)\n",
       "            raise LookupError(\n",
       "                'Invalid character selection passed. Available options: ' + options\n",
       "            )\n",
       "    else:\n",
       "        character = cow\n",
       "\n",
       "    character(' '.join(sys.argv[1:]))"
      ]
     },
     "execution_count": 82,
     "metadata": {},
     "output_type": "execute_result"
    }
   ],
   "source": [
    "IPython.display.Code(r\"C:\\Users\\Lenovo\\anaconda3\\Lib\\site-packages\\cowsay\\main.py\")"
   ]
  },
  {
   "cell_type": "code",
   "execution_count": null,
   "id": "7f56a89b",
   "metadata": {},
   "outputs": [],
   "source": []
  },
  {
   "cell_type": "code",
   "execution_count": 83,
   "id": "c9d42536",
   "metadata": {},
   "outputs": [],
   "source": [
    "import sys"
   ]
  },
  {
   "cell_type": "code",
   "execution_count": 84,
   "id": "cdb14566",
   "metadata": {},
   "outputs": [
    {
     "name": "stdout",
     "output_type": "stream",
     "text": [
      "['__breakpointhook__', '__displayhook__', '__doc__', '__excepthook__', '__interactivehook__', '__loader__', '__name__', '__package__', '__spec__', '__stderr__', '__stdin__', '__stdout__', '__unraisablehook__', '_base_executable', '_clear_type_cache', '_current_exceptions', '_current_frames', '_debugmallocstats', '_enablelegacywindowsfsencoding', '_framework', '_getframe', '_getquickenedcount', '_git', '_home', '_stdlib_dir', '_vpath', '_xoptions', 'addaudithook', 'api_version', 'argv', 'audit', 'base_exec_prefix', 'base_prefix', 'breakpointhook', 'builtin_module_names', 'byteorder', 'call_tracing', 'copyright', 'displayhook', 'dllhandle', 'dont_write_bytecode', 'exc_info', 'excepthook', 'exception', 'exec_prefix', 'executable', 'exit', 'flags', 'float_info', 'float_repr_style', 'get_asyncgen_hooks', 'get_coroutine_origin_tracking_depth', 'get_int_max_str_digits', 'getallocatedblocks', 'getdefaultencoding', 'getfilesystemencodeerrors', 'getfilesystemencoding', 'getprofile', 'getrecursionlimit', 'getrefcount', 'getsizeof', 'getswitchinterval', 'gettrace', 'getwindowsversion', 'hash_info', 'hexversion', 'implementation', 'int_info', 'intern', 'is_finalizing', 'last_traceback', 'last_type', 'last_value', 'maxsize', 'maxunicode', 'meta_path', 'modules', 'orig_argv', 'path', 'path_hooks', 'path_importer_cache', 'platform', 'platlibdir', 'prefix', 'ps1', 'ps2', 'ps3', 'pycache_prefix', 'set_asyncgen_hooks', 'set_coroutine_origin_tracking_depth', 'set_int_max_str_digits', 'setprofile', 'setrecursionlimit', 'setswitchinterval', 'settrace', 'stderr', 'stdin', 'stdlib_module_names', 'stdout', 'thread_info', 'unraisablehook', 'version', 'version_info', 'warnoptions', 'winver']\n"
     ]
    }
   ],
   "source": [
    "print(dir(sys))"
   ]
  },
  {
   "cell_type": "code",
   "execution_count": 85,
   "id": "89ad28dd",
   "metadata": {},
   "outputs": [
    {
     "data": {
      "text/plain": [
       "['C:\\\\Users\\\\Lenovo\\\\New_Python_Batch_03_05_date_20_07_2024',\n",
       " 'C:\\\\Users\\\\Lenovo\\\\anaconda3\\\\python311.zip',\n",
       " 'C:\\\\Users\\\\Lenovo\\\\anaconda3\\\\DLLs',\n",
       " 'C:\\\\Users\\\\Lenovo\\\\anaconda3\\\\Lib',\n",
       " 'C:\\\\Users\\\\Lenovo\\\\anaconda3',\n",
       " '',\n",
       " 'C:\\\\Users\\\\Lenovo\\\\AppData\\\\Roaming\\\\Python\\\\Python311\\\\site-packages',\n",
       " 'C:\\\\Users\\\\Lenovo\\\\anaconda3\\\\Lib\\\\site-packages',\n",
       " 'C:\\\\Users\\\\Lenovo\\\\anaconda3\\\\Lib\\\\site-packages\\\\win32',\n",
       " 'C:\\\\Users\\\\Lenovo\\\\anaconda3\\\\Lib\\\\site-packages\\\\win32\\\\lib',\n",
       " 'C:\\\\Users\\\\Lenovo\\\\anaconda3\\\\Lib\\\\site-packages\\\\Pythonwin']"
      ]
     },
     "execution_count": 85,
     "metadata": {},
     "output_type": "execute_result"
    }
   ],
   "source": [
    "sys.path"
   ]
  },
  {
   "cell_type": "code",
   "execution_count": 87,
   "id": "3a8715f3",
   "metadata": {},
   "outputs": [
    {
     "data": {
      "text/plain": [
       "<ipykernel.iostream.OutStream at 0x19e75ce4760>"
      ]
     },
     "execution_count": 87,
     "metadata": {},
     "output_type": "execute_result"
    }
   ],
   "source": [
    "sys.stdout"
   ]
  },
  {
   "cell_type": "code",
   "execution_count": 88,
   "id": "f158dddd",
   "metadata": {},
   "outputs": [
    {
     "data": {
      "text/plain": [
       "sys.version_info(major=3, minor=11, micro=3, releaselevel='final', serial=0)"
      ]
     },
     "execution_count": 88,
     "metadata": {},
     "output_type": "execute_result"
    }
   ],
   "source": [
    "sys.version_info"
   ]
  },
  {
   "cell_type": "code",
   "execution_count": 94,
   "id": "34a19a97",
   "metadata": {},
   "outputs": [
    {
     "name": "stdout",
     "output_type": "stream",
     "text": [
      "^C\n"
     ]
    }
   ],
   "source": [
    "!python - V"
   ]
  },
  {
   "cell_type": "code",
   "execution_count": 98,
   "id": "a6890811",
   "metadata": {},
   "outputs": [
    {
     "name": "stdout",
     "output_type": "stream",
     "text": [
      "Python 3.11.3\n"
     ]
    }
   ],
   "source": [
    "!python --version"
   ]
  },
  {
   "cell_type": "code",
   "execution_count": 100,
   "id": "2a20a0b2",
   "metadata": {},
   "outputs": [],
   "source": [
    "import pandas as pd"
   ]
  },
  {
   "cell_type": "code",
   "execution_count": 102,
   "id": "eed99e99",
   "metadata": {},
   "outputs": [
    {
     "data": {
      "text/plain": [
       "'2.2.2'"
      ]
     },
     "execution_count": 102,
     "metadata": {},
     "output_type": "execute_result"
    }
   ],
   "source": [
    "pd.__version__"
   ]
  },
  {
   "cell_type": "code",
   "execution_count": 105,
   "id": "e9304afe",
   "metadata": {},
   "outputs": [],
   "source": [
    "# from .characters import CHARS"
   ]
  },
  {
   "cell_type": "code",
   "execution_count": null,
   "id": "1055ba27",
   "metadata": {},
   "outputs": [],
   "source": []
  }
 ],
 "metadata": {
  "kernelspec": {
   "display_name": "Python 3 (ipykernel)",
   "language": "python",
   "name": "python3"
  },
  "language_info": {
   "codemirror_mode": {
    "name": "ipython",
    "version": 3
   },
   "file_extension": ".py",
   "mimetype": "text/x-python",
   "name": "python",
   "nbconvert_exporter": "python",
   "pygments_lexer": "ipython3",
   "version": "3.11.3"
  }
 },
 "nbformat": 4,
 "nbformat_minor": 5
}
