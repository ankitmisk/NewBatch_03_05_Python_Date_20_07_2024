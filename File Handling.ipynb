{
 "cells": [
  {
   "cell_type": "code",
   "execution_count": 2,
   "id": "f925219e",
   "metadata": {},
   "outputs": [],
   "source": [
    "# File:- Just a File which stores some info or data, code"
   ]
  },
  {
   "cell_type": "code",
   "execution_count": 3,
   "id": "a93f2cb6",
   "metadata": {},
   "outputs": [],
   "source": [
    "# # File:\n",
    "# # Binary File:\n",
    "# just reverse of textual file:\n",
    "# we can not understand this file in Notepad\n",
    "# .jpeg, jpg, .png, .mp3, .mp4, .cdr, .exe, .dll, .rar, .tar, .zip, .apk \n",
    "# open :- read:- software: .xlsx\n",
    "\n",
    "\n",
    "# # textual File:-\n",
    "#     notepad, .txt, .py, .java, .html, .css, .js, .php, .xml, .json, .csv\n",
    "    \n",
    "#     we can open this file in notepad and read data, easy to understand \n",
    "\n",
    "    "
   ]
  },
  {
   "cell_type": "markdown",
   "id": "824506f6",
   "metadata": {},
   "source": [
    "# File Handling:- \n",
    "    read, write, delete, append, clear, copy"
   ]
  },
  {
   "cell_type": "code",
   "execution_count": 10,
   "id": "08925e27",
   "metadata": {},
   "outputs": [
    {
     "name": "stdout",
     "output_type": "stream",
     "text": [
      "<h1>This is a H1 Heading</h1>\n",
      "<p>This is just a Paragraph</p>\n"
     ]
    }
   ],
   "source": [
    "file = open('neha.html',mode = 'r')\n",
    "data = file.read()\n",
    "\n",
    "print(data)\n",
    "\n",
    "file.close()"
   ]
  },
  {
   "cell_type": "code",
   "execution_count": 17,
   "id": "b64e58c8",
   "metadata": {},
   "outputs": [
    {
     "name": "stdout",
     "output_type": "stream",
     "text": [
      "print('''A 10\n"
     ]
    }
   ],
   "source": [
    "f = open(r\"C:\\Users\\Lenovo\\Desktop\\Anuj_Module.py\")\n",
    "all_data = f.read(10)\n",
    "print(all_data,len(all_data))\n",
    "f.close()"
   ]
  },
  {
   "cell_type": "code",
   "execution_count": 23,
   "id": "f75dc6a7",
   "metadata": {},
   "outputs": [
    {
     "name": "stdout",
     "output_type": "stream",
     "text": [
      "print('''Anuj_Module 2.5.1 (SDL 2.28.2, Python 3.11.3)\n",
      "Hello from the Anuj_Modules community. https://www.pygame.org/contribute.html''')\n",
      "\n"
     ]
    }
   ],
   "source": [
    "f = open(r\"C:\\Users\\Lenovo\\Desktop\\Anuj_Module.py\")\n",
    "print(f.readline(),end='')\n",
    "print(f.readline())\n",
    "\n",
    "\n",
    "\n",
    "# print(all_data)\n",
    "f.close()"
   ]
  },
  {
   "cell_type": "code",
   "execution_count": 26,
   "id": "a7029134",
   "metadata": {},
   "outputs": [],
   "source": [
    "f = open(r\"C:\\Users\\Lenovo\\Desktop\\Anuj_Module.py\")\n",
    "data = f.readlines()\n",
    "f.close()"
   ]
  },
  {
   "cell_type": "code",
   "execution_count": 37,
   "id": "9c2a709f",
   "metadata": {},
   "outputs": [],
   "source": [
    "# print(data[16])"
   ]
  },
  {
   "cell_type": "code",
   "execution_count": 39,
   "id": "4935a186",
   "metadata": {},
   "outputs": [
    {
     "name": "stdout",
     "output_type": "stream",
     "text": [
      "print('''Anuj_Module 2.5.1 (SDL 2.28.2, Python 3.11.3)\n",
      "Hello from the Anuj_Modules community. https://www.pygame.org/contribute.html''')\n",
      "\n",
      "\n",
      "\n",
      "\n",
      "def greet():\n",
      "    print('Hello Buddy!!')    \n",
      "    \n",
      "\n",
      "    \n",
      "def say_hello():\n",
      "    print('Hello Buddy!,How are you??')\n",
      "    \n",
      "# args:- dtype\n",
      "\n",
      "def introduction(name:'Idhar name bharna hai',\n",
      "                 age:'int',\n",
      "                 salary:'float',\n",
      "                 add:'str')->  None:\n",
      "    '''This is an Introduction func,\n",
      "    created by user, you have to give some arguments,\n",
      "    it will return a wonderful message'''\n",
      "    \n",
      "    print(f'Your Name is {name}')\n",
      "    print(f'Your Age is {age}')  \n",
      "    print(f'Your Salary is {salary}')   \n",
      "    print(f'Your Address is {add}')    \n",
      "    \n",
      "    \n",
      "def count(data):\n",
      "    result = 0\n",
      "    for i in data:\n",
      "        result += 1\n",
      "    return result\n",
      "\n",
      "def summ(any_data:'list,tuple,set'):\n",
      "    ans = 0\n",
      "    \n",
      "    for i in any_data:\n",
      "        ans += i\n",
      "    return ans\n",
      "\n",
      "\n",
      "def prime_number(num):\n",
      "    for i in range(2,num):\n",
      "        if num % i == 0:\n",
      "            print('Not a Prime Number')\n",
      "            break\n",
      "    else:\n",
      "        print('Prime Number!!')\n",
      "        \n",
      "        \n",
      "        \n",
      "def give_fibonnaci(num):\n",
      "    fibo = [0,1]\n",
      "    \n",
      "    for i in range(num-2):\n",
      "        next_num = fibo[-1] + fibo[-2]\n",
      "        fibo.append(next_num)\n",
      "    return fibo   \n",
      "\n",
      "\n",
      "\n",
      "def pattern(w):\n",
      "    \n",
      "    word = w.upper().replace(' ','')\n",
      "    num = len(word)\n",
      "\n",
      "    for i in range(1,num):\n",
      "        print(' '*(num-i)+ ' '.join(word[0:i]))\n",
      "\n",
      "    for i in range(num,0,-1):\n",
      "        print(' '*(num-i)+ ' '.join(word[0:i]))\n",
      "        \n",
      "        \n",
      "\n",
      "def check_armstrong(num):\n",
      "    pw = len(str(num))\n",
      "    ans = 0\n",
      "    \n",
      "    for i in str(num):\n",
      "        ans += int(i)**pw\n",
      "    return True if ans == num else False\n",
      "\n",
      "\n",
      "\n",
      "\n",
      "def check_max(data):\n",
      "    my_max = data[0]\n",
      "    \n",
      "    for i in data:\n",
      "        if i>my_max:\n",
      "            my_max = i\n",
      "    return my_max\n",
      "\n",
      "\n",
      "\n",
      "def give_prime(n1,n2):\n",
      "    if n1 == n2 == 1:\n",
      "        print('1 is not a Prime number!!')\n",
      "        \n",
      "    elif n1>1 and n2>1:\n",
      "        all_prime = []\n",
      "        for num in range(n1,n2+1):\n",
      "\n",
      "            for i in range(2,num):\n",
      "                if num % i == 0:\n",
      "                    break\n",
      "            else:\n",
      "                all_prime.append(num)\n",
      "\n",
      "        return all_prime\n",
      "    \n",
      "    else:\n",
      "        print('Invalid numbers!!')\n",
      "        \n",
      "        \n",
      "\n",
      "        \n",
      "def check_armstrong(num):\n",
      "    pw = len(str(num))\n",
      "    ans = 0\n",
      "    \n",
      "    for i in str(num):\n",
      "        ans += int(i)**pw\n",
      "    return True if ans == num else False\n",
      "\n",
      "\n",
      "\n",
      "def give_area(shape = None):\n",
      "    \n",
      "    if shape == None:\n",
      "        area = 0\n",
      "        print('No Such area for None type Shape!!')\n",
      "    \n",
      "    elif shape.lower() == 'rectangle':\n",
      "        \n",
      "        l = float(input('Enter length: '))\n",
      "        b = float(input('Enter breadth: '))\n",
      "        \n",
      "        area = l*b\n",
      "        print(f'Area of {shape} is: {round(area,2)} sq unit')\n",
      "        \n",
      "        \n",
      "    elif shape.lower() == 'circle':\n",
      "        \n",
      "        r = float(input('Enter radius: '))\n",
      "        area = 3.14*r**2\n",
      "        print(f'Area of {shape} is: {round(area,2)} sq unit')\n",
      "        \n",
      "        \n",
      "    elif shape.lower() == 'triangle':\n",
      "        \n",
      "        a = float(input('Enter side a: '))\n",
      "        b = float(input('Enter side b: '))\n",
      "        c = float(input('Enter side c: '))\n",
      "    \n",
      "        \n",
      "        s = (a + b + c)/2\n",
      "        \n",
      "        if (a+b)>c   and (b+c)>a  and (c+a)>b:\n",
      "        \n",
      "            area = (s*(s-a)*(s-b)*(s-c))**0.5\n",
      "            print(f'Area of {shape} is: {round(area,2)} sq unit')\n",
      "            \n",
      "        else:\n",
      "            print('No such triangle can be formed using given sides!!')\n",
      "            print('''\"a + b\" must be greater than \"c\", as the sum of two side \n",
      "            lengths has to exceed the length of the third side!''')\n",
      "        \n",
      "    elif shape.lower() == 'square':\n",
      "        side = float(input('Enter side of a Square: '))\n",
      "        \n",
      "        area = side * side\n",
      "        print(f'Area of {shape} is: {round(area,2)} sq unit')\n",
      "        \n",
      "        \n",
      "    else:\n",
      "        print('No such shape found!!')\n",
      "        \n",
      "\n",
      "                \n",
      "            \n",
      "            \n",
      "def rec_factorial(n):\n",
      "    if n == 1:\n",
      "        return n\n",
      "    else:\n",
      "        return rec_factorial(n-1)*n\n"
     ]
    }
   ],
   "source": [
    "for line in data:\n",
    "    print(line,end='')"
   ]
  },
  {
   "cell_type": "code",
   "execution_count": null,
   "id": "3da14a74",
   "metadata": {},
   "outputs": [],
   "source": []
  },
  {
   "cell_type": "code",
   "execution_count": 41,
   "id": "f5d75c23",
   "metadata": {},
   "outputs": [],
   "source": [
    "f = open(r\"C:\\Users\\Lenovo\\Desktop\\Anuj_Module.py\")\n",
    "data = f.read().splitlines()"
   ]
  },
  {
   "cell_type": "code",
   "execution_count": 42,
   "id": "59de9d78",
   "metadata": {},
   "outputs": [
    {
     "name": "stdout",
     "output_type": "stream",
     "text": [
      "print('''Anuj_Module 2.5.1 (SDL 2.28.2, Python 3.11.3)\n",
      "Hello from the Anuj_Modules community. https://www.pygame.org/contribute.html''')\n",
      "\n",
      "\n",
      "\n",
      "\n",
      "def greet():\n",
      "    print('Hello Buddy!!')    \n",
      "    \n",
      "\n",
      "    \n",
      "def say_hello():\n",
      "    print('Hello Buddy!,How are you??')\n",
      "    \n",
      "# args:- dtype\n",
      "\n",
      "def introduction(name:'Idhar name bharna hai',\n",
      "                 age:'int',\n",
      "                 salary:'float',\n",
      "                 add:'str')->  None:\n",
      "    '''This is an Introduction func,\n",
      "    created by user, you have to give some arguments,\n",
      "    it will return a wonderful message'''\n",
      "    \n",
      "    print(f'Your Name is {name}')\n",
      "    print(f'Your Age is {age}')  \n",
      "    print(f'Your Salary is {salary}')   \n",
      "    print(f'Your Address is {add}')    \n",
      "    \n",
      "    \n",
      "def count(data):\n",
      "    result = 0\n",
      "    for i in data:\n",
      "        result += 1\n",
      "    return result\n",
      "\n",
      "def summ(any_data:'list,tuple,set'):\n",
      "    ans = 0\n",
      "    \n",
      "    for i in any_data:\n",
      "        ans += i\n",
      "    return ans\n",
      "\n",
      "\n",
      "def prime_number(num):\n",
      "    for i in range(2,num):\n",
      "        if num % i == 0:\n",
      "            print('Not a Prime Number')\n",
      "            break\n",
      "    else:\n",
      "        print('Prime Number!!')\n",
      "        \n",
      "        \n",
      "        \n",
      "def give_fibonnaci(num):\n",
      "    fibo = [0,1]\n",
      "    \n",
      "    for i in range(num-2):\n",
      "        next_num = fibo[-1] + fibo[-2]\n",
      "        fibo.append(next_num)\n",
      "    return fibo   \n",
      "\n",
      "\n",
      "\n",
      "def pattern(w):\n",
      "    \n",
      "    word = w.upper().replace(' ','')\n",
      "    num = len(word)\n",
      "\n",
      "    for i in range(1,num):\n",
      "        print(' '*(num-i)+ ' '.join(word[0:i]))\n",
      "\n",
      "    for i in range(num,0,-1):\n",
      "        print(' '*(num-i)+ ' '.join(word[0:i]))\n",
      "        \n",
      "        \n",
      "\n",
      "def check_armstrong(num):\n",
      "    pw = len(str(num))\n",
      "    ans = 0\n",
      "    \n",
      "    for i in str(num):\n",
      "        ans += int(i)**pw\n",
      "    return True if ans == num else False\n",
      "\n",
      "\n",
      "\n",
      "\n",
      "def check_max(data):\n",
      "    my_max = data[0]\n",
      "    \n",
      "    for i in data:\n",
      "        if i>my_max:\n",
      "            my_max = i\n",
      "    return my_max\n",
      "\n",
      "\n",
      "\n",
      "def give_prime(n1,n2):\n",
      "    if n1 == n2 == 1:\n",
      "        print('1 is not a Prime number!!')\n",
      "        \n",
      "    elif n1>1 and n2>1:\n",
      "        all_prime = []\n",
      "        for num in range(n1,n2+1):\n",
      "\n",
      "            for i in range(2,num):\n",
      "                if num % i == 0:\n",
      "                    break\n",
      "            else:\n",
      "                all_prime.append(num)\n",
      "\n",
      "        return all_prime\n",
      "    \n",
      "    else:\n",
      "        print('Invalid numbers!!')\n",
      "        \n",
      "        \n",
      "\n",
      "        \n",
      "def check_armstrong(num):\n",
      "    pw = len(str(num))\n",
      "    ans = 0\n",
      "    \n",
      "    for i in str(num):\n",
      "        ans += int(i)**pw\n",
      "    return True if ans == num else False\n",
      "\n",
      "\n",
      "\n",
      "def give_area(shape = None):\n",
      "    \n",
      "    if shape == None:\n",
      "        area = 0\n",
      "        print('No Such area for None type Shape!!')\n",
      "    \n",
      "    elif shape.lower() == 'rectangle':\n",
      "        \n",
      "        l = float(input('Enter length: '))\n",
      "        b = float(input('Enter breadth: '))\n",
      "        \n",
      "        area = l*b\n",
      "        print(f'Area of {shape} is: {round(area,2)} sq unit')\n",
      "        \n",
      "        \n",
      "    elif shape.lower() == 'circle':\n",
      "        \n",
      "        r = float(input('Enter radius: '))\n",
      "        area = 3.14*r**2\n",
      "        print(f'Area of {shape} is: {round(area,2)} sq unit')\n",
      "        \n",
      "        \n",
      "    elif shape.lower() == 'triangle':\n",
      "        \n",
      "        a = float(input('Enter side a: '))\n",
      "        b = float(input('Enter side b: '))\n",
      "        c = float(input('Enter side c: '))\n",
      "    \n",
      "        \n",
      "        s = (a + b + c)/2\n",
      "        \n",
      "        if (a+b)>c   and (b+c)>a  and (c+a)>b:\n",
      "        \n",
      "            area = (s*(s-a)*(s-b)*(s-c))**0.5\n",
      "            print(f'Area of {shape} is: {round(area,2)} sq unit')\n",
      "            \n",
      "        else:\n",
      "            print('No such triangle can be formed using given sides!!')\n",
      "            print('''\"a + b\" must be greater than \"c\", as the sum of two side \n",
      "            lengths has to exceed the length of the third side!''')\n",
      "        \n",
      "    elif shape.lower() == 'square':\n",
      "        side = float(input('Enter side of a Square: '))\n",
      "        \n",
      "        area = side * side\n",
      "        print(f'Area of {shape} is: {round(area,2)} sq unit')\n",
      "        \n",
      "        \n",
      "    else:\n",
      "        print('No such shape found!!')\n",
      "        \n",
      "\n",
      "                \n",
      "            \n",
      "            \n",
      "def rec_factorial(n):\n",
      "    if n == 1:\n",
      "        return n\n",
      "    else:\n",
      "        return rec_factorial(n-1)*n\n"
     ]
    }
   ],
   "source": [
    "for i in data:\n",
    "    print(i)"
   ]
  },
  {
   "cell_type": "code",
   "execution_count": 46,
   "id": "3379c297",
   "metadata": {},
   "outputs": [],
   "source": [
    "f.close()"
   ]
  },
  {
   "cell_type": "code",
   "execution_count": null,
   "id": "9324eac9",
   "metadata": {},
   "outputs": [],
   "source": []
  },
  {
   "cell_type": "code",
   "execution_count": 48,
   "id": "67276be9",
   "metadata": {},
   "outputs": [],
   "source": [
    "# \n",
    "\n",
    "# file write:- new file write"
   ]
  },
  {
   "cell_type": "code",
   "execution_count": 49,
   "id": "5396987b",
   "metadata": {},
   "outputs": [],
   "source": [
    "import glob"
   ]
  },
  {
   "cell_type": "code",
   "execution_count": 53,
   "id": "8b693963",
   "metadata": {},
   "outputs": [
    {
     "data": {
      "text/plain": [
       "False"
      ]
     },
     "execution_count": 53,
     "metadata": {},
     "output_type": "execute_result"
    }
   ],
   "source": [
    "'aman.html' in glob.glob('*.*')"
   ]
  },
  {
   "cell_type": "code",
   "execution_count": 57,
   "id": "de041ba0",
   "metadata": {},
   "outputs": [
    {
     "name": "stdout",
     "output_type": "stream",
     "text": [
      "2done\n"
     ]
    }
   ],
   "source": [
    "f = open('aman.html',mode = 'w')\n",
    "\n",
    "f.write('''\\n<h4>Heading_h4</h4>\\n''')\n",
    "f.write('''<h5>Heading_h5</h5>''')\n",
    "f.write('''\\n<h6>Heading_h6</h6>''')\n",
    "f.close()\n",
    "print('2done')\n"
   ]
  },
  {
   "cell_type": "code",
   "execution_count": 60,
   "id": "8de108f4",
   "metadata": {},
   "outputs": [],
   "source": [
    "# mdoe:- x:- write:- for new file only"
   ]
  },
  {
   "cell_type": "code",
   "execution_count": 63,
   "id": "0400b213",
   "metadata": {},
   "outputs": [
    {
     "ename": "FileExistsError",
     "evalue": "[Errno 17] File exists: 'armani.html'",
     "output_type": "error",
     "traceback": [
      "\u001b[1;31m---------------------------------------------------------------------------\u001b[0m",
      "\u001b[1;31mFileExistsError\u001b[0m                           Traceback (most recent call last)",
      "Cell \u001b[1;32mIn[63], line 1\u001b[0m\n\u001b[1;32m----> 1\u001b[0m f \u001b[38;5;241m=\u001b[39m \u001b[38;5;28mopen\u001b[39m(\u001b[38;5;124m'\u001b[39m\u001b[38;5;124marmani.html\u001b[39m\u001b[38;5;124m'\u001b[39m,mode \u001b[38;5;241m=\u001b[39m \u001b[38;5;124m'\u001b[39m\u001b[38;5;124mx\u001b[39m\u001b[38;5;124m'\u001b[39m)\n\u001b[0;32m      3\u001b[0m f\u001b[38;5;241m.\u001b[39mwrite(\u001b[38;5;124m'''\u001b[39m\u001b[38;5;130;01m\\n\u001b[39;00m\u001b[38;5;124m<h4>Heading_h4</h4>\u001b[39m\u001b[38;5;130;01m\\n\u001b[39;00m\u001b[38;5;124m'''\u001b[39m)\n\u001b[0;32m      4\u001b[0m f\u001b[38;5;241m.\u001b[39mwrite(\u001b[38;5;124m'''\u001b[39m\u001b[38;5;124m<h5>Heading_h5</h5>\u001b[39m\u001b[38;5;124m'''\u001b[39m)\n",
      "File \u001b[1;32m~\\anaconda3\\Lib\\site-packages\\IPython\\core\\interactiveshell.py:310\u001b[0m, in \u001b[0;36m_modified_open\u001b[1;34m(file, *args, **kwargs)\u001b[0m\n\u001b[0;32m    303\u001b[0m \u001b[38;5;28;01mif\u001b[39;00m file \u001b[38;5;129;01min\u001b[39;00m {\u001b[38;5;241m0\u001b[39m, \u001b[38;5;241m1\u001b[39m, \u001b[38;5;241m2\u001b[39m}:\n\u001b[0;32m    304\u001b[0m     \u001b[38;5;28;01mraise\u001b[39;00m \u001b[38;5;167;01mValueError\u001b[39;00m(\n\u001b[0;32m    305\u001b[0m         \u001b[38;5;124mf\u001b[39m\u001b[38;5;124m\"\u001b[39m\u001b[38;5;124mIPython won\u001b[39m\u001b[38;5;124m'\u001b[39m\u001b[38;5;124mt let you open fd=\u001b[39m\u001b[38;5;132;01m{\u001b[39;00mfile\u001b[38;5;132;01m}\u001b[39;00m\u001b[38;5;124m by default \u001b[39m\u001b[38;5;124m\"\u001b[39m\n\u001b[0;32m    306\u001b[0m         \u001b[38;5;124m\"\u001b[39m\u001b[38;5;124mas it is likely to crash IPython. If you know what you are doing, \u001b[39m\u001b[38;5;124m\"\u001b[39m\n\u001b[0;32m    307\u001b[0m         \u001b[38;5;124m\"\u001b[39m\u001b[38;5;124myou can use builtins\u001b[39m\u001b[38;5;124m'\u001b[39m\u001b[38;5;124m open.\u001b[39m\u001b[38;5;124m\"\u001b[39m\n\u001b[0;32m    308\u001b[0m     )\n\u001b[1;32m--> 310\u001b[0m \u001b[38;5;28;01mreturn\u001b[39;00m io_open(file, \u001b[38;5;241m*\u001b[39margs, \u001b[38;5;241m*\u001b[39m\u001b[38;5;241m*\u001b[39mkwargs)\n",
      "\u001b[1;31mFileExistsError\u001b[0m: [Errno 17] File exists: 'armani.html'"
     ]
    }
   ],
   "source": [
    "f = open('armani.html',mode = 'x')\n",
    "\n",
    "f.write('''\\n<h4>Heading_h4</h4>\\n''')\n",
    "f.write('''<h5>Heading_h5</h5>''')\n",
    "f.write('''\\n<h6>Heading_h6</h6>''')\n",
    "f.close()\n",
    "print('2done')\n"
   ]
  },
  {
   "cell_type": "code",
   "execution_count": 65,
   "id": "53a5d3af",
   "metadata": {},
   "outputs": [
    {
     "ename": "FileExistsError",
     "evalue": "Are Bhai Kya kar rah hai!!",
     "output_type": "error",
     "traceback": [
      "\u001b[1;31m---------------------------------------------------------------------------\u001b[0m",
      "\u001b[1;31mFileExistsError\u001b[0m                           Traceback (most recent call last)",
      "Cell \u001b[1;32mIn[65], line 2\u001b[0m\n\u001b[0;32m      1\u001b[0m \u001b[38;5;28;01mif\u001b[39;00m \u001b[38;5;124m'\u001b[39m\u001b[38;5;124marmani.html\u001b[39m\u001b[38;5;124m'\u001b[39m \u001b[38;5;129;01min\u001b[39;00m glob\u001b[38;5;241m.\u001b[39mglob(\u001b[38;5;124m'\u001b[39m\u001b[38;5;124m*.*\u001b[39m\u001b[38;5;124m'\u001b[39m):\n\u001b[1;32m----> 2\u001b[0m     \u001b[38;5;28;01mraise\u001b[39;00m \u001b[38;5;167;01mFileExistsError\u001b[39;00m(\u001b[38;5;124m'\u001b[39m\u001b[38;5;124mAre Bhai Kya kar rah hai!!\u001b[39m\u001b[38;5;124m'\u001b[39m)\n\u001b[0;32m      3\u001b[0m \u001b[38;5;28;01melse\u001b[39;00m:\n\u001b[0;32m      4\u001b[0m     \u001b[38;5;28mprint\u001b[39m(\u001b[38;5;124m'\u001b[39m\u001b[38;5;124mDone\u001b[39m\u001b[38;5;124m'\u001b[39m)\n",
      "\u001b[1;31mFileExistsError\u001b[0m: Are Bhai Kya kar rah hai!!"
     ]
    }
   ],
   "source": [
    "if 'armani.html' in glob.glob('*.*'):\n",
    "    raise FileExistsError('Are Bhai Kya kar rah hai!!')\n",
    "else:\n",
    "    print('Done')"
   ]
  },
  {
   "cell_type": "code",
   "execution_count": 66,
   "id": "b64fe577",
   "metadata": {},
   "outputs": [
    {
     "name": "stdout",
     "output_type": "stream",
     "text": [
      "2done\n"
     ]
    }
   ],
   "source": [
    "# mode:- a\n",
    "\n",
    "f = open('armani.html',mode = 'a')\n",
    "\n",
    "f.write('''\\n<h1>Heading_h1</h1>\\n''')\n",
    "f.write('''<h1>Heading_h2</h2>''')\n",
    "f.write('''\\n<h3>Heading_h3</h3>''')\n",
    "f.close()\n",
    "print('2done')\n"
   ]
  },
  {
   "cell_type": "code",
   "execution_count": 67,
   "id": "de1e1e2b",
   "metadata": {},
   "outputs": [],
   "source": [
    "# mixed mode:- r"
   ]
  },
  {
   "cell_type": "code",
   "execution_count": 69,
   "id": "b3313f55",
   "metadata": {},
   "outputs": [],
   "source": [
    "f = open('armani.html',mode = 'r+')\n",
    "f.write('This is Python Class')\n",
    "f.close()"
   ]
  },
  {
   "cell_type": "code",
   "execution_count": 75,
   "id": "4fec0982",
   "metadata": {},
   "outputs": [],
   "source": [
    "f = open('armani.html',mode = 'r+')\n",
    "f.seek(len(f.read())+1)\n",
    "f.write('\\nThis is Python Class')\n",
    "f.close()\n"
   ]
  },
  {
   "cell_type": "code",
   "execution_count": 84,
   "id": "abd58f0c",
   "metadata": {},
   "outputs": [
    {
     "name": "stdout",
     "output_type": "stream",
     "text": [
      "We are in Noida\n"
     ]
    }
   ],
   "source": [
    "f = open('armani.html',mode = 'w+')\n",
    "f.write('We are in Noida')\n",
    "f.seek(0)\n",
    "print(f.read())\n",
    "f.close()"
   ]
  },
  {
   "cell_type": "code",
   "execution_count": 86,
   "id": "a13ec225",
   "metadata": {},
   "outputs": [],
   "source": [
    "# w,r,a,x,\n",
    "# w+,r+,a+,x+"
   ]
  },
  {
   "cell_type": "code",
   "execution_count": 87,
   "id": "c46b8682",
   "metadata": {},
   "outputs": [],
   "source": [
    "f = open('armani.html',mode = 'w')\n",
    "\n",
    "f.write('This is Line 1\\n')\n",
    "f.write('This is Line 2\\n')\n",
    "f.write('This is Line 3\\n')\n",
    "\n",
    "f.close()"
   ]
  },
  {
   "cell_type": "code",
   "execution_count": 91,
   "id": "b04f6d53",
   "metadata": {},
   "outputs": [
    {
     "name": "stdout",
     "output_type": "stream",
     "text": [
      "Done\n"
     ]
    }
   ],
   "source": [
    "data = ['we are in Noida\\n','This is Python Class\\n',\n",
    "        'Python is Awesome\\n']\n",
    "\n",
    "f = open('jatin.txt','w')\n",
    "f.writelines(data)\n",
    "f.close()\n",
    "print('Done')"
   ]
  },
  {
   "cell_type": "code",
   "execution_count": 92,
   "id": "edcf2af2",
   "metadata": {},
   "outputs": [],
   "source": [
    "data = ['1>> we are in Noida','2>> This is Python Class',\n",
    "        '3>> Python is Awesome']\n",
    "\n",
    "f = open('jatin.txt','w')\n",
    "for i in data:\n",
    "    f.write(i+'\\n')\n",
    "    \n",
    "f.close()"
   ]
  },
  {
   "cell_type": "code",
   "execution_count": null,
   "id": "738649b1",
   "metadata": {},
   "outputs": [],
   "source": []
  },
  {
   "cell_type": "code",
   "execution_count": null,
   "id": "4370ab8c",
   "metadata": {},
   "outputs": [],
   "source": []
  },
  {
   "cell_type": "markdown",
   "id": "e961e8fb",
   "metadata": {},
   "source": [
    "# Textual File handling"
   ]
  },
  {
   "cell_type": "code",
   "execution_count": 93,
   "id": "3f2c16a7",
   "metadata": {},
   "outputs": [],
   "source": [
    "# context manager:- file automatic:- close"
   ]
  },
  {
   "cell_type": "code",
   "execution_count": null,
   "id": "0d215c71",
   "metadata": {},
   "outputs": [],
   "source": []
  },
  {
   "cell_type": "code",
   "execution_count": 94,
   "id": "2eb0b4b9",
   "metadata": {},
   "outputs": [],
   "source": [
    "data = ['we are in Noida\\n','This is Python Class\\n',\n",
    "        'Python is Awesome\\n']"
   ]
  },
  {
   "cell_type": "code",
   "execution_count": 95,
   "id": "664d6e57",
   "metadata": {},
   "outputs": [],
   "source": [
    "with open(r\"C:\\Users\\Lenovo\\Desktop\\Modi.txt\",'w') as f:\n",
    "    f.writelines(data)"
   ]
  },
  {
   "cell_type": "code",
   "execution_count": 96,
   "id": "6eed57b4",
   "metadata": {},
   "outputs": [],
   "source": [
    "# copy:- \n",
    "\n",
    "with open(r\"C:\\Users\\Lenovo\\Desktop\\rahul.txt\",'w') as nf:\n",
    "    with open(r\"C:\\Users\\Lenovo\\Desktop\\Modi.txt\") as f:\n",
    "        nf.write(f.read())"
   ]
  },
  {
   "cell_type": "code",
   "execution_count": 97,
   "id": "99743e4e",
   "metadata": {},
   "outputs": [],
   "source": [
    "import os"
   ]
  },
  {
   "cell_type": "code",
   "execution_count": 99,
   "id": "83e9e7b7",
   "metadata": {},
   "outputs": [
    {
     "name": "stdout",
     "output_type": "stream",
     "text": [
      "done\n"
     ]
    }
   ],
   "source": [
    "os.remove(r\"C:\\Users\\Lenovo\\Desktop\\rahul.txt\")\n",
    "print('done')"
   ]
  },
  {
   "cell_type": "code",
   "execution_count": null,
   "id": "534f7acd",
   "metadata": {},
   "outputs": [],
   "source": []
  },
  {
   "cell_type": "markdown",
   "id": "4d62a1e0",
   "metadata": {},
   "source": [
    "# Binary File handling"
   ]
  },
  {
   "cell_type": "code",
   "execution_count": 101,
   "id": "e88a4585",
   "metadata": {},
   "outputs": [],
   "source": [
    "with open(r\"C:\\Users\\Lenovo\\Desktop\\virat.webp\",'rb') as f:\n",
    "    binary_data = f.read()"
   ]
  },
  {
   "cell_type": "code",
   "execution_count": 102,
   "id": "09f574ed",
   "metadata": {},
   "outputs": [
    {
     "name": "stdout",
     "output_type": "stream",
     "text": [
      "<class 'bytes'>\n"
     ]
    }
   ],
   "source": [
    "print(type(binary_data))"
   ]
  },
  {
   "cell_type": "code",
   "execution_count": null,
   "id": "44f33708",
   "metadata": {},
   "outputs": [],
   "source": []
  },
  {
   "cell_type": "code",
   "execution_count": 104,
   "id": "8db70869",
   "metadata": {},
   "outputs": [],
   "source": [
    "with open(r\"C:\\Users\\Lenovo\\Desktop\\virat.webp\",'rb') as f:\n",
    "    \n",
    "    with open(r\"C:\\Users\\Lenovo\\Desktop\\virat_bhai_ka_copy.webp\",'wb') as nf:\n",
    "        nf.write(f.read())"
   ]
  },
  {
   "cell_type": "code",
   "execution_count": null,
   "id": "44c7b3dd",
   "metadata": {},
   "outputs": [],
   "source": []
  },
  {
   "cell_type": "code",
   "execution_count": 108,
   "id": "d2323180",
   "metadata": {},
   "outputs": [],
   "source": [
    "with open(r\"C:\\Users\\Lenovo\\Desktop\\RLS_DRLS.pbix\",'rb') as f:\n",
    "    with open(r\"C:\\Users\\Lenovo\\Desktop\\powerbi_copy.pbix\",'wb') as nf:\n",
    "        nf.write(f.read())"
   ]
  },
  {
   "cell_type": "code",
   "execution_count": 114,
   "id": "54aac132",
   "metadata": {},
   "outputs": [],
   "source": [
    "url = '''https://www.python.org/ftp/python/3.12.7/python-3.12.7-amd64.exe'''"
   ]
  },
  {
   "cell_type": "code",
   "execution_count": 115,
   "id": "44e8d4b8",
   "metadata": {},
   "outputs": [],
   "source": [
    "import requests"
   ]
  },
  {
   "cell_type": "code",
   "execution_count": 116,
   "id": "aa51d6de",
   "metadata": {},
   "outputs": [],
   "source": [
    "data = requests.get(url).content"
   ]
  },
  {
   "cell_type": "code",
   "execution_count": 117,
   "id": "06cabbf3",
   "metadata": {},
   "outputs": [
    {
     "name": "stdout",
     "output_type": "stream",
     "text": [
      "<class 'bytes'>\n"
     ]
    }
   ],
   "source": [
    "print(type(data))"
   ]
  },
  {
   "cell_type": "code",
   "execution_count": 120,
   "id": "2e40f1e8",
   "metadata": {},
   "outputs": [],
   "source": [
    "# data"
   ]
  },
  {
   "cell_type": "code",
   "execution_count": 121,
   "id": "3fe781f8",
   "metadata": {},
   "outputs": [],
   "source": [
    "with open(r\"C:\\Users\\Lenovo\\Desktop\\mera_python.exe\",'wb') as f:\n",
    "    f.write(data)"
   ]
  },
  {
   "cell_type": "code",
   "execution_count": 122,
   "id": "20ed8b98",
   "metadata": {},
   "outputs": [],
   "source": [
    "url = '''https://think360studio-media.s3.ap-south-1.amazonaws.com/download/india-flag-2021-wallpaper-1.png'''"
   ]
  },
  {
   "cell_type": "code",
   "execution_count": 123,
   "id": "b9aae8d3",
   "metadata": {},
   "outputs": [],
   "source": [
    "data = requests.get(url).content"
   ]
  },
  {
   "cell_type": "code",
   "execution_count": 124,
   "id": "20931c31",
   "metadata": {},
   "outputs": [],
   "source": [
    "with open(r\"C:\\Users\\Lenovo\\Desktop\\flag.png\",'wb') as f:\n",
    "    f.write(data)"
   ]
  },
  {
   "cell_type": "code",
   "execution_count": null,
   "id": "7141de55",
   "metadata": {},
   "outputs": [],
   "source": []
  },
  {
   "cell_type": "code",
   "execution_count": null,
   "id": "e292875e",
   "metadata": {},
   "outputs": [],
   "source": []
  },
  {
   "cell_type": "code",
   "execution_count": 127,
   "id": "63f8897f",
   "metadata": {},
   "outputs": [
    {
     "name": "stdout",
     "output_type": "stream",
     "text": [
      "Time taken:  73.15438961982727\n"
     ]
    }
   ],
   "source": [
    "import time\n",
    "\n",
    "start = time.time()\n",
    "url = '''https://picsum.photos/3000/2000'''\n",
    "\n",
    "for i in range(50):\n",
    "    data = requests.get(url).content\n",
    "    with open(f\"C:\\\\Users\\\\Lenovo\\\\Desktop\\\\random_images\\\\images_{i+1}.jpg\",'wb') as f:\n",
    "        f.write(data)\n",
    "        \n",
    "end = time.time()\n",
    "\n",
    "print('Time taken: ',end-start)"
   ]
  },
  {
   "cell_type": "code",
   "execution_count": 129,
   "id": "81cbd1ac",
   "metadata": {},
   "outputs": [],
   "source": [
    "# 100images = 140sec\n",
    "# 1k images = 1400 sec"
   ]
  },
  {
   "cell_type": "code",
   "execution_count": 130,
   "id": "9b73da87",
   "metadata": {},
   "outputs": [
    {
     "data": {
      "text/plain": [
       "23.333333333333332"
      ]
     },
     "execution_count": 130,
     "metadata": {},
     "output_type": "execute_result"
    }
   ],
   "source": [
    "1400/60"
   ]
  },
  {
   "cell_type": "code",
   "execution_count": 131,
   "id": "a20af193",
   "metadata": {},
   "outputs": [],
   "source": [
    "# open()"
   ]
  },
  {
   "cell_type": "code",
   "execution_count": null,
   "id": "2bedb238",
   "metadata": {},
   "outputs": [],
   "source": []
  }
 ],
 "metadata": {
  "kernelspec": {
   "display_name": "Python 3 (ipykernel)",
   "language": "python",
   "name": "python3"
  },
  "language_info": {
   "codemirror_mode": {
    "name": "ipython",
    "version": 3
   },
   "file_extension": ".py",
   "mimetype": "text/x-python",
   "name": "python",
   "nbconvert_exporter": "python",
   "pygments_lexer": "ipython3",
   "version": "3.11.3"
  }
 },
 "nbformat": 4,
 "nbformat_minor": 5
}
