{
 "cells": [
  {
   "cell_type": "code",
   "execution_count": 2,
   "id": "4eaaafa1",
   "metadata": {},
   "outputs": [],
   "source": [
    "# Softwares:\n",
    "#     Libraries:\n",
    "#         Modules:\n",
    "#             class programming(oops):\n",
    "#                 functional programming:\n",
    "#                     conditional programming:\n",
    "#                         loops, for, while, if else\n",
    "#                         break pas, continue\n",
    "#                         data types\n",
    "#                         op"
   ]
  },
  {
   "cell_type": "code",
   "execution_count": 28,
   "id": "17e70483",
   "metadata": {},
   "outputs": [
    {
     "name": "stdout",
     "output_type": "stream",
     "text": [
      "Hello Buddy!,How are you??\n"
     ]
    }
   ],
   "source": [
    "say_hello()"
   ]
  },
  {
   "cell_type": "code",
   "execution_count": 3,
   "id": "af0655e4",
   "metadata": {},
   "outputs": [
    {
     "name": "stdout",
     "output_type": "stream",
     "text": [
      "Hello Buddy!!\n"
     ]
    }
   ],
   "source": [
    "print('Hello Buddy!!')"
   ]
  },
  {
   "cell_type": "code",
   "execution_count": 4,
   "id": "45264f6f",
   "metadata": {},
   "outputs": [
    {
     "name": "stdout",
     "output_type": "stream",
     "text": [
      "Hello Buddy!!\n",
      "Hello Buddy!!\n",
      "Hello Buddy!!\n"
     ]
    }
   ],
   "source": [
    "print('Hello Buddy!!')\n",
    "print('Hello Buddy!!')\n",
    "print('Hello Buddy!!')"
   ]
  },
  {
   "cell_type": "code",
   "execution_count": 5,
   "id": "e56dde08",
   "metadata": {},
   "outputs": [
    {
     "name": "stdout",
     "output_type": "stream",
     "text": [
      "Hello Buddy!!\n",
      "Hello Buddy!!\n",
      "Hello Buddy!!\n",
      "Hello Buddy!!\n",
      "Hello Buddy!!\n",
      "Hello Buddy!!\n",
      "Hello Buddy!!\n",
      "Hello Buddy!!\n",
      "Hello Buddy!!\n",
      "Hello Buddy!!\n"
     ]
    }
   ],
   "source": [
    "for i in range(10):\n",
    "    print('Hello Buddy!!')    "
   ]
  },
  {
   "cell_type": "code",
   "execution_count": 6,
   "id": "a8827a98",
   "metadata": {},
   "outputs": [],
   "source": [
    "# def greet():\n",
    "#     code block"
   ]
  },
  {
   "cell_type": "code",
   "execution_count": 7,
   "id": "54f6be2e",
   "metadata": {},
   "outputs": [],
   "source": [
    "def greet():\n",
    "    print('Hello Buddy!!')    "
   ]
  },
  {
   "cell_type": "code",
   "execution_count": 8,
   "id": "86e0f427",
   "metadata": {},
   "outputs": [
    {
     "name": "stdout",
     "output_type": "stream",
     "text": [
      "Hello Buddy!!\n"
     ]
    }
   ],
   "source": [
    "greet()"
   ]
  },
  {
   "cell_type": "code",
   "execution_count": 9,
   "id": "4f1b4cab",
   "metadata": {},
   "outputs": [
    {
     "name": "stdout",
     "output_type": "stream",
     "text": [
      "Hello Buddy!!\n"
     ]
    }
   ],
   "source": [
    "greet()"
   ]
  },
  {
   "cell_type": "code",
   "execution_count": 11,
   "id": "edfa46ca",
   "metadata": {},
   "outputs": [],
   "source": [
    "# # functions:- defined set of code block, which created to\n",
    "# perform some action or task when it's required"
   ]
  },
  {
   "cell_type": "code",
   "execution_count": 12,
   "id": "fff6b92e",
   "metadata": {},
   "outputs": [],
   "source": [
    "# # func: user defined, inbuilt\n",
    "# inbuilt:- pre defined, \n",
    "# user defined:- created by user"
   ]
  },
  {
   "cell_type": "code",
   "execution_count": 13,
   "id": "3d6db397",
   "metadata": {},
   "outputs": [],
   "source": [
    "# print()\n",
    "# len()\n",
    "# round()\n",
    "# min()\n",
    "# any()\n",
    "# all()\n",
    "# exec()\n",
    "# eval()\n",
    "# etc...."
   ]
  },
  {
   "cell_type": "code",
   "execution_count": 15,
   "id": "c450ba16",
   "metadata": {},
   "outputs": [
    {
     "name": "stdout",
     "output_type": "stream",
     "text": [
      "['ArithmeticError', 'AssertionError', 'AttributeError', 'BaseException', 'BaseExceptionGroup', 'BlockingIOError', 'BrokenPipeError', 'BufferError', 'BytesWarning', 'ChildProcessError', 'ConnectionAbortedError', 'ConnectionError', 'ConnectionRefusedError', 'ConnectionResetError', 'DeprecationWarning', 'EOFError', 'Ellipsis', 'EncodingWarning', 'EnvironmentError', 'Exception', 'ExceptionGroup', 'False', 'FileExistsError', 'FileNotFoundError', 'FloatingPointError', 'FutureWarning', 'GeneratorExit', 'IOError', 'ImportError', 'ImportWarning', 'IndentationError', 'IndexError', 'InterruptedError', 'IsADirectoryError', 'KeyError', 'KeyboardInterrupt', 'LookupError', 'MemoryError', 'ModuleNotFoundError', 'NameError', 'None', 'NotADirectoryError', 'NotImplemented', 'NotImplementedError', 'OSError', 'OverflowError', 'PendingDeprecationWarning', 'PermissionError', 'ProcessLookupError', 'RecursionError', 'ReferenceError', 'ResourceWarning', 'RuntimeError', 'RuntimeWarning', 'StopAsyncIteration', 'StopIteration', 'SyntaxError', 'SyntaxWarning', 'SystemError', 'SystemExit', 'TabError', 'TimeoutError', 'True', 'TypeError', 'UnboundLocalError', 'UnicodeDecodeError', 'UnicodeEncodeError', 'UnicodeError', 'UnicodeTranslateError', 'UnicodeWarning', 'UserWarning', 'ValueError', 'Warning', 'WindowsError', 'ZeroDivisionError', '__IPYTHON__', '__build_class__', '__debug__', '__doc__', '__import__', '__loader__', '__name__', '__package__', '__spec__', 'abs', 'aiter', 'all', 'anext', 'any', 'ascii', 'bin', 'bool', 'breakpoint', 'bytearray', 'bytes', 'callable', 'chr', 'classmethod', 'compile', 'complex', 'copyright', 'credits', 'delattr', 'dict', 'dir', 'display', 'divmod', 'enumerate', 'eval', 'exec', 'execfile', 'filter', 'float', 'format', 'frozenset', 'get_ipython', 'getattr', 'globals', 'hasattr', 'hash', 'help', 'hex', 'id', 'input', 'int', 'isinstance', 'issubclass', 'iter', 'len', 'license', 'list', 'locals', 'map', 'max', 'memoryview', 'min', 'next', 'object', 'oct', 'open', 'ord', 'pow', 'print', 'property', 'range', 'repr', 'reversed', 'round', 'runfile', 'set', 'setattr', 'slice', 'sorted', 'staticmethod', 'str', 'sum', 'super', 'tuple', 'type', 'vars', 'zip']\n"
     ]
    }
   ],
   "source": [
    "print(dir(__builtins__))"
   ]
  },
  {
   "cell_type": "code",
   "execution_count": 16,
   "id": "cc7fc983",
   "metadata": {},
   "outputs": [],
   "source": [
    "# input()"
   ]
  },
  {
   "cell_type": "code",
   "execution_count": 17,
   "id": "b9890572",
   "metadata": {},
   "outputs": [],
   "source": [
    "a = 34"
   ]
  },
  {
   "cell_type": "code",
   "execution_count": 18,
   "id": "1cce1052",
   "metadata": {},
   "outputs": [
    {
     "data": {
      "text/plain": [
       "'34'"
      ]
     },
     "execution_count": 18,
     "metadata": {},
     "output_type": "execute_result"
    }
   ],
   "source": [
    "str(a)"
   ]
  },
  {
   "cell_type": "code",
   "execution_count": 19,
   "id": "3d4e816a",
   "metadata": {},
   "outputs": [],
   "source": [
    "# int()\n",
    "# list()\n",
    "# float()\n",
    "# complex()\n",
    "# set()\n",
    "# tuple()\n",
    "# dict()\n",
    "# frozenset()\n",
    "# str()\n",
    "# bool()\n",
    "# # "
   ]
  },
  {
   "cell_type": "code",
   "execution_count": 20,
   "id": "590cdf66",
   "metadata": {},
   "outputs": [
    {
     "data": {
      "text/plain": [
       "2"
      ]
     },
     "execution_count": 20,
     "metadata": {},
     "output_type": "execute_result"
    }
   ],
   "source": [
    "a = [2,34,32,13546,3256]\n",
    "\n",
    "min(a)"
   ]
  },
  {
   "cell_type": "code",
   "execution_count": 21,
   "id": "d9218227",
   "metadata": {},
   "outputs": [
    {
     "data": {
      "text/plain": [
       "13546"
      ]
     },
     "execution_count": 21,
     "metadata": {},
     "output_type": "execute_result"
    }
   ],
   "source": [
    "max(a)"
   ]
  },
  {
   "cell_type": "code",
   "execution_count": 22,
   "id": "bdf5689e",
   "metadata": {},
   "outputs": [
    {
     "data": {
      "text/plain": [
       "16870"
      ]
     },
     "execution_count": 22,
     "metadata": {},
     "output_type": "execute_result"
    }
   ],
   "source": [
    "sum(a)"
   ]
  },
  {
   "cell_type": "code",
   "execution_count": 24,
   "id": "e2c540eb",
   "metadata": {},
   "outputs": [
    {
     "data": {
      "text/plain": [
       "5"
      ]
     },
     "execution_count": 24,
     "metadata": {},
     "output_type": "execute_result"
    }
   ],
   "source": [
    "len(a)"
   ]
  },
  {
   "cell_type": "code",
   "execution_count": 25,
   "id": "5f5ab87c",
   "metadata": {},
   "outputs": [],
   "source": [
    "# user defined func"
   ]
  },
  {
   "cell_type": "code",
   "execution_count": 26,
   "id": "0b4b2e9b",
   "metadata": {},
   "outputs": [],
   "source": [
    "# define declare\n",
    "def say_hello():\n",
    "    print('Hello Buddy!,How are you??')"
   ]
  },
  {
   "cell_type": "code",
   "execution_count": 27,
   "id": "5fea164a",
   "metadata": {},
   "outputs": [
    {
     "name": "stdout",
     "output_type": "stream",
     "text": [
      "Hello Buddy!,How are you??\n"
     ]
    }
   ],
   "source": [
    "say_hello()"
   ]
  },
  {
   "cell_type": "code",
   "execution_count": 33,
   "id": "6290167b",
   "metadata": {},
   "outputs": [],
   "source": [
    "def hello():\n",
    "    rint(naman)"
   ]
  },
  {
   "cell_type": "code",
   "execution_count": 34,
   "id": "06774c04",
   "metadata": {},
   "outputs": [
    {
     "ename": "NameError",
     "evalue": "name 'rint' is not defined",
     "output_type": "error",
     "traceback": [
      "\u001b[1;31m---------------------------------------------------------------------------\u001b[0m",
      "\u001b[1;31mNameError\u001b[0m                                 Traceback (most recent call last)",
      "Cell \u001b[1;32mIn[34], line 1\u001b[0m\n\u001b[1;32m----> 1\u001b[0m hello()\n",
      "Cell \u001b[1;32mIn[33], line 2\u001b[0m, in \u001b[0;36mhello\u001b[1;34m()\u001b[0m\n\u001b[0;32m      1\u001b[0m \u001b[38;5;28;01mdef\u001b[39;00m \u001b[38;5;21mhello\u001b[39m():\n\u001b[1;32m----> 2\u001b[0m     rint(naman)\n",
      "\u001b[1;31mNameError\u001b[0m: name 'rint' is not defined"
     ]
    }
   ],
   "source": [
    "hello()"
   ]
  },
  {
   "cell_type": "code",
   "execution_count": 58,
   "id": "43490814",
   "metadata": {},
   "outputs": [],
   "source": [
    "# func with parameter\n",
    "# func without parameter\n",
    "# func with arguments\n",
    "# func without arguments\n",
    "# print vs return\n",
    "# func docstring\n",
    "# data type declare\n",
    "# default arguments\n",
    "# *args\n",
    "# **kwargs\n",
    "# nested func\n",
    "# scope in Python(variable scope)\n",
    "# some important funcs\n",
    "# recursive func\n",
    "# decorator\n",
    "# generator\n",
    "# lambda: map, filter, reduce\n"
   ]
  },
  {
   "cell_type": "code",
   "execution_count": null,
   "id": "92e1fb9b",
   "metadata": {},
   "outputs": [],
   "source": []
  },
  {
   "cell_type": "code",
   "execution_count": 37,
   "id": "370e8504",
   "metadata": {},
   "outputs": [],
   "source": [
    "# func with parameter\n",
    "# func without parameter\n",
    "# func with arguments\n",
    "# func without arguments\n",
    "# print vs return"
   ]
  },
  {
   "cell_type": "code",
   "execution_count": 38,
   "id": "165b1c79",
   "metadata": {},
   "outputs": [
    {
     "data": {
      "text/plain": [
       "1"
      ]
     },
     "execution_count": 38,
     "metadata": {},
     "output_type": "execute_result"
    }
   ],
   "source": [
    "min([1,24354,6])"
   ]
  },
  {
   "cell_type": "code",
   "execution_count": 40,
   "id": "aed7e1b6",
   "metadata": {},
   "outputs": [
    {
     "name": "stdout",
     "output_type": "stream",
     "text": [
      "Hello Buddy!,How are you??\n"
     ]
    }
   ],
   "source": [
    "say_hello()"
   ]
  },
  {
   "cell_type": "code",
   "execution_count": 41,
   "id": "c4a5f9b9",
   "metadata": {},
   "outputs": [
    {
     "ename": "TypeError",
     "evalue": "say_hello() takes 0 positional arguments but 1 was given",
     "output_type": "error",
     "traceback": [
      "\u001b[1;31m---------------------------------------------------------------------------\u001b[0m",
      "\u001b[1;31mTypeError\u001b[0m                                 Traceback (most recent call last)",
      "Cell \u001b[1;32mIn[41], line 1\u001b[0m\n\u001b[1;32m----> 1\u001b[0m say_hello(\u001b[38;5;124m'\u001b[39m\u001b[38;5;124mkomal\u001b[39m\u001b[38;5;124m'\u001b[39m)\n",
      "\u001b[1;31mTypeError\u001b[0m: say_hello() takes 0 positional arguments but 1 was given"
     ]
    }
   ],
   "source": [
    "say_hello('komal')"
   ]
  },
  {
   "cell_type": "code",
   "execution_count": null,
   "id": "7e9f0768",
   "metadata": {},
   "outputs": [],
   "source": []
  },
  {
   "cell_type": "code",
   "execution_count": 43,
   "id": "451ee2fe",
   "metadata": {},
   "outputs": [],
   "source": [
    "def greet():  # without parameter\n",
    "    print('Hello dear, Hope everything is good')"
   ]
  },
  {
   "cell_type": "code",
   "execution_count": 44,
   "id": "b658ab89",
   "metadata": {},
   "outputs": [
    {
     "name": "stdout",
     "output_type": "stream",
     "text": [
      "Hello dear, Hope everything is good\n"
     ]
    }
   ],
   "source": [
    "greet()  # without arguments"
   ]
  },
  {
   "cell_type": "code",
   "execution_count": null,
   "id": "87972a19",
   "metadata": {},
   "outputs": [],
   "source": []
  },
  {
   "cell_type": "code",
   "execution_count": 45,
   "id": "51b97b3d",
   "metadata": {},
   "outputs": [],
   "source": [
    "def greet_him():\n",
    "    name = input('Enter your name: ')\n",
    "    print(f'Hello {name}, how are you?')"
   ]
  },
  {
   "cell_type": "code",
   "execution_count": 47,
   "id": "44fa6933",
   "metadata": {},
   "outputs": [
    {
     "name": "stdout",
     "output_type": "stream",
     "text": [
      "Enter your name: Komal\n",
      "Hello Komal, how are you?\n"
     ]
    }
   ],
   "source": [
    "greet_him()"
   ]
  },
  {
   "cell_type": "code",
   "execution_count": null,
   "id": "68eecf79",
   "metadata": {},
   "outputs": [],
   "source": []
  },
  {
   "cell_type": "code",
   "execution_count": 48,
   "id": "fdc7e075",
   "metadata": {},
   "outputs": [],
   "source": [
    "def greet_him(name):  # with parameter\n",
    "    print(f'Hello {name}, how are you?')"
   ]
  },
  {
   "cell_type": "code",
   "execution_count": 50,
   "id": "bb715b73",
   "metadata": {},
   "outputs": [
    {
     "name": "stdout",
     "output_type": "stream",
     "text": [
      "Hello Jatin, how are you?\n"
     ]
    }
   ],
   "source": [
    "greet_him('Jatin')"
   ]
  },
  {
   "cell_type": "code",
   "execution_count": 52,
   "id": "6e009ca2",
   "metadata": {},
   "outputs": [
    {
     "name": "stdout",
     "output_type": "stream",
     "text": [
      "Hello Mohan, how are you?\n"
     ]
    }
   ],
   "source": [
    "greet_him('Mohan')   # with arguments"
   ]
  },
  {
   "cell_type": "code",
   "execution_count": 53,
   "id": "f7af7a86",
   "metadata": {},
   "outputs": [],
   "source": [
    "# print vs return"
   ]
  },
  {
   "cell_type": "code",
   "execution_count": 54,
   "id": "fca81a85",
   "metadata": {},
   "outputs": [],
   "source": [
    "def introduction(name,age,salary,add):\n",
    "    print(f'Your Name is {name}')\n",
    "    print(f'Your Age is {age}')  \n",
    "    print(f'Your Salary is {salary}')   \n",
    "    print(f'Your Address is {add}')    "
   ]
  },
  {
   "cell_type": "code",
   "execution_count": 56,
   "id": "4414880b",
   "metadata": {},
   "outputs": [
    {
     "name": "stdout",
     "output_type": "stream",
     "text": [
      "Your Name is Lucky\n",
      "Your Age is 23\n",
      "Your Salary is 98765\n",
      "Your Address is Noida\n"
     ]
    }
   ],
   "source": [
    "introduction('Lucky',23,98765,'Noida')"
   ]
  },
  {
   "cell_type": "code",
   "execution_count": 57,
   "id": "94d92acc",
   "metadata": {},
   "outputs": [
    {
     "name": "stdout",
     "output_type": "stream",
     "text": [
      "Your Name is Noida\n",
      "Your Age is 23\n",
      "Your Salary is 98765\n",
      "Your Address is Mohan\n"
     ]
    }
   ],
   "source": [
    "introduction('Noida',23,98765,'Mohan')  # many params/many args"
   ]
  },
  {
   "cell_type": "code",
   "execution_count": 59,
   "id": "9b88a952",
   "metadata": {},
   "outputs": [],
   "source": [
    "# print vs return"
   ]
  },
  {
   "cell_type": "code",
   "execution_count": 60,
   "id": "70199772",
   "metadata": {},
   "outputs": [],
   "source": [
    "def add(n1,n2):\n",
    "    print(n1 + n2)  # to display the output/result"
   ]
  },
  {
   "cell_type": "code",
   "execution_count": 61,
   "id": "2b8e9f8c",
   "metadata": {},
   "outputs": [
    {
     "name": "stdout",
     "output_type": "stream",
     "text": [
      "34\n"
     ]
    }
   ],
   "source": [
    "add(10,24)"
   ]
  },
  {
   "cell_type": "code",
   "execution_count": 62,
   "id": "c4ad3090",
   "metadata": {},
   "outputs": [
    {
     "name": "stdout",
     "output_type": "stream",
     "text": [
      "34\n"
     ]
    },
    {
     "ename": "TypeError",
     "evalue": "unsupported operand type(s) for +: 'NoneType' and 'int'",
     "output_type": "error",
     "traceback": [
      "\u001b[1;31m---------------------------------------------------------------------------\u001b[0m",
      "\u001b[1;31mTypeError\u001b[0m                                 Traceback (most recent call last)",
      "Cell \u001b[1;32mIn[62], line 1\u001b[0m\n\u001b[1;32m----> 1\u001b[0m add(\u001b[38;5;241m10\u001b[39m,\u001b[38;5;241m24\u001b[39m)\u001b[38;5;241m+\u001b[39m\u001b[38;5;241m100\u001b[39m\n",
      "\u001b[1;31mTypeError\u001b[0m: unsupported operand type(s) for +: 'NoneType' and 'int'"
     ]
    }
   ],
   "source": [
    "add(10,24)+100"
   ]
  },
  {
   "cell_type": "code",
   "execution_count": 63,
   "id": "5547dbc7",
   "metadata": {},
   "outputs": [
    {
     "ename": "TypeError",
     "evalue": "unsupported operand type(s) for +: 'NoneType' and 'int'",
     "output_type": "error",
     "traceback": [
      "\u001b[1;31m---------------------------------------------------------------------------\u001b[0m",
      "\u001b[1;31mTypeError\u001b[0m                                 Traceback (most recent call last)",
      "Cell \u001b[1;32mIn[63], line 1\u001b[0m\n\u001b[1;32m----> 1\u001b[0m \u001b[38;5;28;01mNone\u001b[39;00m \u001b[38;5;241m+\u001b[39m \u001b[38;5;241m12\u001b[39m\n",
      "\u001b[1;31mTypeError\u001b[0m: unsupported operand type(s) for +: 'NoneType' and 'int'"
     ]
    }
   ],
   "source": [
    "None + 12"
   ]
  },
  {
   "cell_type": "code",
   "execution_count": 64,
   "id": "b91cd6ef",
   "metadata": {},
   "outputs": [
    {
     "name": "stdout",
     "output_type": "stream",
     "text": [
      "36\n"
     ]
    }
   ],
   "source": [
    "add(13,23)"
   ]
  },
  {
   "cell_type": "code",
   "execution_count": 66,
   "id": "232f58e5",
   "metadata": {},
   "outputs": [
    {
     "name": "stdout",
     "output_type": "stream",
     "text": [
      "36\n"
     ]
    },
    {
     "data": {
      "text/plain": [
       "NoneType"
      ]
     },
     "execution_count": 66,
     "metadata": {},
     "output_type": "execute_result"
    }
   ],
   "source": [
    "type(print(13+23))"
   ]
  },
  {
   "cell_type": "code",
   "execution_count": 67,
   "id": "9a7e62c4",
   "metadata": {},
   "outputs": [
    {
     "ename": "TypeError",
     "evalue": "unsupported operand type(s) for +: 'NoneType' and 'int'",
     "output_type": "error",
     "traceback": [
      "\u001b[1;31m---------------------------------------------------------------------------\u001b[0m",
      "\u001b[1;31mTypeError\u001b[0m                                 Traceback (most recent call last)",
      "Cell \u001b[1;32mIn[67], line 1\u001b[0m\n\u001b[1;32m----> 1\u001b[0m \u001b[38;5;28;01mNone\u001b[39;00m \u001b[38;5;241m+\u001b[39m \u001b[38;5;241m100\u001b[39m\n",
      "\u001b[1;31mTypeError\u001b[0m: unsupported operand type(s) for +: 'NoneType' and 'int'"
     ]
    }
   ],
   "source": [
    "None + 100"
   ]
  },
  {
   "cell_type": "code",
   "execution_count": 68,
   "id": "f7e61dd7",
   "metadata": {},
   "outputs": [
    {
     "name": "stdout",
     "output_type": "stream",
     "text": [
      "\n"
     ]
    },
    {
     "ename": "TypeError",
     "evalue": "unsupported operand type(s) for +: 'NoneType' and 'int'",
     "output_type": "error",
     "traceback": [
      "\u001b[1;31m---------------------------------------------------------------------------\u001b[0m",
      "\u001b[1;31mTypeError\u001b[0m                                 Traceback (most recent call last)",
      "Cell \u001b[1;32mIn[68], line 1\u001b[0m\n\u001b[1;32m----> 1\u001b[0m \u001b[38;5;28mprint\u001b[39m() \u001b[38;5;241m+\u001b[39m \u001b[38;5;241m100\u001b[39m\n",
      "\u001b[1;31mTypeError\u001b[0m: unsupported operand type(s) for +: 'NoneType' and 'int'"
     ]
    }
   ],
   "source": [
    "print() + 100"
   ]
  },
  {
   "cell_type": "code",
   "execution_count": 70,
   "id": "bfb1d689",
   "metadata": {},
   "outputs": [],
   "source": [
    "# return:- an object, at output, and we can perform any operation with it"
   ]
  },
  {
   "cell_type": "code",
   "execution_count": 71,
   "id": "8d504726",
   "metadata": {},
   "outputs": [],
   "source": [
    "def add_v2(n1,n2):\n",
    "    return n1+n2"
   ]
  },
  {
   "cell_type": "code",
   "execution_count": 72,
   "id": "44bfbc1e",
   "metadata": {},
   "outputs": [
    {
     "data": {
      "text/plain": [
       "22"
      ]
     },
     "execution_count": 72,
     "metadata": {},
     "output_type": "execute_result"
    }
   ],
   "source": [
    "add_v2(12,10)"
   ]
  },
  {
   "cell_type": "code",
   "execution_count": 73,
   "id": "ba13b2e3",
   "metadata": {},
   "outputs": [
    {
     "data": {
      "text/plain": [
       "122"
      ]
     },
     "execution_count": 73,
     "metadata": {},
     "output_type": "execute_result"
    }
   ],
   "source": [
    "add_v2(12,10) + 100"
   ]
  },
  {
   "cell_type": "code",
   "execution_count": 83,
   "id": "70fc6af4",
   "metadata": {},
   "outputs": [],
   "source": [
    "def add_two_list(l1,l2):\n",
    "    print(l1+l2)"
   ]
  },
  {
   "cell_type": "code",
   "execution_count": 84,
   "id": "21c67f3e",
   "metadata": {},
   "outputs": [
    {
     "name": "stdout",
     "output_type": "stream",
     "text": [
      "[12, 45, 4, 23, 54, 6]\n",
      "None\n"
     ]
    },
    {
     "ename": "AttributeError",
     "evalue": "'NoneType' object has no attribute 'append'",
     "output_type": "error",
     "traceback": [
      "\u001b[1;31m---------------------------------------------------------------------------\u001b[0m",
      "\u001b[1;31mAttributeError\u001b[0m                            Traceback (most recent call last)",
      "Cell \u001b[1;32mIn[84], line 3\u001b[0m\n\u001b[0;32m      1\u001b[0m ans \u001b[38;5;241m=\u001b[39m add_two_list([\u001b[38;5;241m12\u001b[39m,\u001b[38;5;241m45\u001b[39m,\u001b[38;5;241m4\u001b[39m],[\u001b[38;5;241m23\u001b[39m,\u001b[38;5;241m54\u001b[39m,\u001b[38;5;241m6\u001b[39m])\n\u001b[0;32m      2\u001b[0m \u001b[38;5;28mprint\u001b[39m(ans)\n\u001b[1;32m----> 3\u001b[0m ans\u001b[38;5;241m.\u001b[39mappend(\u001b[38;5;241m1000\u001b[39m)\n",
      "\u001b[1;31mAttributeError\u001b[0m: 'NoneType' object has no attribute 'append'"
     ]
    }
   ],
   "source": [
    "ans = add_two_list([12,45,4],[23,54,6])\n",
    "print(ans)\n",
    "ans.append(1000)"
   ]
  },
  {
   "cell_type": "code",
   "execution_count": 85,
   "id": "9c3d6ce6",
   "metadata": {},
   "outputs": [],
   "source": [
    "ans"
   ]
  },
  {
   "cell_type": "code",
   "execution_count": 86,
   "id": "42f464e8",
   "metadata": {},
   "outputs": [
    {
     "ename": "AttributeError",
     "evalue": "'NoneType' object has no attribute 'append'",
     "output_type": "error",
     "traceback": [
      "\u001b[1;31m---------------------------------------------------------------------------\u001b[0m",
      "\u001b[1;31mAttributeError\u001b[0m                            Traceback (most recent call last)",
      "Cell \u001b[1;32mIn[86], line 1\u001b[0m\n\u001b[1;32m----> 1\u001b[0m \u001b[38;5;28;01mNone\u001b[39;00m\u001b[38;5;241m.\u001b[39mappend(\u001b[38;5;241m1\u001b[39m)\n",
      "\u001b[1;31mAttributeError\u001b[0m: 'NoneType' object has no attribute 'append'"
     ]
    }
   ],
   "source": [
    "None.append(1)"
   ]
  },
  {
   "cell_type": "code",
   "execution_count": 87,
   "id": "14c09546",
   "metadata": {},
   "outputs": [
    {
     "name": "stdout",
     "output_type": "stream",
     "text": [
      "\n"
     ]
    },
    {
     "ename": "AttributeError",
     "evalue": "'NoneType' object has no attribute 'append'",
     "output_type": "error",
     "traceback": [
      "\u001b[1;31m---------------------------------------------------------------------------\u001b[0m",
      "\u001b[1;31mAttributeError\u001b[0m                            Traceback (most recent call last)",
      "Cell \u001b[1;32mIn[87], line 1\u001b[0m\n\u001b[1;32m----> 1\u001b[0m \u001b[38;5;28mprint\u001b[39m()\u001b[38;5;241m.\u001b[39mappend(\u001b[38;5;241m123\u001b[39m)\n",
      "\u001b[1;31mAttributeError\u001b[0m: 'NoneType' object has no attribute 'append'"
     ]
    }
   ],
   "source": [
    "print().append(123)"
   ]
  },
  {
   "cell_type": "code",
   "execution_count": 88,
   "id": "d84de657",
   "metadata": {},
   "outputs": [],
   "source": [
    "def add_two_list(l1,l2):\n",
    "    return l1+l2"
   ]
  },
  {
   "cell_type": "code",
   "execution_count": 92,
   "id": "a2c63339",
   "metadata": {},
   "outputs": [],
   "source": [
    "# print()\n",
    "# return "
   ]
  },
  {
   "cell_type": "code",
   "execution_count": 93,
   "id": "33ac50aa",
   "metadata": {},
   "outputs": [
    {
     "ename": "SyntaxError",
     "evalue": "invalid syntax (1493432099.py, line 1)",
     "output_type": "error",
     "traceback": [
      "\u001b[1;36m  Cell \u001b[1;32mIn[93], line 1\u001b[1;36m\u001b[0m\n\u001b[1;33m    type(return)\u001b[0m\n\u001b[1;37m         ^\u001b[0m\n\u001b[1;31mSyntaxError\u001b[0m\u001b[1;31m:\u001b[0m invalid syntax\n"
     ]
    }
   ],
   "source": [
    "type(return)"
   ]
  },
  {
   "cell_type": "code",
   "execution_count": 91,
   "id": "db7a8ce0",
   "metadata": {},
   "outputs": [
    {
     "data": {
      "text/plain": [
       "builtin_function_or_method"
      ]
     },
     "execution_count": 91,
     "metadata": {},
     "output_type": "execute_result"
    }
   ],
   "source": [
    "type(print)"
   ]
  },
  {
   "cell_type": "code",
   "execution_count": 94,
   "id": "c1663acc",
   "metadata": {},
   "outputs": [
    {
     "data": {
      "text/plain": [
       "builtin_function_or_method"
      ]
     },
     "execution_count": 94,
     "metadata": {},
     "output_type": "execute_result"
    }
   ],
   "source": [
    "a = []\n",
    "type(a.append)"
   ]
  },
  {
   "cell_type": "code",
   "execution_count": 95,
   "id": "af8bf36f",
   "metadata": {},
   "outputs": [
    {
     "data": {
      "text/plain": [
       "function"
      ]
     },
     "execution_count": 95,
     "metadata": {},
     "output_type": "execute_result"
    }
   ],
   "source": [
    "type(say_hello)"
   ]
  },
  {
   "cell_type": "code",
   "execution_count": 96,
   "id": "75decb1b",
   "metadata": {},
   "outputs": [],
   "source": [
    "# print()\n",
    "# min()\n",
    "# len()"
   ]
  },
  {
   "cell_type": "code",
   "execution_count": null,
   "id": "9a3da08e",
   "metadata": {},
   "outputs": [],
   "source": [
    "introduction()"
   ]
  },
  {
   "cell_type": "code",
   "execution_count": null,
   "id": "4ea1f719",
   "metadata": {},
   "outputs": [],
   "source": []
  },
  {
   "cell_type": "code",
   "execution_count": 100,
   "id": "9b550884",
   "metadata": {},
   "outputs": [],
   "source": [
    "def introduction(name,age,salary,add):\n",
    "    '''This is an Introduction func,\n",
    "    created by user, you have to give some arguments,\n",
    "    it will return a wonderful message'''\n",
    "    \n",
    "    print(f'Your Name is {name}')\n",
    "    print(f'Your Age is {age}')  \n",
    "    print(f'Your Salary is {salary}')   \n",
    "    print(f'Your Address is {add}')    "
   ]
  },
  {
   "cell_type": "code",
   "execution_count": null,
   "id": "ddaea1b4",
   "metadata": {},
   "outputs": [],
   "source": []
  },
  {
   "cell_type": "code",
   "execution_count": null,
   "id": "1fd712f0",
   "metadata": {},
   "outputs": [],
   "source": []
  },
  {
   "cell_type": "code",
   "execution_count": 102,
   "id": "d93e0a85",
   "metadata": {},
   "outputs": [],
   "source": [
    "# introduction()"
   ]
  },
  {
   "cell_type": "code",
   "execution_count": 103,
   "id": "4cbd63eb",
   "metadata": {},
   "outputs": [],
   "source": [
    "# data type declare\n",
    "# default arguments\n",
    "# *args\n",
    "# **kwargs\n",
    "# nested func\n",
    "# scope in Python(variable scope)"
   ]
  },
  {
   "cell_type": "code",
   "execution_count": 104,
   "id": "eb16ceb9",
   "metadata": {},
   "outputs": [
    {
     "name": "stdout",
     "output_type": "stream",
     "text": [
      "<class 'int'>\n"
     ]
    }
   ],
   "source": [
    "# dynamic \n",
    "\n",
    "a = 45\n",
    "print(type(a))"
   ]
  },
  {
   "cell_type": "code",
   "execution_count": 106,
   "id": "042ebf26",
   "metadata": {},
   "outputs": [],
   "source": [
    "# int a = 34\n",
    "# print(type(a))"
   ]
  },
  {
   "cell_type": "code",
   "execution_count": 107,
   "id": "0a339a46",
   "metadata": {},
   "outputs": [
    {
     "name": "stdout",
     "output_type": "stream",
     "text": [
      "98\n"
     ]
    }
   ],
   "source": [
    "a:int  = 98\n",
    "print(a)"
   ]
  },
  {
   "cell_type": "code",
   "execution_count": 108,
   "id": "f51cc368",
   "metadata": {},
   "outputs": [
    {
     "name": "stdout",
     "output_type": "stream",
     "text": [
      "98\n"
     ]
    }
   ],
   "source": [
    "a:int  = '98'\n",
    "print(a)"
   ]
  },
  {
   "cell_type": "code",
   "execution_count": 110,
   "id": "20cfe69c",
   "metadata": {},
   "outputs": [
    {
     "name": "stdout",
     "output_type": "stream",
     "text": [
      "<class 'str'>\n"
     ]
    }
   ],
   "source": [
    "print(type(a))"
   ]
  },
  {
   "cell_type": "code",
   "execution_count": null,
   "id": "e66296ae",
   "metadata": {},
   "outputs": [],
   "source": []
  },
  {
   "cell_type": "code",
   "execution_count": 111,
   "id": "a76cd4b6",
   "metadata": {},
   "outputs": [],
   "source": [
    "# args:- dtype\n",
    "\n",
    "def introduction(name:str,\n",
    "                 age:int,\n",
    "                 salary:float,\n",
    "                 add:str):\n",
    "    '''This is an Introduction func,\n",
    "    created by user, you have to give some arguments,\n",
    "    it will return a wonderful message'''\n",
    "    \n",
    "    print(f'Your Name is {name}')\n",
    "    print(f'Your Age is {age}')  \n",
    "    print(f'Your Salary is {salary}')   \n",
    "    print(f'Your Address is {add}')    "
   ]
  },
  {
   "cell_type": "code",
   "execution_count": 112,
   "id": "e2f9e3bc",
   "metadata": {},
   "outputs": [
    {
     "name": "stdout",
     "output_type": "stream",
     "text": [
      "Your Name is [12, 43, 5]\n",
      "Your Age is 34\n",
      "Your Salary is 345\n",
      "Your Address is Goa\n"
     ]
    }
   ],
   "source": [
    "introduction([12,43,5],34,345,'Goa')"
   ]
  },
  {
   "cell_type": "code",
   "execution_count": null,
   "id": "9a668463",
   "metadata": {},
   "outputs": [],
   "source": []
  },
  {
   "cell_type": "code",
   "execution_count": 116,
   "id": "edbee8e2",
   "metadata": {},
   "outputs": [],
   "source": [
    "# args:- dtype\n",
    "\n",
    "def introduction(name:'Idhar name bharna hai',\n",
    "                 age:'int',\n",
    "                 salary:'float',\n",
    "                 add:'str'):\n",
    "    '''This is an Introduction func,\n",
    "    created by user, you have to give some arguments,\n",
    "    it will return a wonderful message'''\n",
    "    \n",
    "    print(f'Your Name is {name}')\n",
    "    print(f'Your Age is {age}')  \n",
    "    print(f'Your Salary is {salary}')   \n",
    "    print(f'Your Address is {add}')    "
   ]
  },
  {
   "cell_type": "code",
   "execution_count": 115,
   "id": "e3fa6395",
   "metadata": {},
   "outputs": [
    {
     "ename": "TypeError",
     "evalue": "introduction() missing 4 required positional arguments: 'name', 'age', 'salary', and 'add'",
     "output_type": "error",
     "traceback": [
      "\u001b[1;31m---------------------------------------------------------------------------\u001b[0m",
      "\u001b[1;31mTypeError\u001b[0m                                 Traceback (most recent call last)",
      "Cell \u001b[1;32mIn[115], line 1\u001b[0m\n\u001b[1;32m----> 1\u001b[0m introduction()\n",
      "\u001b[1;31mTypeError\u001b[0m: introduction() missing 4 required positional arguments: 'name', 'age', 'salary', and 'add'"
     ]
    }
   ],
   "source": [
    "introduction()"
   ]
  },
  {
   "cell_type": "code",
   "execution_count": 117,
   "id": "75ab59a4",
   "metadata": {},
   "outputs": [
    {
     "data": {
      "text/plain": [
       "2957847224032"
      ]
     },
     "execution_count": 117,
     "metadata": {},
     "output_type": "execute_result"
    }
   ],
   "source": [
    "id(introduction)"
   ]
  },
  {
   "cell_type": "code",
   "execution_count": 119,
   "id": "00502bb5",
   "metadata": {},
   "outputs": [],
   "source": [
    "# args:- dtype\n",
    "\n",
    "def introduction(name:'Idhar name bharna hai',\n",
    "                 age:'int',\n",
    "                 salary:'float',\n",
    "                 add:'str')->  None:\n",
    "    '''This is an Introduction func,\n",
    "    created by user, you have to give some arguments,\n",
    "    it will return a wonderful message'''\n",
    "    \n",
    "    print(f'Your Name is {name}')\n",
    "    print(f'Your Age is {age}')  \n",
    "    print(f'Your Salary is {salary}')   \n",
    "    print(f'Your Address is {add}')    "
   ]
  },
  {
   "cell_type": "code",
   "execution_count": null,
   "id": "ff840520",
   "metadata": {},
   "outputs": [],
   "source": [
    "introduction()"
   ]
  },
  {
   "cell_type": "code",
   "execution_count": null,
   "id": "ff52af7b",
   "metadata": {},
   "outputs": [],
   "source": []
  },
  {
   "cell_type": "code",
   "execution_count": 121,
   "id": "22182956",
   "metadata": {},
   "outputs": [],
   "source": [
    "#  default arguments\n",
    "# *args\n",
    "# **kwargs\n",
    "# nested func"
   ]
  },
  {
   "cell_type": "code",
   "execution_count": 122,
   "id": "7b225b61",
   "metadata": {},
   "outputs": [],
   "source": [
    "# args:- dtype\n",
    "\n",
    "def introduction(name,age,salary,add)->  None:\n",
    "    '''This is an Introduction func,\n",
    "    created by user, you have to give some arguments,\n",
    "    it will return a wonderful message'''\n",
    "    \n",
    "    print(f'Your Name is {name}')\n",
    "    print(f'Your Age is {age}')  \n",
    "    print(f'Your Salary is {salary}')   \n",
    "    print(f'Your Address is {add}')    "
   ]
  },
  {
   "cell_type": "code",
   "execution_count": 123,
   "id": "c695163d",
   "metadata": {},
   "outputs": [
    {
     "ename": "TypeError",
     "evalue": "introduction() missing 4 required positional arguments: 'name', 'age', 'salary', and 'add'",
     "output_type": "error",
     "traceback": [
      "\u001b[1;31m---------------------------------------------------------------------------\u001b[0m",
      "\u001b[1;31mTypeError\u001b[0m                                 Traceback (most recent call last)",
      "Cell \u001b[1;32mIn[123], line 1\u001b[0m\n\u001b[1;32m----> 1\u001b[0m introduction()\n",
      "\u001b[1;31mTypeError\u001b[0m: introduction() missing 4 required positional arguments: 'name', 'age', 'salary', and 'add'"
     ]
    }
   ],
   "source": [
    "introduction()"
   ]
  },
  {
   "cell_type": "code",
   "execution_count": 124,
   "id": "627f7db0",
   "metadata": {},
   "outputs": [],
   "source": [
    "# default arguments"
   ]
  },
  {
   "cell_type": "code",
   "execution_count": null,
   "id": "8460f292",
   "metadata": {},
   "outputs": [],
   "source": []
  },
  {
   "cell_type": "code",
   "execution_count": 132,
   "id": "e92de49f",
   "metadata": {},
   "outputs": [],
   "source": [
    "# default args:- dtype\n",
    "\n",
    "def introduction(name = 'Unknown',age = 0,salary = 18000,add = None):\n",
    "    \n",
    "    '''This is an Introduction func,\n",
    "    created by user, you have to give some arguments,\n",
    "    it will return a wonderful message'''\n",
    "    \n",
    "    print(f'Your Name is {name}')\n",
    "    print(f'Your Age is {age}')  \n",
    "    print(f'Your Salary is {salary}')   \n",
    "    print(f'Your Address is {add}')    "
   ]
  },
  {
   "cell_type": "code",
   "execution_count": 135,
   "id": "c4b1e8b4",
   "metadata": {},
   "outputs": [
    {
     "name": "stdout",
     "output_type": "stream",
     "text": [
      "Your Name is karan\n",
      "Your Age is 23\n",
      "Your Salary is 18000\n",
      "Your Address is None\n"
     ]
    }
   ],
   "source": [
    "introduction('karan',23)"
   ]
  },
  {
   "cell_type": "code",
   "execution_count": 140,
   "id": "46f4b772",
   "metadata": {},
   "outputs": [
    {
     "name": "stdout",
     "output_type": "stream",
     "text": [
      "Mohan verma\n"
     ]
    }
   ],
   "source": [
    "print('Mohan','verma')"
   ]
  },
  {
   "cell_type": "code",
   "execution_count": null,
   "id": "b93d7005",
   "metadata": {},
   "outputs": [],
   "source": []
  },
  {
   "cell_type": "code",
   "execution_count": 141,
   "id": "881d30ab",
   "metadata": {},
   "outputs": [],
   "source": [
    "# *args\n",
    "# **kwargs"
   ]
  },
  {
   "cell_type": "code",
   "execution_count": 142,
   "id": "4d6cc464",
   "metadata": {},
   "outputs": [],
   "source": [
    "def add(a,c):\n",
    "    return a+c"
   ]
  },
  {
   "cell_type": "code",
   "execution_count": 144,
   "id": "db5b6369",
   "metadata": {},
   "outputs": [
    {
     "ename": "TypeError",
     "evalue": "add() takes 2 positional arguments but 3 were given",
     "output_type": "error",
     "traceback": [
      "\u001b[1;31m---------------------------------------------------------------------------\u001b[0m",
      "\u001b[1;31mTypeError\u001b[0m                                 Traceback (most recent call last)",
      "Cell \u001b[1;32mIn[144], line 1\u001b[0m\n\u001b[1;32m----> 1\u001b[0m add(\u001b[38;5;241m120\u001b[39m,\u001b[38;5;241m19\u001b[39m,\u001b[38;5;241m90\u001b[39m)\n",
      "\u001b[1;31mTypeError\u001b[0m: add() takes 2 positional arguments but 3 were given"
     ]
    }
   ],
   "source": [
    "add(120,19,90)"
   ]
  },
  {
   "cell_type": "code",
   "execution_count": 145,
   "id": "2a1e5462",
   "metadata": {},
   "outputs": [
    {
     "ename": "TypeError",
     "evalue": "add() takes 2 positional arguments but 4 were given",
     "output_type": "error",
     "traceback": [
      "\u001b[1;31m---------------------------------------------------------------------------\u001b[0m",
      "\u001b[1;31mTypeError\u001b[0m                                 Traceback (most recent call last)",
      "Cell \u001b[1;32mIn[145], line 1\u001b[0m\n\u001b[1;32m----> 1\u001b[0m add(\u001b[38;5;241m120\u001b[39m,\u001b[38;5;241m19\u001b[39m,\u001b[38;5;241m90\u001b[39m,\u001b[38;5;241m34\u001b[39m)\n",
      "\u001b[1;31mTypeError\u001b[0m: add() takes 2 positional arguments but 4 were given"
     ]
    }
   ],
   "source": [
    "add(120,19,90,34)"
   ]
  },
  {
   "cell_type": "code",
   "execution_count": 146,
   "id": "86b7eda6",
   "metadata": {},
   "outputs": [
    {
     "ename": "TypeError",
     "evalue": "add() missing 1 required positional argument: 'c'",
     "output_type": "error",
     "traceback": [
      "\u001b[1;31m---------------------------------------------------------------------------\u001b[0m",
      "\u001b[1;31mTypeError\u001b[0m                                 Traceback (most recent call last)",
      "Cell \u001b[1;32mIn[146], line 1\u001b[0m\n\u001b[1;32m----> 1\u001b[0m add(\u001b[38;5;241m120\u001b[39m)\n",
      "\u001b[1;31mTypeError\u001b[0m: add() missing 1 required positional argument: 'c'"
     ]
    }
   ],
   "source": [
    "add(120)"
   ]
  },
  {
   "cell_type": "code",
   "execution_count": null,
   "id": "90a8bc92",
   "metadata": {},
   "outputs": [],
   "source": [
    "(12,34,45)"
   ]
  },
  {
   "cell_type": "code",
   "execution_count": 155,
   "id": "c6672f39",
   "metadata": {},
   "outputs": [],
   "source": [
    "def add_n(*args):\n",
    "    result = 0\n",
    "    for i in args:\n",
    "        result += i\n",
    "    return result"
   ]
  },
  {
   "cell_type": "code",
   "execution_count": 156,
   "id": "3ae49028",
   "metadata": {},
   "outputs": [
    {
     "data": {
      "text/plain": [
       "513"
      ]
     },
     "execution_count": 156,
     "metadata": {},
     "output_type": "execute_result"
    }
   ],
   "source": [
    "add_n(12,3,42,456)"
   ]
  },
  {
   "cell_type": "code",
   "execution_count": 157,
   "id": "d3255642",
   "metadata": {},
   "outputs": [
    {
     "data": {
      "text/plain": [
       "14696"
      ]
     },
     "execution_count": 157,
     "metadata": {},
     "output_type": "execute_result"
    }
   ],
   "source": [
    "add_n(12,3,42,456,34,543,23,54,6532,456,6,6535)"
   ]
  },
  {
   "cell_type": "code",
   "execution_count": 158,
   "id": "6191175c",
   "metadata": {},
   "outputs": [
    {
     "data": {
      "text/plain": [
       "15"
      ]
     },
     "execution_count": 158,
     "metadata": {},
     "output_type": "execute_result"
    }
   ],
   "source": [
    "add_n(12,3)"
   ]
  },
  {
   "cell_type": "code",
   "execution_count": 159,
   "id": "33ddd1ac",
   "metadata": {},
   "outputs": [
    {
     "name": "stdout",
     "output_type": "stream",
     "text": [
      "12 34324 2 435 ;Mohan verma\n"
     ]
    }
   ],
   "source": [
    "print(12,34324,2,435,';Mohan','verma')"
   ]
  },
  {
   "cell_type": "code",
   "execution_count": 160,
   "id": "7bf63dd8",
   "metadata": {},
   "outputs": [
    {
     "data": {
      "text/plain": [
       "4035"
      ]
     },
     "execution_count": 160,
     "metadata": {},
     "output_type": "execute_result"
    }
   ],
   "source": [
    "add_n(1234,2345,456)"
   ]
  },
  {
   "cell_type": "code",
   "execution_count": 161,
   "id": "d7bc01da",
   "metadata": {},
   "outputs": [],
   "source": [
    "# default args:- dtype\n",
    "\n",
    "def introduction(name = 'Unknown',age = 0,salary = 18000,add = None):\n",
    "    \n",
    "    '''This is an Introduction func,\n",
    "    created by user, you have to give some arguments,\n",
    "    it will return a wonderful message'''\n",
    "    \n",
    "    print(f'Your Name is {name}')\n",
    "    print(f'Your Age is {age}')  \n",
    "    print(f'Your Salary is {salary}')   \n",
    "    print(f'Your Address is {add}')    "
   ]
  },
  {
   "cell_type": "code",
   "execution_count": 162,
   "id": "6a0d2822",
   "metadata": {},
   "outputs": [
    {
     "name": "stdout",
     "output_type": "stream",
     "text": [
      "Your Name is jatin\n",
      "Your Age is 24\n",
      "Your Salary is 34567\n",
      "Your Address is Delhi\n"
     ]
    }
   ],
   "source": [
    "introduction('jatin',24,34567,'Delhi')"
   ]
  },
  {
   "cell_type": "code",
   "execution_count": 163,
   "id": "6005cc40",
   "metadata": {},
   "outputs": [
    {
     "ename": "TypeError",
     "evalue": "introduction() takes from 0 to 4 positional arguments but 5 were given",
     "output_type": "error",
     "traceback": [
      "\u001b[1;31m---------------------------------------------------------------------------\u001b[0m",
      "\u001b[1;31mTypeError\u001b[0m                                 Traceback (most recent call last)",
      "Cell \u001b[1;32mIn[163], line 1\u001b[0m\n\u001b[1;32m----> 1\u001b[0m introduction(\u001b[38;5;124m'\u001b[39m\u001b[38;5;124mjatin\u001b[39m\u001b[38;5;124m'\u001b[39m,\u001b[38;5;241m24\u001b[39m,\u001b[38;5;241m34567\u001b[39m,\u001b[38;5;124m'\u001b[39m\u001b[38;5;124mDelhi\u001b[39m\u001b[38;5;124m'\u001b[39m,\u001b[38;5;124m'\u001b[39m\u001b[38;5;124mIT\u001b[39m\u001b[38;5;124m'\u001b[39m)\n",
      "\u001b[1;31mTypeError\u001b[0m: introduction() takes from 0 to 4 positional arguments but 5 were given"
     ]
    }
   ],
   "source": [
    "introduction('jatin',24,34567,'Delhi','IT')"
   ]
  },
  {
   "cell_type": "code",
   "execution_count": 164,
   "id": "7059953a",
   "metadata": {},
   "outputs": [
    {
     "name": "stdout",
     "output_type": "stream",
     "text": [
      "Your Name is jatin\n",
      "Your Age is 24\n",
      "Your Salary is 34567\n",
      "Your Address is None\n"
     ]
    }
   ],
   "source": [
    "introduction('jatin',24,34567)"
   ]
  },
  {
   "cell_type": "code",
   "execution_count": 165,
   "id": "420ccdd8",
   "metadata": {},
   "outputs": [],
   "source": [
    "# **kwargs:- keyword args"
   ]
  },
  {
   "cell_type": "code",
   "execution_count": null,
   "id": "be77cc1e",
   "metadata": {},
   "outputs": [],
   "source": []
  },
  {
   "cell_type": "code",
   "execution_count": 166,
   "id": "9ab6a4bc",
   "metadata": {},
   "outputs": [],
   "source": [
    "# default args:- dtype\n",
    "\n",
    "def introduction(**kwargs):\n",
    "    \n",
    "    '''This is an Introduction func,\n",
    "    created by user, you have to give some arguments,\n",
    "    it will return a wonderful message'''\n",
    "    \n",
    "    print(kwargs,type(kwargs))  "
   ]
  },
  {
   "cell_type": "code",
   "execution_count": null,
   "id": "38dd0f2b",
   "metadata": {},
   "outputs": [],
   "source": []
  },
  {
   "cell_type": "code",
   "execution_count": 168,
   "id": "c028e2b1",
   "metadata": {},
   "outputs": [
    {
     "name": "stdout",
     "output_type": "stream",
     "text": [
      "{'Name': 'Neha', 'age': 20, 'salary': 234567} <class 'dict'>\n"
     ]
    }
   ],
   "source": [
    "introduction(Name = 'Neha',age = 20,salary = 234567)"
   ]
  },
  {
   "cell_type": "code",
   "execution_count": null,
   "id": "8dfea19c",
   "metadata": {},
   "outputs": [],
   "source": []
  },
  {
   "cell_type": "code",
   "execution_count": null,
   "id": "0100bbdf",
   "metadata": {},
   "outputs": [],
   "source": []
  },
  {
   "cell_type": "code",
   "execution_count": 169,
   "id": "a45ec67b",
   "metadata": {},
   "outputs": [],
   "source": [
    "# default args:- dtype\n",
    "\n",
    "def introduction(**kwargs):\n",
    "    \n",
    "    '''This is an Introduction func,\n",
    "    created by user, you have to give some arguments,\n",
    "    it will return a wonderful message'''\n",
    "    \n",
    "    for key,value in kwargs.items():\n",
    "        print(f'Your {key} is {value}')"
   ]
  },
  {
   "cell_type": "code",
   "execution_count": null,
   "id": "052dde9c",
   "metadata": {},
   "outputs": [],
   "source": []
  },
  {
   "cell_type": "code",
   "execution_count": 176,
   "id": "22306adf",
   "metadata": {},
   "outputs": [
    {
     "name": "stdout",
     "output_type": "stream",
     "text": [
      "Your Name is Mohan\n",
      "Your Address is Noida\n",
      "Your salary is 98765432\n",
      "Your Age is 65\n"
     ]
    }
   ],
   "source": [
    "introduction(Name = 'Mohan',Address = 'Noida',salary = 98765432,Age = 65)"
   ]
  },
  {
   "cell_type": "code",
   "execution_count": null,
   "id": "413f1c33",
   "metadata": {},
   "outputs": [],
   "source": []
  },
  {
   "cell_type": "code",
   "execution_count": null,
   "id": "133db6a8",
   "metadata": {},
   "outputs": [],
   "source": []
  },
  {
   "cell_type": "code",
   "execution_count": 178,
   "id": "70a027dd",
   "metadata": {},
   "outputs": [],
   "source": [
    "# default args:- dtype\n",
    "\n",
    "def introduction(**data):\n",
    "    \n",
    "    '''This is an Introduction func,\n",
    "    created by user, you have to give some arguments,\n",
    "    it will return a wonderful message'''\n",
    "    \n",
    "    for key,value in data.items():\n",
    "        print(f'Your {key} is {value}')"
   ]
  },
  {
   "cell_type": "code",
   "execution_count": 182,
   "id": "ae3d79a5",
   "metadata": {},
   "outputs": [
    {
     "name": "stdout",
     "output_type": "stream",
     "text": [
      "Your Name is Ajay\n",
      "Your Address is Noida\n",
      "Your salary is 98765432\n",
      "Your Age is 65\n"
     ]
    }
   ],
   "source": [
    "introduction(Name = 'Ajay',Address = 'Noida',salary = 98765432,Age = 65)"
   ]
  },
  {
   "cell_type": "code",
   "execution_count": null,
   "id": "4003abaf",
   "metadata": {},
   "outputs": [],
   "source": []
  },
  {
   "cell_type": "code",
   "execution_count": null,
   "id": "f86c4510",
   "metadata": {},
   "outputs": [],
   "source": []
  },
  {
   "cell_type": "code",
   "execution_count": 183,
   "id": "dbdc4779",
   "metadata": {},
   "outputs": [],
   "source": [
    "# func with pass\n",
    "# nested func"
   ]
  },
  {
   "cell_type": "code",
   "execution_count": 184,
   "id": "3edf0a24",
   "metadata": {},
   "outputs": [],
   "source": [
    "def kuch_kariye():\n",
    "    pass"
   ]
  },
  {
   "cell_type": "code",
   "execution_count": 185,
   "id": "f7188b40",
   "metadata": {},
   "outputs": [],
   "source": [
    "kuch_kariye()"
   ]
  },
  {
   "cell_type": "code",
   "execution_count": 186,
   "id": "d2f547fc",
   "metadata": {},
   "outputs": [],
   "source": [
    "def kuch_kariye():\n",
    "    ..."
   ]
  },
  {
   "cell_type": "code",
   "execution_count": 187,
   "id": "54407ea8",
   "metadata": {},
   "outputs": [],
   "source": [
    "kuch_kariye()"
   ]
  },
  {
   "cell_type": "code",
   "execution_count": 190,
   "id": "11e5d8ab",
   "metadata": {},
   "outputs": [],
   "source": [
    "def kuch_kariye():\n",
    "    None"
   ]
  },
  {
   "cell_type": "code",
   "execution_count": 192,
   "id": "0385f346",
   "metadata": {},
   "outputs": [],
   "source": [
    "kuch_kariye()"
   ]
  },
  {
   "cell_type": "code",
   "execution_count": null,
   "id": "9784f984",
   "metadata": {},
   "outputs": [],
   "source": []
  },
  {
   "cell_type": "code",
   "execution_count": null,
   "id": "a0947ae3",
   "metadata": {},
   "outputs": [],
   "source": []
  },
  {
   "cell_type": "code",
   "execution_count": 194,
   "id": "405ad185",
   "metadata": {},
   "outputs": [
    {
     "name": "stdout",
     "output_type": "stream",
     "text": [
      "Help on function introduction in module __main__:\n",
      "\n",
      "introduction(**data)\n",
      "    This is an Introduction func,\n",
      "    created by user, you have to give some arguments,\n",
      "    it will return a wonderful message\n",
      "\n"
     ]
    }
   ],
   "source": [
    "# nested func:- \n",
    "\n",
    "help(introduction)"
   ]
  },
  {
   "cell_type": "code",
   "execution_count": 197,
   "id": "9b90b046",
   "metadata": {},
   "outputs": [],
   "source": [
    "# help(list)"
   ]
  },
  {
   "cell_type": "code",
   "execution_count": 198,
   "id": "6d0a59d5",
   "metadata": {},
   "outputs": [],
   "source": [
    "# nested func:- function inside function"
   ]
  },
  {
   "cell_type": "code",
   "execution_count": 201,
   "id": "9929b025",
   "metadata": {},
   "outputs": [],
   "source": [
    "def a():\n",
    "    print('I am a')\n",
    "    \n",
    "    def b():\n",
    "        print('I am b')\n",
    "        \n",
    "    b()    "
   ]
  },
  {
   "cell_type": "code",
   "execution_count": 202,
   "id": "4e702973",
   "metadata": {},
   "outputs": [
    {
     "name": "stdout",
     "output_type": "stream",
     "text": [
      "I am a\n",
      "I am b\n"
     ]
    }
   ],
   "source": [
    "a()"
   ]
  },
  {
   "cell_type": "code",
   "execution_count": null,
   "id": "6ef8989b",
   "metadata": {},
   "outputs": [],
   "source": []
  },
  {
   "cell_type": "code",
   "execution_count": null,
   "id": "beb6c852",
   "metadata": {},
   "outputs": [],
   "source": []
  },
  {
   "cell_type": "code",
   "execution_count": 221,
   "id": "bd304fe1",
   "metadata": {},
   "outputs": [],
   "source": [
    "def a(): # outer func\n",
    "    print('I am a')\n",
    "    \n",
    "    def b(): #inner fun\n",
    "        print('I am b')\n",
    "        \n",
    "        def c(): # sub inner func\n",
    "            print('I am c')\n",
    "            \n",
    "        def d(): # sub inner func\n",
    "            print('I am d')\n",
    "            \n",
    "        d()\n",
    "        c()\n",
    "            \n",
    "    def e(): # inner func\n",
    "        print('I am e')\n",
    "        \n",
    "    b()\n",
    "    e()\n",
    "    "
   ]
  },
  {
   "cell_type": "code",
   "execution_count": 222,
   "id": "7272b6fb",
   "metadata": {},
   "outputs": [
    {
     "name": "stdout",
     "output_type": "stream",
     "text": [
      "I am a\n",
      "I am b\n",
      "I am d\n",
      "I am c\n",
      "I am e\n"
     ]
    }
   ],
   "source": [
    "a()"
   ]
  },
  {
   "cell_type": "code",
   "execution_count": null,
   "id": "49537146",
   "metadata": {},
   "outputs": [],
   "source": []
  },
  {
   "cell_type": "markdown",
   "id": "e74a1f1d",
   "metadata": {},
   "source": [
    "# day 2"
   ]
  },
  {
   "cell_type": "code",
   "execution_count": 1,
   "id": "00d9236f",
   "metadata": {},
   "outputs": [],
   "source": [
    "# some important funcs\n",
    "# recursive func\n",
    "# decorator\n",
    "# generator\n",
    "# lambda: map, filter, reduce\n"
   ]
  },
  {
   "cell_type": "code",
   "execution_count": 2,
   "id": "44150cb4",
   "metadata": {},
   "outputs": [],
   "source": [
    "# some important funcs"
   ]
  },
  {
   "cell_type": "code",
   "execution_count": 3,
   "id": "a6c5fc46",
   "metadata": {},
   "outputs": [
    {
     "data": {
      "text/plain": [
       "5"
      ]
     },
     "execution_count": 3,
     "metadata": {},
     "output_type": "execute_result"
    }
   ],
   "source": [
    "data = [2,34,4,3245,346]\n",
    "\n",
    "len(data)"
   ]
  },
  {
   "cell_type": "code",
   "execution_count": 5,
   "id": "ba4eb062",
   "metadata": {},
   "outputs": [],
   "source": [
    "def count(data):\n",
    "    result = 0\n",
    "    for i in data:\n",
    "        result += 1\n",
    "    return result"
   ]
  },
  {
   "cell_type": "code",
   "execution_count": 6,
   "id": "f54c5798",
   "metadata": {},
   "outputs": [
    {
     "data": {
      "text/plain": [
       "9"
      ]
     },
     "execution_count": 6,
     "metadata": {},
     "output_type": "execute_result"
    }
   ],
   "source": [
    "data = [23,45,324,5,45432,4676,76,434,46]\n",
    "\n",
    "count(data)"
   ]
  },
  {
   "cell_type": "code",
   "execution_count": 7,
   "id": "2a7af484",
   "metadata": {},
   "outputs": [
    {
     "data": {
      "text/plain": [
       "9"
      ]
     },
     "execution_count": 7,
     "metadata": {},
     "output_type": "execute_result"
    }
   ],
   "source": [
    "len(data)"
   ]
  },
  {
   "cell_type": "code",
   "execution_count": 8,
   "id": "406c20ca",
   "metadata": {},
   "outputs": [
    {
     "data": {
      "text/plain": [
       "97690"
      ]
     },
     "execution_count": 8,
     "metadata": {},
     "output_type": "execute_result"
    }
   ],
   "source": [
    "currency = [23,54,21,34546,43,24,56567,67,6345]\n",
    "\n",
    "\n",
    "\n",
    "sum(currency)"
   ]
  },
  {
   "cell_type": "code",
   "execution_count": 9,
   "id": "66621255",
   "metadata": {},
   "outputs": [
    {
     "data": {
      "text/plain": [
       "9"
      ]
     },
     "execution_count": 9,
     "metadata": {},
     "output_type": "execute_result"
    }
   ],
   "source": [
    "count(currency)"
   ]
  },
  {
   "cell_type": "code",
   "execution_count": 11,
   "id": "b5492cbb",
   "metadata": {},
   "outputs": [],
   "source": [
    "def summ(any_data:'list,tuple,set'):\n",
    "    ans = 0\n",
    "    \n",
    "    for i in any_data:\n",
    "        ans += i\n",
    "    return ans"
   ]
  },
  {
   "cell_type": "code",
   "execution_count": 13,
   "id": "3e95bcaa",
   "metadata": {},
   "outputs": [
    {
     "data": {
      "text/plain": [
       "97690"
      ]
     },
     "execution_count": 13,
     "metadata": {},
     "output_type": "execute_result"
    }
   ],
   "source": [
    "summ(currency)"
   ]
  },
  {
   "cell_type": "code",
   "execution_count": null,
   "id": "617f6348",
   "metadata": {},
   "outputs": [],
   "source": []
  },
  {
   "cell_type": "code",
   "execution_count": 14,
   "id": "ba31a159",
   "metadata": {},
   "outputs": [],
   "source": [
    "# factorial:- "
   ]
  },
  {
   "cell_type": "code",
   "execution_count": 15,
   "id": "dd39961b",
   "metadata": {},
   "outputs": [],
   "source": [
    "word = 'ant'"
   ]
  },
  {
   "cell_type": "code",
   "execution_count": 16,
   "id": "61d3427b",
   "metadata": {},
   "outputs": [],
   "source": [
    "# 'tan'\n",
    "# 'ant'\n",
    "# 'nat'\n",
    "# 'tna'\n",
    "# 'atn'\n",
    "# 'nta'"
   ]
  },
  {
   "cell_type": "code",
   "execution_count": 17,
   "id": "7ce35446",
   "metadata": {},
   "outputs": [],
   "source": [
    "# 3! = 3*2*1"
   ]
  },
  {
   "cell_type": "code",
   "execution_count": 18,
   "id": "f0694ce4",
   "metadata": {},
   "outputs": [
    {
     "data": {
      "text/plain": [
       "120"
      ]
     },
     "execution_count": 18,
     "metadata": {},
     "output_type": "execute_result"
    }
   ],
   "source": [
    "5*4*3*2*1"
   ]
  },
  {
   "cell_type": "code",
   "execution_count": 19,
   "id": "9b3966cd",
   "metadata": {},
   "outputs": [],
   "source": [
    "def factorial(num):\n",
    "    ans = 1\n",
    "    for i in range(1,num+1):\n",
    "        ans *= i\n",
    "    return ans"
   ]
  },
  {
   "cell_type": "code",
   "execution_count": 20,
   "id": "fad1ae68",
   "metadata": {},
   "outputs": [
    {
     "data": {
      "text/plain": [
       "120"
      ]
     },
     "execution_count": 20,
     "metadata": {},
     "output_type": "execute_result"
    }
   ],
   "source": [
    "factorial(5)"
   ]
  },
  {
   "cell_type": "code",
   "execution_count": 21,
   "id": "be871754",
   "metadata": {},
   "outputs": [
    {
     "data": {
      "text/plain": [
       "3628800"
      ]
     },
     "execution_count": 21,
     "metadata": {},
     "output_type": "execute_result"
    }
   ],
   "source": [
    "factorial(10)"
   ]
  },
  {
   "cell_type": "code",
   "execution_count": null,
   "id": "c21db49b",
   "metadata": {},
   "outputs": [],
   "source": []
  },
  {
   "cell_type": "code",
   "execution_count": 22,
   "id": "dbc08d84",
   "metadata": {},
   "outputs": [],
   "source": [
    "# # prime number:- self, and 1\n",
    "\n",
    "# 1:- prime:- No a Prime\n",
    "# 2:- Prime, Even prime \n",
    "# 3:- prime\n",
    "# 4:- No"
   ]
  },
  {
   "cell_type": "code",
   "execution_count": null,
   "id": "2975bb1c",
   "metadata": {},
   "outputs": [],
   "source": []
  },
  {
   "cell_type": "code",
   "execution_count": 23,
   "id": "e2a3ceef",
   "metadata": {},
   "outputs": [],
   "source": [
    "def prime_number(num):\n",
    "    for i in range(2,num):\n",
    "        if num % i == 0:\n",
    "            print('Not a Prime Number')\n",
    "            break\n",
    "    else:\n",
    "        print('Prime Number!!')"
   ]
  },
  {
   "cell_type": "code",
   "execution_count": 28,
   "id": "b668a5e3",
   "metadata": {},
   "outputs": [
    {
     "name": "stdout",
     "output_type": "stream",
     "text": [
      "Prime Number!!\n"
     ]
    }
   ],
   "source": [
    "prime_number(135431)"
   ]
  },
  {
   "cell_type": "code",
   "execution_count": null,
   "id": "eaa5c9af",
   "metadata": {},
   "outputs": [],
   "source": []
  },
  {
   "cell_type": "code",
   "execution_count": 29,
   "id": "42612e23",
   "metadata": {},
   "outputs": [],
   "source": [
    "# table(3)"
   ]
  },
  {
   "cell_type": "code",
   "execution_count": 37,
   "id": "b6ebcd6b",
   "metadata": {},
   "outputs": [],
   "source": [
    "def table(num):\n",
    "    for i in range(1,11):\n",
    "        print(f\"{num} x {i} = {num*i}\")"
   ]
  },
  {
   "cell_type": "code",
   "execution_count": 38,
   "id": "ad014d9a",
   "metadata": {},
   "outputs": [
    {
     "name": "stdout",
     "output_type": "stream",
     "text": [
      "9 x 1 = 9\n",
      "9 x 2 = 18\n",
      "9 x 3 = 27\n",
      "9 x 4 = 36\n",
      "9 x 5 = 45\n",
      "9 x 6 = 54\n",
      "9 x 7 = 63\n",
      "9 x 8 = 72\n",
      "9 x 9 = 81\n",
      "9 x 10 = 90\n"
     ]
    }
   ],
   "source": [
    "table(9)"
   ]
  },
  {
   "cell_type": "code",
   "execution_count": null,
   "id": "2359a9e6",
   "metadata": {},
   "outputs": [],
   "source": []
  },
  {
   "cell_type": "code",
   "execution_count": 39,
   "id": "7b8d16e4",
   "metadata": {},
   "outputs": [],
   "source": [
    "# fibonacci series"
   ]
  },
  {
   "cell_type": "code",
   "execution_count": 40,
   "id": "e04cbc58",
   "metadata": {},
   "outputs": [],
   "source": [
    "def give_fibonnaci(num):\n",
    "    fibo = [0,1]\n",
    "    \n",
    "    for i in range(num-2):\n",
    "        next_num = fibo[-1] + fibo[-2]\n",
    "        fibo.append(next_num)\n",
    "    return fibo   "
   ]
  },
  {
   "cell_type": "code",
   "execution_count": null,
   "id": "ae5e3902",
   "metadata": {},
   "outputs": [],
   "source": []
  },
  {
   "cell_type": "code",
   "execution_count": 51,
   "id": "2cb4f34c",
   "metadata": {},
   "outputs": [
    {
     "name": "stdout",
     "output_type": "stream",
     "text": [
      "[0, 1, 1, 2, 3, 5, 8, 13, 21, 34, 55, 89, 144, 233, 377]\n"
     ]
    }
   ],
   "source": [
    "print(give_fibonnaci(15))"
   ]
  },
  {
   "cell_type": "code",
   "execution_count": 50,
   "id": "5bd3c506",
   "metadata": {},
   "outputs": [],
   "source": [
    "def give_fibonnaci(num):\n",
    "    fibo = [0,1]\n",
    "\n",
    "    for i in range(num-2):\n",
    "        next_num = fibo[-1] + fibo[-2]\n",
    "        fibo.append(next_num)\n",
    "    return fibo   "
   ]
  },
  {
   "cell_type": "code",
   "execution_count": null,
   "id": "e3ac0927",
   "metadata": {},
   "outputs": [],
   "source": []
  },
  {
   "cell_type": "code",
   "execution_count": 52,
   "id": "28608b81",
   "metadata": {},
   "outputs": [],
   "source": [
    "def pattern(w):\n",
    "    \n",
    "    word = w.upper().replace(' ','')\n",
    "    num = len(word)\n",
    "\n",
    "    for i in range(1,num):\n",
    "        print(' '*(num-i)+ ' '.join(word[0:i]))\n",
    "\n",
    "    for i in range(num,0,-1):\n",
    "        print(' '*(num-i)+ ' '.join(word[0:i]))"
   ]
  },
  {
   "cell_type": "code",
   "execution_count": 53,
   "id": "b3cd041b",
   "metadata": {},
   "outputs": [
    {
     "name": "stdout",
     "output_type": "stream",
     "text": [
      "   A\n",
      "  A J\n",
      " A J A\n",
      "A J A Y\n",
      " A J A\n",
      "  A J\n",
      "   A\n"
     ]
    }
   ],
   "source": [
    "pattern('Ajay')"
   ]
  },
  {
   "cell_type": "code",
   "execution_count": 54,
   "id": "2497229f",
   "metadata": {},
   "outputs": [
    {
     "name": "stdout",
     "output_type": "stream",
     "text": [
      "    H\n",
      "   H E\n",
      "  H E L\n",
      " H E L L\n",
      "H E L L O\n",
      " H E L L\n",
      "  H E L\n",
      "   H E\n",
      "    H\n"
     ]
    }
   ],
   "source": [
    "pattern('Hello')"
   ]
  },
  {
   "cell_type": "code",
   "execution_count": null,
   "id": "a08a0b16",
   "metadata": {},
   "outputs": [],
   "source": []
  },
  {
   "cell_type": "code",
   "execution_count": 55,
   "id": "4813018c",
   "metadata": {},
   "outputs": [],
   "source": [
    "# palindrome\n",
    "# armstrong\n",
    "# min\n",
    "# max\n",
    "# anagram"
   ]
  },
  {
   "cell_type": "code",
   "execution_count": 56,
   "id": "9d27e4f3",
   "metadata": {},
   "outputs": [],
   "source": [
    "# palindrome"
   ]
  },
  {
   "cell_type": "code",
   "execution_count": 66,
   "id": "dc42f847",
   "metadata": {},
   "outputs": [],
   "source": [
    "def check_palindrome(word):\n",
    "    word = word.lower()\n",
    "    return True if word == word[::-1] else False"
   ]
  },
  {
   "cell_type": "code",
   "execution_count": 67,
   "id": "ceeb1313",
   "metadata": {},
   "outputs": [
    {
     "data": {
      "text/plain": [
       "True"
      ]
     },
     "execution_count": 67,
     "metadata": {},
     "output_type": "execute_result"
    }
   ],
   "source": [
    "check_palindrome('Nitin')"
   ]
  },
  {
   "cell_type": "code",
   "execution_count": 68,
   "id": "168def8d",
   "metadata": {},
   "outputs": [],
   "source": [
    "# armstrong"
   ]
  },
  {
   "cell_type": "code",
   "execution_count": 70,
   "id": "ffc8954d",
   "metadata": {},
   "outputs": [
    {
     "data": {
      "text/plain": [
       "153"
      ]
     },
     "execution_count": 70,
     "metadata": {},
     "output_type": "execute_result"
    }
   ],
   "source": [
    "# 153:- \n",
    "    \n",
    "1**3 + 5**3  +  3**3"
   ]
  },
  {
   "cell_type": "code",
   "execution_count": 71,
   "id": "78362c5c",
   "metadata": {},
   "outputs": [
    {
     "data": {
      "text/plain": [
       "9474"
      ]
     },
     "execution_count": 71,
     "metadata": {},
     "output_type": "execute_result"
    }
   ],
   "source": [
    "9474\n",
    "\n",
    "9**4 + 4**4  + 7**4  + 4**4"
   ]
  },
  {
   "cell_type": "code",
   "execution_count": 72,
   "id": "cc82a2fb",
   "metadata": {},
   "outputs": [
    {
     "data": {
      "text/plain": [
       "469"
      ]
     },
     "execution_count": 72,
     "metadata": {},
     "output_type": "execute_result"
    }
   ],
   "source": [
    "1**3 + 5**3 + 7**3"
   ]
  },
  {
   "cell_type": "code",
   "execution_count": 74,
   "id": "4ebbf006",
   "metadata": {},
   "outputs": [
    {
     "data": {
      "text/plain": [
       "3"
      ]
     },
     "execution_count": 74,
     "metadata": {},
     "output_type": "execute_result"
    }
   ],
   "source": [
    "len(str(876))"
   ]
  },
  {
   "cell_type": "code",
   "execution_count": 76,
   "id": "bca6f758",
   "metadata": {},
   "outputs": [
    {
     "name": "stdout",
     "output_type": "stream",
     "text": [
      "8\n",
      "7\n",
      "6\n"
     ]
    }
   ],
   "source": [
    "for i in str(876):\n",
    "    print(i)"
   ]
  },
  {
   "cell_type": "code",
   "execution_count": 78,
   "id": "73bf1732",
   "metadata": {},
   "outputs": [
    {
     "data": {
      "text/plain": [
       "2097152"
      ]
     },
     "execution_count": 78,
     "metadata": {},
     "output_type": "execute_result"
    }
   ],
   "source": [
    "int('8')**7"
   ]
  },
  {
   "cell_type": "code",
   "execution_count": 79,
   "id": "c9f0b900",
   "metadata": {},
   "outputs": [],
   "source": [
    "def check_armstrong(num):\n",
    "    pw = len(str(num))\n",
    "    ans = 0\n",
    "    \n",
    "    for i in str(num):\n",
    "        ans += int(i)**pw\n",
    "    return True if ans == num else False"
   ]
  },
  {
   "cell_type": "code",
   "execution_count": 83,
   "id": "7c037c53",
   "metadata": {},
   "outputs": [
    {
     "data": {
      "text/plain": [
       "True"
      ]
     },
     "execution_count": 83,
     "metadata": {},
     "output_type": "execute_result"
    }
   ],
   "source": [
    "check_armstrong(9474)"
   ]
  },
  {
   "cell_type": "code",
   "execution_count": 84,
   "id": "63502333",
   "metadata": {},
   "outputs": [],
   "source": [
    "# min\n",
    "# max\n",
    "# anagram"
   ]
  },
  {
   "cell_type": "code",
   "execution_count": 85,
   "id": "564e596b",
   "metadata": {},
   "outputs": [
    {
     "data": {
      "text/plain": [
       "2"
      ]
     },
     "execution_count": 85,
     "metadata": {},
     "output_type": "execute_result"
    }
   ],
   "source": [
    "data = [20,3,4,325,435,346]\n",
    "\n",
    "min(data)"
   ]
  },
  {
   "cell_type": "code",
   "execution_count": 86,
   "id": "33cb1c37",
   "metadata": {},
   "outputs": [],
   "source": [
    "def check_min(data):\n",
    "    my_min = data[0]\n",
    "    \n",
    "    for i in data:\n",
    "        if i<my_min:\n",
    "            my_min = i\n",
    "    return my_min"
   ]
  },
  {
   "cell_type": "code",
   "execution_count": 88,
   "id": "e1227c06",
   "metadata": {},
   "outputs": [
    {
     "data": {
      "text/plain": [
       "5"
      ]
     },
     "execution_count": 88,
     "metadata": {},
     "output_type": "execute_result"
    }
   ],
   "source": [
    "data = [23,45,34,465,7643,5,567,43,66,456]\n",
    "check_min(data)"
   ]
  },
  {
   "cell_type": "code",
   "execution_count": 89,
   "id": "d23fb15b",
   "metadata": {},
   "outputs": [
    {
     "data": {
      "text/plain": [
       "5"
      ]
     },
     "execution_count": 89,
     "metadata": {},
     "output_type": "execute_result"
    }
   ],
   "source": [
    "min(data)"
   ]
  },
  {
   "cell_type": "code",
   "execution_count": 90,
   "id": "573adc74",
   "metadata": {},
   "outputs": [],
   "source": [
    "def check_max(data):\n",
    "    my_max = data[0]\n",
    "    \n",
    "    for i in data:\n",
    "        if i>my_max:\n",
    "            my_max = i\n",
    "    return my_max"
   ]
  },
  {
   "cell_type": "code",
   "execution_count": 91,
   "id": "5314d177",
   "metadata": {},
   "outputs": [
    {
     "data": {
      "text/plain": [
       "6465"
      ]
     },
     "execution_count": 91,
     "metadata": {},
     "output_type": "execute_result"
    }
   ],
   "source": [
    "data = [2,345,34,5,4,345,667,54,55,6465,73,45,456,457]\n",
    "\n",
    "max(data)"
   ]
  },
  {
   "cell_type": "code",
   "execution_count": 92,
   "id": "aa4c2a11",
   "metadata": {},
   "outputs": [
    {
     "data": {
      "text/plain": [
       "6465"
      ]
     },
     "execution_count": 92,
     "metadata": {},
     "output_type": "execute_result"
    }
   ],
   "source": [
    "check_max(data)"
   ]
  },
  {
   "cell_type": "code",
   "execution_count": 113,
   "id": "b9adb04a",
   "metadata": {},
   "outputs": [],
   "source": [
    "# palindrome\n",
    "# armstrong\n",
    "# factorial\n",
    "# fibonacci series\n",
    "# min\n",
    "# max\n",
    "# table\n",
    "# prime\n",
    "# give_armstrong\n",
    "# give_prime"
   ]
  },
  {
   "cell_type": "code",
   "execution_count": 99,
   "id": "460aac47",
   "metadata": {},
   "outputs": [],
   "source": [
    "def give_prime(n1,n2):\n",
    "    if n1 == n2 == 1:\n",
    "        print('1 is not a Prime number!!')\n",
    "        \n",
    "    elif n1>1 and n2>1:\n",
    "        all_prime = []\n",
    "        for num in range(n1,n2+1):\n",
    "\n",
    "            for i in range(2,num):\n",
    "                if num % i == 0:\n",
    "                    break\n",
    "            else:\n",
    "                all_prime.append(num)\n",
    "\n",
    "        return all_prime\n",
    "    \n",
    "    else:\n",
    "        print('Invalid numbers!!')"
   ]
  },
  {
   "cell_type": "code",
   "execution_count": 105,
   "id": "329b5432",
   "metadata": {},
   "outputs": [
    {
     "name": "stdout",
     "output_type": "stream",
     "text": [
      "[2, 3, 5, 7, 11, 13, 17, 19, 23, 29, 31, 37, 41, 43, 47, 53, 59, 61, 67, 71, 73, 79, 83, 89, 97]\n"
     ]
    }
   ],
   "source": [
    "print(give_prime(2,100))"
   ]
  },
  {
   "cell_type": "code",
   "execution_count": 106,
   "id": "f657f6e9",
   "metadata": {},
   "outputs": [],
   "source": [
    "def check_armstrong(num):\n",
    "    pw = len(str(num))\n",
    "    ans = 0\n",
    "    \n",
    "    for i in str(num):\n",
    "        ans += int(i)**pw\n",
    "    return True if ans == num else False"
   ]
  },
  {
   "cell_type": "code",
   "execution_count": 109,
   "id": "056aff18",
   "metadata": {},
   "outputs": [],
   "source": [
    "def give_armstrong(n1,n2):\n",
    "    arm = []\n",
    "    for i in range(n1,n2+1):\n",
    "        if check_armstrong(i):\n",
    "            arm.append(i)\n",
    "    return arm"
   ]
  },
  {
   "cell_type": "code",
   "execution_count": 112,
   "id": "a58ad3e8",
   "metadata": {},
   "outputs": [
    {
     "data": {
      "text/plain": [
       "[153, 370, 371, 407, 1634, 8208, 9474]"
      ]
     },
     "execution_count": 112,
     "metadata": {},
     "output_type": "execute_result"
    }
   ],
   "source": [
    "give_armstrong(12,20000)"
   ]
  },
  {
   "cell_type": "code",
   "execution_count": null,
   "id": "7c104891",
   "metadata": {},
   "outputs": [],
   "source": []
  },
  {
   "cell_type": "code",
   "execution_count": null,
   "id": "9433c202",
   "metadata": {},
   "outputs": [],
   "source": []
  },
  {
   "cell_type": "code",
   "execution_count": 134,
   "id": "8449494b",
   "metadata": {},
   "outputs": [],
   "source": [
    "def give_area(shape = None):\n",
    "    \n",
    "    if shape == None:\n",
    "        area = 0\n",
    "        print('No Such area for None type Shape!!')\n",
    "    \n",
    "    elif shape.lower() == 'rectangle':\n",
    "        \n",
    "        l = float(input('Enter length: '))\n",
    "        b = float(input('Enter breadth: '))\n",
    "        \n",
    "        area = l*b\n",
    "        print(f'Area of {shape} is: {round(area,2)} sq unit')\n",
    "        \n",
    "        \n",
    "    elif shape.lower() == 'circle':\n",
    "        \n",
    "        r = float(input('Enter radius: '))\n",
    "        area = 3.14*r**2\n",
    "        print(f'Area of {shape} is: {round(area,2)} sq unit')\n",
    "        \n",
    "        \n",
    "    elif shape.lower() == 'triangle':\n",
    "        \n",
    "        a = float(input('Enter side a: '))\n",
    "        b = float(input('Enter side b: '))\n",
    "        c = float(input('Enter side c: '))\n",
    "    \n",
    "        \n",
    "        s = (a + b + c)/2\n",
    "        \n",
    "        if (a+b)>c   and (b+c)>a  and (c+a)>b:\n",
    "        \n",
    "            area = (s*(s-a)*(s-b)*(s-c))**0.5\n",
    "            print(f'Area of {shape} is: {round(area,2)} sq unit')\n",
    "            \n",
    "        else:\n",
    "            print('No such triangle can be formed using given sides!!')\n",
    "            print('''\"a + b\" must be greater than \"c\", as the sum of two side \n",
    "            lengths has to exceed the length of the third side!''')\n",
    "        \n",
    "    elif shape.lower() == 'square':\n",
    "        side = float(input('Enter side of a Square: '))\n",
    "        \n",
    "        area = side * side\n",
    "        print(f'Area of {shape} is: {round(area,2)} sq unit')\n",
    "        \n",
    "        \n",
    "    else:\n",
    "        print('No such shape found!!')\n",
    "        \n",
    "\n",
    "                "
   ]
  },
  {
   "cell_type": "code",
   "execution_count": null,
   "id": "2ff6e977",
   "metadata": {},
   "outputs": [],
   "source": []
  },
  {
   "cell_type": "code",
   "execution_count": 135,
   "id": "b1321c32",
   "metadata": {},
   "outputs": [
    {
     "name": "stdout",
     "output_type": "stream",
     "text": [
      "Enter side of a Square: 12\n",
      "Area of square is: 144.0 sq unit\n"
     ]
    }
   ],
   "source": [
    "give_area('square')"
   ]
  },
  {
   "cell_type": "code",
   "execution_count": 136,
   "id": "258c557a",
   "metadata": {},
   "outputs": [
    {
     "name": "stdout",
     "output_type": "stream",
     "text": [
      "Enter side a: 12\n",
      "Enter side b: 14\n",
      "Enter side c: 25\n",
      "Area of triangle is: 44.49 sq unit\n"
     ]
    }
   ],
   "source": [
    "give_area('triangle')"
   ]
  },
  {
   "cell_type": "code",
   "execution_count": null,
   "id": "743ee119",
   "metadata": {},
   "outputs": [],
   "source": []
  }
 ],
 "metadata": {
  "kernelspec": {
   "display_name": "Python 3 (ipykernel)",
   "language": "python",
   "name": "python3"
  },
  "language_info": {
   "codemirror_mode": {
    "name": "ipython",
    "version": 3
   },
   "file_extension": ".py",
   "mimetype": "text/x-python",
   "name": "python",
   "nbconvert_exporter": "python",
   "pygments_lexer": "ipython3",
   "version": "3.11.3"
  }
 },
 "nbformat": 4,
 "nbformat_minor": 5
}
