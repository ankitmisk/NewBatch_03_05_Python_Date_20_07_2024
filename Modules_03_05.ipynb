{
 "cells": [
  {
   "cell_type": "markdown",
   "id": "0fec9f4a",
   "metadata": {},
   "source": [
    "# Modules"
   ]
  },
  {
   "cell_type": "code",
   "execution_count": 1,
   "id": "9a31ae54",
   "metadata": {},
   "outputs": [],
   "source": [
    "# Software:\n",
    "#     Packages:\n",
    "#         Libraries/Packages:\n",
    "#             Modules Concept:\n",
    "#                 Functional Programming:\n",
    "#                     basic programming:\n",
    "#                         conditional programming:- loops, flow,if esle, data types"
   ]
  },
  {
   "cell_type": "code",
   "execution_count": null,
   "id": "be916f8e",
   "metadata": {},
   "outputs": [],
   "source": []
  },
  {
   "cell_type": "code",
   "execution_count": 2,
   "id": "85000f4c",
   "metadata": {},
   "outputs": [],
   "source": [
    "# minn()\n",
    "# maxx()"
   ]
  },
  {
   "cell_type": "code",
   "execution_count": 3,
   "id": "5f32123d",
   "metadata": {},
   "outputs": [
    {
     "ename": "NameError",
     "evalue": "name 'greet' is not defined",
     "output_type": "error",
     "traceback": [
      "\u001b[1;31m---------------------------------------------------------------------------\u001b[0m",
      "\u001b[1;31mNameError\u001b[0m                                 Traceback (most recent call last)",
      "Cell \u001b[1;32mIn[3], line 1\u001b[0m\n\u001b[1;32m----> 1\u001b[0m greet()\n",
      "\u001b[1;31mNameError\u001b[0m: name 'greet' is not defined"
     ]
    }
   ],
   "source": [
    "greet()"
   ]
  },
  {
   "cell_type": "code",
   "execution_count": 4,
   "id": "40dfea3e",
   "metadata": {},
   "outputs": [
    {
     "ename": "NameError",
     "evalue": "name 'harry' is not defined",
     "output_type": "error",
     "traceback": [
      "\u001b[1;31m---------------------------------------------------------------------------\u001b[0m",
      "\u001b[1;31mNameError\u001b[0m                                 Traceback (most recent call last)",
      "Cell \u001b[1;32mIn[4], line 1\u001b[0m\n\u001b[1;32m----> 1\u001b[0m harry\n",
      "\u001b[1;31mNameError\u001b[0m: name 'harry' is not defined"
     ]
    }
   ],
   "source": [
    "harry"
   ]
  },
  {
   "cell_type": "code",
   "execution_count": 6,
   "id": "62a43b73",
   "metadata": {},
   "outputs": [],
   "source": [
    "# Modules:- collect all func in one"
   ]
  },
  {
   "cell_type": "code",
   "execution_count": 7,
   "id": "93084b51",
   "metadata": {},
   "outputs": [],
   "source": [
    "import Anuj_Module"
   ]
  },
  {
   "cell_type": "code",
   "execution_count": 8,
   "id": "3f748098",
   "metadata": {},
   "outputs": [],
   "source": [
    "import cowsay"
   ]
  },
  {
   "cell_type": "code",
   "execution_count": 9,
   "id": "9342d420",
   "metadata": {},
   "outputs": [
    {
     "name": "stdout",
     "output_type": "stream",
     "text": [
      "  _____\n",
      "| Joker |\n",
      "  =====\n",
      "     \\\n",
      "      \\\n",
      "        ^__^\n",
      "        (oo)\\_______\n",
      "        (__)\\       )\\/\\\n",
      "            ||----w |\n",
      "            ||     ||\n"
     ]
    }
   ],
   "source": [
    "cowsay.cow('Joker')"
   ]
  },
  {
   "cell_type": "code",
   "execution_count": 10,
   "id": "6c5d4157",
   "metadata": {},
   "outputs": [
    {
     "name": "stdout",
     "output_type": "stream",
     "text": [
      "Hello Buddy!!\n"
     ]
    }
   ],
   "source": [
    "Anuj_Module.greet()"
   ]
  },
  {
   "cell_type": "code",
   "execution_count": 11,
   "id": "c56b5a63",
   "metadata": {},
   "outputs": [
    {
     "name": "stdout",
     "output_type": "stream",
     "text": [
      "    K\n",
      "   K O\n",
      "  K O M\n",
      " K O M A\n",
      "K O M A L\n",
      " K O M A\n",
      "  K O M\n",
      "   K O\n",
      "    K\n"
     ]
    }
   ],
   "source": [
    "Anuj_Module.pattern('Komal')"
   ]
  },
  {
   "cell_type": "code",
   "execution_count": 13,
   "id": "9b4ad42e",
   "metadata": {},
   "outputs": [
    {
     "name": "stdout",
     "output_type": "stream",
     "text": [
      "Enter side of a Square: 23\n",
      "Area of square is: 529.0 sq unit\n"
     ]
    }
   ],
   "source": [
    "Anuj_Module.give_area('square')"
   ]
  },
  {
   "cell_type": "code",
   "execution_count": 14,
   "id": "59ff29e7",
   "metadata": {},
   "outputs": [
    {
     "ename": "ModuleNotFoundError",
     "evalue": "No module named 'karan'",
     "output_type": "error",
     "traceback": [
      "\u001b[1;31m---------------------------------------------------------------------------\u001b[0m",
      "\u001b[1;31mModuleNotFoundError\u001b[0m                       Traceback (most recent call last)",
      "Cell \u001b[1;32mIn[14], line 1\u001b[0m\n\u001b[1;32m----> 1\u001b[0m \u001b[38;5;28;01mimport\u001b[39;00m \u001b[38;5;21;01mkaran\u001b[39;00m\n",
      "\u001b[1;31mModuleNotFoundError\u001b[0m: No module named 'karan'"
     ]
    }
   ],
   "source": [
    "import karan"
   ]
  },
  {
   "cell_type": "code",
   "execution_count": 18,
   "id": "f446fc7c",
   "metadata": {},
   "outputs": [],
   "source": [
    "import Anuj_Module as a"
   ]
  },
  {
   "cell_type": "code",
   "execution_count": 16,
   "id": "b17bf678",
   "metadata": {},
   "outputs": [
    {
     "name": "stdout",
     "output_type": "stream",
     "text": [
      "Prime Number!!\n"
     ]
    }
   ],
   "source": [
    "Anuj_Module.prime_number(23)"
   ]
  },
  {
   "cell_type": "code",
   "execution_count": 17,
   "id": "dece8c69",
   "metadata": {},
   "outputs": [],
   "source": [
    "import cowsay as c"
   ]
  },
  {
   "cell_type": "code",
   "execution_count": 19,
   "id": "3aa5cec9",
   "metadata": {},
   "outputs": [
    {
     "name": "stdout",
     "output_type": "stream",
     "text": [
      "  _____\n",
      "| Joker |\n",
      "  =====\n",
      "      \\\n",
      "       \\\n",
      "        \\\n",
      "         |\\_/|,,_____,~~`\n",
      "         (.\".)~~     )`~}}\n",
      "          \\o/\\ /---~\\\\ ~}}\n",
      "            _//    _// ~}\n"
     ]
    }
   ],
   "source": [
    "c.fox('Joker')"
   ]
  },
  {
   "cell_type": "code",
   "execution_count": 21,
   "id": "e3884186",
   "metadata": {},
   "outputs": [
    {
     "data": {
      "text/plain": [
       "5"
      ]
     },
     "execution_count": 21,
     "metadata": {},
     "output_type": "execute_result"
    }
   ],
   "source": [
    "a.count('lucky')"
   ]
  },
  {
   "cell_type": "code",
   "execution_count": 22,
   "id": "8972ae36",
   "metadata": {},
   "outputs": [
    {
     "data": {
      "text/plain": [
       "[0, 1, 1, 2, 3, 5, 8, 13, 21, 34]"
      ]
     },
     "execution_count": 22,
     "metadata": {},
     "output_type": "execute_result"
    }
   ],
   "source": [
    "a.give_fibonnaci(10)"
   ]
  },
  {
   "cell_type": "code",
   "execution_count": 23,
   "id": "7edf15ed",
   "metadata": {},
   "outputs": [],
   "source": [
    "# import Anuj_Module as a"
   ]
  },
  {
   "cell_type": "code",
   "execution_count": 24,
   "id": "a675b086",
   "metadata": {},
   "outputs": [],
   "source": [
    "from Anuj_Module import rec_factorial"
   ]
  },
  {
   "cell_type": "code",
   "execution_count": 25,
   "id": "d64e5aa8",
   "metadata": {},
   "outputs": [
    {
     "data": {
      "text/plain": [
       "479001600"
      ]
     },
     "execution_count": 25,
     "metadata": {},
     "output_type": "execute_result"
    }
   ],
   "source": [
    "rec_factorial(12)"
   ]
  },
  {
   "cell_type": "code",
   "execution_count": 26,
   "id": "23a2202d",
   "metadata": {},
   "outputs": [
    {
     "data": {
      "text/plain": [
       "3628800"
      ]
     },
     "execution_count": 26,
     "metadata": {},
     "output_type": "execute_result"
    }
   ],
   "source": [
    "rec_factorial(10)"
   ]
  },
  {
   "cell_type": "code",
   "execution_count": 27,
   "id": "50e75206",
   "metadata": {},
   "outputs": [],
   "source": [
    "from functools import reduce"
   ]
  },
  {
   "cell_type": "code",
   "execution_count": 30,
   "id": "335f5884",
   "metadata": {},
   "outputs": [],
   "source": [
    "from Anuj_Module import rec_factorial,check_max,summ"
   ]
  },
  {
   "cell_type": "code",
   "execution_count": 29,
   "id": "e2026c90",
   "metadata": {},
   "outputs": [
    {
     "data": {
      "text/plain": [
       "56"
      ]
     },
     "execution_count": 29,
     "metadata": {},
     "output_type": "execute_result"
    }
   ],
   "source": [
    "check_max([2,34,56,4])"
   ]
  },
  {
   "cell_type": "code",
   "execution_count": 31,
   "id": "a4fbf2a6",
   "metadata": {},
   "outputs": [
    {
     "data": {
      "text/plain": [
       "4111"
      ]
     },
     "execution_count": 31,
     "metadata": {},
     "output_type": "execute_result"
    }
   ],
   "source": [
    "summ([2,3445,664,])"
   ]
  },
  {
   "cell_type": "code",
   "execution_count": 32,
   "id": "f1db9a0b",
   "metadata": {},
   "outputs": [],
   "source": [
    "from Anuj_Module import *"
   ]
  },
  {
   "cell_type": "code",
   "execution_count": 34,
   "id": "9da8a2e1",
   "metadata": {},
   "outputs": [
    {
     "data": {
      "text/plain": [
       "[13, 17, 19]"
      ]
     },
     "execution_count": 34,
     "metadata": {},
     "output_type": "execute_result"
    }
   ],
   "source": [
    "give_prime(12,20)"
   ]
  },
  {
   "cell_type": "code",
   "execution_count": 39,
   "id": "cf377474",
   "metadata": {},
   "outputs": [],
   "source": [
    "from Anuj_Module import check_armstrong as cat"
   ]
  },
  {
   "cell_type": "code",
   "execution_count": 37,
   "id": "50b2fe9d",
   "metadata": {},
   "outputs": [
    {
     "data": {
      "text/plain": [
       "True"
      ]
     },
     "execution_count": 37,
     "metadata": {},
     "output_type": "execute_result"
    }
   ],
   "source": [
    "check_armstrong(153)"
   ]
  },
  {
   "cell_type": "code",
   "execution_count": 1,
   "id": "af388569",
   "metadata": {},
   "outputs": [
    {
     "ename": "NameError",
     "evalue": "name 'cat' is not defined",
     "output_type": "error",
     "traceback": [
      "\u001b[1;31m---------------------------------------------------------------------------\u001b[0m",
      "\u001b[1;31mNameError\u001b[0m                                 Traceback (most recent call last)",
      "Cell \u001b[1;32mIn[1], line 1\u001b[0m\n\u001b[1;32m----> 1\u001b[0m cat(\u001b[38;5;241m153\u001b[39m)\n",
      "\u001b[1;31mNameError\u001b[0m: name 'cat' is not defined"
     ]
    }
   ],
   "source": [
    "cat(153)"
   ]
  },
  {
   "cell_type": "code",
   "execution_count": 2,
   "id": "4cfc396a",
   "metadata": {},
   "outputs": [
    {
     "name": "stdout",
     "output_type": "stream",
     "text": [
      "pygame 2.5.1 (SDL 2.28.2, Python 3.11.3)\n",
      "Hello from the pygame community. https://www.pygame.org/contribute.html\n"
     ]
    }
   ],
   "source": [
    "import pygame"
   ]
  },
  {
   "cell_type": "code",
   "execution_count": 3,
   "id": "6ed9baf1",
   "metadata": {},
   "outputs": [
    {
     "name": "stdout",
     "output_type": "stream",
     "text": [
      "Anuj_Module 2.5.1 (SDL 2.28.2, Python 3.11.3)\n",
      "Hello from the Anuj_Modules community. https://www.pygame.org/contribute.html\n"
     ]
    }
   ],
   "source": [
    "import Anuj_Module"
   ]
  },
  {
   "cell_type": "code",
   "execution_count": 4,
   "id": "c9c5dca6",
   "metadata": {},
   "outputs": [],
   "source": [
    "import Anuj_Module\n",
    "import Anuj_Module as AM\n",
    "from Anuj_Module import *\n",
    "from Anuj_Module import check_max\n",
    "from Anuj_Module import check_max,count\n",
    "from Anuj_Module import check_max as c\n",
    "from Anuj_Module import check_max as c, count as ct, give_prime as gp\n"
   ]
  },
  {
   "cell_type": "code",
   "execution_count": 6,
   "id": "98f32473",
   "metadata": {},
   "outputs": [
    {
     "data": {
      "text/plain": [
       "[13, 17, 19, 23, 29, 31, 37, 41, 43, 47]"
      ]
     },
     "execution_count": 6,
     "metadata": {},
     "output_type": "execute_result"
    }
   ],
   "source": [
    "gp(12,50)"
   ]
  },
  {
   "cell_type": "code",
   "execution_count": null,
   "id": "51ec942e",
   "metadata": {},
   "outputs": [],
   "source": []
  },
  {
   "cell_type": "code",
   "execution_count": null,
   "id": "9c20eae1",
   "metadata": {},
   "outputs": [],
   "source": []
  },
  {
   "cell_type": "markdown",
   "id": "5ec8addb",
   "metadata": {},
   "source": [
    "# Inbuilt Modules"
   ]
  },
  {
   "cell_type": "code",
   "execution_count": 10,
   "id": "ccd2fafe",
   "metadata": {},
   "outputs": [],
   "source": [
    "import time\n",
    "import calendar\n",
    "import random\n",
    "import turtle\n",
    "import string"
   ]
  },
  {
   "cell_type": "code",
   "execution_count": 11,
   "id": "0edbac6d",
   "metadata": {},
   "outputs": [],
   "source": [
    "# download:\n",
    "import cowsay\n",
    "import pygame\n",
    "import gtts\n"
   ]
  },
  {
   "cell_type": "code",
   "execution_count": 14,
   "id": "58454af2",
   "metadata": {},
   "outputs": [],
   "source": [
    "# # # Popular Modulse\n",
    "\n",
    "# # Data Analyst:- \n",
    "# # pandas:- DataFrames\n",
    "# # Numpy:- array\n",
    "# # matplotlib, Seaborn, stats  \n",
    "\n",
    "\n",
    "# Website \n",
    "# Django, flask, fastapi\n",
    "\n",
    "\n",
    "# ML:- \n",
    "# Sklearn, scipy, statsmodel\n",
    "\n",
    "# AI:- \n",
    "#     Open cv, nltk, keras, tensorflow, hugging gace, gensim, bert, scipy, maths\n",
    "    \n",
    "# game:-\n",
    "#     Pygame, tkinter, pyqt5,\n",
    "\n",
    "# basic:- cowsay, turtle"
   ]
  },
  {
   "cell_type": "markdown",
   "id": "10345a1c",
   "metadata": {},
   "source": [
    "# https://pypi.org/"
   ]
  },
  {
   "cell_type": "code",
   "execution_count": null,
   "id": "7fc10032",
   "metadata": {},
   "outputs": [],
   "source": []
  },
  {
   "cell_type": "code",
   "execution_count": 16,
   "id": "3ffb17f4",
   "metadata": {},
   "outputs": [],
   "source": [
    "# pip install qrcode"
   ]
  },
  {
   "cell_type": "code",
   "execution_count": 17,
   "id": "bcd923d2",
   "metadata": {},
   "outputs": [
    {
     "name": "stdout",
     "output_type": "stream",
     "text": [
      "done\n"
     ]
    }
   ],
   "source": [
    "import qrcode as qr\n",
    "print('done')"
   ]
  },
  {
   "cell_type": "code",
   "execution_count": 18,
   "id": "111aa15d",
   "metadata": {},
   "outputs": [
    {
     "name": "stdout",
     "output_type": "stream",
     "text": [
      "done\n"
     ]
    }
   ],
   "source": [
    "data = '''❤️Python is Awesome❤️'''\n",
    "\n",
    "image = qr.make(data)\n",
    "image.save('myqr.png')\n",
    "\n",
    "print('done')"
   ]
  },
  {
   "cell_type": "code",
   "execution_count": 20,
   "id": "fbe9990e",
   "metadata": {},
   "outputs": [
    {
     "name": "stdout",
     "output_type": "stream",
     "text": [
      "done\n"
     ]
    }
   ],
   "source": [
    "data = 'https://www.youtube.com/watch?v=LCmuadt3KdE'\n",
    "image = qr.make(data)\n",
    "image.save('youtube.png')\n",
    "\n",
    "print('done')"
   ]
  },
  {
   "cell_type": "code",
   "execution_count": 21,
   "id": "5222dd75",
   "metadata": {},
   "outputs": [
    {
     "name": "stdout",
     "output_type": "stream",
     "text": [
      "done\n"
     ]
    }
   ],
   "source": [
    "data = '''https://drive.google.com/file/d/1dRXeOEDvkTSHs_pHmo0X5iW80HiUZrZj/view?usp=sharing'''\n",
    "\n",
    "\n",
    "image = qr.make(data)\n",
    "image.save('photo.png')\n",
    "\n",
    "print('done')"
   ]
  },
  {
   "cell_type": "code",
   "execution_count": null,
   "id": "1f11d2a5",
   "metadata": {},
   "outputs": [],
   "source": []
  },
  {
   "cell_type": "code",
   "execution_count": null,
   "id": "18cd18d7",
   "metadata": {},
   "outputs": [],
   "source": []
  },
  {
   "cell_type": "code",
   "execution_count": 22,
   "id": "2f6f5034",
   "metadata": {},
   "outputs": [],
   "source": [
    "import IPython as ip"
   ]
  },
  {
   "cell_type": "code",
   "execution_count": 25,
   "id": "5b2e517b",
   "metadata": {
    "scrolled": true
   },
   "outputs": [
    {
     "data": {
      "image/jpeg": "[encoded data removed]",
      "text/html": [
       "\n",
       "        <iframe\n",
       "            width=\"400\"\n",
       "            height=\"300\"\n",
       "            src=\"https://www.youtube.com/embed/yDLxLywn3yo?autoplay=1\"\n",
       "            frameborder=\"0\"\n",
       "            allowfullscreen\n",
       "            allow=\"autoplay\"\n",
       "        ></iframe>\n",
       "        "
      ],
      "text/plain": [
       "<IPython.lib.display.YouTubeVideo at 0x1c02945b5d0>"
      ]
     },
     "execution_count": 25,
     "metadata": {},
     "output_type": "execute_result"
    }
   ],
   "source": [
    "ip.display.YouTubeVideo('yDLxLywn3yo', allow_autoplay=True)"
   ]
  },
  {
   "cell_type": "code",
   "execution_count": 24,
   "id": "17c42275",
   "metadata": {},
   "outputs": [
    {
     "name": "stdout",
     "output_type": "stream",
     "text": [
      "hello\n",
      "hello\n",
      "hello\n",
      "hello\n",
      "hello\n",
      "hello\n",
      "hello\n",
      "hello\n",
      "hello\n",
      "hello\n"
     ]
    }
   ],
   "source": [
    "for i in range(1,11):\n",
    "    print('hello')"
   ]
  },
  {
   "cell_type": "code",
   "execution_count": 29,
   "id": "7088d3f2",
   "metadata": {},
   "outputs": [
    {
     "name": "stdout",
     "output_type": "stream",
     "text": [
      "done\n"
     ]
    }
   ],
   "source": [
    "import pyautogui as py\n",
    "print('done')"
   ]
  },
  {
   "cell_type": "code",
   "execution_count": null,
   "id": "3d2dfe1c",
   "metadata": {},
   "outputs": [],
   "source": []
  },
  {
   "cell_type": "code",
   "execution_count": 32,
   "id": "a93bca53",
   "metadata": {},
   "outputs": [],
   "source": [
    "import time\n",
    "import random\n",
    "import string\n",
    "time.sleep(5)\n",
    "all_chr = string.ascii_letters\n",
    "\n",
    "for i in range(100):\n",
    "#     time.sleep(1)\n",
    "    py.press(random.choice(all_chr))"
   ]
  },
  {
   "cell_type": "code",
   "execution_count": null,
   "id": "e6a72377",
   "metadata": {},
   "outputs": [],
   "source": []
  },
  {
   "cell_type": "code",
   "execution_count": null,
   "id": "c925daa6",
   "metadata": {},
   "outputs": [],
   "source": []
  },
  {
   "cell_type": "code",
   "execution_count": 33,
   "id": "7a623b79",
   "metadata": {},
   "outputs": [],
   "source": [
    "data = '''India, officially the Republic of India, is a country in South Asia. It is the seventh-largest country by area; the most populous country from June 2023 and from the time of its independence in 1947, the world's most populous democracy'''"
   ]
  },
  {
   "cell_type": "code",
   "execution_count": 34,
   "id": "7e9d86d4",
   "metadata": {},
   "outputs": [
    {
     "name": "stdout",
     "output_type": "stream",
     "text": [
      "India, officially the Republic of India, is a country in South Asia. It is the seventh-largest country by area; the most populous country from June 2023 and from the time of its independence in 1947, the world's most populous democracy\n"
     ]
    }
   ],
   "source": [
    "print(data)"
   ]
  },
  {
   "cell_type": "code",
   "execution_count": 35,
   "id": "469bafa0",
   "metadata": {},
   "outputs": [],
   "source": [
    "time.sleep(5)\n",
    "for i in data:\n",
    "    py.write(i)"
   ]
  },
  {
   "cell_type": "code",
   "execution_count": 36,
   "id": "252c68ec",
   "metadata": {},
   "outputs": [],
   "source": [
    "from gtts import gTTS\n",
    "import pygame\n",
    "import pyautogui as py\n",
    "\n",
    "time.sleep(4)\n",
    "\n",
    "pygame.init()\n",
    "data = 'Hello My name is Karan'\n",
    "\n",
    "speech = gTTS(data)\n",
    "speech.save('temp.mp3')\n",
    "\n",
    "music = pygame.mixer.Sound('temp.mp3')\n",
    "music.play()\n",
    "\n",
    "\n",
    "for i in data:\n",
    "    py.write(i)"
   ]
  },
  {
   "cell_type": "code",
   "execution_count": null,
   "id": "a6520f04",
   "metadata": {},
   "outputs": [],
   "source": []
  }
 ],
 "metadata": {
  "kernelspec": {
   "display_name": "Python 3 (ipykernel)",
   "language": "python",
   "name": "python3"
  },
  "language_info": {
   "codemirror_mode": {
    "name": "ipython",
    "version": 3
   },
   "file_extension": ".py",
   "mimetype": "text/x-python",
   "name": "python",
   "nbconvert_exporter": "python",
   "pygments_lexer": "ipython3",
   "version": "3.11.3"
  }
 },
 "nbformat": 4,
 "nbformat_minor": 5
}
