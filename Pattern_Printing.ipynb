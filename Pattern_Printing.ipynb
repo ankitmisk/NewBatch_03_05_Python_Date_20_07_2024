{
 "cells": [
  {
   "cell_type": "code",
   "execution_count": 1,
   "id": "968e3ad9",
   "metadata": {},
   "outputs": [],
   "source": [
    "#\n",
    "\n",
    "# *\n",
    "# * *\n",
    "# * * *\n",
    "# * * * *"
   ]
  },
  {
   "cell_type": "code",
   "execution_count": 15,
   "id": "499f9ffa",
   "metadata": {},
   "outputs": [
    {
     "name": "stdout",
     "output_type": "stream",
     "text": [
      "* \n",
      "* * \n",
      "* * * \n",
      "* * * * \n",
      "* * * * * \n",
      "* * * * * * \n",
      "* * * * * * * \n",
      "* * * * * * * * \n",
      "* * * * * * * * * \n"
     ]
    }
   ],
   "source": [
    "man = 9\n",
    "for i in range(1,man+1):\n",
    "    print('* '*i)"
   ]
  },
  {
   "cell_type": "code",
   "execution_count": 4,
   "id": "52b713c3",
   "metadata": {},
   "outputs": [
    {
     "data": {
      "text/plain": [
       "'* * * * '"
      ]
     },
     "execution_count": 4,
     "metadata": {},
     "output_type": "execute_result"
    }
   ],
   "source": [
    "'* '*4"
   ]
  },
  {
   "cell_type": "code",
   "execution_count": null,
   "id": "21ed6109",
   "metadata": {},
   "outputs": [],
   "source": []
  },
  {
   "cell_type": "code",
   "execution_count": 16,
   "id": "d2243439",
   "metadata": {},
   "outputs": [],
   "source": [
    "# * * * *\n",
    "# * * *\n",
    "# * *\n",
    "# *"
   ]
  },
  {
   "cell_type": "code",
   "execution_count": 18,
   "id": "7b7296b6",
   "metadata": {},
   "outputs": [
    {
     "name": "stdout",
     "output_type": "stream",
     "text": [
      "* * * * \n",
      "* * * \n",
      "* * \n",
      "* \n"
     ]
    }
   ],
   "source": [
    "num =  4\n",
    "for i in range(num,0,-1):\n",
    "    print('* '*i)"
   ]
  },
  {
   "cell_type": "code",
   "execution_count": 19,
   "id": "f22bb600",
   "metadata": {},
   "outputs": [],
   "source": [
    "# * * * * *\n",
    "#     *\n",
    "#     *\n",
    "#     *\n",
    "#     *"
   ]
  },
  {
   "cell_type": "code",
   "execution_count": 36,
   "id": "dc5c15ce",
   "metadata": {},
   "outputs": [
    {
     "name": "stdout",
     "output_type": "stream",
     "text": [
      "* * * * * \n",
      "    *\n",
      "    *\n",
      "    *\n",
      "    *\n"
     ]
    }
   ],
   "source": [
    "num = 5\n",
    "for i in range(num):\n",
    "    if i == 0:\n",
    "        print('* '*num)\n",
    "    else:\n",
    "        print(' '*(num-1)+'*')"
   ]
  },
  {
   "cell_type": "code",
   "execution_count": 37,
   "id": "f35232e1",
   "metadata": {},
   "outputs": [],
   "source": [
    "num = 5\n",
    "# '* * * * '\n",
    "# '* * * * '\n",
    "# '* * * * '\n",
    "# '* * * * '\n",
    "# '* * * * '"
   ]
  },
  {
   "cell_type": "code",
   "execution_count": 40,
   "id": "005ce356",
   "metadata": {},
   "outputs": [
    {
     "name": "stdout",
     "output_type": "stream",
     "text": [
      "* * * * * * * * \n",
      "* * * * * * * * \n",
      "* * * * * * * * \n",
      "* * * * * * * * \n",
      "* * * * * * * * \n",
      "* * * * * * * * \n",
      "* * * * * * * * \n",
      "* * * * * * * * \n"
     ]
    }
   ],
   "source": [
    "num = 8\n",
    "for i in range(num):\n",
    "    print('* '*num)"
   ]
  },
  {
   "cell_type": "code",
   "execution_count": 46,
   "id": "d4059405",
   "metadata": {},
   "outputs": [
    {
     "name": "stdout",
     "output_type": "stream",
     "text": [
      "1 1 1 1 1 \n",
      "2 2 2 2 2 \n",
      "3 3 3 3 3 \n",
      "4 4 4 4 4 \n",
      "5 5 5 5 5 \n"
     ]
    }
   ],
   "source": [
    "num = 5\n",
    "for i in range(num):\n",
    "    print(f'{i+1} '*num)"
   ]
  },
  {
   "cell_type": "code",
   "execution_count": 49,
   "id": "74d4eced",
   "metadata": {},
   "outputs": [
    {
     "name": "stdout",
     "output_type": "stream",
     "text": [
      "1 1 1 1 1 \n",
      "2 2 2 2 2 \n",
      "3 3 3 3 3 \n",
      "4 4 4 4 4 \n",
      "5 5 5 5 5 \n"
     ]
    }
   ],
   "source": [
    "num = 5\n",
    "char = ''\n",
    "for i in range(1,num+1):\n",
    "    char = str(i)+' '\n",
    "    print(char*num)"
   ]
  },
  {
   "cell_type": "code",
   "execution_count": 50,
   "id": "5057b066",
   "metadata": {},
   "outputs": [],
   "source": [
    "# word = 'Python'\n",
    "\n",
    "# 'P'\n",
    "# 'P Y'\n",
    "# 'P Y T'\n",
    "# 'P Y T H'\n",
    "# 'P Y T H O'\n",
    "# 'P Y T H O N'"
   ]
  },
  {
   "cell_type": "code",
   "execution_count": 52,
   "id": "c9085365",
   "metadata": {},
   "outputs": [
    {
     "name": "stdout",
     "output_type": "stream",
     "text": [
      "(0, 'H')\n",
      "(1, 'a')\n",
      "(2, 'r')\n",
      "(3, 'r')\n",
      "(4, 'y')\n"
     ]
    }
   ],
   "source": [
    "for i in enumerate('Harry'):\n",
    "    print(i)"
   ]
  },
  {
   "cell_type": "code",
   "execution_count": null,
   "id": "2c4b6fbc",
   "metadata": {},
   "outputs": [],
   "source": []
  },
  {
   "cell_type": "code",
   "execution_count": 61,
   "id": "2e5c4a89",
   "metadata": {},
   "outputs": [
    {
     "name": "stdout",
     "output_type": "stream",
     "text": [
      "P\n",
      "Py\n",
      "Pyt\n",
      "Pyth\n",
      "Pytho\n",
      "Python\n"
     ]
    }
   ],
   "source": [
    "word = 'Python'\n",
    "\n",
    "# word[0:1]\n",
    "# word[0:2]\n",
    "# word[0:3]\n",
    "# word[0:4]\n",
    "\n",
    "for i in range(len(word)):\n",
    "    print(word[0:i+1])"
   ]
  },
  {
   "cell_type": "code",
   "execution_count": null,
   "id": "508bae40",
   "metadata": {},
   "outputs": [],
   "source": [
    "p\n",
    "p y\n",
    "p y t"
   ]
  },
  {
   "cell_type": "code",
   "execution_count": 68,
   "id": "46b48ea8",
   "metadata": {},
   "outputs": [
    {
     "data": {
      "text/plain": [
       "'Python'"
      ]
     },
     "execution_count": 68,
     "metadata": {},
     "output_type": "execute_result"
    }
   ],
   "source": [
    "word[0:0+6]"
   ]
  },
  {
   "cell_type": "code",
   "execution_count": 71,
   "id": "176bbf19",
   "metadata": {},
   "outputs": [
    {
     "name": "stdout",
     "output_type": "stream",
     "text": [
      "H \n",
      "H e \n",
      "H e l \n",
      "H e l l \n",
      "H e l l o \n",
      "H e l l o   \n",
      "H e l l o   W \n",
      "H e l l o   W o \n",
      "H e l l o   W o r \n",
      "H e l l o   W o r l \n",
      "H e l l o   W o r l d \n"
     ]
    }
   ],
   "source": [
    "word = 'Hello World'\n",
    "\n",
    "for i in range(len(word)):\n",
    "    for j in word[0:i+1]:\n",
    "        print(j,end=' ')\n",
    "    print()"
   ]
  },
  {
   "cell_type": "code",
   "execution_count": 75,
   "id": "89c8f9c6",
   "metadata": {},
   "outputs": [
    {
     "name": "stdout",
     "output_type": "stream",
     "text": [
      "H e l l o   W o r l d \n",
      "H e l l o   W o r l \n",
      "H e l l o   W o r \n",
      "H e l l o   W o \n",
      "H e l l o   W \n",
      "H e l l o   \n",
      "H e l l o \n",
      "H e l l \n",
      "H e l \n",
      "H e \n",
      "H \n",
      "\n"
     ]
    }
   ],
   "source": [
    "for i in range(len(word),-1,-1):\n",
    "    for j in word[0:i]:\n",
    "        print(j,end=' ')\n",
    "    print()"
   ]
  },
  {
   "cell_type": "code",
   "execution_count": 82,
   "id": "eeda44ee",
   "metadata": {},
   "outputs": [
    {
     "name": "stdout",
     "output_type": "stream",
     "text": [
      "\n",
      "P \n",
      "P y \n",
      "P y t \n",
      "P y t h \n",
      "P y t h o \n",
      "P y t h o n \n",
      "P y t h o \n",
      "P y t h \n",
      "P y t \n",
      "P y \n",
      "P \n",
      "\n"
     ]
    }
   ],
   "source": [
    "word = 'Python'\n",
    "\n",
    "for i in range(len(word)):\n",
    "    for j in word[0:i]:\n",
    "        print(j,end=' ')\n",
    "    print()\n",
    "    \n",
    "for i in range(len(word),-1,-1):\n",
    "    for j in word[0:i]:\n",
    "        print(j,end=' ')\n",
    "    print()"
   ]
  },
  {
   "cell_type": "code",
   "execution_count": 88,
   "id": "ebf5540f",
   "metadata": {},
   "outputs": [
    {
     "name": "stdout",
     "output_type": "stream",
     "text": [
      "\n",
      "1 \n",
      "1 2 \n",
      "1 2 3 \n",
      "1 2 3 4 \n",
      "1 2 3 \n",
      "1 2 \n",
      "1 \n",
      "\n"
     ]
    }
   ],
   "source": [
    "num = 4\n",
    "word = range(1,num+1)\n",
    "\n",
    "for i in range(len(word)):\n",
    "    for j in word[0:i]:\n",
    "        print(j,end=' ')\n",
    "    print()\n",
    "    \n",
    "for i in range(len(word),-1,-1):\n",
    "    for j in word[0:i]:\n",
    "        print(j,end=' ')\n",
    "    print()"
   ]
  },
  {
   "cell_type": "code",
   "execution_count": null,
   "id": "4980ab02",
   "metadata": {},
   "outputs": [],
   "source": []
  },
  {
   "cell_type": "code",
   "execution_count": 89,
   "id": "4bbe31ab",
   "metadata": {},
   "outputs": [],
   "source": [
    "#    '*'\n",
    "#   '* *'\n",
    "#  '* * *'\n",
    "# '* * * *'"
   ]
  },
  {
   "cell_type": "code",
   "execution_count": 93,
   "id": "d07c6620",
   "metadata": {},
   "outputs": [
    {
     "name": "stdout",
     "output_type": "stream",
     "text": [
      "   * \n",
      "  * * \n",
      " * * * \n",
      "* * * * \n"
     ]
    }
   ],
   "source": [
    "num = 4\n",
    "\n",
    "for i in range(1,num+1):\n",
    "    print(' '*(num-i)+'* '*i)"
   ]
  },
  {
   "cell_type": "code",
   "execution_count": 94,
   "id": "720ac1e6",
   "metadata": {},
   "outputs": [
    {
     "name": "stdout",
     "output_type": "stream",
     "text": [
      "* \n",
      "* * \n",
      "* * * \n",
      "* * * * \n"
     ]
    }
   ],
   "source": [
    "num = 4\n",
    "\n",
    "for i in range(1,num+1):\n",
    "    print(''*(num-i)+'* '*i)"
   ]
  },
  {
   "cell_type": "code",
   "execution_count": 95,
   "id": "75ee6f4f",
   "metadata": {},
   "outputs": [
    {
     "name": "stdout",
     "output_type": "stream",
     "text": [
      "      * \n",
      "    * * \n",
      "  * * * \n",
      "* * * * \n"
     ]
    }
   ],
   "source": [
    "num = 4\n",
    "\n",
    "for i in range(1,num+1):\n",
    "    print('  '*(num-i)+'* '*i)"
   ]
  },
  {
   "cell_type": "code",
   "execution_count": 96,
   "id": "f1212be4",
   "metadata": {},
   "outputs": [
    {
     "name": "stdout",
     "output_type": "stream",
     "text": [
      "* * * * \n",
      "  * * * \n",
      "    * * \n",
      "      * \n"
     ]
    }
   ],
   "source": [
    "num = 4\n",
    "\n",
    "for i in range(num,0,-1):\n",
    "    print('  '*(num-i)+'* '*i)"
   ]
  },
  {
   "cell_type": "code",
   "execution_count": 100,
   "id": "be47c2a4",
   "metadata": {},
   "outputs": [
    {
     "name": "stdout",
     "output_type": "stream",
     "text": [
      "        * \n",
      "      * * \n",
      "    * * * \n",
      "  * * * * \n",
      "* * * * * \n",
      "  * * * * \n",
      "    * * * \n",
      "      * * \n",
      "        * \n"
     ]
    }
   ],
   "source": [
    "num = 5\n",
    "\n",
    "for i in range(1,num):\n",
    "    print('  '*(num-i)+'* '*i)\n",
    "for i in range(num,0,-1):\n",
    "    print('  '*(num-i)+'* '*i)"
   ]
  },
  {
   "cell_type": "code",
   "execution_count": null,
   "id": "6091c779",
   "metadata": {},
   "outputs": [],
   "source": []
  },
  {
   "cell_type": "code",
   "execution_count": 101,
   "id": "ce641060",
   "metadata": {},
   "outputs": [
    {
     "name": "stdout",
     "output_type": "stream",
     "text": [
      "\n",
      "1 \n",
      "1 2 \n",
      "1 2 3 \n",
      "1 2 3 4 \n",
      "1 2 3 \n",
      "1 2 \n",
      "1 \n",
      "\n"
     ]
    }
   ],
   "source": [
    "num = 4\n",
    "word = range(1,num+1)\n",
    "\n",
    "for i in range(len(word)):\n",
    "    for j in word[0:i]:\n",
    "        print(j,end=' ')\n",
    "    print()\n",
    "    \n",
    "for i in range(len(word),-1,-1):\n",
    "    for j in word[0:i]:\n",
    "        print(j,end=' ')\n",
    "    print()"
   ]
  },
  {
   "cell_type": "code",
   "execution_count": 105,
   "id": "2312dd36",
   "metadata": {},
   "outputs": [
    {
     "name": "stdout",
     "output_type": "stream",
     "text": [
      "* \n",
      "* * \n",
      "* * * \n",
      "* * * * \n",
      "* * * \n",
      "* * \n",
      "* \n"
     ]
    }
   ],
   "source": [
    "num = 4\n",
    "\n",
    "for i in range(1,num):\n",
    "    print(''*(num-i)+'* '*i)\n",
    "    \n",
    "for i in range(num,0,-1):\n",
    "    print(''*(num-i)+'* '*i)"
   ]
  },
  {
   "cell_type": "code",
   "execution_count": 106,
   "id": "c5766bea",
   "metadata": {},
   "outputs": [
    {
     "name": "stdout",
     "output_type": "stream",
     "text": [
      "      * \n",
      "    * * \n",
      "  * * * \n",
      "* * * * \n",
      "  * * * \n",
      "    * * \n",
      "      * \n"
     ]
    }
   ],
   "source": [
    "for i in range(1,num):\n",
    "    print('  '*(num-i)+'* '*i)\n",
    "for i in range(num,0,-1):\n",
    "    print('  '*(num-i)+'* '*i)"
   ]
  },
  {
   "cell_type": "code",
   "execution_count": 114,
   "id": "4949bddf",
   "metadata": {},
   "outputs": [
    {
     "name": "stdout",
     "output_type": "stream",
     "text": [
      "* \n",
      "* * \n",
      "* * * \n",
      "* * * * \n",
      "* * * \n",
      "* * \n",
      "* \n",
      "      * \n",
      "    * * \n",
      "  * * * \n",
      "* * * * \n",
      "  * * * \n",
      "    * * \n",
      "      * \n"
     ]
    }
   ],
   "source": [
    "for i in range(1,num):\n",
    "    print(''*(num-i)+'* '*i)\n",
    "    \n",
    "for i in range(num,0,-1):\n",
    "    print(''*(num-i)+'* '*i)\n",
    "    \n",
    "    \n",
    "for i in range(1,num):\n",
    "    print('  '*(num-i)+'* '*i)\n",
    "    \n",
    "    \n",
    "    \n",
    "for i in range(num,0,-1):\n",
    "    print('  '*(num-i)+'* '*i)"
   ]
  },
  {
   "cell_type": "code",
   "execution_count": 115,
   "id": "14097956",
   "metadata": {},
   "outputs": [
    {
     "name": "stdout",
     "output_type": "stream",
     "text": [
      "* * * * \n",
      " * * * \n",
      "  * * \n",
      "   * \n"
     ]
    }
   ],
   "source": [
    "num = 4\n",
    "\n",
    "for i in range(num,0,-1):\n",
    "    print(' '*(num-i)+'* '*i)"
   ]
  },
  {
   "cell_type": "code",
   "execution_count": 118,
   "id": "939ac6ec",
   "metadata": {},
   "outputs": [
    {
     "name": "stdout",
     "output_type": "stream",
     "text": [
      "   * \n",
      "  * * \n",
      " * * * \n",
      "* * * * \n",
      " * * * \n",
      "  * * \n",
      "   * \n"
     ]
    }
   ],
   "source": [
    "num = 4\n",
    "\n",
    "for i in range(1,num):\n",
    "    print(' '*(num-i)+'* '*i)\n",
    "    \n",
    "for i in range(num,0,-1):\n",
    "    print(' '*(num-i)+'* '*i)"
   ]
  },
  {
   "attachments": {
    "image.png": {
     "image/png": "[encoded data removed]"
    }
   },
   "cell_type": "markdown",
   "id": "0cf92e7e",
   "metadata": {},
   "source": [
    "![image.png](attachment:image.png)"
   ]
  },
  {
   "cell_type": "code",
   "execution_count": 147,
   "id": "ba903e3f",
   "metadata": {},
   "outputs": [],
   "source": [
    "# num = 5\n",
    "# for i in range(1,num+1):\n",
    "#     print((''*(num-i)+'* '*i) +)"
   ]
  },
  {
   "cell_type": "code",
   "execution_count": 149,
   "id": "85cab3ca",
   "metadata": {},
   "outputs": [],
   "source": [
    "# data types\n",
    "# for loop, list comph, while loop, break, continue, pass, \n",
    "# # game,pattern etc"
   ]
  },
  {
   "cell_type": "code",
   "execution_count": null,
   "id": "2b0a199d",
   "metadata": {},
   "outputs": [],
   "source": []
  }
 ],
 "metadata": {
  "kernelspec": {
   "display_name": "Python 3 (ipykernel)",
   "language": "python",
   "name": "python3"
  },
  "language_info": {
   "codemirror_mode": {
    "name": "ipython",
    "version": 3
   },
   "file_extension": ".py",
   "mimetype": "text/x-python",
   "name": "python",
   "nbconvert_exporter": "python",
   "pygments_lexer": "ipython3",
   "version": "3.11.3"
  }
 },
 "nbformat": 4,
 "nbformat_minor": 5
}
