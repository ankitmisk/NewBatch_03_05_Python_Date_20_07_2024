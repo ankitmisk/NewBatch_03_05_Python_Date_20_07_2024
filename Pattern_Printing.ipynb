{
 "cells": [
  {
   "cell_type": "code",
   "execution_count": 1,
   "id": "968e3ad9",
   "metadata": {},
   "outputs": [],
   "source": [
    "#\n",
    "\n",
    "# *\n",
    "# * *\n",
    "# * * *\n",
    "# * * * *"
   ]
  },
  {
   "cell_type": "code",
   "execution_count": 15,
   "id": "499f9ffa",
   "metadata": {},
   "outputs": [
    {
     "name": "stdout",
     "output_type": "stream",
     "text": [
      "* \n",
      "* * \n",
      "* * * \n",
      "* * * * \n",
      "* * * * * \n",
      "* * * * * * \n",
      "* * * * * * * \n",
      "* * * * * * * * \n",
      "* * * * * * * * * \n"
     ]
    }
   ],
   "source": [
    "man = 9\n",
    "for i in range(1,man+1):\n",
    "    print('* '*i)"
   ]
  },
  {
   "cell_type": "code",
   "execution_count": 4,
   "id": "52b713c3",
   "metadata": {},
   "outputs": [
    {
     "data": {
      "text/plain": [
       "'* * * * '"
      ]
     },
     "execution_count": 4,
     "metadata": {},
     "output_type": "execute_result"
    }
   ],
   "source": [
    "'* '*4"
   ]
  },
  {
   "cell_type": "code",
   "execution_count": null,
   "id": "21ed6109",
   "metadata": {},
   "outputs": [],
   "source": []
  },
  {
   "cell_type": "code",
   "execution_count": 16,
   "id": "d2243439",
   "metadata": {},
   "outputs": [],
   "source": [
    "# * * * *\n",
    "# * * *\n",
    "# * *\n",
    "# *"
   ]
  },
  {
   "cell_type": "code",
   "execution_count": 18,
   "id": "7b7296b6",
   "metadata": {},
   "outputs": [
    {
     "name": "stdout",
     "output_type": "stream",
     "text": [
      "* * * * \n",
      "* * * \n",
      "* * \n",
      "* \n"
     ]
    }
   ],
   "source": [
    "num =  4\n",
    "for i in range(num,0,-1):\n",
    "    print('* '*i)"
   ]
  },
  {
   "cell_type": "code",
   "execution_count": 19,
   "id": "f22bb600",
   "metadata": {},
   "outputs": [],
   "source": [
    "# * * * * *\n",
    "#     *\n",
    "#     *\n",
    "#     *\n",
    "#     *"
   ]
  },
  {
   "cell_type": "code",
   "execution_count": 36,
   "id": "dc5c15ce",
   "metadata": {},
   "outputs": [
    {
     "name": "stdout",
     "output_type": "stream",
     "text": [
      "* * * * * \n",
      "    *\n",
      "    *\n",
      "    *\n",
      "    *\n"
     ]
    }
   ],
   "source": [
    "num = 5\n",
    "for i in range(num):\n",
    "    if i == 0:\n",
    "        print('* '*num)\n",
    "    else:\n",
    "        print(' '*(num-1)+'*')"
   ]
  },
  {
   "cell_type": "code",
   "execution_count": 37,
   "id": "f35232e1",
   "metadata": {},
   "outputs": [],
   "source": [
    "num = 5\n",
    "# '* * * * '\n",
    "# '* * * * '\n",
    "# '* * * * '\n",
    "# '* * * * '\n",
    "# '* * * * '"
   ]
  },
  {
   "cell_type": "code",
   "execution_count": 40,
   "id": "005ce356",
   "metadata": {},
   "outputs": [
    {
     "name": "stdout",
     "output_type": "stream",
     "text": [
      "* * * * * * * * \n",
      "* * * * * * * * \n",
      "* * * * * * * * \n",
      "* * * * * * * * \n",
      "* * * * * * * * \n",
      "* * * * * * * * \n",
      "* * * * * * * * \n",
      "* * * * * * * * \n"
     ]
    }
   ],
   "source": [
    "num = 8\n",
    "for i in range(num):\n",
    "    print('* '*num)"
   ]
  },
  {
   "cell_type": "code",
   "execution_count": 46,
   "id": "d4059405",
   "metadata": {},
   "outputs": [
    {
     "name": "stdout",
     "output_type": "stream",
     "text": [
      "1 1 1 1 1 \n",
      "2 2 2 2 2 \n",
      "3 3 3 3 3 \n",
      "4 4 4 4 4 \n",
      "5 5 5 5 5 \n"
     ]
    }
   ],
   "source": [
    "num = 5\n",
    "for i in range(num):\n",
    "    print(f'{i+1} '*num)"
   ]
  },
  {
   "cell_type": "code",
   "execution_count": 49,
   "id": "74d4eced",
   "metadata": {},
   "outputs": [
    {
     "name": "stdout",
     "output_type": "stream",
     "text": [
      "1 1 1 1 1 \n",
      "2 2 2 2 2 \n",
      "3 3 3 3 3 \n",
      "4 4 4 4 4 \n",
      "5 5 5 5 5 \n"
     ]
    }
   ],
   "source": [
    "num = 5\n",
    "char = ''\n",
    "for i in range(1,num+1):\n",
    "    char = str(i)+' '\n",
    "    print(char*num)"
   ]
  },
  {
   "cell_type": "code",
   "execution_count": 50,
   "id": "5057b066",
   "metadata": {},
   "outputs": [],
   "source": [
    "# word = 'Python'\n",
    "\n",
    "# 'P'\n",
    "# 'P Y'\n",
    "# 'P Y T'\n",
    "# 'P Y T H'\n",
    "# 'P Y T H O'\n",
    "# 'P Y T H O N'"
   ]
  },
  {
   "cell_type": "code",
   "execution_count": 52,
   "id": "c9085365",
   "metadata": {},
   "outputs": [
    {
     "name": "stdout",
     "output_type": "stream",
     "text": [
      "(0, 'H')\n",
      "(1, 'a')\n",
      "(2, 'r')\n",
      "(3, 'r')\n",
      "(4, 'y')\n"
     ]
    }
   ],
   "source": [
    "for i in enumerate('Harry'):\n",
    "    print(i)"
   ]
  },
  {
   "cell_type": "code",
   "execution_count": null,
   "id": "2c4b6fbc",
   "metadata": {},
   "outputs": [],
   "source": []
  },
  {
   "cell_type": "code",
   "execution_count": 61,
   "id": "2e5c4a89",
   "metadata": {},
   "outputs": [
    {
     "name": "stdout",
     "output_type": "stream",
     "text": [
      "P\n",
      "Py\n",
      "Pyt\n",
      "Pyth\n",
      "Pytho\n",
      "Python\n"
     ]
    }
   ],
   "source": [
    "word = 'Python'\n",
    "\n",
    "# word[0:1]\n",
    "# word[0:2]\n",
    "# word[0:3]\n",
    "# word[0:4]\n",
    "\n",
    "for i in range(len(word)):\n",
    "    print(word[0:i+1])"
   ]
  },
  {
   "cell_type": "code",
   "execution_count": null,
   "id": "508bae40",
   "metadata": {},
   "outputs": [],
   "source": [
    "p\n",
    "p y\n",
    "p y t"
   ]
  },
  {
   "cell_type": "code",
   "execution_count": 68,
   "id": "46b48ea8",
   "metadata": {},
   "outputs": [
    {
     "data": {
      "text/plain": [
       "'Python'"
      ]
     },
     "execution_count": 68,
     "metadata": {},
     "output_type": "execute_result"
    }
   ],
   "source": [
    "word[0:0+6]"
   ]
  },
  {
   "cell_type": "code",
   "execution_count": 71,
   "id": "176bbf19",
   "metadata": {},
   "outputs": [
    {
     "name": "stdout",
     "output_type": "stream",
     "text": [
      "H \n",
      "H e \n",
      "H e l \n",
      "H e l l \n",
      "H e l l o \n",
      "H e l l o   \n",
      "H e l l o   W \n",
      "H e l l o   W o \n",
      "H e l l o   W o r \n",
      "H e l l o   W o r l \n",
      "H e l l o   W o r l d \n"
     ]
    }
   ],
   "source": [
    "word = 'Hello World'\n",
    "\n",
    "for i in range(len(word)):\n",
    "    for j in word[0:i+1]:\n",
    "        print(j,end=' ')\n",
    "    print()"
   ]
  },
  {
   "cell_type": "code",
   "execution_count": 75,
   "id": "89c8f9c6",
   "metadata": {},
   "outputs": [
    {
     "name": "stdout",
     "output_type": "stream",
     "text": [
      "H e l l o   W o r l d \n",
      "H e l l o   W o r l \n",
      "H e l l o   W o r \n",
      "H e l l o   W o \n",
      "H e l l o   W \n",
      "H e l l o   \n",
      "H e l l o \n",
      "H e l l \n",
      "H e l \n",
      "H e \n",
      "H \n",
      "\n"
     ]
    }
   ],
   "source": [
    "for i in range(len(word),-1,-1):\n",
    "    for j in word[0:i]:\n",
    "        print(j,end=' ')\n",
    "    print()"
   ]
  },
  {
   "cell_type": "code",
   "execution_count": 82,
   "id": "eeda44ee",
   "metadata": {},
   "outputs": [
    {
     "name": "stdout",
     "output_type": "stream",
     "text": [
      "\n",
      "P \n",
      "P y \n",
      "P y t \n",
      "P y t h \n",
      "P y t h o \n",
      "P y t h o n \n",
      "P y t h o \n",
      "P y t h \n",
      "P y t \n",
      "P y \n",
      "P \n",
      "\n"
     ]
    }
   ],
   "source": [
    "word = 'Python'\n",
    "\n",
    "for i in range(len(word)):\n",
    "    for j in word[0:i]:\n",
    "        print(j,end=' ')\n",
    "    print()\n",
    "    \n",
    "for i in range(len(word),-1,-1):\n",
    "    for j in word[0:i]:\n",
    "        print(j,end=' ')\n",
    "    print()"
   ]
  },
  {
   "cell_type": "code",
   "execution_count": 88,
   "id": "ebf5540f",
   "metadata": {},
   "outputs": [
    {
     "name": "stdout",
     "output_type": "stream",
     "text": [
      "\n",
      "1 \n",
      "1 2 \n",
      "1 2 3 \n",
      "1 2 3 4 \n",
      "1 2 3 \n",
      "1 2 \n",
      "1 \n",
      "\n"
     ]
    }
   ],
   "source": [
    "num = 4\n",
    "word = range(1,num+1)\n",
    "\n",
    "for i in range(len(word)):\n",
    "    for j in word[0:i]:\n",
    "        print(j,end=' ')\n",
    "    print()\n",
    "    \n",
    "for i in range(len(word),-1,-1):\n",
    "    for j in word[0:i]:\n",
    "        print(j,end=' ')\n",
    "    print()"
   ]
  },
  {
   "cell_type": "code",
   "execution_count": null,
   "id": "4980ab02",
   "metadata": {},
   "outputs": [],
   "source": []
  },
  {
   "cell_type": "code",
   "execution_count": 89,
   "id": "4bbe31ab",
   "metadata": {},
   "outputs": [],
   "source": [
    "#    '*'\n",
    "#   '* *'\n",
    "#  '* * *'\n",
    "# '* * * *'"
   ]
  },
  {
   "cell_type": "code",
   "execution_count": 34,
   "id": "d07c6620",
   "metadata": {},
   "outputs": [
    {
     "name": "stdout",
     "output_type": "stream",
     "text": [
      "   * \n",
      "  * * \n",
      " * * * \n",
      "* * * * \n"
     ]
    }
   ],
   "source": [
    "num = 4\n",
    "\n",
    "for i in range(1,num+1):\n",
    "    print(' '*(num-i)+'* '*i)"
   ]
  },
  {
   "cell_type": "code",
   "execution_count": 39,
   "id": "720ac1e6",
   "metadata": {},
   "outputs": [
    {
     "name": "stdout",
     "output_type": "stream",
     "text": [
      "      * \n",
      "    * * \n",
      "  * * * \n",
      "* * * * \n"
     ]
    }
   ],
   "source": [
    "num = 4\n",
    "\n",
    "for i in range(1,num+1):\n",
    "    print('  '*(num-i)+'* '*i)"
   ]
  },
  {
   "cell_type": "code",
   "execution_count": 95,
   "id": "75ee6f4f",
   "metadata": {},
   "outputs": [
    {
     "name": "stdout",
     "output_type": "stream",
     "text": [
      "      * \n",
      "    * * \n",
      "  * * * \n",
      "* * * * \n"
     ]
    }
   ],
   "source": [
    "num = 4\n",
    "\n",
    "for i in range(1,num+1):\n",
    "    print('  '*(num-i)+'* '*i)"
   ]
  },
  {
   "cell_type": "code",
   "execution_count": 96,
   "id": "f1212be4",
   "metadata": {},
   "outputs": [
    {
     "name": "stdout",
     "output_type": "stream",
     "text": [
      "* * * * \n",
      "  * * * \n",
      "    * * \n",
      "      * \n"
     ]
    }
   ],
   "source": [
    "num = 4\n",
    "\n",
    "for i in range(num,0,-1):\n",
    "    print('  '*(num-i)+'* '*i)"
   ]
  },
  {
   "cell_type": "code",
   "execution_count": 100,
   "id": "be47c2a4",
   "metadata": {},
   "outputs": [
    {
     "name": "stdout",
     "output_type": "stream",
     "text": [
      "        * \n",
      "      * * \n",
      "    * * * \n",
      "  * * * * \n",
      "* * * * * \n",
      "  * * * * \n",
      "    * * * \n",
      "      * * \n",
      "        * \n"
     ]
    }
   ],
   "source": [
    "num = 5\n",
    "\n",
    "for i in range(1,num):\n",
    "    print('  '*(num-i)+'* '*i)\n",
    "for i in range(num,0,-1):\n",
    "    print('  '*(num-i)+'* '*i)"
   ]
  },
  {
   "cell_type": "code",
   "execution_count": null,
   "id": "6091c779",
   "metadata": {},
   "outputs": [],
   "source": []
  },
  {
   "cell_type": "code",
   "execution_count": 101,
   "id": "ce641060",
   "metadata": {},
   "outputs": [
    {
     "name": "stdout",
     "output_type": "stream",
     "text": [
      "\n",
      "1 \n",
      "1 2 \n",
      "1 2 3 \n",
      "1 2 3 4 \n",
      "1 2 3 \n",
      "1 2 \n",
      "1 \n",
      "\n"
     ]
    }
   ],
   "source": [
    "num = 4\n",
    "word = range(1,num+1)\n",
    "\n",
    "for i in range(len(word)):\n",
    "    for j in word[0:i]:\n",
    "        print(j,end=' ')\n",
    "    print()\n",
    "    \n",
    "for i in range(len(word),-1,-1):\n",
    "    for j in word[0:i]:\n",
    "        print(j,end=' ')\n",
    "    print()"
   ]
  },
  {
   "cell_type": "code",
   "execution_count": 105,
   "id": "2312dd36",
   "metadata": {},
   "outputs": [
    {
     "name": "stdout",
     "output_type": "stream",
     "text": [
      "* \n",
      "* * \n",
      "* * * \n",
      "* * * * \n",
      "* * * \n",
      "* * \n",
      "* \n"
     ]
    }
   ],
   "source": [
    "num = 4\n",
    "\n",
    "for i in range(1,num):\n",
    "    print(''*(num-i)+'* '*i)\n",
    "    \n",
    "for i in range(num,0,-1):\n",
    "    print(''*(num-i)+'* '*i)"
   ]
  },
  {
   "cell_type": "code",
   "execution_count": 106,
   "id": "c5766bea",
   "metadata": {},
   "outputs": [
    {
     "name": "stdout",
     "output_type": "stream",
     "text": [
      "      * \n",
      "    * * \n",
      "  * * * \n",
      "* * * * \n",
      "  * * * \n",
      "    * * \n",
      "      * \n"
     ]
    }
   ],
   "source": [
    "for i in range(1,num):\n",
    "    print('  '*(num-i)+'* '*i)\n",
    "for i in range(num,0,-1):\n",
    "    print('  '*(num-i)+'* '*i)"
   ]
  },
  {
   "cell_type": "code",
   "execution_count": 114,
   "id": "4949bddf",
   "metadata": {},
   "outputs": [
    {
     "name": "stdout",
     "output_type": "stream",
     "text": [
      "* \n",
      "* * \n",
      "* * * \n",
      "* * * * \n",
      "* * * \n",
      "* * \n",
      "* \n",
      "      * \n",
      "    * * \n",
      "  * * * \n",
      "* * * * \n",
      "  * * * \n",
      "    * * \n",
      "      * \n"
     ]
    }
   ],
   "source": [
    "for i in range(1,num):\n",
    "    print(''*(num-i)+'* '*i)\n",
    "    \n",
    "for i in range(num,0,-1):\n",
    "    print(''*(num-i)+'* '*i)\n",
    "    \n",
    "    \n",
    "for i in range(1,num):\n",
    "    print('  '*(num-i)+'* '*i)\n",
    "    \n",
    "    \n",
    "    \n",
    "for i in range(num,0,-1):\n",
    "    print('  '*(num-i)+'* '*i)"
   ]
  },
  {
   "cell_type": "code",
   "execution_count": 115,
   "id": "14097956",
   "metadata": {},
   "outputs": [
    {
     "name": "stdout",
     "output_type": "stream",
     "text": [
      "* * * * \n",
      " * * * \n",
      "  * * \n",
      "   * \n"
     ]
    }
   ],
   "source": [
    "num = 4\n",
    "\n",
    "for i in range(num,0,-1):\n",
    "    print(' '*(num-i)+'* '*i)"
   ]
  },
  {
   "cell_type": "code",
   "execution_count": 118,
   "id": "939ac6ec",
   "metadata": {},
   "outputs": [
    {
     "name": "stdout",
     "output_type": "stream",
     "text": [
      "   * \n",
      "  * * \n",
      " * * * \n",
      "* * * * \n",
      " * * * \n",
      "  * * \n",
      "   * \n"
     ]
    }
   ],
   "source": [
    "num = 4\n",
    "\n",
    "for i in range(1,num):\n",
    "    print(' '*(num-i)+'* '*i)\n",
    "    \n",
    "for i in range(num,0,-1):\n",
    "    print(' '*(num-i)+'* '*i)"
   ]
  },
  {
   "attachments": {
    "image.png": {
     "image/png": "[encoded data removed]"
    }
   },
   "cell_type": "markdown",
   "id": "0cf92e7e",
   "metadata": {},
   "source": [
    "![image.png](attachment:image.png)"
   ]
  },
  {
   "cell_type": "code",
   "execution_count": 147,
   "id": "ba903e3f",
   "metadata": {},
   "outputs": [],
   "source": [
    "# num = 5\n",
    "# for i in range(1,num+1):\n",
    "#     print((''*(num-i)+'* '*i) +)"
   ]
  },
  {
   "cell_type": "code",
   "execution_count": 149,
   "id": "85cab3ca",
   "metadata": {},
   "outputs": [],
   "source": [
    "# data types\n",
    "# for loop, list comph, while loop, break, continue, pass, \n",
    "# # game,pattern etc"
   ]
  },
  {
   "attachments": {
    "97578971-a80c-4eca-a4d3-c997eaf65079.jpg": {
     "image/jpeg": "[encoded data removed]"
    }
   },
   "cell_type": "markdown",
   "id": "f6ef35b1",
   "metadata": {},
   "source": [
    "![97578971-a80c-4eca-a4d3-c997eaf65079.jpg](attachment:97578971-a80c-4eca-a4d3-c997eaf65079.jpg)"
   ]
  },
  {
   "cell_type": "code",
   "execution_count": 47,
   "id": "97cce172",
   "metadata": {},
   "outputs": [
    {
     "name": "stdout",
     "output_type": "stream",
     "text": [
      "*                         * \n",
      "* *                     * * \n",
      "* * *                 * * * \n",
      "* * * *             * * * * \n",
      "* * * * *         * * * * * \n",
      "* * * * * *     * * * * * * \n",
      "* * * * * * * * * * * * * * \n",
      "* * * * * *     * * * * * * \n",
      "* * * * *         * * * * * \n",
      "* * * *             * * * * \n",
      "* * *                 * * * \n",
      "* *                     * * \n",
      "*                         * \n"
     ]
    }
   ],
   "source": [
    "num = 7\n",
    "for i in range(1,num):\n",
    "    print('* '*i +  \"    \"*(num-i)+ '* '*i)\n",
    "    \n",
    "for i in range(num,0,-1):\n",
    "    print('* '*i +  \"    \"*(num-i)+ '* '*i)"
   ]
  },
  {
   "cell_type": "code",
   "execution_count": 10,
   "id": "ad52817b",
   "metadata": {
    "scrolled": true
   },
   "outputs": [
    {
     "data": {
      "text/plain": [
       "24"
      ]
     },
     "execution_count": 10,
     "metadata": {},
     "output_type": "execute_result"
    }
   ],
   "source": [
    "(6-0)*4"
   ]
  },
  {
   "cell_type": "code",
   "execution_count": null,
   "id": "6f7020f0",
   "metadata": {},
   "outputs": [],
   "source": [
    "num"
   ]
  },
  {
   "cell_type": "code",
   "execution_count": null,
   "id": "c6c5f20c",
   "metadata": {},
   "outputs": [],
   "source": [
    "20\n",
    "16\n",
    "12\n",
    "8\n",
    "4"
   ]
  },
  {
   "attachments": {
    "image.png": {
     "image/png": "[encoded data removed]"
    }
   },
   "cell_type": "markdown",
   "id": "c714e8cb",
   "metadata": {},
   "source": [
    "![image.png](attachment:image.png)"
   ]
  },
  {
   "cell_type": "code",
   "execution_count": 53,
   "id": "1db4bf1d",
   "metadata": {},
   "outputs": [
    {
     "name": "stdout",
     "output_type": "stream",
     "text": [
      "* * * * \n",
      " * * * \n",
      "  * * \n",
      "   * \n",
      "  * * \n",
      " * * * \n",
      "* * * * \n"
     ]
    }
   ],
   "source": [
    "num = 4\n",
    "\n",
    "\n",
    "for i in range(num,1,-1):\n",
    "    print(' '*(num-i)+'* '*i)\n",
    "    \n",
    "for i in range(1,num+1):\n",
    "    print(' '*(num-i)+'* '*i)\n"
   ]
  },
  {
   "cell_type": "code",
   "execution_count": 58,
   "id": "4ab9dc16",
   "metadata": {},
   "outputs": [
    {
     "name": "stdout",
     "output_type": "stream",
     "text": [
      "* * * * * * * * \n",
      "* * *     * * * \n",
      "* *         * * \n",
      "*             * \n",
      "* *         * * \n",
      "* * *     * * * \n",
      "* * * * * * * * \n"
     ]
    }
   ],
   "source": [
    "for i in range(num,1,-1):\n",
    "    print('* '*i +  \"    \"*(num-i)+ '* '*i)\n",
    "\n",
    "\n",
    "for i in range(1,num+1):\n",
    "    print('* '*i +  \"    \"*(num-i)+ '* '*i)\n",
    "    \n"
   ]
  },
  {
   "cell_type": "code",
   "execution_count": null,
   "id": "b41e564a",
   "metadata": {},
   "outputs": [],
   "source": []
  },
  {
   "cell_type": "code",
   "execution_count": 60,
   "id": "2b8b347a",
   "metadata": {},
   "outputs": [
    {
     "name": "stdout",
     "output_type": "stream",
     "text": [
      "     * \n",
      "    * * \n",
      "   * * * \n",
      "  * * * * \n",
      " * * * * * \n",
      "* * * * * * \n",
      " * * * * * \n",
      "  * * * * \n",
      "   * * * \n",
      "    * * \n",
      "     * \n"
     ]
    }
   ],
   "source": [
    "word = 'Python'\n",
    "\n",
    "\n",
    "for i in range(1,len(word)):\n",
    "    print(' '*(len(word)-i)+'* '*i)\n",
    "    \n",
    "for i in range(len(word),0,-1):\n",
    "    print(' '*(len(word)-i)+'* '*i)"
   ]
  },
  {
   "cell_type": "code",
   "execution_count": null,
   "id": "2a1738dd",
   "metadata": {},
   "outputs": [],
   "source": []
  },
  {
   "cell_type": "code",
   "execution_count": 63,
   "id": "5f573c3b",
   "metadata": {},
   "outputs": [],
   "source": [
    "\n",
    "word = 'Python'\n",
    "\n"
   ]
  },
  {
   "cell_type": "code",
   "execution_count": 66,
   "id": "c79f0cdd",
   "metadata": {},
   "outputs": [
    {
     "name": "stdout",
     "output_type": "stream",
     "text": [
      "P \n",
      "P y \n",
      "P y t \n",
      "P y t h \n",
      "P y t h o \n",
      "P y t h o n \n"
     ]
    }
   ],
   "source": [
    "word = 'Python'\n",
    "\n",
    "for i in range(len(word)):\n",
    "    for j in word[0:i+1]:\n",
    "        print(j,end=' ')\n",
    "    print()"
   ]
  },
  {
   "cell_type": "code",
   "execution_count": null,
   "id": "d61121da",
   "metadata": {},
   "outputs": [],
   "source": []
  },
  {
   "cell_type": "code",
   "execution_count": null,
   "id": "6db84b8b",
   "metadata": {},
   "outputs": [],
   "source": []
  },
  {
   "cell_type": "code",
   "execution_count": 111,
   "id": "7b584e1a",
   "metadata": {},
   "outputs": [
    {
     "name": "stdout",
     "output_type": "stream",
     "text": [
      "     P\n",
      "    P Y\n",
      "   P Y T\n",
      "  P Y T H\n",
      " P Y T H O\n",
      "P Y T H O N\n"
     ]
    }
   ],
   "source": [
    "word = 'python'.upper()\n",
    "num = len(word)\n",
    "for i in range(1,num+1):\n",
    "    print(' '*(num-i)+ ' '.join(word[0:i]))"
   ]
  },
  {
   "cell_type": "code",
   "execution_count": 73,
   "id": "124988ab",
   "metadata": {},
   "outputs": [
    {
     "data": {
      "text/plain": [
       "'P Y T'"
      ]
     },
     "execution_count": 73,
     "metadata": {},
     "output_type": "execute_result"
    }
   ],
   "source": [
    "' '.join('PYT')"
   ]
  },
  {
   "cell_type": "code",
   "execution_count": 87,
   "id": "40b1b456",
   "metadata": {},
   "outputs": [
    {
     "name": "stdout",
     "output_type": "stream",
     "text": [
      "        S\n",
      "       S U\n",
      "      S U D\n",
      "     S U D A\n",
      "    S U D A R\n",
      "   S U D A R S\n",
      "  S U D A R S H\n",
      " S U D A R S H A\n",
      "S U D A R S H A N\n"
     ]
    }
   ],
   "source": [
    "word = 'Sudarshan'.upper()\n",
    "num = len(word)\n",
    "for i in range(1,num+1):\n",
    "    print(' '*(num-i)+ ' '.join(word[0:i]))"
   ]
  },
  {
   "cell_type": "code",
   "execution_count": 88,
   "id": "46c02f47",
   "metadata": {},
   "outputs": [
    {
     "name": "stdout",
     "output_type": "stream",
     "text": [
      "A\n"
     ]
    }
   ],
   "source": [
    "print('A')"
   ]
  },
  {
   "cell_type": "code",
   "execution_count": 93,
   "id": "c963ea3f",
   "metadata": {},
   "outputs": [
    {
     "name": "stdout",
     "output_type": "stream",
     "text": [
      "              P\n",
      "             P Y\n",
      "            P Y T\n",
      "           P Y T H\n",
      "          P Y T H O\n",
      "         P Y T H O N\n",
      "        P Y T H O N I\n",
      "       P Y T H O N I S\n",
      "      P Y T H O N I S A\n",
      "     P Y T H O N I S A W\n",
      "    P Y T H O N I S A W E\n",
      "   P Y T H O N I S A W E S\n",
      "  P Y T H O N I S A W E S O\n",
      " P Y T H O N I S A W E S O M\n",
      "P Y T H O N I S A W E S O M E\n",
      " P Y T H O N I S A W E S O M\n",
      "  P Y T H O N I S A W E S O\n",
      "   P Y T H O N I S A W E S\n",
      "    P Y T H O N I S A W E\n",
      "     P Y T H O N I S A W\n",
      "      P Y T H O N I S A\n",
      "       P Y T H O N I S\n",
      "        P Y T H O N I\n",
      "         P Y T H O N\n",
      "          P Y T H O\n",
      "           P Y T H\n",
      "            P Y T\n",
      "             P Y\n",
      "              P\n"
     ]
    }
   ],
   "source": [
    "word = 'Python Is awesome'.upper().replace(' ','')\n",
    "num = len(word)\n",
    "\n",
    "for i in range(1,num):\n",
    "    print(' '*(num-i)+ ' '.join(word[0:i]))\n",
    "    \n",
    "for i in range(num,0,-1):\n",
    "    print(' '*(num-i)+ ' '.join(word[0:i]))"
   ]
  },
  {
   "cell_type": "code",
   "execution_count": 94,
   "id": "1fd61424",
   "metadata": {},
   "outputs": [
    {
     "name": "stdout",
     "output_type": "stream",
     "text": [
      "                P\n",
      "               P Y\n",
      "              P Y T\n",
      "             P Y T H\n",
      "            P Y T H O\n",
      "           P Y T H O N\n",
      "          P Y T H O N  \n",
      "         P Y T H O N   I\n",
      "        P Y T H O N   I S\n",
      "       P Y T H O N   I S  \n",
      "      P Y T H O N   I S   A\n",
      "     P Y T H O N   I S   A W\n",
      "    P Y T H O N   I S   A W E\n",
      "   P Y T H O N   I S   A W E S\n",
      "  P Y T H O N   I S   A W E S O\n",
      " P Y T H O N   I S   A W E S O M\n",
      "P Y T H O N   I S   A W E S O M E\n",
      " P Y T H O N   I S   A W E S O M\n",
      "  P Y T H O N   I S   A W E S O\n",
      "   P Y T H O N   I S   A W E S\n",
      "    P Y T H O N   I S   A W E\n",
      "     P Y T H O N   I S   A W\n",
      "      P Y T H O N   I S   A\n",
      "       P Y T H O N   I S  \n",
      "        P Y T H O N   I S\n",
      "         P Y T H O N   I\n",
      "          P Y T H O N  \n",
      "           P Y T H O N\n",
      "            P Y T H O\n",
      "             P Y T H\n",
      "              P Y T\n",
      "               P Y\n",
      "                P\n"
     ]
    }
   ],
   "source": [
    "word = 'Python Is awesome'.upper()\n",
    "num = len(word)\n",
    "\n",
    "for i in range(1,num):\n",
    "    print(' '*(num-i)+ ' '.join(word[0:i]))\n",
    "    \n",
    "for i in range(num,0,-1):\n",
    "    print(' '*(num-i)+ ' '.join(word[0:i]))"
   ]
  },
  {
   "cell_type": "code",
   "execution_count": 144,
   "id": "3847a757",
   "metadata": {},
   "outputs": [
    {
     "name": "stdout",
     "output_type": "stream",
     "text": [
      "      1\n",
      "     1 2\n",
      "    1 2 3\n",
      "   1 2 3 4\n",
      "  1 2 3 4 5\n",
      " 1 2 3 4 5 6\n",
      "1 2 3 4 5 6 7\n",
      " 1 2 3 4 5 6\n",
      "  1 2 3 4 5\n",
      "   1 2 3 4\n",
      "    1 2 3\n",
      "     1 2\n",
      "      1\n"
     ]
    }
   ],
   "source": [
    "number = 7\n",
    "\n",
    "word = ''.join([str(i) for i in range(1,number+1)])\n",
    "num = len(word)\n",
    "\n",
    "for i in range(1,num):\n",
    "    print(' '*(num-i)+ ' '.join(word[0:i]))\n",
    "    \n",
    "for i in range(num,0,-1):\n",
    "    print(' '*(num-i)+ ' '.join(word[0:i]))"
   ]
  },
  {
   "cell_type": "code",
   "execution_count": 102,
   "id": "e4c08a91",
   "metadata": {},
   "outputs": [
    {
     "data": {
      "text/plain": [
       "'12345678910'"
      ]
     },
     "execution_count": 102,
     "metadata": {},
     "output_type": "execute_result"
    }
   ],
   "source": []
  },
  {
   "cell_type": "code",
   "execution_count": 141,
   "id": "674c7b1c",
   "metadata": {},
   "outputs": [],
   "source": [
    "# num = 3\n",
    "# for i in range(1,num):\n",
    "#     print('* '*i +  \"    \"*(num-i)+ '* '*i)\n",
    "    \n",
    "# for i in range(num,0,-1):\n",
    "#     print('* '*i +  \"    \"*(num-i)+ '* '*i)\n",
    "    \n",
    "  \n",
    "# for i in range(num,1,-1):\n",
    "#     print('  '*(num-i)+' * '*i)\n",
    "    \n",
    "# for i in range(1,num+1):\n",
    "#     print('  '*(num-i)+'  * '*i)"
   ]
  },
  {
   "cell_type": "code",
   "execution_count": null,
   "id": "24baf9c7",
   "metadata": {},
   "outputs": [],
   "source": []
  },
  {
   "cell_type": "code",
   "execution_count": null,
   "id": "7c187f2f",
   "metadata": {},
   "outputs": [],
   "source": []
  },
  {
   "cell_type": "code",
   "execution_count": null,
   "id": "2b6b36c4",
   "metadata": {},
   "outputs": [],
   "source": []
  },
  {
   "cell_type": "code",
   "execution_count": null,
   "id": "b4bcbdba",
   "metadata": {},
   "outputs": [],
   "source": []
  },
  {
   "cell_type": "code",
   "execution_count": 1,
   "id": "72e7133a",
   "metadata": {},
   "outputs": [
    {
     "name": "stdout",
     "output_type": "stream",
     "text": [
      "done\n"
     ]
    }
   ],
   "source": [
    "import turtle\n",
    "print('done')"
   ]
  },
  {
   "cell_type": "code",
   "execution_count": 2,
   "id": "59df95df",
   "metadata": {},
   "outputs": [],
   "source": [
    "# pip install PythonTurtle"
   ]
  },
  {
   "cell_type": "code",
   "execution_count": 1,
   "id": "7d668ab8",
   "metadata": {},
   "outputs": [],
   "source": [
    "\n",
    "import turtle\n",
    "import random\n",
    "for i in range(36):\n",
    "    turtle.speed(0)\n",
    "    all_colors = ['yellow','orange','red','green','pink','blue']\n",
    "    turtle.pencolor(random.choice(all_colors))\n",
    "    turtle.bgcolor('black')\n",
    "    turtle.circle(100)\n",
    "    turtle.left(10)\n",
    "    "
   ]
  },
  {
   "cell_type": "code",
   "execution_count": null,
   "id": "fb32a5d5",
   "metadata": {},
   "outputs": [],
   "source": []
  },
  {
   "cell_type": "code",
   "execution_count": null,
   "id": "710e7046",
   "metadata": {},
   "outputs": [],
   "source": []
  },
  {
   "cell_type": "code",
   "execution_count": 4,
   "id": "0c860fbd",
   "metadata": {},
   "outputs": [
    {
     "ename": "Terminator",
     "evalue": "",
     "output_type": "error",
     "traceback": [
      "\u001b[1;31m---------------------------------------------------------------------------\u001b[0m",
      "\u001b[1;31mTerminator\u001b[0m                                Traceback (most recent call last)",
      "Cell \u001b[1;32mIn[4], line 6\u001b[0m\n\u001b[0;32m      4\u001b[0m turtle\u001b[38;5;241m.\u001b[39mspeed(\u001b[38;5;241m0\u001b[39m)\n\u001b[0;32m      5\u001b[0m all_colors \u001b[38;5;241m=\u001b[39m [\u001b[38;5;124m'\u001b[39m\u001b[38;5;124myellow\u001b[39m\u001b[38;5;124m'\u001b[39m,\u001b[38;5;124m'\u001b[39m\u001b[38;5;124morange\u001b[39m\u001b[38;5;124m'\u001b[39m,\u001b[38;5;124m'\u001b[39m\u001b[38;5;124mred\u001b[39m\u001b[38;5;124m'\u001b[39m,\u001b[38;5;124m'\u001b[39m\u001b[38;5;124mgreen\u001b[39m\u001b[38;5;124m'\u001b[39m,\u001b[38;5;124m'\u001b[39m\u001b[38;5;124mpink\u001b[39m\u001b[38;5;124m'\u001b[39m,\u001b[38;5;124m'\u001b[39m\u001b[38;5;124mblue\u001b[39m\u001b[38;5;124m'\u001b[39m]\n\u001b[1;32m----> 6\u001b[0m turtle\u001b[38;5;241m.\u001b[39mpencolor(random\u001b[38;5;241m.\u001b[39mchoice(all_colors))\n\u001b[0;32m      7\u001b[0m turtle\u001b[38;5;241m.\u001b[39mbgcolor(\u001b[38;5;124m'\u001b[39m\u001b[38;5;124mblack\u001b[39m\u001b[38;5;124m'\u001b[39m)\n\u001b[0;32m      8\u001b[0m turtle\u001b[38;5;241m.\u001b[39mcircle(random\u001b[38;5;241m.\u001b[39mrandint(\u001b[38;5;241m50\u001b[39m,\u001b[38;5;241m200\u001b[39m))\n",
      "File \u001b[1;32m<string>:5\u001b[0m, in \u001b[0;36mpencolor\u001b[1;34m(*args)\u001b[0m\n",
      "\u001b[1;31mTerminator\u001b[0m: "
     ]
    }
   ],
   "source": [
    "import random\n",
    "import turtle\n",
    "while True:\n",
    "    turtle.speed(0)\n",
    "    all_colors = ['yellow','orange','red','green','pink','blue']\n",
    "    turtle.pencolor(random.choice(all_colors))\n",
    "    turtle.bgcolor('black')\n",
    "    turtle.circle(random.randint(50,200))\n",
    "    turtle.left(10)"
   ]
  },
  {
   "cell_type": "code",
   "execution_count": 26,
   "id": "1c2fc9e7",
   "metadata": {},
   "outputs": [
    {
     "name": "stdout",
     "output_type": "stream",
     "text": [
      "10\n",
      "20\n",
      "30\n",
      "40\n",
      "50\n",
      "60\n",
      "70\n",
      "80\n",
      "90\n",
      "100\n",
      "110\n",
      "120\n",
      "130\n",
      "140\n",
      "150\n",
      "160\n",
      "170\n",
      "180\n",
      "190\n",
      "200\n",
      "210\n",
      "220\n",
      "230\n",
      "240\n",
      "250\n"
     ]
    }
   ],
   "source": [
    "import random\n",
    "import turtle\n",
    "i = 0\n",
    "\n",
    "while i<250:\n",
    "    turtle.speed(0)\n",
    "    all_colors = ['yellow','orange','red','green','pink','blue']\n",
    "    turtle.pencolor(random.choice(all_colors))\n",
    "    turtle.bgcolor('black')\n",
    "    \n",
    "    if i<=250:\n",
    "        turtle.fd(i)\n",
    "        turtle.left(90)\n",
    "        i += 10\n",
    "    else:\n",
    "        turtle.fd"
   ]
  },
  {
   "cell_type": "code",
   "execution_count": 23,
   "id": "e903bfd5",
   "metadata": {},
   "outputs": [
    {
     "ename": "Terminator",
     "evalue": "",
     "output_type": "error",
     "traceback": [
      "\u001b[1;31m---------------------------------------------------------------------------\u001b[0m",
      "\u001b[1;31mTclError\u001b[0m                                  Traceback (most recent call last)",
      "File \u001b[1;32m<string>:8\u001b[0m, in \u001b[0;36mfd\u001b[1;34m(distance)\u001b[0m\n",
      "File \u001b[1;32m~\\anaconda3\\Lib\\turtle.py:1638\u001b[0m, in \u001b[0;36mTNavigator.forward\u001b[1;34m(self, distance)\u001b[0m\n\u001b[0;32m   1618\u001b[0m \u001b[38;5;250m\u001b[39m\u001b[38;5;124;03m\"\"\"Move the turtle forward by the specified distance.\u001b[39;00m\n\u001b[0;32m   1619\u001b[0m \n\u001b[0;32m   1620\u001b[0m \u001b[38;5;124;03mAliases: forward | fd\u001b[39;00m\n\u001b[1;32m   (...)\u001b[0m\n\u001b[0;32m   1636\u001b[0m \u001b[38;5;124;03m(-50.00,0.00)\u001b[39;00m\n\u001b[0;32m   1637\u001b[0m \u001b[38;5;124;03m\"\"\"\u001b[39;00m\n\u001b[1;32m-> 1638\u001b[0m \u001b[38;5;28mself\u001b[39m\u001b[38;5;241m.\u001b[39m_go(distance)\n",
      "File \u001b[1;32m~\\anaconda3\\Lib\\turtle.py:1606\u001b[0m, in \u001b[0;36mTNavigator._go\u001b[1;34m(self, distance)\u001b[0m\n\u001b[0;32m   1605\u001b[0m ende \u001b[38;5;241m=\u001b[39m \u001b[38;5;28mself\u001b[39m\u001b[38;5;241m.\u001b[39m_position \u001b[38;5;241m+\u001b[39m \u001b[38;5;28mself\u001b[39m\u001b[38;5;241m.\u001b[39m_orient \u001b[38;5;241m*\u001b[39m distance\n\u001b[1;32m-> 1606\u001b[0m \u001b[38;5;28mself\u001b[39m\u001b[38;5;241m.\u001b[39m_goto(ende)\n",
      "File \u001b[1;32m~\\anaconda3\\Lib\\turtle.py:3198\u001b[0m, in \u001b[0;36mRawTurtle._goto\u001b[1;34m(self, end)\u001b[0m\n\u001b[0;32m   3197\u001b[0m     \u001b[38;5;28;01mif\u001b[39;00m \u001b[38;5;28mself\u001b[39m\u001b[38;5;241m.\u001b[39m_drawing:\n\u001b[1;32m-> 3198\u001b[0m         screen\u001b[38;5;241m.\u001b[39m_drawline(\u001b[38;5;28mself\u001b[39m\u001b[38;5;241m.\u001b[39mdrawingLineItem, ((\u001b[38;5;241m0\u001b[39m, \u001b[38;5;241m0\u001b[39m), (\u001b[38;5;241m0\u001b[39m, \u001b[38;5;241m0\u001b[39m)),\n\u001b[0;32m   3199\u001b[0m                                        fill\u001b[38;5;241m=\u001b[39m\u001b[38;5;124m\"\u001b[39m\u001b[38;5;124m\"\u001b[39m, width\u001b[38;5;241m=\u001b[39m\u001b[38;5;28mself\u001b[39m\u001b[38;5;241m.\u001b[39m_pensize)\n\u001b[0;32m   3200\u001b[0m \u001b[38;5;66;03m# Turtle now at end,\u001b[39;00m\n",
      "File \u001b[1;32m~\\anaconda3\\Lib\\turtle.py:545\u001b[0m, in \u001b[0;36mTurtleScreenBase._drawline\u001b[1;34m(self, lineitem, coordlist, fill, width, top)\u001b[0m\n\u001b[0;32m    544\u001b[0m         cl\u001b[38;5;241m.\u001b[39mappend(\u001b[38;5;241m-\u001b[39my \u001b[38;5;241m*\u001b[39m \u001b[38;5;28mself\u001b[39m\u001b[38;5;241m.\u001b[39myscale)\n\u001b[1;32m--> 545\u001b[0m     \u001b[38;5;28mself\u001b[39m\u001b[38;5;241m.\u001b[39mcv\u001b[38;5;241m.\u001b[39mcoords(lineitem, \u001b[38;5;241m*\u001b[39mcl)\n\u001b[0;32m    546\u001b[0m \u001b[38;5;28;01mif\u001b[39;00m fill \u001b[38;5;129;01mis\u001b[39;00m \u001b[38;5;129;01mnot\u001b[39;00m \u001b[38;5;28;01mNone\u001b[39;00m:\n",
      "File \u001b[1;32m<string>:1\u001b[0m, in \u001b[0;36mcoords\u001b[1;34m(self, *args, **kw)\u001b[0m\n",
      "File \u001b[1;32m~\\anaconda3\\Lib\\tkinter\\__init__.py:2822\u001b[0m, in \u001b[0;36mCanvas.coords\u001b[1;34m(self, *args)\u001b[0m\n\u001b[0;32m   2819\u001b[0m \u001b[38;5;66;03m# XXX Should use _flatten on args\u001b[39;00m\n\u001b[0;32m   2820\u001b[0m \u001b[38;5;28;01mreturn\u001b[39;00m [\u001b[38;5;28mself\u001b[39m\u001b[38;5;241m.\u001b[39mtk\u001b[38;5;241m.\u001b[39mgetdouble(x) \u001b[38;5;28;01mfor\u001b[39;00m x \u001b[38;5;129;01min\u001b[39;00m\n\u001b[0;32m   2821\u001b[0m                    \u001b[38;5;28mself\u001b[39m\u001b[38;5;241m.\u001b[39mtk\u001b[38;5;241m.\u001b[39msplitlist(\n\u001b[1;32m-> 2822\u001b[0m            \u001b[38;5;28mself\u001b[39m\u001b[38;5;241m.\u001b[39mtk\u001b[38;5;241m.\u001b[39mcall((\u001b[38;5;28mself\u001b[39m\u001b[38;5;241m.\u001b[39m_w, \u001b[38;5;124m'\u001b[39m\u001b[38;5;124mcoords\u001b[39m\u001b[38;5;124m'\u001b[39m) \u001b[38;5;241m+\u001b[39m args))]\n",
      "\u001b[1;31mTclError\u001b[0m: invalid command name \".!canvas\"",
      "\nDuring handling of the above exception, another exception occurred:\n",
      "\u001b[1;31mTerminator\u001b[0m                                Traceback (most recent call last)",
      "Cell \u001b[1;32mIn[23], line 9\u001b[0m\n\u001b[0;32m      7\u001b[0m \u001b[38;5;28;01mfor\u001b[39;00m i \u001b[38;5;129;01min\u001b[39;00m \u001b[38;5;28mrange\u001b[39m(\u001b[38;5;241m0\u001b[39m,\u001b[38;5;241m250\u001b[39m,\u001b[38;5;241m10\u001b[39m):\n\u001b[0;32m      8\u001b[0m     turtle\u001b[38;5;241m.\u001b[39mpencolor(random\u001b[38;5;241m.\u001b[39mchoice(all_colors))\n\u001b[1;32m----> 9\u001b[0m     turtle\u001b[38;5;241m.\u001b[39mfd(i)\n\u001b[0;32m     10\u001b[0m     turtle\u001b[38;5;241m.\u001b[39mleft(\u001b[38;5;241m90\u001b[39m)\n\u001b[0;32m     11\u001b[0m \u001b[38;5;28;01mfor\u001b[39;00m j \u001b[38;5;129;01min\u001b[39;00m \u001b[38;5;28mrange\u001b[39m(\u001b[38;5;241m235\u001b[39m,\u001b[38;5;241m0\u001b[39m,\u001b[38;5;241m-\u001b[39m\u001b[38;5;241m10\u001b[39m):\n",
      "File \u001b[1;32m<string>:12\u001b[0m, in \u001b[0;36mfd\u001b[1;34m(distance)\u001b[0m\n",
      "\u001b[1;31mTerminator\u001b[0m: "
     ]
    }
   ],
   "source": [
    "import random\n",
    "import turtle\n",
    "turtle.speed(6)\n",
    "all_colors = ['yellow','orange','red','green','pink','blue']\n",
    "turtle.bgcolor('black')\n",
    "\n",
    "for i in range(0,250,10):\n",
    "    turtle.pencolor(random.choice(all_colors))\n",
    "    turtle.fd(i)\n",
    "    turtle.left(90)\n",
    "for j in range(235,0,-10):\n",
    "    turtle.pencolor(random.choice(all_colors))\n",
    "    turtle.right(90)\n",
    "    turtle.backward(j)\n",
    "    print(j,i)\n",
    "    "
   ]
  },
  {
   "cell_type": "code",
   "execution_count": null,
   "id": "f705a3fb",
   "metadata": {},
   "outputs": [],
   "source": []
  }
 ],
 "metadata": {
  "kernelspec": {
   "display_name": "Python 3 (ipykernel)",
   "language": "python",
   "name": "python3"
  },
  "language_info": {
   "codemirror_mode": {
    "name": "ipython",
    "version": 3
   },
   "file_extension": ".py",
   "mimetype": "text/x-python",
   "name": "python",
   "nbconvert_exporter": "python",
   "pygments_lexer": "ipython3",
   "version": "3.11.3"
  }
 },
 "nbformat": 4,
 "nbformat_minor": 5
}
