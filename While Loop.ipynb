{
 "cells": [
  {
   "cell_type": "code",
   "execution_count": 1,
   "id": "b3e04c79",
   "metadata": {},
   "outputs": [],
   "source": [
    "# while loop\n",
    "\n",
    "# when we want to run our loop based on condition/s"
   ]
  },
  {
   "cell_type": "code",
   "execution_count": 2,
   "id": "5bb05c22",
   "metadata": {},
   "outputs": [],
   "source": [
    "# for loop data type(iterables)"
   ]
  },
  {
   "cell_type": "code",
   "execution_count": 3,
   "id": "2a6d1a6b",
   "metadata": {},
   "outputs": [],
   "source": [
    "# while condition/s:\n",
    "#     code block"
   ]
  },
  {
   "cell_type": "code",
   "execution_count": 4,
   "id": "7e7d669a",
   "metadata": {},
   "outputs": [],
   "source": [
    "# while loop\n",
    "# while iterate\n",
    "# while break, continue, pass\n",
    "# while else\n",
    "# nested while loop\n",
    "# one liner while loop"
   ]
  },
  {
   "cell_type": "code",
   "execution_count": 6,
   "id": "70cbe7ff",
   "metadata": {},
   "outputs": [
    {
     "name": "stdout",
     "output_type": "stream",
     "text": [
      "1\n",
      "234\n",
      "21\n",
      "35\n",
      "45\n",
      "65325\n"
     ]
    }
   ],
   "source": [
    "data = [1,234,21,35,45,65325]\n",
    "\n",
    "for i in data:\n",
    "    print(i)"
   ]
  },
  {
   "cell_type": "code",
   "execution_count": 11,
   "id": "df77a8dd",
   "metadata": {},
   "outputs": [
    {
     "name": "stdout",
     "output_type": "stream",
     "text": [
      "Hello World\n",
      "Hello World\n",
      "Hello World\n",
      "Hello World\n",
      "Hello World\n",
      "Hello World\n",
      "Hello World\n",
      "Hello World\n",
      "Hello World\n",
      "Hello World\n"
     ]
    }
   ],
   "source": [
    "# counter variable\n",
    "\n",
    "i = 0   # counter variable\n",
    "while i<10:\n",
    "    print('Hello World')\n",
    "    i = i + 1    # increment\n",
    "    "
   ]
  },
  {
   "cell_type": "code",
   "execution_count": 8,
   "id": "d892c598",
   "metadata": {},
   "outputs": [],
   "source": [
    "# while True:\n",
    "#     ...\n",
    "# while False:\n",
    "#     ..."
   ]
  },
  {
   "cell_type": "code",
   "execution_count": 15,
   "id": "4b33b15e",
   "metadata": {},
   "outputs": [
    {
     "name": "stdout",
     "output_type": "stream",
     "text": [
      "Hello World\n",
      "Hello World\n",
      "Hello World\n",
      "Hello World\n",
      "Hello World\n"
     ]
    }
   ],
   "source": [
    "# counter variable\n",
    "\n",
    "i = 0   # counter variable\n",
    "while i<5:\n",
    "    print('Hello World')\n",
    "    i += 1\n",
    "    "
   ]
  },
  {
   "cell_type": "code",
   "execution_count": 16,
   "id": "973299e0",
   "metadata": {},
   "outputs": [],
   "source": [
    "import time"
   ]
  },
  {
   "cell_type": "code",
   "execution_count": 17,
   "id": "b3495452",
   "metadata": {},
   "outputs": [
    {
     "name": "stdout",
     "output_type": "stream",
     "text": [
      "Hello World\n",
      "Hello World\n",
      "Hello World\n",
      "Hello World\n",
      "Hello World\n"
     ]
    }
   ],
   "source": [
    "i = 0   # counter variable\n",
    "while i<5:\n",
    "    print('Hello World')\n",
    "    i += 1\n",
    "    time.sleep(1)"
   ]
  },
  {
   "cell_type": "code",
   "execution_count": null,
   "id": "1fa0092b",
   "metadata": {},
   "outputs": [],
   "source": []
  },
  {
   "cell_type": "code",
   "execution_count": 18,
   "id": "c0a335d7",
   "metadata": {},
   "outputs": [],
   "source": [
    "# # table\n",
    "# Practice:- Topic:- Advance(2):-\n",
    "#             func"
   ]
  },
  {
   "cell_type": "code",
   "execution_count": 19,
   "id": "d8384743",
   "metadata": {},
   "outputs": [],
   "source": [
    "# 40%"
   ]
  },
  {
   "cell_type": "code",
   "execution_count": 30,
   "id": "b8f069ba",
   "metadata": {},
   "outputs": [
    {
     "name": "stdout",
     "output_type": "stream",
     "text": [
      "12 x 1 = 12\n",
      "12 x 2 = 24\n",
      "12 x 3 = 36\n",
      "12 x 4 = 48\n",
      "12 x 5 = 60\n",
      "12 x 6 = 72\n",
      "12 x 7 = 84\n",
      "12 x 8 = 96\n",
      "12 x 9 = 108\n",
      "12 x 10 = 120\n"
     ]
    }
   ],
   "source": [
    "table = 12\n",
    "\n",
    "i = 1\n",
    "\n",
    "while i<=10:\n",
    "    print(f\"{table} x {i} = {table*i}\")\n",
    "    i+=1"
   ]
  },
  {
   "cell_type": "code",
   "execution_count": null,
   "id": "f8e4980e",
   "metadata": {},
   "outputs": [],
   "source": []
  },
  {
   "cell_type": "code",
   "execution_count": 31,
   "id": "3bf4ce55",
   "metadata": {},
   "outputs": [],
   "source": [
    "# while iterate"
   ]
  },
  {
   "cell_type": "code",
   "execution_count": 32,
   "id": "58a8f872",
   "metadata": {},
   "outputs": [
    {
     "name": "stdout",
     "output_type": "stream",
     "text": [
      "1\n",
      "243\n",
      "2\n",
      "15\n",
      "346\n",
      "5432\n",
      "4546\n",
      "754\n",
      "325\n"
     ]
    }
   ],
   "source": [
    "data = [1,243,2,15,346,5432,4546,754,325]\n",
    "\n",
    "for i in data:\n",
    "    print(i)"
   ]
  },
  {
   "cell_type": "code",
   "execution_count": 42,
   "id": "57b9b959",
   "metadata": {},
   "outputs": [
    {
     "name": "stdout",
     "output_type": "stream",
     "text": [
      "1\n",
      "243\n",
      "2\n",
      "15\n",
      "346\n",
      "5432\n",
      "4546\n",
      "754\n",
      "325\n"
     ]
    }
   ],
   "source": [
    "data = [1,243,2,15,346,5432,4546,754,325]\n",
    "\n",
    "j = 0\n",
    "\n",
    "while j<len(data):\n",
    "    print(data[j])\n",
    "    j += 1\n"
   ]
  },
  {
   "cell_type": "code",
   "execution_count": 37,
   "id": "1c0fb042",
   "metadata": {},
   "outputs": [
    {
     "data": {
      "text/plain": [
       "4546"
      ]
     },
     "execution_count": 37,
     "metadata": {},
     "output_type": "execute_result"
    }
   ],
   "source": [
    "data[6]"
   ]
  },
  {
   "cell_type": "code",
   "execution_count": null,
   "id": "5f7d0a3b",
   "metadata": {},
   "outputs": [],
   "source": []
  },
  {
   "cell_type": "code",
   "execution_count": 49,
   "id": "3726463a",
   "metadata": {},
   "outputs": [
    {
     "name": "stdout",
     "output_type": "stream",
     "text": [
      "325\n",
      "754\n",
      "4546\n",
      "5432\n",
      "346\n",
      "15\n",
      "2\n",
      "243\n",
      "1\n"
     ]
    }
   ],
   "source": [
    "data = [1,243,2,15,346,5432,4546,754,325]\n",
    "\n",
    "j = -1\n",
    "\n",
    "while j<len(data):\n",
    "    try:\n",
    "        print(data[j])\n",
    "        j -= 1\n",
    "    except:\n",
    "        break\n"
   ]
  },
  {
   "cell_type": "code",
   "execution_count": 50,
   "id": "a4d82470",
   "metadata": {},
   "outputs": [],
   "source": [
    "# data[-10]"
   ]
  },
  {
   "cell_type": "code",
   "execution_count": 46,
   "id": "b8c4f050",
   "metadata": {},
   "outputs": [
    {
     "data": {
      "text/plain": [
       "9"
      ]
     },
     "execution_count": 46,
     "metadata": {},
     "output_type": "execute_result"
    }
   ],
   "source": [
    "len(data)"
   ]
  },
  {
   "cell_type": "code",
   "execution_count": 47,
   "id": "bda6c98b",
   "metadata": {},
   "outputs": [
    {
     "data": {
      "text/plain": [
       "-10"
      ]
     },
     "execution_count": 47,
     "metadata": {},
     "output_type": "execute_result"
    }
   ],
   "source": [
    "j"
   ]
  },
  {
   "cell_type": "code",
   "execution_count": 51,
   "id": "4a74a722",
   "metadata": {},
   "outputs": [
    {
     "name": "stdout",
     "output_type": "stream",
     "text": [
      "{'name': 'anuj', 'age': 45, 'salary': 34567, 'address': 'Noida'}\n"
     ]
    }
   ],
   "source": [
    "data = {'name':'anuj','age':45,'salary':34567,'address':'Noida'}\n",
    "\n",
    "print(data)"
   ]
  },
  {
   "cell_type": "code",
   "execution_count": 52,
   "id": "532cf484",
   "metadata": {},
   "outputs": [
    {
     "data": {
      "text/plain": [
       "['name', 'age', 'salary', 'address']"
      ]
     },
     "execution_count": 52,
     "metadata": {},
     "output_type": "execute_result"
    }
   ],
   "source": [
    "list(data)"
   ]
  },
  {
   "cell_type": "code",
   "execution_count": 53,
   "id": "ef90cc9d",
   "metadata": {},
   "outputs": [
    {
     "data": {
      "text/plain": [
       "dict_keys(['name', 'age', 'salary', 'address'])"
      ]
     },
     "execution_count": 53,
     "metadata": {},
     "output_type": "execute_result"
    }
   ],
   "source": [
    "data.keys()"
   ]
  },
  {
   "cell_type": "code",
   "execution_count": 54,
   "id": "8e80746c",
   "metadata": {},
   "outputs": [
    {
     "data": {
      "text/plain": [
       "['name', 'age', 'salary', 'address']"
      ]
     },
     "execution_count": 54,
     "metadata": {},
     "output_type": "execute_result"
    }
   ],
   "source": [
    "list(data)"
   ]
  },
  {
   "cell_type": "code",
   "execution_count": 55,
   "id": "e5320063",
   "metadata": {},
   "outputs": [
    {
     "data": {
      "text/plain": [
       "['name', 'age', 'salary', 'address']"
      ]
     },
     "execution_count": 55,
     "metadata": {},
     "output_type": "execute_result"
    }
   ],
   "source": [
    "[*data]"
   ]
  },
  {
   "cell_type": "code",
   "execution_count": 64,
   "id": "b82238d7",
   "metadata": {},
   "outputs": [],
   "source": [
    "all_values = list(data.values())"
   ]
  },
  {
   "cell_type": "code",
   "execution_count": 65,
   "id": "111da2bf",
   "metadata": {},
   "outputs": [],
   "source": [
    "all_keys = list(data)"
   ]
  },
  {
   "cell_type": "code",
   "execution_count": 66,
   "id": "7d340ac7",
   "metadata": {},
   "outputs": [
    {
     "data": {
      "text/plain": [
       "['name', 'age', 'salary', 'address']"
      ]
     },
     "execution_count": 66,
     "metadata": {},
     "output_type": "execute_result"
    }
   ],
   "source": [
    "all_keys"
   ]
  },
  {
   "cell_type": "code",
   "execution_count": 67,
   "id": "e1d7e26f",
   "metadata": {},
   "outputs": [
    {
     "name": "stdout",
     "output_type": "stream",
     "text": [
      "name anuj\n",
      "age 45\n",
      "salary 34567\n",
      "address Noida\n"
     ]
    }
   ],
   "source": [
    "i = 0\n",
    "\n",
    "while i <len(all_keys):\n",
    "    print(all_keys[i],all_values[i])\n",
    "    i+=1"
   ]
  },
  {
   "cell_type": "code",
   "execution_count": 68,
   "id": "8199cce1",
   "metadata": {},
   "outputs": [],
   "source": [
    "# # suggestions:\n",
    "\n",
    "\n",
    "# data types\n",
    "# op\n",
    "# methods\n",
    "# if else\n",
    "# for loop while\n",
    "# game"
   ]
  },
  {
   "cell_type": "code",
   "execution_count": 69,
   "id": "871be541",
   "metadata": {},
   "outputs": [],
   "source": [
    "# write a python code to find even and odd numbers from given list\n",
    "# a = [12,344,665,32467]\n",
    "\n",
    "# Ans : \n",
    "\n",
    "# Mock:- \n"
   ]
  },
  {
   "cell_type": "code",
   "execution_count": null,
   "id": "79540c91",
   "metadata": {},
   "outputs": [],
   "source": []
  },
  {
   "cell_type": "code",
   "execution_count": null,
   "id": "3593e011",
   "metadata": {},
   "outputs": [],
   "source": []
  },
  {
   "cell_type": "code",
   "execution_count": 78,
   "id": "7bf69cea",
   "metadata": {},
   "outputs": [
    {
     "name": "stderr",
     "output_type": "stream",
     "text": [
      "\n",
      "KeyboardInterrupt\n",
      "\n"
     ]
    }
   ],
   "source": [
    "# infinite loop\n",
    "import random\n",
    "while True:\n",
    "    comp = random.choice(range(1,4))\n",
    "    user = int(input('Enter your choice: '))\n",
    "    \n",
    "    print('comp choice: ',comp)\n",
    "    if comp  == user:\n",
    "        print('You won!!')\n",
    "    else:\n",
    "        print('You Lose!!')\n",
    "        \n",
    "        \n",
    "    display(clear=True)"
   ]
  },
  {
   "cell_type": "code",
   "execution_count": null,
   "id": "7954c22e",
   "metadata": {},
   "outputs": [],
   "source": []
  },
  {
   "cell_type": "code",
   "execution_count": 79,
   "id": "5e299d83",
   "metadata": {},
   "outputs": [],
   "source": [
    "# current system time"
   ]
  },
  {
   "cell_type": "code",
   "execution_count": 80,
   "id": "ecd97750",
   "metadata": {},
   "outputs": [],
   "source": [
    "import time"
   ]
  },
  {
   "cell_type": "code",
   "execution_count": 81,
   "id": "406ed92e",
   "metadata": {},
   "outputs": [
    {
     "name": "stdout",
     "output_type": "stream",
     "text": [
      "Sun Sep  1 16:16:53 2024\n"
     ]
    },
    {
     "ename": "KeyboardInterrupt",
     "evalue": "",
     "output_type": "error",
     "traceback": [
      "\u001b[1;31m---------------------------------------------------------------------------\u001b[0m",
      "\u001b[1;31mKeyboardInterrupt\u001b[0m                         Traceback (most recent call last)",
      "Cell \u001b[1;32mIn[81], line 3\u001b[0m\n\u001b[0;32m      1\u001b[0m \u001b[38;5;28;01mwhile\u001b[39;00m \u001b[38;5;28;01mTrue\u001b[39;00m:\n\u001b[0;32m      2\u001b[0m     \u001b[38;5;28mprint\u001b[39m(time\u001b[38;5;241m.\u001b[39masctime())\n\u001b[1;32m----> 3\u001b[0m     time\u001b[38;5;241m.\u001b[39msleep(\u001b[38;5;241m1\u001b[39m)\n\u001b[0;32m      5\u001b[0m     display(clear\u001b[38;5;241m=\u001b[39m\u001b[38;5;28;01mTrue\u001b[39;00m)\n",
      "\u001b[1;31mKeyboardInterrupt\u001b[0m: "
     ]
    }
   ],
   "source": [
    "while True:\n",
    "    print(time.asctime())\n",
    "    time.sleep(1)\n",
    "    \n",
    "    display(clear=True)"
   ]
  },
  {
   "cell_type": "code",
   "execution_count": 82,
   "id": "b9af9875",
   "metadata": {},
   "outputs": [],
   "source": [
    "# continue :- pass se advance\n",
    "# pass"
   ]
  },
  {
   "cell_type": "code",
   "execution_count": 88,
   "id": "8bbf352a",
   "metadata": {},
   "outputs": [
    {
     "name": "stdout",
     "output_type": "stream",
     "text": [
      "2 4\n",
      "3 9\n",
      "14 196\n",
      "346 119716\n"
     ]
    }
   ],
   "source": [
    "data = [2,3,42,14,346]\n",
    "i = 0\n",
    "while i<len(data):\n",
    "    if data[i] == 42:\n",
    "        i += 1\n",
    "        continue\n",
    "        \n",
    "    else:\n",
    "        print(data[i],data[i]**2)\n",
    "    i+=1"
   ]
  },
  {
   "cell_type": "code",
   "execution_count": null,
   "id": "036b138f",
   "metadata": {},
   "outputs": [],
   "source": []
  },
  {
   "cell_type": "code",
   "execution_count": null,
   "id": "10f98455",
   "metadata": {},
   "outputs": [],
   "source": []
  },
  {
   "cell_type": "code",
   "execution_count": null,
   "id": "32483885",
   "metadata": {},
   "outputs": [],
   "source": []
  },
  {
   "cell_type": "code",
   "execution_count": 89,
   "id": "c05759c9",
   "metadata": {},
   "outputs": [
    {
     "name": "stdout",
     "output_type": "stream",
     "text": [
      "2 4\n",
      "3 9\n",
      "14 196\n",
      "346 119716\n"
     ]
    }
   ],
   "source": [
    "data = [2,3,42,14,346]\n",
    "i = 0\n",
    "while i<len(data):\n",
    "    if data[i] == 42:\n",
    "        pass\n",
    "        \n",
    "    else:\n",
    "        print(data[i],data[i]**2)\n",
    "    i+=1"
   ]
  },
  {
   "cell_type": "code",
   "execution_count": null,
   "id": "36aac5bb",
   "metadata": {},
   "outputs": [],
   "source": []
  },
  {
   "cell_type": "code",
   "execution_count": null,
   "id": "ef66346c",
   "metadata": {},
   "outputs": [],
   "source": []
  },
  {
   "cell_type": "code",
   "execution_count": 90,
   "id": "31bd88cf",
   "metadata": {},
   "outputs": [],
   "source": [
    "# while with else"
   ]
  },
  {
   "cell_type": "code",
   "execution_count": 91,
   "id": "e95af91b",
   "metadata": {},
   "outputs": [],
   "source": [
    "# for loop:\n",
    "#     code block\n",
    "    \n",
    "# else:\n",
    "#     print('ye tabhi chalega jab for loop pura chalega')"
   ]
  },
  {
   "cell_type": "code",
   "execution_count": null,
   "id": "ce4924c9",
   "metadata": {},
   "outputs": [],
   "source": []
  },
  {
   "cell_type": "code",
   "execution_count": 93,
   "id": "60bb71b3",
   "metadata": {},
   "outputs": [],
   "source": [
    "# # while loop:\n",
    "# #     code block\n",
    "\n",
    "# # else:\n",
    "# #     print('ye else kab chalega, jab while loop pura chalega')\n",
    "\n",
    "# break nahi hona "
   ]
  },
  {
   "cell_type": "code",
   "execution_count": null,
   "id": "60ccffb0",
   "metadata": {},
   "outputs": [],
   "source": []
  },
  {
   "cell_type": "code",
   "execution_count": null,
   "id": "46f48f7e",
   "metadata": {},
   "outputs": [],
   "source": []
  },
  {
   "cell_type": "code",
   "execution_count": 95,
   "id": "7ac49386",
   "metadata": {},
   "outputs": [
    {
     "name": "stdout",
     "output_type": "stream",
     "text": [
      "Bomb 💥💥❌💥\n"
     ]
    }
   ],
   "source": [
    "bags = ['apple','mango','banana','bomb','apple']\n",
    "\n",
    "i = 0\n",
    "\n",
    "while i<len(bags):\n",
    "    if bags[i] == 'bomb':\n",
    "        print('Bomb 💥💥❌💥')\n",
    "        break\n",
    "        \n",
    "    i+=1\n",
    "    \n",
    "else:\n",
    "    print('No Bomb!!')"
   ]
  },
  {
   "cell_type": "code",
   "execution_count": null,
   "id": "8a40bf52",
   "metadata": {},
   "outputs": [],
   "source": []
  },
  {
   "cell_type": "code",
   "execution_count": null,
   "id": "0e9f9b5b",
   "metadata": {},
   "outputs": [],
   "source": []
  },
  {
   "cell_type": "code",
   "execution_count": 98,
   "id": "4dcbc88b",
   "metadata": {},
   "outputs": [
    {
     "name": "stdout",
     "output_type": "stream",
     "text": [
      "No Bomb!!\n"
     ]
    }
   ],
   "source": [
    "bags = ['apple','mango','banana','apple']\n",
    "\n",
    "i = 0\n",
    "while i<len(bags):\n",
    "    if bags[i] == 'bomb':\n",
    "        print('Bomb 💥💥❌💥')\n",
    "        break\n",
    "        \n",
    "    i+=1  \n",
    "else:\n",
    "    print('No Bomb!!')"
   ]
  },
  {
   "cell_type": "code",
   "execution_count": null,
   "id": "83a0e05f",
   "metadata": {},
   "outputs": [],
   "source": []
  }
 ],
 "metadata": {
  "kernelspec": {
   "display_name": "Python 3 (ipykernel)",
   "language": "python",
   "name": "python3"
  },
  "language_info": {
   "codemirror_mode": {
    "name": "ipython",
    "version": 3
   },
   "file_extension": ".py",
   "mimetype": "text/x-python",
   "name": "python",
   "nbconvert_exporter": "python",
   "pygments_lexer": "ipython3",
   "version": "3.11.3"
  }
 },
 "nbformat": 4,
 "nbformat_minor": 5
}
