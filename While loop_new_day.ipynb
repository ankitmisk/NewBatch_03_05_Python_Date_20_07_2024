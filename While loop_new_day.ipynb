{
 "cells": [
  {
   "cell_type": "code",
   "execution_count": 1,
   "id": "bb6b9dfa",
   "metadata": {
    "scrolled": true
   },
   "outputs": [
    {
     "name": "stdout",
     "output_type": "stream",
     "text": [
      "SK0123 SK0124 SK0125-SK0128 SK0129\n"
     ]
    }
   ],
   "source": [
    "a= \"SK0123 SK0124 SK0125-SK0128 SK0129\"\n",
    "print(a)"
   ]
  },
  {
   "cell_type": "code",
   "execution_count": 4,
   "id": "b98f5b76",
   "metadata": {},
   "outputs": [
    {
     "data": {
      "text/plain": [
       "False"
      ]
     },
     "execution_count": 4,
     "metadata": {},
     "output_type": "execute_result"
    }
   ],
   "source": [
    "'SK0126' in a"
   ]
  },
  {
   "cell_type": "code",
   "execution_count": 7,
   "id": "ca721297",
   "metadata": {},
   "outputs": [
    {
     "data": {
      "text/plain": [
       "True"
      ]
     },
     "execution_count": 7,
     "metadata": {},
     "output_type": "execute_result"
    }
   ],
   "source": [
    "'SK0124' in a.split(' ')"
   ]
  },
  {
   "cell_type": "code",
   "execution_count": 37,
   "id": "44722a24",
   "metadata": {},
   "outputs": [
    {
     "name": "stdout",
     "output_type": "stream",
     "text": [
      "['SK0123', 'SK0124', 'SK0125-SK0122', 'SK0129', 'SK0135-SK0140']\n"
     ]
    }
   ],
   "source": [
    "a= \"SK0123 SK0124 SK0125-SK0122 SK0129 SK0135-SK0140\"\n",
    "\n",
    "all_order = a.split(' ')\n",
    "print(all_order)"
   ]
  },
  {
   "cell_type": "code",
   "execution_count": 41,
   "id": "063175c7",
   "metadata": {},
   "outputs": [
    {
     "name": "stdout",
     "output_type": "stream",
     "text": [
      "['SK0123', 'SK0124', 'SK0129', 'SK0135', 'SK0136', 'SK0137', 'SK0138', 'SK0139', 'SK0140', 'SK0197', 'SK0198', 'SK0199', 'SK0200', 'SK0201', 'SK0202', 'SK0203', 'SK0204', 'SK0205', 'SK0206', 'SK0207', 'SK0208', 'SK0209', 'SK0210']\n"
     ]
    }
   ],
   "source": [
    "temp_order = []\n",
    "for i in all_order:\n",
    "    if '-' in i:\n",
    "        lower,upper = i.split('-')\n",
    "        lower_range = int(lower.replace('SK',''))\n",
    "        upper_range = int(upper.replace('SK',''))\n",
    "        \n",
    "        for j in range(lower_range,upper_range+1):\n",
    "            temp_order.append('SK0'+str(j))\n",
    "            \n",
    "    else:\n",
    "        temp_order.append(i)\n",
    "        \n",
    "print(temp_order)\n",
    "\n",
    "# order = input('Enter order id: ').upper()\n",
    "\n",
    "# if order in temp_order:\n",
    "#     print('Order received')\n",
    "# else:\n",
    "#     print('Order Not received!!')"
   ]
  },
  {
   "cell_type": "code",
   "execution_count": 15,
   "id": "6d6b1f36",
   "metadata": {},
   "outputs": [
    {
     "data": {
      "text/plain": [
       "125"
      ]
     },
     "execution_count": 15,
     "metadata": {},
     "output_type": "execute_result"
    }
   ],
   "source": [
    "int('SK0125'.replace('SK',''))"
   ]
  },
  {
   "cell_type": "code",
   "execution_count": 39,
   "id": "c4ff5988",
   "metadata": {},
   "outputs": [
    {
     "name": "stdout",
     "output_type": "stream",
     "text": [
      "Enter order to store: SK0197-SK0210\n"
     ]
    }
   ],
   "source": [
    "all_order.append(input('Enter order to store: '))"
   ]
  },
  {
   "cell_type": "code",
   "execution_count": 40,
   "id": "531202d2",
   "metadata": {},
   "outputs": [
    {
     "data": {
      "text/plain": [
       "['SK0123',\n",
       " 'SK0124',\n",
       " 'SK0125-SK0122',\n",
       " 'SK0129',\n",
       " 'SK0135-SK0140',\n",
       " 'SK0197-SK0210']"
      ]
     },
     "execution_count": 40,
     "metadata": {},
     "output_type": "execute_result"
    }
   ],
   "source": [
    "all_order"
   ]
  },
  {
   "cell_type": "code",
   "execution_count": 42,
   "id": "420f33e8",
   "metadata": {},
   "outputs": [],
   "source": [
    "# nested while loop\n",
    "# one liner while loop"
   ]
  },
  {
   "cell_type": "code",
   "execution_count": 53,
   "id": "129e4719",
   "metadata": {},
   "outputs": [],
   "source": [
    "a = [12,3,43,34,4653]\n",
    "b = [23,34,43,2,457]\n",
    "c = [23,4,34,43,657]"
   ]
  },
  {
   "cell_type": "code",
   "execution_count": 56,
   "id": "43e47ecc",
   "metadata": {},
   "outputs": [
    {
     "name": "stdout",
     "output_type": "stream",
     "text": [
      "[43, 34]\n"
     ]
    }
   ],
   "source": [
    "i = 0\n",
    "j = 0\n",
    "k = 0\n",
    "common = []\n",
    "\n",
    "while i<len(a):  # outer loop\n",
    "    element_of_a = a[i]\n",
    "    \n",
    "    while j<len(b):  # inner loop\n",
    "        element_of_b = b[j]\n",
    "        \n",
    "        while k<len(c): # sub inner loop\n",
    "            element_of_c = c[k]\n",
    "            \n",
    "            \n",
    "            if element_of_a == element_of_b == element_of_c:\n",
    "                common.append(element_of_a)\n",
    "                \n",
    "            k+=1\n",
    "            \n",
    "        k = 0\n",
    "            \n",
    "        j+=1\n",
    "        \n",
    "    j = 0\n",
    "        \n",
    "    i+=1\n",
    "    \n",
    "print(common)"
   ]
  },
  {
   "cell_type": "code",
   "execution_count": null,
   "id": "8d435d3e",
   "metadata": {},
   "outputs": [],
   "source": []
  },
  {
   "cell_type": "code",
   "execution_count": null,
   "id": "a25acbbe",
   "metadata": {},
   "outputs": [],
   "source": []
  },
  {
   "cell_type": "code",
   "execution_count": 57,
   "id": "97bd0af3",
   "metadata": {},
   "outputs": [],
   "source": [
    "# one liner while loop"
   ]
  },
  {
   "cell_type": "code",
   "execution_count": 58,
   "id": "56bd31a8",
   "metadata": {},
   "outputs": [],
   "source": [
    "import time"
   ]
  },
  {
   "cell_type": "code",
   "execution_count": 66,
   "id": "cf2edb45",
   "metadata": {},
   "outputs": [
    {
     "name": "stdout",
     "output_type": "stream",
     "text": [
      "I love Python\n",
      "I love Python\n",
      "I love Python\n"
     ]
    },
    {
     "ename": "KeyboardInterrupt",
     "evalue": "",
     "output_type": "error",
     "traceback": [
      "\u001b[1;31m---------------------------------------------------------------------------\u001b[0m",
      "\u001b[1;31mKeyboardInterrupt\u001b[0m                         Traceback (most recent call last)",
      "Cell \u001b[1;32mIn[66], line 3\u001b[0m\n\u001b[0;32m      1\u001b[0m \u001b[38;5;28;01mwhile\u001b[39;00m \u001b[38;5;241m2\u001b[39m \u001b[38;5;241m==\u001b[39m \u001b[38;5;241m2\u001b[39m:\n\u001b[0;32m      2\u001b[0m     \u001b[38;5;28mprint\u001b[39m(\u001b[38;5;124m'\u001b[39m\u001b[38;5;124mI love Python\u001b[39m\u001b[38;5;124m'\u001b[39m)\n\u001b[1;32m----> 3\u001b[0m     time\u001b[38;5;241m.\u001b[39msleep(\u001b[38;5;241m1\u001b[39m)\n",
      "\u001b[1;31mKeyboardInterrupt\u001b[0m: "
     ]
    }
   ],
   "source": [
    "while 2 == 2:\n",
    "    print('I love Python')\n",
    "    time.sleep(1)"
   ]
  },
  {
   "cell_type": "code",
   "execution_count": 68,
   "id": "e24a7400",
   "metadata": {},
   "outputs": [
    {
     "ename": "KeyboardInterrupt",
     "evalue": "",
     "output_type": "error",
     "traceback": [
      "\u001b[1;31m---------------------------------------------------------------------------\u001b[0m",
      "\u001b[1;31mKeyboardInterrupt\u001b[0m                         Traceback (most recent call last)",
      "Cell \u001b[1;32mIn[68], line 2\u001b[0m\n\u001b[0;32m      1\u001b[0m \u001b[38;5;28;01mwhile\u001b[39;00m \u001b[38;5;28;01mTrue\u001b[39;00m:\n\u001b[1;32m----> 2\u001b[0m     time\u001b[38;5;241m.\u001b[39msleep(\u001b[38;5;241m1\u001b[39m)\n\u001b[0;32m      3\u001b[0m     \u001b[38;5;28mprint\u001b[39m(time\u001b[38;5;241m.\u001b[39masctime())\n\u001b[0;32m      4\u001b[0m     display(clear\u001b[38;5;241m=\u001b[39m\u001b[38;5;28;01mTrue\u001b[39;00m)\n",
      "\u001b[1;31mKeyboardInterrupt\u001b[0m: "
     ]
    }
   ],
   "source": [
    "while True:\n",
    "    time.sleep(1)\n",
    "    print(time.asctime())\n",
    "    display(clear=True)"
   ]
  },
  {
   "cell_type": "code",
   "execution_count": 69,
   "id": "5bd539da",
   "metadata": {},
   "outputs": [
    {
     "name": "stdout",
     "output_type": "stream",
     "text": [
      "Sat Sep  7 15:50:46 2024\n",
      "Sat Sep  7 15:50:47 2024\n",
      "Sat Sep  7 15:50:48 2024\n",
      "Sat Sep  7 15:50:49 2024\n",
      "Sat Sep  7 15:50:50 2024\n"
     ]
    }
   ],
   "source": [
    "for i in range(5):\n",
    "    time.sleep(1)\n",
    "    print(time.asctime())"
   ]
  },
  {
   "cell_type": "code",
   "execution_count": 70,
   "id": "b7e12a5e",
   "metadata": {},
   "outputs": [
    {
     "name": "stdout",
     "output_type": "stream",
     "text": [
      "Sat Sep  7 15:51:20 2024\n",
      "Sat Sep  7 15:51:21 2024\n",
      "Sat Sep  7 15:51:22 2024\n",
      "Sat Sep  7 15:51:23 2024\n",
      "Sat Sep  7 15:51:24 2024\n"
     ]
    }
   ],
   "source": [
    "c = 1\n",
    "while c <=5:\n",
    "    time.sleep(1)\n",
    "    print(time.asctime())\n",
    "    c+=1"
   ]
  },
  {
   "cell_type": "code",
   "execution_count": null,
   "id": "35daba41",
   "metadata": {},
   "outputs": [],
   "source": []
  }
 ],
 "metadata": {
  "kernelspec": {
   "display_name": "Python 3 (ipykernel)",
   "language": "python",
   "name": "python3"
  },
  "language_info": {
   "codemirror_mode": {
    "name": "ipython",
    "version": 3
   },
   "file_extension": ".py",
   "mimetype": "text/x-python",
   "name": "python",
   "nbconvert_exporter": "python",
   "pygments_lexer": "ipython3",
   "version": "3.11.3"
  }
 },
 "nbformat": 4,
 "nbformat_minor": 5
}
